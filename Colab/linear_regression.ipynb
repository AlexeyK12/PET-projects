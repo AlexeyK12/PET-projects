{
  "nbformat": 4,
  "nbformat_minor": 0,
  "metadata": {
    "colab": {
      "provenance": [],
      "toc_visible": true,
      "include_colab_link": true
    },
    "kernelspec": {
      "name": "python3",
      "display_name": "Python 3"
    },
    "language_info": {
      "name": "python"
    }
  },
  "cells": [
    {
      "cell_type": "markdown",
      "metadata": {
        "id": "view-in-github",
        "colab_type": "text"
      },
      "source": [
        "<a href=\"https://colab.research.google.com/github/AlexeyK12/PET-projects/blob/main/Colab/linear_regression.ipynb\" target=\"_parent\"><img src=\"https://colab.research.google.com/assets/colab-badge.svg\" alt=\"Open In Colab\"/></a>"
      ]
    },
    {
      "cell_type": "code",
      "metadata": {
        "colab": {
          "base_uri": "https://localhost:8080/",
          "height": 1000
        },
        "id": "2aEQws1__x5W",
        "outputId": "bf212077-778e-4286-ad3b-574d2d004c89",
        "cellView": "form"
      },
      "source": [
        "#@title Установка нужных версий библиотек\n",
        "!wget 'https://drive.google.com/uc?export=download&id=1oSFOP0j25OZAuhD8YXxyQXNTdr2lUdtn' -O requirements.txt\n",
        "!pip install -r requirements.txt"
      ],
      "execution_count": null,
      "outputs": [
        {
          "output_type": "stream",
          "name": "stdout",
          "text": [
            "--2022-04-22 07:50:18--  https://drive.google.com/uc?export=download&id=1oSFOP0j25OZAuhD8YXxyQXNTdr2lUdtn\n",
            "Resolving drive.google.com (drive.google.com)... 142.250.141.139, 142.250.141.113, 142.250.141.138, ...\n",
            "Connecting to drive.google.com (drive.google.com)|142.250.141.139|:443... connected.\n",
            "HTTP request sent, awaiting response... 303 See Other\n",
            "Location: https://doc-0g-c0-docs.googleusercontent.com/docs/securesc/ha0ro937gcuc7l7deffksulhg5h7mbp1/pg38ee2nnae99nqo67qvoesba0oplcdf/1650613800000/14904333240138417226/*/1oSFOP0j25OZAuhD8YXxyQXNTdr2lUdtn?e=download [following]\n",
            "Warning: wildcards not supported in HTTP.\n",
            "--2022-04-22 07:50:19--  https://doc-0g-c0-docs.googleusercontent.com/docs/securesc/ha0ro937gcuc7l7deffksulhg5h7mbp1/pg38ee2nnae99nqo67qvoesba0oplcdf/1650613800000/14904333240138417226/*/1oSFOP0j25OZAuhD8YXxyQXNTdr2lUdtn?e=download\n",
            "Resolving doc-0g-c0-docs.googleusercontent.com (doc-0g-c0-docs.googleusercontent.com)... 142.250.141.132, 2607:f8b0:4023:c0b::84\n",
            "Connecting to doc-0g-c0-docs.googleusercontent.com (doc-0g-c0-docs.googleusercontent.com)|142.250.141.132|:443... connected.\n",
            "HTTP request sent, awaiting response... 200 OK\n",
            "Length: 74 [text/plain]\n",
            "Saving to: ‘requirements.txt’\n",
            "\n",
            "requirements.txt    100%[===================>]      74  --.-KB/s    in 0s      \n",
            "\n",
            "2022-04-22 07:50:19 (2.84 MB/s) - ‘requirements.txt’ saved [74/74]\n",
            "\n",
            "Collecting scikit-learn==0.22.2.post1\n",
            "  Downloading scikit_learn-0.22.2.post1-cp37-cp37m-manylinux1_x86_64.whl (7.1 MB)\n",
            "\u001b[K     |████████████████████████████████| 7.1 MB 1.6 MB/s \n",
            "\u001b[?25hCollecting pandas==1.1.5\n",
            "  Downloading pandas-1.1.5-cp37-cp37m-manylinux1_x86_64.whl (9.5 MB)\n",
            "\u001b[K     |████████████████████████████████| 9.5 MB 25.9 MB/s \n",
            "\u001b[?25hRequirement already satisfied: matplotlib==3.2.2 in /usr/local/lib/python3.7/dist-packages (from -r requirements.txt (line 3)) (3.2.2)\n",
            "Collecting numpy==1.19.5\n",
            "  Downloading numpy-1.19.5-cp37-cp37m-manylinux2010_x86_64.whl (14.8 MB)\n",
            "\u001b[K     |████████████████████████████████| 14.8 MB 49.1 MB/s \n",
            "\u001b[?25hRequirement already satisfied: joblib>=0.11 in /usr/local/lib/python3.7/dist-packages (from scikit-learn==0.22.2.post1->-r requirements.txt (line 1)) (1.1.0)\n",
            "Requirement already satisfied: scipy>=0.17.0 in /usr/local/lib/python3.7/dist-packages (from scikit-learn==0.22.2.post1->-r requirements.txt (line 1)) (1.4.1)\n",
            "Requirement already satisfied: pytz>=2017.2 in /usr/local/lib/python3.7/dist-packages (from pandas==1.1.5->-r requirements.txt (line 2)) (2022.1)\n",
            "Requirement already satisfied: python-dateutil>=2.7.3 in /usr/local/lib/python3.7/dist-packages (from pandas==1.1.5->-r requirements.txt (line 2)) (2.8.2)\n",
            "Requirement already satisfied: pyparsing!=2.0.4,!=2.1.2,!=2.1.6,>=2.0.1 in /usr/local/lib/python3.7/dist-packages (from matplotlib==3.2.2->-r requirements.txt (line 3)) (3.0.8)\n",
            "Requirement already satisfied: kiwisolver>=1.0.1 in /usr/local/lib/python3.7/dist-packages (from matplotlib==3.2.2->-r requirements.txt (line 3)) (1.4.2)\n",
            "Requirement already satisfied: cycler>=0.10 in /usr/local/lib/python3.7/dist-packages (from matplotlib==3.2.2->-r requirements.txt (line 3)) (0.11.0)\n",
            "Requirement already satisfied: typing-extensions in /usr/local/lib/python3.7/dist-packages (from kiwisolver>=1.0.1->matplotlib==3.2.2->-r requirements.txt (line 3)) (4.1.1)\n",
            "Requirement already satisfied: six>=1.5 in /usr/local/lib/python3.7/dist-packages (from python-dateutil>=2.7.3->pandas==1.1.5->-r requirements.txt (line 2)) (1.15.0)\n",
            "Installing collected packages: numpy, scikit-learn, pandas\n",
            "  Attempting uninstall: numpy\n",
            "    Found existing installation: numpy 1.21.6\n",
            "    Uninstalling numpy-1.21.6:\n",
            "      Successfully uninstalled numpy-1.21.6\n",
            "  Attempting uninstall: scikit-learn\n",
            "    Found existing installation: scikit-learn 1.0.2\n",
            "    Uninstalling scikit-learn-1.0.2:\n",
            "      Successfully uninstalled scikit-learn-1.0.2\n",
            "  Attempting uninstall: pandas\n",
            "    Found existing installation: pandas 1.3.5\n",
            "    Uninstalling pandas-1.3.5:\n",
            "      Successfully uninstalled pandas-1.3.5\n",
            "\u001b[31mERROR: pip's dependency resolver does not currently take into account all the packages that are installed. This behaviour is the source of the following dependency conflicts.\n",
            "tensorflow 2.8.0 requires tf-estimator-nightly==2.8.0.dev2021122109, which is not installed.\n",
            "yellowbrick 1.4 requires scikit-learn>=1.0.0, but you have scikit-learn 0.22.2.post1 which is incompatible.\n",
            "tensorflow 2.8.0 requires numpy>=1.20, but you have numpy 1.19.5 which is incompatible.\n",
            "imbalanced-learn 0.8.1 requires scikit-learn>=0.24, but you have scikit-learn 0.22.2.post1 which is incompatible.\n",
            "datascience 0.10.6 requires folium==0.2.1, but you have folium 0.8.3 which is incompatible.\n",
            "albumentations 0.1.12 requires imgaug<0.2.7,>=0.2.5, but you have imgaug 0.2.9 which is incompatible.\u001b[0m\n",
            "Successfully installed numpy-1.19.5 pandas-1.1.5 scikit-learn-0.22.2.post1\n"
          ]
        },
        {
          "output_type": "display_data",
          "data": {
            "application/vnd.colab-display-data+json": {
              "pip_warning": {
                "packages": [
                  "numpy"
                ]
              }
            }
          },
          "metadata": {}
        }
      ]
    },
    {
      "cell_type": "markdown",
      "source": [
        "## Линейная регрессия"
      ],
      "metadata": {
        "id": "Faqf8pG8itot"
      }
    },
    {
      "cell_type": "markdown",
      "source": [
        "**Линейная регрессия** — модель зависимости переменной от одной или нескольких других переменных (факторов, регрессоров, независимых переменных) с линейной функцией зависимости.\n",
        "\n",
        "Ниже на графике представлена линейная регрессия переменной $y$ от переменной $x$.\n",
        "\n",
        "Есть коэффициент наклона $a$ и есть коэффициент сдвига $b$.\n",
        "\n",
        "Эти значения могут изменяться как угодно."
      ],
      "metadata": {
        "id": "KS-4su3tladF"
      }
    },
    {
      "cell_type": "code",
      "source": [
        "import matplotlib.pyplot as plt\n",
        "import numpy as np\n",
        "\n",
        "x = np.arange(-6, 6)\n",
        "a = 2\n",
        "b = 1\n",
        "\n",
        "y = a * x + b\n",
        "plt.plot(x, y, label=f'y = {a}x + {b}')\n",
        "plt.plot([0], [b], 'r*', markersize=10)\n",
        "plt.ylabel('y');plt.xlabel('x')\n",
        "plt.ylim(-10, 10);plt.xlim(-5, 5)\n",
        "plt.grid()\n",
        "plt.legend();"
      ],
      "metadata": {
        "colab": {
          "base_uri": "https://localhost:8080/",
          "height": 283
        },
        "id": "monS6MN5k2I0",
        "outputId": "059b12b9-1955-47cd-9422-26735ff519e1"
      },
      "execution_count": null,
      "outputs": [
        {
          "output_type": "display_data",
          "data": {
            "text/plain": [
              "<Figure size 432x288 with 1 Axes>"
            ],
            "image/png": "[encoded data removed]"
          },
          "metadata": {
            "needs_background": "light"
          }
        }
      ]
    },
    {
      "cell_type": "code",
      "source": [
        "def draw_ax(a, b, x, ax, ylim=5):\n",
        "    y = a * x + b\n",
        "    ax.plot(x, y, label=f'y = {a}x + {b}')\n",
        "    ax.plot([0], [b], 'r*', markersize=10)\n",
        "    \n",
        "    ax.plot([0, 1], [b, b], 'y', linewidth=4)\n",
        "    ax.plot([1, 1], [b, b+a], 'y', linewidth=4)\n",
        "\n",
        "    ax.set_ylabel('y'); ax.set_xlabel('x')\n",
        "    ax.set_ylim(-ylim, ylim); ax.set_xlim(-5, 5)\n",
        "    ax.grid()\n",
        "    ax.legend(prop={'size': 15})"
      ],
      "metadata": {
        "id": "CrJiBTo4bN6h"
      },
      "execution_count": null,
      "outputs": []
    },
    {
      "cell_type": "markdown",
      "source": [
        "**Сдвиг**:\n",
        "- Если у нас не будет сдвига (коэффициента $b$), то линяя будет проходить через точку (0, 0).\n",
        "- Если коэффициент сдвига не равен 0, а к примеру, равен 2, то линяя будет проходить через точку (0, 2).\n",
        "\n",
        "**Коэффициент наклона**:\n",
        "- Если у нас не будет коэффициента наклона, то линяя будет параллельна оси Ох.\n",
        "- Если коэффициент наклона больше 0, то линяя идет на увеличение, при этом чем больше коэффициент, тем более наклон крутой.\n",
        "- Если коэффициент наклона меньше 0, то линяя идет на уменьшение, при этом чем меньше коэффициент, тем более наклон крутой.\n",
        "\n"
      ],
      "metadata": {
        "id": "XQw67GHzmD3h"
      }
    },
    {
      "cell_type": "code",
      "source": [
        "import matplotlib.pyplot as plt\n",
        "import numpy as np\n",
        "\n",
        "\n",
        "fig, ax = plt.subplots(2, 3, figsize=(15, 10))\n",
        "x = np.arange(-6, 6)\n",
        "\n",
        "# 1row, 1column\n",
        "a, b = 0, 0\n",
        "draw_ax(a, b, x, ax[0][0])\n",
        "\n",
        "# 1row, 2column\n",
        "a, b = 1, 0\n",
        "draw_ax(a, b, x, ax[0][1])\n",
        "\n",
        "# 1row, 3column\n",
        "a, b = 0.5, 0\n",
        "draw_ax(a, b, x, ax[0][2])\n",
        "\n",
        "\n",
        "# 2row, 1column\n",
        "a, b = 0, 2\n",
        "draw_ax(a, b, x, ax[1][0])\n",
        "\n",
        "# 2row, 2column\n",
        "a, b = -1, 2\n",
        "draw_ax(a, b, x, ax[1][1])\n",
        "\n",
        "# 2row, 3column\n",
        "a, b = -0.5, -2\n",
        "draw_ax(a, b, x, ax[1][2])"
      ],
      "metadata": {
        "colab": {
          "base_uri": "https://localhost:8080/",
          "height": 606
        },
        "id": "lYWYDdbymzQ_",
        "outputId": "00c3c0e7-d7a7-41d7-be62-0cb1aba977cd"
      },
      "execution_count": null,
      "outputs": [
        {
          "output_type": "display_data",
          "data": {
            "text/plain": [
              "<Figure size 1080x720 with 6 Axes>"
            ],
            "image/png": "[encoded data removed]"
          },
          "metadata": {
            "needs_background": "light"
          }
        }
      ]
    },
    {
      "cell_type": "markdown",
      "source": [
        "С самим уравнением прямой разобрались, теперь давайте обучим линейную регрессию, ведь по факту она и есть прямая."
      ],
      "metadata": {
        "id": "usj8aWL8-84W"
      }
    },
    {
      "cell_type": "markdown",
      "metadata": {
        "id": "RmcjY5KeviKG"
      },
      "source": [
        "## Получение данных"
      ]
    },
    {
      "cell_type": "markdown",
      "metadata": {
        "id": "VbgNr2MC7c9H"
      },
      "source": [
        "Возьмем и сами нагенирируем себе данные и обучим на них линейную модель."
      ]
    },
    {
      "cell_type": "code",
      "source": [
        "from sklearn.datasets import make_regression\n",
        "\n",
        "X, y = make_regression(n_samples=50, n_features=1, n_informative=1,\n",
        "                       noise=10, random_state=11)\n",
        "\n",
        "display(X, y)"
      ],
      "metadata": {
        "colab": {
          "base_uri": "https://localhost:8080/",
          "height": 1000
        },
        "id": "px8DWvILiEae",
        "outputId": "8f12c244-f8f3-48f6-c732-d605cde16d88"
      },
      "execution_count": null,
      "outputs": [
        {
          "output_type": "display_data",
          "data": {
            "text/plain": [
              "array([[ 0.63007982],\n",
              "       [-1.06163445],\n",
              "       [ 0.29634711],\n",
              "       [ 1.40277112],\n",
              "       [ 0.68968231],\n",
              "       [-0.53662936],\n",
              "       [-1.11947526],\n",
              "       [ 1.06755846],\n",
              "       [ 0.1178195 ],\n",
              "       [ 1.54907163],\n",
              "       [ 1.29561858],\n",
              "       [-0.03107509],\n",
              "       [ 0.56119218],\n",
              "       [ 0.42105072],\n",
              "       [-0.4864951 ],\n",
              "       [ 0.08897764],\n",
              "       [-0.18577532],\n",
              "       [-0.17809318],\n",
              "       [-0.23725045],\n",
              "       [-0.88623967],\n",
              "       [-0.47573349],\n",
              "       [ 0.21734821],\n",
              "       [-2.65331856],\n",
              "       [ 0.72575222],\n",
              "       [-0.38053642],\n",
              "       [-0.48456513],\n",
              "       [ 1.57463407],\n",
              "       [-1.30554851],\n",
              "       [-0.17241977],\n",
              "       [ 0.73683739],\n",
              "       [-1.23234621],\n",
              "       [ 0.31540267],\n",
              "       [ 1.74945474],\n",
              "       [ 0.09183837],\n",
              "       [-0.30957664],\n",
              "       [-1.18575527],\n",
              "       [-0.68344663],\n",
              "       [-0.31963136],\n",
              "       [-0.00828463],\n",
              "       [-0.64257539],\n",
              "       [ 1.0956297 ],\n",
              "       [ 0.06367166],\n",
              "       [-0.57395456],\n",
              "       [ 0.07349324],\n",
              "       [ 0.73227135],\n",
              "       [-1.06560298],\n",
              "       [-1.68411089],\n",
              "       [-1.54686257],\n",
              "       [-0.20437532],\n",
              "       [-0.286073  ]])"
            ]
          },
          "metadata": {}
        },
        {
          "output_type": "display_data",
          "data": {
            "text/plain": [
              "array([  43.6543408 ,  -72.68235021,   21.19644643,  107.58765071,\n",
              "         69.62063217,  -32.57566222, -101.61213107,   87.44514699,\n",
              "         17.69898683,  131.00190463,   97.97802247,    2.70819092,\n",
              "         52.42715419,   27.74476129,  -31.82947365,    1.58209228,\n",
              "         -9.72570848,    4.57391214,  -33.24586607,  -74.34292886,\n",
              "        -22.6419015 ,   15.84607909, -202.79645668,   49.05026172,\n",
              "        -34.9916168 ,  -33.95608308,  121.78273292, -123.72382672,\n",
              "         -1.90918067,   64.06753923,  -91.73785524,    9.55252237,\n",
              "        148.12427806,   22.21183346,  -16.35144507, -113.95075954,\n",
              "        -47.70966758,  -22.69082132,   -1.79022499,  -58.17761844,\n",
              "         91.76970817,  -12.7798199 ,  -38.1435921 ,   17.48650737,\n",
              "         40.52468632, -107.65815151, -134.20798669, -127.22516755,\n",
              "        -34.31360406,  -10.90920383])"
            ]
          },
          "metadata": {}
        }
      ]
    },
    {
      "cell_type": "code",
      "source": [
        "import matplotlib.pyplot as plt\n",
        "\n",
        "\n",
        "fig = plt.figure(figsize=(10, 6))\n",
        "plt.scatter(X, y)\n",
        "\n",
        "plt.xlabel('feature')\n",
        "plt.ylabel('target')\n",
        "plt.show()"
      ],
      "metadata": {
        "colab": {
          "base_uri": "https://localhost:8080/",
          "height": 388
        },
        "id": "CsCmE9Clj68Z",
        "outputId": "8f142659-863a-477a-fb80-05d8a7f9b393"
      },
      "execution_count": null,
      "outputs": [
        {
          "output_type": "display_data",
          "data": {
            "text/plain": [
              "<Figure size 720x432 with 1 Axes>"
            ],
            "image/png": "[encoded data removed]"
          },
          "metadata": {
            "needs_background": "light"
          }
        }
      ]
    },
    {
      "cell_type": "markdown",
      "source": [
        "## Одномерная линейная регрессия"
      ],
      "metadata": {
        "id": "wuQyanTXsg4P"
      }
    },
    {
      "cell_type": "markdown",
      "source": [
        "#### Из sklearn"
      ],
      "metadata": {
        "id": "2MnA-YZHBxzL"
      }
    },
    {
      "cell_type": "markdown",
      "source": [
        "Возьмем модель `LinearRegression` из `sklearn` из модуля `linear_model`."
      ],
      "metadata": {
        "id": "uJFYdPE1_TGm"
      }
    },
    {
      "cell_type": "code",
      "source": [
        "from sklearn.linear_model import LinearRegression\n",
        "\n",
        "model = LinearRegression()\n",
        "model"
      ],
      "metadata": {
        "colab": {
          "base_uri": "https://localhost:8080/"
        },
        "id": "LsrXG6K5_aLV",
        "outputId": "ffd3f68d-0274-4fdf-f013-b3838092ff39"
      },
      "execution_count": null,
      "outputs": [
        {
          "output_type": "execute_result",
          "data": {
            "text/plain": [
              "LinearRegression(copy_X=True, fit_intercept=True, n_jobs=None, normalize=False)"
            ]
          },
          "metadata": {},
          "execution_count": 7
        }
      ]
    },
    {
      "cell_type": "markdown",
      "source": [
        "И передадим в неё в метод `fit` данные, которые получили выше."
      ],
      "metadata": {
        "id": "s5qE3TNG_h0_"
      }
    },
    {
      "cell_type": "code",
      "source": [
        "model.fit(X, y)"
      ],
      "metadata": {
        "colab": {
          "base_uri": "https://localhost:8080/"
        },
        "id": "h8weuRBk_mHJ",
        "outputId": "8017dcfd-345a-48ee-a1e4-a9a1a295d86d"
      },
      "execution_count": null,
      "outputs": [
        {
          "output_type": "execute_result",
          "data": {
            "text/plain": [
              "LinearRegression(copy_X=True, fit_intercept=True, n_jobs=None, normalize=False)"
            ]
          },
          "metadata": {},
          "execution_count": 8
        }
      ]
    },
    {
      "cell_type": "markdown",
      "source": [
        "Всё, модель обучилась, это происходит очень быстро. Обучение линейной модели заключается в поиске коэффициентов, конкретно в нашей задаче - это коэффициент сдвига и наклона."
      ],
      "metadata": {
        "id": "rS1iXWQG_nz0"
      }
    },
    {
      "cell_type": "markdown",
      "source": [
        "Можем эти коэффициента отобразить, если возьмем у модели атрибут `coef_` и `intercept_`."
      ],
      "metadata": {
        "id": "Yp23Hf8h_5ji"
      }
    },
    {
      "cell_type": "code",
      "source": [
        "model.coef_, model.intercept_"
      ],
      "metadata": {
        "colab": {
          "base_uri": "https://localhost:8080/"
        },
        "id": "8RoiC6eN_-8Z",
        "outputId": "3885a9b0-3b4e-4172-da10-bad49e8772c5"
      },
      "execution_count": null,
      "outputs": [
        {
          "output_type": "execute_result",
          "data": {
            "text/plain": [
              "(array([80.41862354]), 0.1817188754210024)"
            ]
          },
          "metadata": {},
          "execution_count": 9
        }
      ]
    },
    {
      "cell_type": "markdown",
      "source": [
        "Вот и получили два коэффициента, осталось их подставить в уравнение прямой и будет готовая линейная модель."
      ],
      "metadata": {
        "id": "pFDck5gNBHG6"
      }
    },
    {
      "cell_type": "code",
      "source": [
        "model_a = model.coef_[0]\n",
        "model_b = model.intercept_"
      ],
      "metadata": {
        "id": "UFJn6GsFBaD7"
      },
      "execution_count": null,
      "outputs": []
    },
    {
      "cell_type": "markdown",
      "source": [
        "Данная прямая наилучшим образом прошла вдоль точек из обучающей выборки."
      ],
      "metadata": {
        "id": "NzfeXeeJHkMe"
      }
    },
    {
      "cell_type": "code",
      "source": [
        "fig = plt.figure(figsize=(10, 6))\n",
        "\n",
        "x = np.arange(-3, 3)\n",
        "model_y_sk = model_a * x + model_b\n",
        "\n",
        "plt.plot(x, model_y_sk, linewidth=2, c='r', label=f'linear_model = {model_a:.2f}x + {model_b:.2f}')\n",
        "plt.scatter(X, y) \n",
        "plt.plot([0, 1], [model_b, model_b], 'y', linewidth=3)\n",
        "plt.plot([1, 1], [model_b, model_b+model_a], 'y', linewidth=3)\n",
        "plt.grid()\n",
        "plt.xlabel('feature')\n",
        "plt.ylabel('target')\n",
        "plt.legend(prop={'size': 16})\n",
        "plt.show()"
      ],
      "metadata": {
        "colab": {
          "base_uri": "https://localhost:8080/",
          "height": 388
        },
        "id": "RuEUmXzTBPDE",
        "outputId": "9b8ca55c-cfae-474e-f08a-c07166020dc5"
      },
      "execution_count": null,
      "outputs": [
        {
          "output_type": "display_data",
          "data": {
            "text/plain": [
              "<Figure size 720x432 with 1 Axes>"
            ],
            "image/png": "[encoded data removed]"
          },
          "metadata": {
            "needs_background": "light"
          }
        }
      ]
    },
    {
      "cell_type": "markdown",
      "source": [
        "Чтобы теперь сделать предсказания этой моделью достаточно вызвать метод `predict` и передать в него данные."
      ],
      "metadata": {
        "id": "0bPamEKfa5rK"
      }
    },
    {
      "cell_type": "code",
      "source": [
        "model.predict(X[:1])"
      ],
      "metadata": {
        "colab": {
          "base_uri": "https://localhost:8080/"
        },
        "id": "86a7D1DLbIzm",
        "outputId": "225a5377-a197-42eb-8290-b8268c33d056"
      },
      "execution_count": null,
      "outputs": [
        {
          "output_type": "execute_result",
          "data": {
            "text/plain": [
              "array([50.85187092])"
            ]
          },
          "metadata": {},
          "execution_count": 12
        }
      ]
    },
    {
      "cell_type": "markdown",
      "source": [
        "Или же можем можем сделать точно такое же предсказание, если возьмем коэффициент наклона и умножим на значение признака и прибавим к этому коэффициент сдвига. "
      ],
      "metadata": {
        "id": "WPgV0jDvbTci"
      }
    },
    {
      "cell_type": "code",
      "source": [
        "model_a * X[:1] + model_b"
      ],
      "metadata": {
        "colab": {
          "base_uri": "https://localhost:8080/"
        },
        "id": "ssT9MavubmJZ",
        "outputId": "c2a0116a-752d-4dc9-8318-c0ba4b87213d"
      },
      "execution_count": null,
      "outputs": [
        {
          "output_type": "execute_result",
          "data": {
            "text/plain": [
              "array([[50.85187092]])"
            ]
          },
          "metadata": {},
          "execution_count": 13
        }
      ]
    },
    {
      "cell_type": "markdown",
      "source": [
        "А что значит это \"наилучшим образом вдоль точек из обучающей выборки\"? Как подсчитался этот наилучший образ?"
      ],
      "metadata": {
        "id": "LyRlTyGBICT6"
      }
    },
    {
      "cell_type": "markdown",
      "source": [
        "Чем построенная линия ниже, хуже первой?"
      ],
      "metadata": {
        "id": "3Fon3qOWIS7P"
      }
    },
    {
      "cell_type": "code",
      "source": [
        "fig = plt.figure(figsize=(10, 6))\n",
        "\n",
        "x = np.arange(-3, 3)\n",
        "a, b = 50, 0\n",
        "model_y = a * x + b\n",
        "\n",
        "plt.plot(x, model_y, linewidth=2, c='r', label=f'linear_model = {a:.2f}x + {b:.2f}')\n",
        "plt.scatter(X, y) \n",
        "plt.plot([0, 1], [b, b], 'y', linewidth=3)\n",
        "plt.plot([1, 1], [b, b+a], 'y', linewidth=3)\n",
        "plt.grid()\n",
        "plt.xlabel('feature')\n",
        "plt.ylabel('target')\n",
        "plt.legend(prop={'size': 16})\n",
        "plt.show()"
      ],
      "metadata": {
        "colab": {
          "base_uri": "https://localhost:8080/",
          "height": 388
        },
        "id": "8mGFavM-IXUB",
        "outputId": "e92cd78b-486c-468f-a127-421c2b2208fe"
      },
      "execution_count": null,
      "outputs": [
        {
          "output_type": "display_data",
          "data": {
            "text/plain": [
              "<Figure size 720x432 with 1 Axes>"
            ],
            "image/png": "[encoded data removed]"
          },
          "metadata": {
            "needs_background": "light"
          }
        }
      ]
    },
    {
      "cell_type": "markdown",
      "source": [
        "А визуально она допускает больше отклонений от синих точек, чем первая. Давайте сравним не визуально, а с помощью цифр."
      ],
      "metadata": {
        "id": "OKsxKEysIb8w"
      }
    },
    {
      "cell_type": "markdown",
      "source": [
        "Для начала составим все данные в одну таблицу:\n",
        "- `X` - это точки, на которых строим модель\n",
        "- `y` - это настоящая целевая переменная, которую хотим предсказать\n",
        "- `pred_model_good` - это значения на линии по координатам `X` первой модели, имеем предсказания модель `LinearRegression`\n",
        "- и `pred_bad_model` - это значения на линии по координатам `X` второй модели, которая создана вручную, а не силами `sklearn`"
      ],
      "metadata": {
        "id": "PK43OAJOJ9nh"
      }
    },
    {
      "cell_type": "code",
      "source": [
        "import pandas as pd\n",
        "\n",
        "df = pd.DataFrame({\n",
        "    'X': X[:,0],\n",
        "    'y': y,\n",
        "    'pred_good_model': model_a * X[:,0] + model_b,\n",
        "    'pred_bad_model': a * X[:,0] + b\n",
        "})\n",
        "\n",
        "\n",
        "df.head()"
      ],
      "metadata": {
        "colab": {
          "base_uri": "https://localhost:8080/",
          "height": 206
        },
        "id": "596LHapcI8Ra",
        "outputId": "11c37a82-ca4f-4246-add1-fdc308197537"
      },
      "execution_count": null,
      "outputs": [
        {
          "output_type": "execute_result",
          "data": {
            "text/plain": [
              "          X           y  pred_good_model  pred_bad_model\n",
              "0  0.630080   43.654341        50.851871       31.503991\n",
              "1 -1.061634  -72.682350       -85.193462      -53.081722\n",
              "2  0.296347   21.196446        24.013545       14.817355\n",
              "3  1.402771  107.587651       112.990641       70.138556\n",
              "4  0.689682   69.620632        55.645021       34.484116"
            ],
            "text/html": [
              "\n",
              "  <div id=\"df-954a43af-3b9c-4823-9fd9-378e3b57e32f\">\n",
              "    <div class=\"colab-df-container\">\n",
              "      <div>\n",
              "<style scoped>\n",
              "    .dataframe tbody tr th:only-of-type {\n",
              "        vertical-align: middle;\n",
              "    }\n",
              "\n",
              "    .dataframe tbody tr th {\n",
              "        vertical-align: top;\n",
              "    }\n",
              "\n",
              "    .dataframe thead th {\n",
              "        text-align: right;\n",
              "    }\n",
              "</style>\n",
              "<table border=\"1\" class=\"dataframe\">\n",
              "  <thead>\n",
              "    <tr style=\"text-align: right;\">\n",
              "      <th></th>\n",
              "      <th>X</th>\n",
              "      <th>y</th>\n",
              "      <th>pred_good_model</th>\n",
              "      <th>pred_bad_model</th>\n",
              "    </tr>\n",
              "  </thead>\n",
              "  <tbody>\n",
              "    <tr>\n",
              "      <th>0</th>\n",
              "      <td>0.630080</td>\n",
              "      <td>43.654341</td>\n",
              "      <td>50.851871</td>\n",
              "      <td>31.503991</td>\n",
              "    </tr>\n",
              "    <tr>\n",
              "      <th>1</th>\n",
              "      <td>-1.061634</td>\n",
              "      <td>-72.682350</td>\n",
              "      <td>-85.193462</td>\n",
              "      <td>-53.081722</td>\n",
              "    </tr>\n",
              "    <tr>\n",
              "      <th>2</th>\n",
              "      <td>0.296347</td>\n",
              "      <td>21.196446</td>\n",
              "      <td>24.013545</td>\n",
              "      <td>14.817355</td>\n",
              "    </tr>\n",
              "    <tr>\n",
              "      <th>3</th>\n",
              "      <td>1.402771</td>\n",
              "      <td>107.587651</td>\n",
              "      <td>112.990641</td>\n",
              "      <td>70.138556</td>\n",
              "    </tr>\n",
              "    <tr>\n",
              "      <th>4</th>\n",
              "      <td>0.689682</td>\n",
              "      <td>69.620632</td>\n",
              "      <td>55.645021</td>\n",
              "      <td>34.484116</td>\n",
              "    </tr>\n",
              "  </tbody>\n",
              "</table>\n",
              "</div>\n",
              "      <button class=\"colab-df-convert\" onclick=\"convertToInteractive('df-954a43af-3b9c-4823-9fd9-378e3b57e32f')\"\n",
              "              title=\"Convert this dataframe to an interactive table.\"\n",
              "              style=\"display:none;\">\n",
              "        \n",
              "  <svg xmlns=\"http://www.w3.org/2000/svg\" height=\"24px\"viewBox=\"0 0 24 24\"\n",
              "       width=\"24px\">\n",
              "    <path d=\"M0 0h24v24H0V0z\" fill=\"none\"/>\n",
              "    <path d=\"M18.56 5.44l.94 2.06.94-2.06 2.06-.94-2.06-.94-.94-2.06-.94 2.06-2.06.94zm-11 1L8.5 8.5l.94-2.06 2.06-.94-2.06-.94L8.5 2.5l-.94 2.06-2.06.94zm10 10l.94 2.06.94-2.06 2.06-.94-2.06-.94-.94-2.06-.94 2.06-2.06.94z\"/><path d=\"M17.41 7.96l-1.37-1.37c-.4-.4-.92-.59-1.43-.59-.52 0-1.04.2-1.43.59L10.3 9.45l-7.72 7.72c-.78.78-.78 2.05 0 2.83L4 21.41c.39.39.9.59 1.41.59.51 0 1.02-.2 1.41-.59l7.78-7.78 2.81-2.81c.8-.78.8-2.07 0-2.86zM5.41 20L4 18.59l7.72-7.72 1.47 1.35L5.41 20z\"/>\n",
              "  </svg>\n",
              "      </button>\n",
              "      \n",
              "  <style>\n",
              "    .colab-df-container {\n",
              "      display:flex;\n",
              "      flex-wrap:wrap;\n",
              "      gap: 12px;\n",
              "    }\n",
              "\n",
              "    .colab-df-convert {\n",
              "      background-color: #E8F0FE;\n",
              "      border: none;\n",
              "      border-radius: 50%;\n",
              "      cursor: pointer;\n",
              "      display: none;\n",
              "      fill: #1967D2;\n",
              "      height: 32px;\n",
              "      padding: 0 0 0 0;\n",
              "      width: 32px;\n",
              "    }\n",
              "\n",
              "    .colab-df-convert:hover {\n",
              "      background-color: #E2EBFA;\n",
              "      box-shadow: 0px 1px 2px rgba(60, 64, 67, 0.3), 0px 1px 3px 1px rgba(60, 64, 67, 0.15);\n",
              "      fill: #174EA6;\n",
              "    }\n",
              "\n",
              "    [theme=dark] .colab-df-convert {\n",
              "      background-color: #3B4455;\n",
              "      fill: #D2E3FC;\n",
              "    }\n",
              "\n",
              "    [theme=dark] .colab-df-convert:hover {\n",
              "      background-color: #434B5C;\n",
              "      box-shadow: 0px 1px 3px 1px rgba(0, 0, 0, 0.15);\n",
              "      filter: drop-shadow(0px 1px 2px rgba(0, 0, 0, 0.3));\n",
              "      fill: #FFFFFF;\n",
              "    }\n",
              "  </style>\n",
              "\n",
              "      <script>\n",
              "        const buttonEl =\n",
              "          document.querySelector('#df-954a43af-3b9c-4823-9fd9-378e3b57e32f button.colab-df-convert');\n",
              "        buttonEl.style.display =\n",
              "          google.colab.kernel.accessAllowed ? 'block' : 'none';\n",
              "\n",
              "        async function convertToInteractive(key) {\n",
              "          const element = document.querySelector('#df-954a43af-3b9c-4823-9fd9-378e3b57e32f');\n",
              "          const dataTable =\n",
              "            await google.colab.kernel.invokeFunction('convertToInteractive',\n",
              "                                                     [key], {});\n",
              "          if (!dataTable) return;\n",
              "\n",
              "          const docLinkHtml = 'Like what you see? Visit the ' +\n",
              "            '<a target=\"_blank\" href=https://colab.research.google.com/notebooks/data_table.ipynb>data table notebook</a>'\n",
              "            + ' to learn more about interactive tables.';\n",
              "          element.innerHTML = '';\n",
              "          dataTable['output_type'] = 'display_data';\n",
              "          await google.colab.output.renderOutput(dataTable, element);\n",
              "          const docLink = document.createElement('div');\n",
              "          docLink.innerHTML = docLinkHtml;\n",
              "          element.appendChild(docLink);\n",
              "        }\n",
              "      </script>\n",
              "    </div>\n",
              "  </div>\n",
              "  "
            ]
          },
          "metadata": {},
          "execution_count": 15
        }
      ]
    },
    {
      "cell_type": "markdown",
      "source": [
        "Посчитаем отклонения предсказаний от истины для каждой модели.\n",
        "\n",
        "И здесь на первых 5 объектах тоже видим, что на `sklearn` модели более маленькие отклонения, нежели на второй модели."
      ],
      "metadata": {
        "id": "Mw9kAfmtK4Pw"
      }
    },
    {
      "cell_type": "code",
      "source": [
        "df['residual_good'] = df['pred_good_model'] - df['y']\n",
        "df['residual_bad'] = df['pred_bad_model'] - df['y']\n",
        "df.head()"
      ],
      "metadata": {
        "colab": {
          "base_uri": "https://localhost:8080/",
          "height": 206
        },
        "id": "YeSOjxBjK8I7",
        "outputId": "1bfceed7-8cb4-4c42-abe3-ed9fc728c3ef"
      },
      "execution_count": null,
      "outputs": [
        {
          "output_type": "execute_result",
          "data": {
            "text/plain": [
              "          X           y  pred_good_model  pred_bad_model  residual_good  \\\n",
              "0  0.630080   43.654341        50.851871       31.503991       7.197530   \n",
              "1 -1.061634  -72.682350       -85.193462      -53.081722     -12.511112   \n",
              "2  0.296347   21.196446        24.013545       14.817355       2.817099   \n",
              "3  1.402771  107.587651       112.990641       70.138556       5.402991   \n",
              "4  0.689682   69.620632        55.645021       34.484116     -13.975611   \n",
              "\n",
              "   residual_bad  \n",
              "0    -12.150350  \n",
              "1     19.600628  \n",
              "2     -6.379091  \n",
              "3    -37.449095  \n",
              "4    -35.136517  "
            ],
            "text/html": [
              "\n",
              "  <div id=\"df-e5c95a37-701c-4632-94c6-ea0f7038a3de\">\n",
              "    <div class=\"colab-df-container\">\n",
              "      <div>\n",
              "<style scoped>\n",
              "    .dataframe tbody tr th:only-of-type {\n",
              "        vertical-align: middle;\n",
              "    }\n",
              "\n",
              "    .dataframe tbody tr th {\n",
              "        vertical-align: top;\n",
              "    }\n",
              "\n",
              "    .dataframe thead th {\n",
              "        text-align: right;\n",
              "    }\n",
              "</style>\n",
              "<table border=\"1\" class=\"dataframe\">\n",
              "  <thead>\n",
              "    <tr style=\"text-align: right;\">\n",
              "      <th></th>\n",
              "      <th>X</th>\n",
              "      <th>y</th>\n",
              "      <th>pred_good_model</th>\n",
              "      <th>pred_bad_model</th>\n",
              "      <th>residual_good</th>\n",
              "      <th>residual_bad</th>\n",
              "    </tr>\n",
              "  </thead>\n",
              "  <tbody>\n",
              "    <tr>\n",
              "      <th>0</th>\n",
              "      <td>0.630080</td>\n",
              "      <td>43.654341</td>\n",
              "      <td>50.851871</td>\n",
              "      <td>31.503991</td>\n",
              "      <td>7.197530</td>\n",
              "      <td>-12.150350</td>\n",
              "    </tr>\n",
              "    <tr>\n",
              "      <th>1</th>\n",
              "      <td>-1.061634</td>\n",
              "      <td>-72.682350</td>\n",
              "      <td>-85.193462</td>\n",
              "      <td>-53.081722</td>\n",
              "      <td>-12.511112</td>\n",
              "      <td>19.600628</td>\n",
              "    </tr>\n",
              "    <tr>\n",
              "      <th>2</th>\n",
              "      <td>0.296347</td>\n",
              "      <td>21.196446</td>\n",
              "      <td>24.013545</td>\n",
              "      <td>14.817355</td>\n",
              "      <td>2.817099</td>\n",
              "      <td>-6.379091</td>\n",
              "    </tr>\n",
              "    <tr>\n",
              "      <th>3</th>\n",
              "      <td>1.402771</td>\n",
              "      <td>107.587651</td>\n",
              "      <td>112.990641</td>\n",
              "      <td>70.138556</td>\n",
              "      <td>5.402991</td>\n",
              "      <td>-37.449095</td>\n",
              "    </tr>\n",
              "    <tr>\n",
              "      <th>4</th>\n",
              "      <td>0.689682</td>\n",
              "      <td>69.620632</td>\n",
              "      <td>55.645021</td>\n",
              "      <td>34.484116</td>\n",
              "      <td>-13.975611</td>\n",
              "      <td>-35.136517</td>\n",
              "    </tr>\n",
              "  </tbody>\n",
              "</table>\n",
              "</div>\n",
              "      <button class=\"colab-df-convert\" onclick=\"convertToInteractive('df-e5c95a37-701c-4632-94c6-ea0f7038a3de')\"\n",
              "              title=\"Convert this dataframe to an interactive table.\"\n",
              "              style=\"display:none;\">\n",
              "        \n",
              "  <svg xmlns=\"http://www.w3.org/2000/svg\" height=\"24px\"viewBox=\"0 0 24 24\"\n",
              "       width=\"24px\">\n",
              "    <path d=\"M0 0h24v24H0V0z\" fill=\"none\"/>\n",
              "    <path d=\"M18.56 5.44l.94 2.06.94-2.06 2.06-.94-2.06-.94-.94-2.06-.94 2.06-2.06.94zm-11 1L8.5 8.5l.94-2.06 2.06-.94-2.06-.94L8.5 2.5l-.94 2.06-2.06.94zm10 10l.94 2.06.94-2.06 2.06-.94-2.06-.94-.94-2.06-.94 2.06-2.06.94z\"/><path d=\"M17.41 7.96l-1.37-1.37c-.4-.4-.92-.59-1.43-.59-.52 0-1.04.2-1.43.59L10.3 9.45l-7.72 7.72c-.78.78-.78 2.05 0 2.83L4 21.41c.39.39.9.59 1.41.59.51 0 1.02-.2 1.41-.59l7.78-7.78 2.81-2.81c.8-.78.8-2.07 0-2.86zM5.41 20L4 18.59l7.72-7.72 1.47 1.35L5.41 20z\"/>\n",
              "  </svg>\n",
              "      </button>\n",
              "      \n",
              "  <style>\n",
              "    .colab-df-container {\n",
              "      display:flex;\n",
              "      flex-wrap:wrap;\n",
              "      gap: 12px;\n",
              "    }\n",
              "\n",
              "    .colab-df-convert {\n",
              "      background-color: #E8F0FE;\n",
              "      border: none;\n",
              "      border-radius: 50%;\n",
              "      cursor: pointer;\n",
              "      display: none;\n",
              "      fill: #1967D2;\n",
              "      height: 32px;\n",
              "      padding: 0 0 0 0;\n",
              "      width: 32px;\n",
              "    }\n",
              "\n",
              "    .colab-df-convert:hover {\n",
              "      background-color: #E2EBFA;\n",
              "      box-shadow: 0px 1px 2px rgba(60, 64, 67, 0.3), 0px 1px 3px 1px rgba(60, 64, 67, 0.15);\n",
              "      fill: #174EA6;\n",
              "    }\n",
              "\n",
              "    [theme=dark] .colab-df-convert {\n",
              "      background-color: #3B4455;\n",
              "      fill: #D2E3FC;\n",
              "    }\n",
              "\n",
              "    [theme=dark] .colab-df-convert:hover {\n",
              "      background-color: #434B5C;\n",
              "      box-shadow: 0px 1px 3px 1px rgba(0, 0, 0, 0.15);\n",
              "      filter: drop-shadow(0px 1px 2px rgba(0, 0, 0, 0.3));\n",
              "      fill: #FFFFFF;\n",
              "    }\n",
              "  </style>\n",
              "\n",
              "      <script>\n",
              "        const buttonEl =\n",
              "          document.querySelector('#df-e5c95a37-701c-4632-94c6-ea0f7038a3de button.colab-df-convert');\n",
              "        buttonEl.style.display =\n",
              "          google.colab.kernel.accessAllowed ? 'block' : 'none';\n",
              "\n",
              "        async function convertToInteractive(key) {\n",
              "          const element = document.querySelector('#df-e5c95a37-701c-4632-94c6-ea0f7038a3de');\n",
              "          const dataTable =\n",
              "            await google.colab.kernel.invokeFunction('convertToInteractive',\n",
              "                                                     [key], {});\n",
              "          if (!dataTable) return;\n",
              "\n",
              "          const docLinkHtml = 'Like what you see? Visit the ' +\n",
              "            '<a target=\"_blank\" href=https://colab.research.google.com/notebooks/data_table.ipynb>data table notebook</a>'\n",
              "            + ' to learn more about interactive tables.';\n",
              "          element.innerHTML = '';\n",
              "          dataTable['output_type'] = 'display_data';\n",
              "          await google.colab.output.renderOutput(dataTable, element);\n",
              "          const docLink = document.createElement('div');\n",
              "          docLink.innerHTML = docLinkHtml;\n",
              "          element.appendChild(docLink);\n",
              "        }\n",
              "      </script>\n",
              "    </div>\n",
              "  </div>\n",
              "  "
            ]
          },
          "metadata": {},
          "execution_count": 16
        }
      ]
    },
    {
      "cell_type": "markdown",
      "source": [
        "Давайте теперь на всех объектах посчитаем метрику, которая будет позволять оценивать качество построенных линий.\n",
        "\n",
        "Возьмем MSE - mean squared error, более подробно про неё рассказываю в этом [видео](https://youtu.be/vh2smjQyhp8) и в этом [ноутбуке](https://colab.research.google.com/drive/14Oxi6sI25mP4JbovLiJ57e7H5sbN2I3p)."
      ],
      "metadata": {
        "id": "-l8fSDyULRLR"
      }
    },
    {
      "cell_type": "markdown",
      "source": [
        "MSE на sklearn модели равняется."
      ],
      "metadata": {
        "id": "KB2SivGPL0pq"
      }
    },
    {
      "cell_type": "code",
      "source": [
        "np.mean(df['residual_good'] ** 2)"
      ],
      "metadata": {
        "colab": {
          "base_uri": "https://localhost:8080/"
        },
        "id": "HAZLA4slLz-b",
        "outputId": "58806d83-9bf8-4cc7-bcae-f810e8120a39"
      },
      "execution_count": null,
      "outputs": [
        {
          "output_type": "execute_result",
          "data": {
            "text/plain": [
              "111.93097544862607"
            ]
          },
          "metadata": {},
          "execution_count": 17
        }
      ]
    },
    {
      "cell_type": "markdown",
      "source": [
        "А MSE на второй модели равняется:"
      ],
      "metadata": {
        "id": "o6TH3Ym2MGtv"
      }
    },
    {
      "cell_type": "code",
      "source": [
        "np.mean(df['residual_bad'] ** 2)"
      ],
      "metadata": {
        "colab": {
          "base_uri": "https://localhost:8080/"
        },
        "outputId": "65204e86-74a5-4df4-9e17-08db98f565bd",
        "id": "EabHNLaMMGt8"
      },
      "execution_count": null,
      "outputs": [
        {
          "output_type": "execute_result",
          "data": {
            "text/plain": [
              "873.1554374932325"
            ]
          },
          "metadata": {},
          "execution_count": 18
        }
      ]
    },
    {
      "cell_type": "markdown",
      "source": [
        "В разы больше, чем на первой модели."
      ],
      "metadata": {
        "id": "VL93OuOCMKlR"
      }
    },
    {
      "cell_type": "markdown",
      "source": [
        "### Как обучается линейная регрессия"
      ],
      "metadata": {
        "id": "hikZUrXxsqE4"
      }
    },
    {
      "cell_type": "markdown",
      "source": [
        "*Как же модель из `sklearn` умудрилась построить такие качественные предсказания?* Ведь у неё была куча вариантов построения, можно менять коэффициенты наклона и сдвига как угодно.\n",
        "\n",
        "Ответ на вопрос - **методы оптимизации**."
      ],
      "metadata": {
        "id": "4CivR_6rCVN1"
      }
    },
    {
      "cell_type": "markdown",
      "source": [
        "Ведь ошибка MSE тоже своего рода функция, которая меняется от коэффициента сдвига и наклона.\n",
        "\n",
        "Можем взять по 100 разных значений коэффициентов сдвига и наклона и посчитать в них MSE и отобразить на трехмерном графике.\n",
        "\n",
        "Так же отобразим и коэффициента, подобранные моделью из sklearn и наши коэффициенты."
      ],
      "metadata": {
        "id": "xvDvoalkMmkW"
      }
    },
    {
      "cell_type": "code",
      "source": [
        "from mpl_toolkits.mplot3d.axes3d import Axes3D\n",
        "\n",
        "\n",
        "def mse(w1, w0):\n",
        "    y_pred = w1 * X[:, 0] + w0\n",
        "    return np.mean((y - y_pred) ** 2)\n",
        "\n",
        "\n",
        "coefs_a = np.linspace(50, 100, num=100)\n",
        "coefs_b = np.linspace(-10, 10, num=100)\n",
        "w1, w0 = np.meshgrid(coefs_a, coefs_b)\n",
        "\n",
        "\n",
        "fig = plt.figure(figsize=(15, 10))\n",
        "ax = fig.add_subplot(111, projection='3d')\n",
        "\n",
        "zs = np.array([mse(i, j) for i, j in zip(np.ravel(w1), np.ravel(w0))])\n",
        "Z = zs.reshape(w1.shape)\n",
        "\n",
        "ax.plot_surface(w1, w0, Z, alpha=.5)\n",
        "ax.scatter(model_a, model_b, mse(model_a, model_b), c='r', s=5)\n",
        "ax.scatter(a, b, mse(a, b), c='r', s=5)\n",
        "\n",
        "ax.set_xlabel(r'$w_1$')\n",
        "ax.set_ylabel(r'$w_0$')\n",
        "ax.set_zlabel('MSE')\n",
        "\n",
        "plt.show()"
      ],
      "metadata": {
        "colab": {
          "base_uri": "https://localhost:8080/",
          "height": 575
        },
        "id": "MYSGND_5NNii",
        "outputId": "3d169bda-23db-4cc9-d98c-f4a990193aa9"
      },
      "execution_count": null,
      "outputs": [
        {
          "output_type": "display_data",
          "data": {
            "text/plain": [
              "<Figure size 1080x720 with 1 Axes>"
            ],
            "image/png": "[encoded data removed]"
          },
          "metadata": {
            "needs_background": "light"
          }
        }
      ]
    },
    {
      "cell_type": "markdown",
      "source": [
        "И видим, что дейстивительно, модель с коэффициентом `a` равным где-то 80, и с небольшим коэффициентом `b` лучше, чем модель с коэффициентом `a=50`, ведь ошибка у второй модели выше, чем у первой.\n",
        "\n"
      ],
      "metadata": {
        "id": "Z6h9XzopP8Ou"
      }
    },
    {
      "cell_type": "markdown",
      "source": [
        "#### Градиентный спуск"
      ],
      "metadata": {
        "id": "V4LqAG5jsyQj"
      }
    },
    {
      "cell_type": "markdown",
      "source": [
        "*Как модель дошла до самой лучшей точки?*\n",
        "\n",
        "А она обучалась с помощью градиентного спуска - это метод оптимизации."
      ],
      "metadata": {
        "id": "PmbkaRRNQ5SX"
      }
    },
    {
      "cell_type": "markdown",
      "source": [
        "**Обсудим, что такое градиент и зачем надо спускаться.**\n",
        "\n",
        "_Градиентом_ функции $f$ называется $n$-мерный вектор из частных производных. \n",
        "\n",
        "$$ \\nabla f(x_{1},...,x_{d}) = \\left(\\frac{\\partial f}{\\partial x_{i}}\\right)^{d}_{i=1}.$$\n",
        "\n",
        "К примеру, если функция зависит от трех переменных: $F(x, y, z)$, то её градиент будет равен \n",
        "\n",
        "$$\\nabla f(x, y, z) = (\\frac{\\partial f}{\\partial x}, \\frac{\\partial f}{\\partial y}, \\frac{\\partial f}{\\partial z}) $$\n",
        "\n",
        "При этом, __градиент задает направление наискорейшего роста функции__. Значит, антиградиент будет показывать направление ее скорейшего убывания, что будет полезно нам в нашей задаче минимизации функционала ошибки. \n",
        "\n",
        "**Градиентный спуск** — метод нахождения локального минимума с помощью движения вдоль градиента."
      ],
      "metadata": {
        "id": "dA1lWisVRnq7"
      }
    },
    {
      "cell_type": "markdown",
      "metadata": {
        "id": "K88irooYxpS9"
      },
      "source": [
        "Давайте попробуем реализовать программно градиентный спуск, чтобы лучше понять как он работает."
      ]
    },
    {
      "cell_type": "markdown",
      "source": [
        "Зададим две функции:\n",
        "1. func - функция параболы $f(x) = x^2$\n",
        "2. gr_func - производная функции параболы $\\nabla f(x) = 2x$"
      ],
      "metadata": {
        "id": "zxKpYu5bWRH6"
      }
    },
    {
      "cell_type": "code",
      "source": [
        "def func(x):\n",
        "    return x ** 2\n",
        "\n",
        "# функция градиента\n",
        "def gr_func(x):\n",
        "    return 2 * x"
      ],
      "metadata": {
        "id": "WYxZMCWzWQlS"
      },
      "execution_count": null,
      "outputs": []
    },
    {
      "cell_type": "markdown",
      "source": [
        "Можем отрисовать эту функцию на графике.\n",
        "\n",
        "Действительно видим параболу."
      ],
      "metadata": {
        "id": "pJdDL_TvWufg"
      }
    },
    {
      "cell_type": "code",
      "source": [
        "# для картинки\n",
        "D = 5\n",
        "\n",
        "X = np.linspace(-D, +D, 20)\n",
        "Y = func(X)\n",
        "\n",
        "plt.figure(figsize=(16, 6))\n",
        "plt.plot(X, Y, 'r', label='Y(X)');"
      ],
      "metadata": {
        "colab": {
          "base_uri": "https://localhost:8080/",
          "height": 374
        },
        "id": "TFnN5zo6Wmqw",
        "outputId": "c5d9f425-9a76-4a58-c1a4-1b4265ac2765"
      },
      "execution_count": null,
      "outputs": [
        {
          "output_type": "display_data",
          "data": {
            "text/plain": [
              "<Figure size 1152x432 with 1 Axes>"
            ],
            "image/png": "[encoded data removed]"
          },
          "metadata": {
            "needs_background": "light"
          }
        }
      ]
    },
    {
      "cell_type": "markdown",
      "source": [
        "Чтобы найти минимум этой функции мы можем воспользоваться методом оптимизации - градиентный спуск, для этого нужно задать начальную точку, откуда будем считать градиенты и скатываться в минимум.\n",
        "\n",
        "Зеленая звездочка - это и есть точка старта."
      ],
      "metadata": {
        "id": "gpghPbl5W3nY"
      }
    },
    {
      "cell_type": "code",
      "source": [
        "# первоначальное точка\n",
        "start_point = 5\n",
        "\n",
        "# для картинки\n",
        "D = 10\n",
        "\n",
        "X = np.linspace(-D, +D, 20)\n",
        "Y = func(X)\n",
        "\n",
        "plt.figure(figsize=(16, 6))\n",
        "plt.plot(X, Y, 'r', label='Y(X)')\n",
        "plt.plot(start_point, func(start_point), '-*g', label = 'GD');"
      ],
      "metadata": {
        "colab": {
          "base_uri": "https://localhost:8080/",
          "height": 374
        },
        "id": "a4CEhDEWXJMW",
        "outputId": "a1e964b2-a644-45b6-9e0b-0bf862b56b57"
      },
      "execution_count": null,
      "outputs": [
        {
          "output_type": "display_data",
          "data": {
            "text/plain": [
              "<Figure size 1152x432 with 1 Axes>"
            ],
            "image/png": "[encoded data removed]"
          },
          "metadata": {
            "needs_background": "light"
          }
        }
      ]
    },
    {
      "cell_type": "markdown",
      "source": [
        "Теперь в этой точке можем посчитать градиент.\n",
        "\n",
        "Он равняется 10, т.к. начальная точка равна 5, а производная будет равняться $\\nabla f(x) = 2\\cdot x = 2 \\cdot 5 = 10$  "
      ],
      "metadata": {
        "id": "OZY4SxJ8XuaB"
      }
    },
    {
      "cell_type": "code",
      "source": [
        "grad = gr_func(start_point)\n",
        "grad"
      ],
      "metadata": {
        "colab": {
          "base_uri": "https://localhost:8080/"
        },
        "id": "bgQK7dm4ZOVw",
        "outputId": "dc512a3c-90fb-4584-db79-7b0cc6fd7916"
      },
      "execution_count": null,
      "outputs": [
        {
          "output_type": "execute_result",
          "data": {
            "text/plain": [
              "10"
            ]
          },
          "metadata": {},
          "execution_count": 23
        }
      ]
    },
    {
      "cell_type": "markdown",
      "source": [
        "Можем отрисовать направление градиента, он показывает наискорейший рост функции и действительно видим, зеленый вектор идет вверх. "
      ],
      "metadata": {
        "id": "wxB4rqsKZO3K"
      }
    },
    {
      "cell_type": "code",
      "source": [
        "plt.figure(figsize=(16, 6))\n",
        "plt.plot(X, Y, 'r', label='Y(X)')\n",
        "plt.plot(start_point, func(start_point), '*g', label='start_point')\n",
        "\n",
        "next_point_1 = start_point + grad\n",
        "plt.plot([start_point, next_point_1], func(np.array([start_point, next_point_1])), '--g', label='grad')\n",
        "plt.legend();"
      ],
      "metadata": {
        "colab": {
          "base_uri": "https://localhost:8080/",
          "height": 374
        },
        "id": "3G3-ggQ6X45x",
        "outputId": "79574137-244f-4060-bccc-498d7f0d3cbe"
      },
      "execution_count": null,
      "outputs": [
        {
          "output_type": "display_data",
          "data": {
            "text/plain": [
              "<Figure size 1152x432 with 1 Axes>"
            ],
            "image/png": "[encoded data removed]"
          },
          "metadata": {
            "needs_background": "light"
          }
        }
      ]
    },
    {
      "cell_type": "markdown",
      "source": [
        "Но если будем двигаться по этому вектору, то к минимуму функции не придем, поэтому нужно идти в противоположгном направлении, а значит брать **антиградиент**.\n",
        "\n",
        "Но если мы пойдем от текущей точке $5$ в сторону антиградиента $-10$, то окажемся в точке $-5$, а это так же удалено от минимума, как и наша стартовая точка."
      ],
      "metadata": {
        "id": "xMI7xm24Zo0h"
      }
    },
    {
      "cell_type": "code",
      "source": [
        "plt.figure(figsize=(16, 6))\n",
        "plt.plot(X, Y, 'r', label='Y(X)')\n",
        "plt.plot(start_point, func(start_point), '*g', label='start_point')\n",
        "\n",
        "next_point_1 = start_point - grad\n",
        "plt.plot([start_point, next_point_1], func(np.array([start_point, next_point_1])), '--g', label='antigrad')\n",
        "plt.legend();"
      ],
      "metadata": {
        "colab": {
          "base_uri": "https://localhost:8080/",
          "height": 374
        },
        "id": "AHzUE456ZyQS",
        "outputId": "c22df950-a4b3-415e-f410-f2d98b415614"
      },
      "execution_count": null,
      "outputs": [
        {
          "output_type": "display_data",
          "data": {
            "text/plain": [
              "<Figure size 1152x432 with 1 Axes>"
            ],
            "image/png": "[encoded data removed]"
          },
          "metadata": {
            "needs_background": "light"
          }
        }
      ]
    },
    {
      "cell_type": "markdown",
      "source": [
        "Поэтому чтобы не перескакивать минимальное состояние функции мы можем делать шаг в сторону антиградиента не полностью, а только на какую-то долю, для этого нужно ввести значения **шага обучения** (скорость обучения, learning rate) - это значения, замедляющее шаги градиентного спуска, чтобы не пропустить локальный минимум. "
      ],
      "metadata": {
        "id": "cJ9vM4-Jayqf"
      }
    },
    {
      "cell_type": "code",
      "source": [
        "# размер шага (learning rate)\n",
        "learning_rate = 0.1\n",
        "\n",
        "plt.figure(figsize=(16, 6))\n",
        "plt.plot(X, Y, 'r', label='Y(X)')\n",
        "plt.plot(start_point, func(start_point), '*g', label='start_point')\n",
        "\n",
        "next_point_1 = start_point - learning_rate * grad\n",
        "plt.plot([start_point, next_point_1], func(np.array([start_point, next_point_1])), '--*g', label='antigrad')\n",
        "plt.legend();"
      ],
      "metadata": {
        "colab": {
          "base_uri": "https://localhost:8080/",
          "height": 374
        },
        "id": "cLP5hwpIbSE7",
        "outputId": "a51ce935-f8b2-44e6-aab8-58aca85e0cf1"
      },
      "execution_count": null,
      "outputs": [
        {
          "output_type": "display_data",
          "data": {
            "text/plain": [
              "<Figure size 1152x432 with 1 Axes>"
            ],
            "image/png": "[encoded data removed]"
          },
          "metadata": {
            "needs_background": "light"
          }
        }
      ]
    },
    {
      "cell_type": "markdown",
      "source": [
        "Вот мы и получили новую точку с координатой $x=4$. \n",
        "\n",
        "Теперь в этой точке можем снова рассчитать значение градиента."
      ],
      "metadata": {
        "id": "M5G3YV2Ydjnz"
      }
    },
    {
      "cell_type": "code",
      "source": [
        "curr_point = next_point_1\n",
        "curr_point"
      ],
      "metadata": {
        "colab": {
          "base_uri": "https://localhost:8080/"
        },
        "id": "HqqfwmXcd4x3",
        "outputId": "03ffbec2-eb25-4291-cdaa-a157ccedf213"
      },
      "execution_count": null,
      "outputs": [
        {
          "output_type": "execute_result",
          "data": {
            "text/plain": [
              "4.0"
            ]
          },
          "metadata": {},
          "execution_count": 27
        }
      ]
    },
    {
      "cell_type": "code",
      "source": [
        "grad = gr_func(curr_point)\n",
        "grad"
      ],
      "metadata": {
        "colab": {
          "base_uri": "https://localhost:8080/"
        },
        "outputId": "34dc4db0-d0c0-416f-f34c-53322b3ef533",
        "id": "hqaso7MFdxU3"
      },
      "execution_count": null,
      "outputs": [
        {
          "output_type": "execute_result",
          "data": {
            "text/plain": [
              "8.0"
            ]
          },
          "metadata": {},
          "execution_count": 28
        }
      ]
    },
    {
      "cell_type": "markdown",
      "source": [
        "Отрисуем направление градиента, который показывает наискорейший рост функции.\n",
        "\n",
        "А синим пометим уже пройденный шаг."
      ],
      "metadata": {
        "id": "-AImpol6dxU5"
      }
    },
    {
      "cell_type": "code",
      "source": [
        "plt.figure(figsize=(16, 6))\n",
        "plt.plot(X, Y, 'r', label='Y(X)')\n",
        "plt.plot(start_point, func(start_point), '*g', label='start_point')\n",
        "plt.plot([start_point, next_point_1], func(np.array([start_point, next_point_1])), '--*b', label='prev step')\n",
        "\n",
        "next_point_2 = curr_point + grad\n",
        "\n",
        "plt.plot([curr_point, next_point_2], func(np.array([curr_point, next_point_2])), '--g', label='grad')\n",
        "plt.legend();"
      ],
      "metadata": {
        "colab": {
          "base_uri": "https://localhost:8080/",
          "height": 374
        },
        "outputId": "b6afae12-cb1a-4025-dabf-864a3a6d8f33",
        "id": "3pn7Qfh0dxU5"
      },
      "execution_count": null,
      "outputs": [
        {
          "output_type": "display_data",
          "data": {
            "text/plain": [
              "<Figure size 1152x432 with 1 Axes>"
            ],
            "image/png": "[encoded data removed]"
          },
          "metadata": {
            "needs_background": "light"
          }
        }
      ]
    },
    {
      "cell_type": "markdown",
      "source": [
        "Но если будем двигаться по этому вектору, то к минимуму функции не придем, поэтому нужно идти в противоположном направлении, а значит брать **антиградиент**.\n",
        "\n",
        "Но при этом помним, что если сходить на полный антиградиент, то можем перелететь минимум, поэтому домножим на скорость обучения."
      ],
      "metadata": {
        "id": "Nq_9K48ldxU6"
      }
    },
    {
      "cell_type": "code",
      "source": [
        "# размер шага (learning rate)\n",
        "learning_rate = 0.1\n",
        "\n",
        "plt.figure(figsize=(16, 6))\n",
        "plt.plot(X, Y, 'r', label='Y(X)')\n",
        "plt.plot(start_point, func(start_point), '*g', label='start_point')\n",
        "plt.plot([start_point, next_point_1], func(np.array([start_point, next_point_1])), '--*b', label='prev step')\n",
        "\n",
        "next_point_2 = curr_point - learning_rate * grad\n",
        "plt.plot([curr_point, next_point_2], func(np.array([curr_point, next_point_2])), '--*g', label='antigrad')\n",
        "plt.legend();"
      ],
      "metadata": {
        "colab": {
          "base_uri": "https://localhost:8080/",
          "height": 374
        },
        "outputId": "4d367980-22ef-4f26-9810-eae64c919b01",
        "id": "HiHId2wFdxU6"
      },
      "execution_count": null,
      "outputs": [
        {
          "output_type": "display_data",
          "data": {
            "text/plain": [
              "<Figure size 1152x432 with 1 Axes>"
            ],
            "image/png": "[encoded data removed]"
          },
          "metadata": {
            "needs_background": "light"
          }
        }
      ]
    },
    {
      "cell_type": "markdown",
      "source": [
        "И получаем еще одну точку, которая уже ближе к минимуму функции.\n",
        "\n",
        "Оформим небольшой цикл для градиентного спуска."
      ],
      "metadata": {
        "id": "gS0Z1swagJ7M"
      }
    },
    {
      "cell_type": "code",
      "source": [
        "# первоначальное точка\n",
        "start_point = 5\n",
        "\n",
        "# размер шага (learning rate)\n",
        "learning_rate = 0.1\n",
        "\n",
        "# начальная точка\n",
        "next_point = start_point\n",
        "\n",
        "x = []\n",
        "x.append(next_point)\n",
        "\n",
        "plt.figure(figsize=(16, 6))\n",
        "plt.plot(X, Y, 'r', label='Y(X)')\n",
        "\n",
        "# количество итерация \n",
        "n = 10\n",
        "for i in range(n):\n",
        "    current_point = next_point\n",
        "\n",
        "    # движение в негативную сторону вычисляемого градиента\n",
        "    next_point = current_point - learning_rate * gr_func(current_point)\n",
        "    x.append(next_point)\n",
        "    # print(next_point)                                     \n",
        "\n",
        "    # остановка когда достигнута необходимая степень точности\n",
        "    print(f\"Итерация: {i}\")\n",
        "    print(f\"Текущая точка {current_point}| Следующая точка {next_point}\")\n",
        "    print(\"--------------------------------------------------------\")\n",
        "    \n",
        "    \n",
        "\n",
        "print(f\"минимум {next_point}, количество затраченных итераций: {i}\") \n",
        "X_grad = np.array(x)\n",
        "plt.plot(X_grad, func(X_grad), '-*g', label = 'GD')\n",
        "plt.legend()\n",
        "plt.xlabel('X')\n",
        "plt.ylabel('Y')\n",
        "plt.show()"
      ],
      "metadata": {
        "colab": {
          "base_uri": "https://localhost:8080/",
          "height": 926
        },
        "id": "qZc1XOjuqyvz",
        "outputId": "2c50fd60-910a-4cb6-c1ff-3d697a5cb265"
      },
      "execution_count": null,
      "outputs": [
        {
          "output_type": "stream",
          "name": "stdout",
          "text": [
            "Итерация: 0\n",
            "Текущая точка 5| Следующая точка 4.0\n",
            "--------------------------------------------------------\n",
            "Итерация: 1\n",
            "Текущая точка 4.0| Следующая точка 3.2\n",
            "--------------------------------------------------------\n",
            "Итерация: 2\n",
            "Текущая точка 3.2| Следующая точка 2.56\n",
            "--------------------------------------------------------\n",
            "Итерация: 3\n",
            "Текущая точка 2.56| Следующая точка 2.048\n",
            "--------------------------------------------------------\n",
            "Итерация: 4\n",
            "Текущая точка 2.048| Следующая точка 1.6384\n",
            "--------------------------------------------------------\n",
            "Итерация: 5\n",
            "Текущая точка 1.6384| Следующая точка 1.31072\n",
            "--------------------------------------------------------\n",
            "Итерация: 6\n",
            "Текущая точка 1.31072| Следующая точка 1.0485760000000002\n",
            "--------------------------------------------------------\n",
            "Итерация: 7\n",
            "Текущая точка 1.0485760000000002| Следующая точка 0.8388608000000002\n",
            "--------------------------------------------------------\n",
            "Итерация: 8\n",
            "Текущая точка 0.8388608000000002| Следующая точка 0.6710886400000001\n",
            "--------------------------------------------------------\n",
            "Итерация: 9\n",
            "Текущая точка 0.6710886400000001| Следующая точка 0.5368709120000001\n",
            "--------------------------------------------------------\n",
            "минимум 0.5368709120000001, количество затраченных итераций: 9\n"
          ]
        },
        {
          "output_type": "display_data",
          "data": {
            "text/plain": [
              "<Figure size 1152x432 with 1 Axes>"
            ],
            "image/png": "[encoded data removed]"
          },
          "metadata": {
            "needs_background": "light"
          }
        }
      ]
    },
    {
      "cell_type": "markdown",
      "source": [
        "Прошли 10 шагов и практически находимся в минимуме функции."
      ],
      "metadata": {
        "id": "f7Nfx3xqqtLp"
      }
    },
    {
      "cell_type": "markdown",
      "source": [
        "А если мы сделаем больше итераций, то наверняка алгоритм сойдется к 0.\n"
      ],
      "metadata": {
        "id": "R_FZFLAjrN6v"
      }
    },
    {
      "cell_type": "code",
      "source": [
        "# первоначальное точка\n",
        "start_point = 5\n",
        "\n",
        "# размер шага (learning rate)\n",
        "learning_rate = 0.1\n",
        "\n",
        "# начальная точка\n",
        "next_point = start_point\n",
        "\n",
        "x = []\n",
        "x.append(next_point)\n",
        "\n",
        "plt.figure(figsize=(16, 6))\n",
        "plt.plot(X, Y, 'r', label='Y(X)')\n",
        "\n",
        "# количество итерация \n",
        "n = 100\n",
        "for i in range(n):\n",
        "    current_point = next_point\n",
        "\n",
        "    # движение в негативную сторону вычисляемого градиента\n",
        "    next_point = current_point - learning_rate * gr_func(current_point)\n",
        "    x.append(next_point)                                    \n",
        "\n",
        "    # остановка когда достигнута необходимая степень точности\n",
        "    print(f\"Итерация: {i}\")\n",
        "    print(f\"Текущая точка {current_point}| Следующая точка {next_point}\")\n",
        "    print(\"--------------------------------------------------------\")\n",
        "    \n",
        "    \n",
        "\n",
        "print(f\"минимум {next_point}, количество затраченных итераций: {i}\") \n",
        "X_grad = np.array(x)\n",
        "plt.plot(X_grad, func(X_grad), '-*g', label = 'GD')\n",
        "plt.legend()\n",
        "plt.xlabel('X')\n",
        "plt.ylabel('Y')\n",
        "plt.show()"
      ],
      "metadata": {
        "colab": {
          "base_uri": "https://localhost:8080/",
          "height": 1000
        },
        "id": "9mIcLlcSrKiG",
        "outputId": "61132eea-bdc0-45e1-a9cb-a1f941c7a128"
      },
      "execution_count": null,
      "outputs": [
        {
          "output_type": "stream",
          "name": "stdout",
          "text": [
            "Итерация: 0\n",
            "Текущая точка 5| Следующая точка 4.0\n",
            "--------------------------------------------------------\n",
            "Итерация: 1\n",
            "Текущая точка 4.0| Следующая точка 3.2\n",
            "--------------------------------------------------------\n",
            "Итерация: 2\n",
            "Текущая точка 3.2| Следующая точка 2.56\n",
            "--------------------------------------------------------\n",
            "Итерация: 3\n",
            "Текущая точка 2.56| Следующая точка 2.048\n",
            "--------------------------------------------------------\n",
            "Итерация: 4\n",
            "Текущая точка 2.048| Следующая точка 1.6384\n",
            "--------------------------------------------------------\n",
            "Итерация: 5\n",
            "Текущая точка 1.6384| Следующая точка 1.31072\n",
            "--------------------------------------------------------\n",
            "Итерация: 6\n",
            "Текущая точка 1.31072| Следующая точка 1.0485760000000002\n",
            "--------------------------------------------------------\n",
            "Итерация: 7\n",
            "Текущая точка 1.0485760000000002| Следующая точка 0.8388608000000002\n",
            "--------------------------------------------------------\n",
            "Итерация: 8\n",
            "Текущая точка 0.8388608000000002| Следующая точка 0.6710886400000001\n",
            "--------------------------------------------------------\n",
            "Итерация: 9\n",
            "Текущая точка 0.6710886400000001| Следующая точка 0.5368709120000001\n",
            "--------------------------------------------------------\n",
            "Итерация: 10\n",
            "Текущая точка 0.5368709120000001| Следующая точка 0.4294967296000001\n",
            "--------------------------------------------------------\n",
            "Итерация: 11\n",
            "Текущая точка 0.4294967296000001| Следующая точка 0.3435973836800001\n",
            "--------------------------------------------------------\n",
            "Итерация: 12\n",
            "Текущая точка 0.3435973836800001| Следующая точка 0.27487790694400005\n",
            "--------------------------------------------------------\n",
            "Итерация: 13\n",
            "Текущая точка 0.27487790694400005| Следующая точка 0.21990232555520003\n",
            "--------------------------------------------------------\n",
            "Итерация: 14\n",
            "Текущая точка 0.21990232555520003| Следующая точка 0.17592186044416003\n",
            "--------------------------------------------------------\n",
            "Итерация: 15\n",
            "Текущая точка 0.17592186044416003| Следующая точка 0.140737488355328\n",
            "--------------------------------------------------------\n",
            "Итерация: 16\n",
            "Текущая точка 0.140737488355328| Следующая точка 0.11258999068426241\n",
            "--------------------------------------------------------\n",
            "Итерация: 17\n",
            "Текущая точка 0.11258999068426241| Следующая точка 0.09007199254740993\n",
            "--------------------------------------------------------\n",
            "Итерация: 18\n",
            "Текущая точка 0.09007199254740993| Следующая точка 0.07205759403792794\n",
            "--------------------------------------------------------\n",
            "Итерация: 19\n",
            "Текущая точка 0.07205759403792794| Следующая точка 0.057646075230342354\n",
            "--------------------------------------------------------\n",
            "Итерация: 20\n",
            "Текущая точка 0.057646075230342354| Следующая точка 0.04611686018427388\n",
            "--------------------------------------------------------\n",
            "Итерация: 21\n",
            "Текущая точка 0.04611686018427388| Следующая точка 0.03689348814741911\n",
            "--------------------------------------------------------\n",
            "Итерация: 22\n",
            "Текущая точка 0.03689348814741911| Следующая точка 0.029514790517935284\n",
            "--------------------------------------------------------\n",
            "Итерация: 23\n",
            "Текущая точка 0.029514790517935284| Следующая точка 0.02361183241434823\n",
            "--------------------------------------------------------\n",
            "Итерация: 24\n",
            "Текущая точка 0.02361183241434823| Следующая точка 0.018889465931478583\n",
            "--------------------------------------------------------\n",
            "Итерация: 25\n",
            "Текущая точка 0.018889465931478583| Следующая точка 0.015111572745182867\n",
            "--------------------------------------------------------\n",
            "Итерация: 26\n",
            "Текущая точка 0.015111572745182867| Следующая точка 0.012089258196146294\n",
            "--------------------------------------------------------\n",
            "Итерация: 27\n",
            "Текущая точка 0.012089258196146294| Следующая точка 0.009671406556917036\n",
            "--------------------------------------------------------\n",
            "Итерация: 28\n",
            "Текущая точка 0.009671406556917036| Следующая точка 0.007737125245533628\n",
            "--------------------------------------------------------\n",
            "Итерация: 29\n",
            "Текущая точка 0.007737125245533628| Следующая точка 0.006189700196426903\n",
            "--------------------------------------------------------\n",
            "Итерация: 30\n",
            "Текущая точка 0.006189700196426903| Следующая точка 0.004951760157141522\n",
            "--------------------------------------------------------\n",
            "Итерация: 31\n",
            "Текущая точка 0.004951760157141522| Следующая точка 0.003961408125713218\n",
            "--------------------------------------------------------\n",
            "Итерация: 32\n",
            "Текущая точка 0.003961408125713218| Следующая точка 0.0031691265005705745\n",
            "--------------------------------------------------------\n",
            "Итерация: 33\n",
            "Текущая точка 0.0031691265005705745| Следующая точка 0.00253530120045646\n",
            "--------------------------------------------------------\n",
            "Итерация: 34\n",
            "Текущая точка 0.00253530120045646| Следующая точка 0.0020282409603651678\n",
            "--------------------------------------------------------\n",
            "Итерация: 35\n",
            "Текущая точка 0.0020282409603651678| Следующая точка 0.0016225927682921343\n",
            "--------------------------------------------------------\n",
            "Итерация: 36\n",
            "Текущая точка 0.0016225927682921343| Следующая точка 0.0012980742146337075\n",
            "--------------------------------------------------------\n",
            "Итерация: 37\n",
            "Текущая точка 0.0012980742146337075| Следующая точка 0.001038459371706966\n",
            "--------------------------------------------------------\n",
            "Итерация: 38\n",
            "Текущая точка 0.001038459371706966| Следующая точка 0.0008307674973655728\n",
            "--------------------------------------------------------\n",
            "Итерация: 39\n",
            "Текущая точка 0.0008307674973655728| Следующая точка 0.0006646139978924582\n",
            "--------------------------------------------------------\n",
            "Итерация: 40\n",
            "Текущая точка 0.0006646139978924582| Следующая точка 0.0005316911983139665\n",
            "--------------------------------------------------------\n",
            "Итерация: 41\n",
            "Текущая точка 0.0005316911983139665| Следующая точка 0.00042535295865117324\n",
            "--------------------------------------------------------\n",
            "Итерация: 42\n",
            "Текущая точка 0.00042535295865117324| Следующая точка 0.0003402823669209386\n",
            "--------------------------------------------------------\n",
            "Итерация: 43\n",
            "Текущая точка 0.0003402823669209386| Следующая точка 0.00027222589353675085\n",
            "--------------------------------------------------------\n",
            "Итерация: 44\n",
            "Текущая точка 0.00027222589353675085| Следующая точка 0.0002177807148294007\n",
            "--------------------------------------------------------\n",
            "Итерация: 45\n",
            "Текущая точка 0.0002177807148294007| Следующая точка 0.00017422457186352054\n",
            "--------------------------------------------------------\n",
            "Итерация: 46\n",
            "Текущая точка 0.00017422457186352054| Следующая точка 0.00013937965749081642\n",
            "--------------------------------------------------------\n",
            "Итерация: 47\n",
            "Текущая точка 0.00013937965749081642| Следующая точка 0.00011150372599265314\n",
            "--------------------------------------------------------\n",
            "Итерация: 48\n",
            "Текущая точка 0.00011150372599265314| Следующая точка 8.920298079412252e-05\n",
            "--------------------------------------------------------\n",
            "Итерация: 49\n",
            "Текущая точка 8.920298079412252e-05| Следующая точка 7.136238463529802e-05\n",
            "--------------------------------------------------------\n",
            "Итерация: 50\n",
            "Текущая точка 7.136238463529802e-05| Следующая точка 5.7089907708238416e-05\n",
            "--------------------------------------------------------\n",
            "Итерация: 51\n",
            "Текущая точка 5.7089907708238416e-05| Следующая точка 4.567192616659073e-05\n",
            "--------------------------------------------------------\n",
            "Итерация: 52\n",
            "Текущая точка 4.567192616659073e-05| Следующая точка 3.653754093327259e-05\n",
            "--------------------------------------------------------\n",
            "Итерация: 53\n",
            "Текущая точка 3.653754093327259e-05| Следующая точка 2.923003274661807e-05\n",
            "--------------------------------------------------------\n",
            "Итерация: 54\n",
            "Текущая точка 2.923003274661807e-05| Следующая точка 2.3384026197294454e-05\n",
            "--------------------------------------------------------\n",
            "Итерация: 55\n",
            "Текущая точка 2.3384026197294454e-05| Следующая точка 1.8707220957835564e-05\n",
            "--------------------------------------------------------\n",
            "Итерация: 56\n",
            "Текущая точка 1.8707220957835564e-05| Следующая точка 1.4965776766268452e-05\n",
            "--------------------------------------------------------\n",
            "Итерация: 57\n",
            "Текущая точка 1.4965776766268452e-05| Следующая точка 1.1972621413014761e-05\n",
            "--------------------------------------------------------\n",
            "Итерация: 58\n",
            "Текущая точка 1.1972621413014761e-05| Следующая точка 9.578097130411809e-06\n",
            "--------------------------------------------------------\n",
            "Итерация: 59\n",
            "Текущая точка 9.578097130411809e-06| Следующая точка 7.662477704329448e-06\n",
            "--------------------------------------------------------\n",
            "Итерация: 60\n",
            "Текущая точка 7.662477704329448e-06| Следующая точка 6.129982163463559e-06\n",
            "--------------------------------------------------------\n",
            "Итерация: 61\n",
            "Текущая точка 6.129982163463559e-06| Следующая точка 4.903985730770847e-06\n",
            "--------------------------------------------------------\n",
            "Итерация: 62\n",
            "Текущая точка 4.903985730770847e-06| Следующая точка 3.923188584616677e-06\n",
            "--------------------------------------------------------\n",
            "Итерация: 63\n",
            "Текущая точка 3.923188584616677e-06| Следующая точка 3.138550867693342e-06\n",
            "--------------------------------------------------------\n",
            "Итерация: 64\n",
            "Текущая точка 3.138550867693342e-06| Следующая точка 2.5108406941546735e-06\n",
            "--------------------------------------------------------\n",
            "Итерация: 65\n",
            "Текущая точка 2.5108406941546735e-06| Следующая точка 2.008672555323739e-06\n",
            "--------------------------------------------------------\n",
            "Итерация: 66\n",
            "Текущая точка 2.008672555323739e-06| Следующая точка 1.606938044258991e-06\n",
            "--------------------------------------------------------\n",
            "Итерация: 67\n",
            "Текущая точка 1.606938044258991e-06| Следующая точка 1.2855504354071928e-06\n",
            "--------------------------------------------------------\n",
            "Итерация: 68\n",
            "Текущая точка 1.2855504354071928e-06| Следующая точка 1.0284403483257543e-06\n",
            "--------------------------------------------------------\n",
            "Итерация: 69\n",
            "Текущая точка 1.0284403483257543e-06| Следующая точка 8.227522786606034e-07\n",
            "--------------------------------------------------------\n",
            "Итерация: 70\n",
            "Текущая точка 8.227522786606034e-07| Следующая точка 6.582018229284827e-07\n",
            "--------------------------------------------------------\n",
            "Итерация: 71\n",
            "Текущая точка 6.582018229284827e-07| Следующая точка 5.265614583427862e-07\n",
            "--------------------------------------------------------\n",
            "Итерация: 72\n",
            "Текущая точка 5.265614583427862e-07| Следующая точка 4.2124916667422894e-07\n",
            "--------------------------------------------------------\n",
            "Итерация: 73\n",
            "Текущая точка 4.2124916667422894e-07| Следующая точка 3.3699933333938316e-07\n",
            "--------------------------------------------------------\n",
            "Итерация: 74\n",
            "Текущая точка 3.3699933333938316e-07| Следующая точка 2.6959946667150655e-07\n",
            "--------------------------------------------------------\n",
            "Итерация: 75\n",
            "Текущая точка 2.6959946667150655e-07| Следующая точка 2.1567957333720524e-07\n",
            "--------------------------------------------------------\n",
            "Итерация: 76\n",
            "Текущая точка 2.1567957333720524e-07| Следующая точка 1.725436586697642e-07\n",
            "--------------------------------------------------------\n",
            "Итерация: 77\n",
            "Текущая точка 1.725436586697642e-07| Следующая точка 1.3803492693581135e-07\n",
            "--------------------------------------------------------\n",
            "Итерация: 78\n",
            "Текущая точка 1.3803492693581135e-07| Следующая точка 1.1042794154864907e-07\n",
            "--------------------------------------------------------\n",
            "Итерация: 79\n",
            "Текущая точка 1.1042794154864907e-07| Следующая точка 8.834235323891926e-08\n",
            "--------------------------------------------------------\n",
            "Итерация: 80\n",
            "Текущая точка 8.834235323891926e-08| Следующая точка 7.067388259113541e-08\n",
            "--------------------------------------------------------\n",
            "Итерация: 81\n",
            "Текущая точка 7.067388259113541e-08| Следующая точка 5.653910607290833e-08\n",
            "--------------------------------------------------------\n",
            "Итерация: 82\n",
            "Текущая точка 5.653910607290833e-08| Следующая точка 4.5231284858326664e-08\n",
            "--------------------------------------------------------\n",
            "Итерация: 83\n",
            "Текущая точка 4.5231284858326664e-08| Следующая точка 3.618502788666133e-08\n",
            "--------------------------------------------------------\n",
            "Итерация: 84\n",
            "Текущая точка 3.618502788666133e-08| Следующая точка 2.8948022309329066e-08\n",
            "--------------------------------------------------------\n",
            "Итерация: 85\n",
            "Текущая точка 2.8948022309329066e-08| Следующая точка 2.3158417847463252e-08\n",
            "--------------------------------------------------------\n",
            "Итерация: 86\n",
            "Текущая точка 2.3158417847463252e-08| Следующая точка 1.8526734277970603e-08\n",
            "--------------------------------------------------------\n",
            "Итерация: 87\n",
            "Текущая точка 1.8526734277970603e-08| Следующая точка 1.4821387422376482e-08\n",
            "--------------------------------------------------------\n",
            "Итерация: 88\n",
            "Текущая точка 1.4821387422376482e-08| Следующая точка 1.1857109937901186e-08\n",
            "--------------------------------------------------------\n",
            "Итерация: 89\n",
            "Текущая точка 1.1857109937901186e-08| Следующая точка 9.485687950320948e-09\n",
            "--------------------------------------------------------\n",
            "Итерация: 90\n",
            "Текущая точка 9.485687950320948e-09| Следующая точка 7.588550360256759e-09\n",
            "--------------------------------------------------------\n",
            "Итерация: 91\n",
            "Текущая точка 7.588550360256759e-09| Следующая точка 6.070840288205408e-09\n",
            "--------------------------------------------------------\n",
            "Итерация: 92\n",
            "Текущая точка 6.070840288205408e-09| Следующая точка 4.856672230564326e-09\n",
            "--------------------------------------------------------\n",
            "Итерация: 93\n",
            "Текущая точка 4.856672230564326e-09| Следующая точка 3.885337784451461e-09\n",
            "--------------------------------------------------------\n",
            "Итерация: 94\n",
            "Текущая точка 3.885337784451461e-09| Следующая точка 3.108270227561169e-09\n",
            "--------------------------------------------------------\n",
            "Итерация: 95\n",
            "Текущая точка 3.108270227561169e-09| Следующая точка 2.4866161820489353e-09\n",
            "--------------------------------------------------------\n",
            "Итерация: 96\n",
            "Текущая точка 2.4866161820489353e-09| Следующая точка 1.989292945639148e-09\n",
            "--------------------------------------------------------\n",
            "Итерация: 97\n",
            "Текущая точка 1.989292945639148e-09| Следующая точка 1.5914343565113183e-09\n",
            "--------------------------------------------------------\n",
            "Итерация: 98\n",
            "Текущая точка 1.5914343565113183e-09| Следующая точка 1.2731474852090548e-09\n",
            "--------------------------------------------------------\n",
            "Итерация: 99\n",
            "Текущая точка 1.2731474852090548e-09| Следующая точка 1.0185179881672439e-09\n",
            "--------------------------------------------------------\n",
            "минимум 1.0185179881672439e-09, количество затраченных итераций: 99\n"
          ]
        },
        {
          "output_type": "display_data",
          "data": {
            "text/plain": [
              "<Figure size 1152x432 with 1 Axes>"
            ],
            "image/png": "[encoded data removed]"
          },
          "metadata": {
            "needs_background": "light"
          }
        }
      ]
    },
    {
      "cell_type": "markdown",
      "source": [
        "Но здесь значения самой лучшей минимальной точки на последних шагах очень похожи и на самом деле мы могли не ждать столько итераций и выйти из цикла раньше.\n",
        "\n",
        "Для этого введем значение eps, с помощью которого будем проверять разницу между текущей точкой и следующей точкой и если она меньше eps (а значит точки очень близки), то можем выйти из алгоритма."
      ],
      "metadata": {
        "id": "BWV6HvSRrTO0"
      }
    },
    {
      "cell_type": "code",
      "metadata": {
        "id": "nrM5GLhBxpS9",
        "colab": {
          "base_uri": "https://localhost:8080/",
          "height": 1000
        },
        "outputId": "f3c037e1-83fe-480c-aa05-272bf7e647dd"
      },
      "source": [
        "# установка минимального значения, на которое должны изменяться веса\n",
        "eps = 0.0001\n",
        "\n",
        "# первоначальное точка\n",
        "start_point = 5\n",
        "\n",
        "# размер шага (learning rate)\n",
        "learning_rate = 0.1\n",
        "\n",
        "# начальная точка\n",
        "next_point = start_point\n",
        "\n",
        "x = []\n",
        "x.append(next_point)\n",
        "\n",
        "plt.figure(figsize=(16, 6))\n",
        "plt.plot(X, Y, 'r', label='Y(X)')\n",
        "\n",
        "# количество итерация \n",
        "n = 100\n",
        "for i in range(n):\n",
        "    current_point = next_point\n",
        "\n",
        "    # движение в негативную сторону вычисляемого градиента\n",
        "    next_point = current_point - learning_rate * gr_func(current_point)\n",
        "    x.append(next_point)\n",
        "\n",
        "    # остановка когда достигнута необходимая степень точности\n",
        "    print(f\"Итерация: {i}\")\n",
        "    print(f\"Текущая точка {current_point}| Следующая точка {next_point}\")\n",
        "    print(\"--------------------------------------------------------\")\n",
        "    \n",
        "    if(abs(current_point - next_point) <= eps):\n",
        "        break\n",
        "\n",
        "print(f\"минимум {next_point}, количество затраченных итераций: {i}\") \n",
        "X_grad = np.array(x)\n",
        "plt.plot(X_grad, func(X_grad), '-*g', label = 'GD')\n",
        "plt.legend()\n",
        "plt.xlabel('X')\n",
        "plt.ylabel('Y')\n",
        "plt.show()"
      ],
      "execution_count": null,
      "outputs": [
        {
          "output_type": "stream",
          "name": "stdout",
          "text": [
            "Итерация: 0\n",
            "Текущая точка 5| Следующая точка 4.0\n",
            "--------------------------------------------------------\n",
            "Итерация: 1\n",
            "Текущая точка 4.0| Следующая точка 3.2\n",
            "--------------------------------------------------------\n",
            "Итерация: 2\n",
            "Текущая точка 3.2| Следующая точка 2.56\n",
            "--------------------------------------------------------\n",
            "Итерация: 3\n",
            "Текущая точка 2.56| Следующая точка 2.048\n",
            "--------------------------------------------------------\n",
            "Итерация: 4\n",
            "Текущая точка 2.048| Следующая точка 1.6384\n",
            "--------------------------------------------------------\n",
            "Итерация: 5\n",
            "Текущая точка 1.6384| Следующая точка 1.31072\n",
            "--------------------------------------------------------\n",
            "Итерация: 6\n",
            "Текущая точка 1.31072| Следующая точка 1.0485760000000002\n",
            "--------------------------------------------------------\n",
            "Итерация: 7\n",
            "Текущая точка 1.0485760000000002| Следующая точка 0.8388608000000002\n",
            "--------------------------------------------------------\n",
            "Итерация: 8\n",
            "Текущая точка 0.8388608000000002| Следующая точка 0.6710886400000001\n",
            "--------------------------------------------------------\n",
            "Итерация: 9\n",
            "Текущая точка 0.6710886400000001| Следующая точка 0.5368709120000001\n",
            "--------------------------------------------------------\n",
            "Итерация: 10\n",
            "Текущая точка 0.5368709120000001| Следующая точка 0.4294967296000001\n",
            "--------------------------------------------------------\n",
            "Итерация: 11\n",
            "Текущая точка 0.4294967296000001| Следующая точка 0.3435973836800001\n",
            "--------------------------------------------------------\n",
            "Итерация: 12\n",
            "Текущая точка 0.3435973836800001| Следующая точка 0.27487790694400005\n",
            "--------------------------------------------------------\n",
            "Итерация: 13\n",
            "Текущая точка 0.27487790694400005| Следующая точка 0.21990232555520003\n",
            "--------------------------------------------------------\n",
            "Итерация: 14\n",
            "Текущая точка 0.21990232555520003| Следующая точка 0.17592186044416003\n",
            "--------------------------------------------------------\n",
            "Итерация: 15\n",
            "Текущая точка 0.17592186044416003| Следующая точка 0.140737488355328\n",
            "--------------------------------------------------------\n",
            "Итерация: 16\n",
            "Текущая точка 0.140737488355328| Следующая точка 0.11258999068426241\n",
            "--------------------------------------------------------\n",
            "Итерация: 17\n",
            "Текущая точка 0.11258999068426241| Следующая точка 0.09007199254740993\n",
            "--------------------------------------------------------\n",
            "Итерация: 18\n",
            "Текущая точка 0.09007199254740993| Следующая точка 0.07205759403792794\n",
            "--------------------------------------------------------\n",
            "Итерация: 19\n",
            "Текущая точка 0.07205759403792794| Следующая точка 0.057646075230342354\n",
            "--------------------------------------------------------\n",
            "Итерация: 20\n",
            "Текущая точка 0.057646075230342354| Следующая точка 0.04611686018427388\n",
            "--------------------------------------------------------\n",
            "Итерация: 21\n",
            "Текущая точка 0.04611686018427388| Следующая точка 0.03689348814741911\n",
            "--------------------------------------------------------\n",
            "Итерация: 22\n",
            "Текущая точка 0.03689348814741911| Следующая точка 0.029514790517935284\n",
            "--------------------------------------------------------\n",
            "Итерация: 23\n",
            "Текущая точка 0.029514790517935284| Следующая точка 0.02361183241434823\n",
            "--------------------------------------------------------\n",
            "Итерация: 24\n",
            "Текущая точка 0.02361183241434823| Следующая точка 0.018889465931478583\n",
            "--------------------------------------------------------\n",
            "Итерация: 25\n",
            "Текущая точка 0.018889465931478583| Следующая точка 0.015111572745182867\n",
            "--------------------------------------------------------\n",
            "Итерация: 26\n",
            "Текущая точка 0.015111572745182867| Следующая точка 0.012089258196146294\n",
            "--------------------------------------------------------\n",
            "Итерация: 27\n",
            "Текущая точка 0.012089258196146294| Следующая точка 0.009671406556917036\n",
            "--------------------------------------------------------\n",
            "Итерация: 28\n",
            "Текущая точка 0.009671406556917036| Следующая точка 0.007737125245533628\n",
            "--------------------------------------------------------\n",
            "Итерация: 29\n",
            "Текущая точка 0.007737125245533628| Следующая точка 0.006189700196426903\n",
            "--------------------------------------------------------\n",
            "Итерация: 30\n",
            "Текущая точка 0.006189700196426903| Следующая точка 0.004951760157141522\n",
            "--------------------------------------------------------\n",
            "Итерация: 31\n",
            "Текущая точка 0.004951760157141522| Следующая точка 0.003961408125713218\n",
            "--------------------------------------------------------\n",
            "Итерация: 32\n",
            "Текущая точка 0.003961408125713218| Следующая точка 0.0031691265005705745\n",
            "--------------------------------------------------------\n",
            "Итерация: 33\n",
            "Текущая точка 0.0031691265005705745| Следующая точка 0.00253530120045646\n",
            "--------------------------------------------------------\n",
            "Итерация: 34\n",
            "Текущая точка 0.00253530120045646| Следующая точка 0.0020282409603651678\n",
            "--------------------------------------------------------\n",
            "Итерация: 35\n",
            "Текущая точка 0.0020282409603651678| Следующая точка 0.0016225927682921343\n",
            "--------------------------------------------------------\n",
            "Итерация: 36\n",
            "Текущая точка 0.0016225927682921343| Следующая точка 0.0012980742146337075\n",
            "--------------------------------------------------------\n",
            "Итерация: 37\n",
            "Текущая точка 0.0012980742146337075| Следующая точка 0.001038459371706966\n",
            "--------------------------------------------------------\n",
            "Итерация: 38\n",
            "Текущая точка 0.001038459371706966| Следующая точка 0.0008307674973655728\n",
            "--------------------------------------------------------\n",
            "Итерация: 39\n",
            "Текущая точка 0.0008307674973655728| Следующая точка 0.0006646139978924582\n",
            "--------------------------------------------------------\n",
            "Итерация: 40\n",
            "Текущая точка 0.0006646139978924582| Следующая точка 0.0005316911983139665\n",
            "--------------------------------------------------------\n",
            "Итерация: 41\n",
            "Текущая точка 0.0005316911983139665| Следующая точка 0.00042535295865117324\n",
            "--------------------------------------------------------\n",
            "Итерация: 42\n",
            "Текущая точка 0.00042535295865117324| Следующая точка 0.0003402823669209386\n",
            "--------------------------------------------------------\n",
            "минимум 0.0003402823669209386, количество затраченных итераций: 42\n"
          ]
        },
        {
          "output_type": "display_data",
          "data": {
            "text/plain": [
              "<Figure size 1152x432 with 1 Axes>"
            ],
            "image/png": "[encoded data removed]"
          },
          "metadata": {
            "needs_background": "light"
          }
        }
      ]
    },
    {
      "cell_type": "markdown",
      "source": [
        "И да, алгоритму понадобилось всего лишь 42 итерации, разница между двумя точками оказалась меньше `eps`, а значит можем выйти из цикла схождения алгоритма - это называется критерий останова."
      ],
      "metadata": {
        "id": "BJWalgdYr2sU"
      }
    },
    {
      "cell_type": "markdown",
      "metadata": {
        "id": "iSHnElKexpS8"
      },
      "source": [
        "#### Алгоритм градиентного спуска\n",
        "\n",
        "1. Инициализация начальной точки\n",
        "2. Цикл по k = 1,2,3,...:\n",
        "\n",
        "- $ w_{k} = w_{k-1} - \\eta\\nabla f(w_{k-1}) $\n",
        "\n",
        "- Если $||w_{k} - w_{k-1}|| < \\epsilon$, то завершить.\n"
      ]
    },
    {
      "cell_type": "markdown",
      "source": [
        "### Своя реализация линейной регрессии\n"
      ],
      "metadata": {
        "id": "AGx1IbTptNvK"
      }
    },
    {
      "cell_type": "markdown",
      "source": [
        "Теперь зная, как работает метод оптимизации градиентный спуск, можем вернуться к задаче обучения линейной регрессии, но уже не с помощью `sklearn`, а вручную."
      ],
      "metadata": {
        "id": "8w_t8Y7Ns9WV"
      }
    },
    {
      "cell_type": "markdown",
      "source": [
        "Берем те же самые данные, но вдобавок еще возвращем коэффициент наклона (коэффициент сдвига по умолчанию в такой генерации равен 0)."
      ],
      "metadata": {
        "id": "dhbHnbLHu14I"
      }
    },
    {
      "cell_type": "code",
      "source": [
        "X, y, coeffs = make_regression(n_samples=50, n_features=1, n_informative=1,\n",
        "                               noise=10, coef=True, random_state=11)\n",
        "\n",
        "display(X, y)"
      ],
      "metadata": {
        "colab": {
          "base_uri": "https://localhost:8080/",
          "height": 1000
        },
        "id": "8ZD69Hs6tSAX",
        "outputId": "980d2644-0aa8-4a7c-f93c-58a69a000105"
      },
      "execution_count": null,
      "outputs": [
        {
          "output_type": "display_data",
          "data": {
            "text/plain": [
              "array([[ 0.63007982],\n",
              "       [-1.06163445],\n",
              "       [ 0.29634711],\n",
              "       [ 1.40277112],\n",
              "       [ 0.68968231],\n",
              "       [-0.53662936],\n",
              "       [-1.11947526],\n",
              "       [ 1.06755846],\n",
              "       [ 0.1178195 ],\n",
              "       [ 1.54907163],\n",
              "       [ 1.29561858],\n",
              "       [-0.03107509],\n",
              "       [ 0.56119218],\n",
              "       [ 0.42105072],\n",
              "       [-0.4864951 ],\n",
              "       [ 0.08897764],\n",
              "       [-0.18577532],\n",
              "       [-0.17809318],\n",
              "       [-0.23725045],\n",
              "       [-0.88623967],\n",
              "       [-0.47573349],\n",
              "       [ 0.21734821],\n",
              "       [-2.65331856],\n",
              "       [ 0.72575222],\n",
              "       [-0.38053642],\n",
              "       [-0.48456513],\n",
              "       [ 1.57463407],\n",
              "       [-1.30554851],\n",
              "       [-0.17241977],\n",
              "       [ 0.73683739],\n",
              "       [-1.23234621],\n",
              "       [ 0.31540267],\n",
              "       [ 1.74945474],\n",
              "       [ 0.09183837],\n",
              "       [-0.30957664],\n",
              "       [-1.18575527],\n",
              "       [-0.68344663],\n",
              "       [-0.31963136],\n",
              "       [-0.00828463],\n",
              "       [-0.64257539],\n",
              "       [ 1.0956297 ],\n",
              "       [ 0.06367166],\n",
              "       [-0.57395456],\n",
              "       [ 0.07349324],\n",
              "       [ 0.73227135],\n",
              "       [-1.06560298],\n",
              "       [-1.68411089],\n",
              "       [-1.54686257],\n",
              "       [-0.20437532],\n",
              "       [-0.286073  ]])"
            ]
          },
          "metadata": {}
        },
        {
          "output_type": "display_data",
          "data": {
            "text/plain": [
              "array([  43.6543408 ,  -72.68235021,   21.19644643,  107.58765071,\n",
              "         69.62063217,  -32.57566222, -101.61213107,   87.44514699,\n",
              "         17.69898683,  131.00190463,   97.97802247,    2.70819092,\n",
              "         52.42715419,   27.74476129,  -31.82947365,    1.58209228,\n",
              "         -9.72570848,    4.57391214,  -33.24586607,  -74.34292886,\n",
              "        -22.6419015 ,   15.84607909, -202.79645668,   49.05026172,\n",
              "        -34.9916168 ,  -33.95608308,  121.78273292, -123.72382672,\n",
              "         -1.90918067,   64.06753923,  -91.73785524,    9.55252237,\n",
              "        148.12427806,   22.21183346,  -16.35144507, -113.95075954,\n",
              "        -47.70966758,  -22.69082132,   -1.79022499,  -58.17761844,\n",
              "         91.76970817,  -12.7798199 ,  -38.1435921 ,   17.48650737,\n",
              "         40.52468632, -107.65815151, -134.20798669, -127.22516755,\n",
              "        -34.31360406,  -10.90920383])"
            ]
          },
          "metadata": {}
        }
      ]
    },
    {
      "cell_type": "code",
      "source": [
        "coeffs"
      ],
      "metadata": {
        "colab": {
          "base_uri": "https://localhost:8080/"
        },
        "id": "dZy0pvfbu7dF",
        "outputId": "edebe80a-da61-42ab-a5ac-65ce9e92d99e"
      },
      "execution_count": null,
      "outputs": [
        {
          "output_type": "execute_result",
          "data": {
            "text/plain": [
              "array(80.65667909)"
            ]
          },
          "metadata": {},
          "execution_count": 36
        }
      ]
    },
    {
      "cell_type": "code",
      "source": [
        "import matplotlib.pyplot as plt\n",
        "\n",
        "\n",
        "fig = plt.figure(figsize=(10, 6))\n",
        "plt.scatter(X, y)\n",
        "\n",
        "plt.xlabel('feature')\n",
        "plt.ylabel('target')\n",
        "plt.show()"
      ],
      "metadata": {
        "colab": {
          "base_uri": "https://localhost:8080/",
          "height": 388
        },
        "id": "jp5KReZ1tyRz",
        "outputId": "afba6c24-e150-4293-b12c-46c755135ed7"
      },
      "execution_count": null,
      "outputs": [
        {
          "output_type": "display_data",
          "data": {
            "text/plain": [
              "<Figure size 720x432 with 1 Axes>"
            ],
            "image/png": "[encoded data removed]"
          },
          "metadata": {
            "needs_background": "light"
          }
        }
      ]
    },
    {
      "cell_type": "markdown",
      "source": [
        "Функция, которую здесь оптимизируем - это MSE, её график для конкретно нашей задачи рисовали выше."
      ],
      "metadata": {
        "id": "1uqNje3QuFjX"
      }
    },
    {
      "cell_type": "markdown",
      "source": [
        "Реализуем две функции:\n",
        "1. mserror - функция среднеквадратичной ошибки $MSE = \\frac{1}{n}\\sum_{i=0}^n{(\\text{y}_i-\\text{y_pred}_i})^2 = \\frac{1}{n}\\sum_{i=0}^n{(\\text{y}_i-(w_1\\cdot X_i + w_0)})^2 = \\frac{1}{n}\\sum_{i=0}^n{(\\text{y}_i-w_1\\cdot X_i - w_0})^2$\n",
        "\n",
        "\n",
        "2. gr_mserror - градиент функции MSE. Распишем его отдельно для коэффициента сдвига и коэффициента наклона:\n",
        "\n",
        "Сдвиг:\n",
        "$\\frac{∂ MSE}{∂ w_0} = \\frac{1 \\cdot 2}{n}\\sum({y_i -\\text{y_pred}_i})\\cdot -1$\n",
        "\n",
        "Наклон:\n",
        "$\\frac{∂ MSE}{∂ w_1} = \\frac{1 \\cdot 2}{n}\\sum({y_i -\\text{y_pred}_i})\\cdot -X$"
      ],
      "metadata": {
        "id": "qPe_CIdRvPcI"
      }
    },
    {
      "cell_type": "code",
      "source": [
        "# функция, определяющая среднеквадратичную ошибку\n",
        "def mserror(X, w1, w0, y):\n",
        "    y_pred = w1 * X[:, 0] + w0\n",
        "    return np.sum((y - y_pred) ** 2) / len(y_pred)\n",
        "\n",
        "# функция градиента\n",
        "def gr_mserror(X, w1, w0, y):\n",
        "    y_pred = w1 * X[:, 0] + w0\n",
        "    return np.array([2/len(X)*np.sum((y - y_pred)) * (-1),\n",
        "                     2/len(X)*np.sum((y - y_pred) * (-X[:, 0]))])"
      ],
      "metadata": {
        "id": "fXl31ElsvPcI"
      },
      "execution_count": null,
      "outputs": []
    },
    {
      "cell_type": "markdown",
      "source": [
        "И остается запустить цикл градиентного спуска.\n",
        "\n",
        "В начале инициализировали коэффициенты, затем на каждом шаге считаем градиент, умножаем его на шаг обучения и вычитаем его из предыдущих значений коэффициентов и так далее пока не поймем, что точки коэффициентов очень похожи друг на друга на соседних итерациях."
      ],
      "metadata": {
        "id": "c375lB7cubo1"
      }
    },
    {
      "cell_type": "code",
      "source": [
        "# установка минимального значения, на которое должны изменяться веса\n",
        "eps = 0.0001\n",
        "\n",
        "# первоначальное точка\n",
        "w1 = 0\n",
        "w0 = 0\n",
        "\n",
        "# размер шага (learning rate)\n",
        "learning_rate = 0.1\n",
        "\n",
        "next_w1 = w1\n",
        "next_w0 = w0\n",
        "# количество итерация \n",
        "n = 100\n",
        "for i in range(n):\n",
        "    cur_w1 = next_w1\n",
        "    cur_w0 = next_w0\n",
        "\n",
        "    # движение в негативную сторону вычисляемого градиента\n",
        "    next_w0 = cur_w0 - learning_rate * gr_mserror(X, cur_w1, cur_w0, y)[0]\n",
        "    next_w1 = cur_w1 - learning_rate * gr_mserror(X, cur_w1, cur_w0, y)[1]\n",
        "\n",
        "    # остановка когда достигнута необходимая степень точности\n",
        "    print(f\"Итерация: {i}\")\n",
        "    print(f\"Текущая точка {cur_w1, cur_w0}| Следующая точка {next_w1, next_w0}\")\n",
        "    print(f\"MSE {mserror(X, cur_w1, cur_w0, y)}\")\n",
        "    print(\"--------------------------------------------------------\")\n",
        "    \n",
        "    if (abs(cur_w1 - next_w1) <= eps) and (abs(cur_w0 - next_w0) <= eps):\n",
        "        break"
      ],
      "metadata": {
        "colab": {
          "base_uri": "https://localhost:8080/"
        },
        "id": "qyOwUsWZyCrz",
        "outputId": "7521fd22-ab6a-40f6-a36e-ee928a84a52f"
      },
      "execution_count": null,
      "outputs": [
        {
          "output_type": "stream",
          "name": "stdout",
          "text": [
            "Итерация: 0\n",
            "Текущая точка (0, 0)| Следующая точка (13.245106098282543, -1.3921748530551812)\n",
            "MSE 5436.432058517568\n",
            "--------------------------------------------------------\n",
            "Итерация: 1\n",
            "Текущая точка (13.245106098282543, -1.3921748530551812)| Следующая точка (24.283455474773014, -2.270634896573517)\n",
            "MSE 3812.4417335187304\n",
            "--------------------------------------------------------\n",
            "Итерация: 2\n",
            "Текущая точка (24.283455474773014, -2.270634896573517)| Следующая точка (33.487719285860635, -2.777322881591963)\n",
            "MSE 2689.1325642433894\n",
            "--------------------------------------------------------\n",
            "Итерация: 3\n",
            "Текущая точка (33.487719285860635, -2.777322881591963)| Следующая точка (41.166652649401456, -3.0191730536904307)\n",
            "MSE 1910.2491839412482\n",
            "--------------------------------------------------------\n",
            "Итерация: 4\n",
            "Текущая точка (41.166652649401456, -3.0191730536904307)| Следующая точка (47.57624618267611, -3.0762482285482444)\n",
            "MSE 1368.9634120527255\n",
            "--------------------------------------------------------\n",
            "Итерация: 5\n",
            "Текущая точка (47.57624618267611, -3.0762482285482444)| Следующая точка (52.92889586922186, -3.008051361710758)\n",
            "MSE 992.010595522475\n",
            "--------------------------------------------------------\n",
            "Итерация: 6\n",
            "Текущая точка (52.92889586922186, -3.008051361710758)| Следующая точка (57.40095014665679, -2.8584119151984995)\n",
            "MSE 728.9953237861758\n",
            "--------------------------------------------------------\n",
            "Итерация: 7\n",
            "Текущая точка (57.40095014665679, -2.8584119151984995)| Следующая точка (61.138926872179695, -2.659260887873855)\n",
            "MSE 545.1558383956526\n",
            "--------------------------------------------------------\n",
            "Итерация: 8\n",
            "Текущая точка (61.138926872179695, -2.659260887873855)| Следующая точка (64.2646390341644, -2.433540404481531)\n",
            "MSE 416.45122384278307\n",
            "--------------------------------------------------------\n",
            "Итерация: 9\n",
            "Текущая точка (64.2646390341644, -2.433540404481531)| Следующая точка (66.87942435861689, -2.19744033614948)\n",
            "MSE 326.2142980059075\n",
            "--------------------------------------------------------\n",
            "Итерация: 10\n",
            "Текущая точка (66.87942435861689, -2.19744033614948)| Следующая точка (69.06763839104693, -1.9621124640486494)\n",
            "MSE 262.86371600250254\n",
            "--------------------------------------------------------\n",
            "Итерация: 11\n",
            "Текущая точка (69.06763839104693, -1.9621124640486494)| Следующая точка (70.8995416710495, -1.7349797608563151)\n",
            "MSE 218.33518111153128\n",
            "--------------------------------------------------------\n",
            "Итерация: 12\n",
            "Текущая точка (70.8995416710495, -1.7349797608563151)| Следующая точка (72.4336880101809, -1.520732529514591)\n",
            "MSE 187.00253533348857\n",
            "--------------------------------------------------------\n",
            "Итерация: 13\n",
            "Текущая точка (72.4336880101809, -1.520732529514591)| Следующая точка (73.71890162494748, -1.322082889991646)\n",
            "MSE 164.93367151659535\n",
            "--------------------------------------------------------\n",
            "Итерация: 14\n",
            "Текущая точка (73.71890162494748, -1.322082889991646)| Следующая точка (74.79591515037744, -1.1403332478296038)\n",
            "MSE 149.37600820692927\n",
            "--------------------------------------------------------\n",
            "Итерация: 15\n",
            "Текущая точка (74.79591515037744, -1.1403332478296038)| Следующая точка (75.69872770576566, -0.9758019720797207)\n",
            "MSE 138.39982870713823\n",
            "--------------------------------------------------------\n",
            "Итерация: 16\n",
            "Текущая точка (75.69872770576566, -0.9758019720797207)| Следующая точка (76.45573166825358, -0.8281398136089831)\n",
            "MSE 130.65048482717629\n",
            "--------------------------------------------------------\n",
            "Итерация: 17\n",
            "Текущая точка (76.45573166825358, -0.8281398136089831)| Следующая точка (77.09064819864122, -0.6965630242691534)\n",
            "MSE 125.17587305548757\n",
            "--------------------------------------------------------\n",
            "Итерация: 18\n",
            "Текущая точка (77.09064819864122, -0.6965630242691534)| Следующая точка (77.62330450567968, -0.5800232339912165)\n",
            "MSE 121.30608466627997\n",
            "--------------------------------------------------------\n",
            "Итерация: 19\n",
            "Текущая точка (77.62330450567968, -0.5800232339912165)| Следующая точка (78.07028004458385, -0.47732954550339834)\n",
            "MSE 118.5693021415083\n",
            "--------------------------------------------------------\n",
            "Итерация: 20\n",
            "Текущая точка (78.07028004458385, -0.47732954550339834)| Следующая точка (78.44544409060278, -0.3872347313389438)\n",
            "MSE 116.63292990920401\n",
            "--------------------------------------------------------\n",
            "Итерация: 21\n",
            "Текущая точка (78.44544409060278, -0.3872347313389438)| Следующая точка (78.76040322042036, -0.3084946422381159)\n",
            "MSE 115.26232714854191\n",
            "--------------------------------------------------------\n",
            "Итерация: 22\n",
            "Текущая точка (78.76040322042036, -0.3084946422381159)| Следующая точка (79.024874019221, -0.23990778502053262)\n",
            "MSE 114.29184073360233\n",
            "--------------------------------------------------------\n",
            "Итерация: 23\n",
            "Текущая точка (79.024874019221, -0.23990778502053262)| Следующая точка (79.24699368416267, -0.18034036428991163)\n",
            "MSE 113.60444739461153\n",
            "--------------------------------------------------------\n",
            "Итерация: 24\n",
            "Текущая точка (79.24699368416267, -0.18034036428991163)| Следующая точка (79.43357901354796, -0.12874079838376576)\n",
            "MSE 113.11743065929035\n",
            "--------------------------------------------------------\n",
            "Итерация: 25\n",
            "Текущая точка (79.43357901354796, -0.12874079838376576)| Следующая точка (79.590342471717, -0.08414673157126629)\n",
            "MSE 112.77229367773498\n",
            "--------------------------------------------------------\n",
            "Итерация: 26\n",
            "Текущая точка (79.590342471717, -0.08414673157126629)| Следующая точка (79.72207253439184, -0.045686805736328245)\n",
            "MSE 112.5276488913149\n",
            "--------------------------------------------------------\n",
            "Итерация: 27\n",
            "Текущая точка (79.72207253439184, -0.045686805736328245)| Следующая точка (79.83278429207604, -0.012578874154160535)\n",
            "MSE 112.35420203791824\n",
            "--------------------------------------------------------\n",
            "Итерация: 28\n",
            "Текущая точка (79.83278429207604, -0.012578874154160535)| Следующая точка (79.92584527446147, 0.01587410273549933)\n",
            "MSE 112.23121107508297\n",
            "--------------------------------------------------------\n",
            "Итерация: 29\n",
            "Текущая точка (79.92584527446147, 0.01587410273549933)| Следующая точка (80.00408061916187, 0.0402895757954151)\n",
            "MSE 112.14398472877181\n",
            "--------------------------------------------------------\n",
            "Итерация: 30\n",
            "Текущая точка (80.00408061916187, 0.0402895757954151)| Следующая точка (80.06986101275434, 0.061211690132424876)\n",
            "MSE 112.08211443091523\n",
            "--------------------------------------------------------\n",
            "Итерация: 31\n",
            "Текущая точка (80.06986101275434, 0.061211690132424876)| Следующая точка (80.12517625583499, 0.07911787359402343)\n",
            "MSE 112.03822398727151\n",
            "--------------------------------------------------------\n",
            "Итерация: 32\n",
            "Текущая точка (80.12517625583499, 0.07911787359402343)| Следующая точка (80.1716968258466, 0.09442541434069902)\n",
            "MSE 112.0070849682984\n",
            "--------------------------------------------------------\n",
            "Итерация: 33\n",
            "Текущая точка (80.1716968258466, 0.09442541434069902)| Следующая точка (80.21082541475698, 0.10749781647693545)\n",
            "MSE 111.98499059416774\n",
            "--------------------------------------------------------\n",
            "Итерация: 34\n",
            "Текущая точка (80.21082541475698, 0.10749781647693545)| Следующая точка (80.24374008920961, 0.11865080004710715)\n",
            "MSE 111.96931241806891\n",
            "--------------------------------------------------------\n",
            "Итерация: 35\n",
            "Текущая точка (80.24374008920961, 0.11865080004710715)| Следующая точка (80.2714304469608, 0.1281578677088226)\n",
            "MSE 111.95818633748331\n",
            "--------------------------------------------------------\n",
            "Итерация: 36\n",
            "Текущая точка (80.2714304469608, 0.1281578677088226)| Следующая точка (80.29472791571294, 0.13625540033755565)\n",
            "MSE 111.95029014106852\n",
            "--------------------------------------------------------\n",
            "Итерация: 37\n",
            "Текущая точка (80.29472791571294, 0.13625540033755565)| Следующая точка (80.3143311509696, 0.14314727172458203)\n",
            "MSE 111.94468586607258\n",
            "--------------------------------------------------------\n",
            "Итерация: 38\n",
            "Текущая точка (80.3143311509696, 0.14314727172458203)| Следующая точка (80.33082733176776, 0.14900899149088742)\n",
            "MSE 111.9407080587951\n",
            "--------------------------------------------------------\n",
            "Итерация: 39\n",
            "Текущая точка (80.33082733176776, 0.14900899149088742)| Следующая точка (80.34471002169886, 0.15399139770567302)\n",
            "MSE 111.93788455593705\n",
            "--------------------------------------------------------\n",
            "Итерация: 40\n",
            "Текущая точка (80.34471002169886, 0.15399139770567302)| Следующая точка (80.35639415306127, 0.15822392825594017)\n",
            "MSE 111.93588031188328\n",
            "--------------------------------------------------------\n",
            "Итерация: 41\n",
            "Текущая точка (80.35639415306127, 0.15822392825594017)| Следующая точка (80.3662286006031, 0.16181750411360082)\n",
            "MSE 111.93445756119772\n",
            "--------------------------------------------------------\n",
            "Итерация: 42\n",
            "Текущая точка (80.3662286006031, 0.16181750411360082)| Следующая точка (80.37450673505678, 0.16486705930322332)\n",
            "MSE 111.93344756203358\n",
            "--------------------------------------------------------\n",
            "Итерация: 43\n",
            "Текущая точка (80.37450673505678, 0.16486705930322332)| Следующая точка (80.3814752830035, 0.16745375234425586)\n",
            "MSE 111.93273055134894\n",
            "--------------------------------------------------------\n",
            "Итерация: 44\n",
            "Текущая точка (80.3814752830035, 0.16745375234425586)| Следующая точка (80.38734176642754, 0.16964689278727177)\n",
            "MSE 111.93222152388138\n",
            "--------------------------------------------------------\n",
            "Итерация: 45\n",
            "Текущая точка (80.38734176642754, 0.16964689278727177)| Следующая точка (80.39228075088505, 0.1715056145957146)\n",
            "MSE 111.93186014187545\n",
            "--------------------------------------------------------\n",
            "Итерация: 46\n",
            "Текущая точка (80.39228075088505, 0.1715056145957146)| Следующая точка (80.39643909406131, 0.17308032584082383)\n",
            "MSE 111.93160357509205\n",
            "--------------------------------------------------------\n",
            "Итерация: 47\n",
            "Текущая точка (80.39643909406131, 0.17308032584082383)| Следующая точка (80.39994035542131, 0.17441396169048307)\n",
            "MSE 111.9314214197364\n",
            "--------------------------------------------------------\n",
            "Итерация: 48\n",
            "Текущая точка (80.39994035542131, 0.17441396169048307)| Следующая точка (80.40288850166267, 0.17554306513125753)\n",
            "MSE 111.93129209244117\n",
            "--------------------------------------------------------\n",
            "Итерация: 49\n",
            "Текущая точка (80.40288850166267, 0.17554306513125753)| Следующая точка (80.40537102092192, 0.17649871736794565)\n",
            "MSE 111.93120027093673\n",
            "--------------------------------------------------------\n",
            "Итерация: 50\n",
            "Текущая точка (80.40537102092192, 0.17649871736794565)| Следующая точка (80.40746154046687, 0.1773073374625193)\n",
            "MSE 111.93113507749824\n",
            "--------------------------------------------------------\n",
            "Итерация: 51\n",
            "Текущая точка (80.40746154046687, 0.1773073374625193)| Следующая точка (80.40922202734937, 0.17799136854473532)\n",
            "MSE 111.93108878953852\n",
            "--------------------------------------------------------\n",
            "Итерация: 52\n",
            "Текущая точка (80.40922202734937, 0.17799136854473532)| Следующая точка (80.41070463870736, 0.17856986587197987)\n",
            "MSE 111.9310559243356\n",
            "--------------------------------------------------------\n",
            "Итерация: 53\n",
            "Текущая точка (80.41070463870736, 0.17856986587197987)| Следующая точка (80.41195327769022, 0.1790590001450439)\n",
            "MSE 111.93103258931154\n",
            "--------------------------------------------------------\n",
            "Итерация: 54\n",
            "Текущая точка (80.41195327769022, 0.1790590001450439)| Следующая точка (80.41300490199842, 0.1794724877994691)\n",
            "MSE 111.93101602080289\n",
            "--------------------------------------------------------\n",
            "Итерация: 55\n",
            "Текущая точка (80.41300490199842, 0.1794724877994691)| Следующая точка (80.41389062449502, 0.1798219584829086)\n",
            "MSE 111.93100425662863\n",
            "--------------------------------------------------------\n",
            "Итерация: 56\n",
            "Текущая точка (80.41389062449502, 0.1798219584829086)| Следующая точка (80.41463663902786, 0.18011726858776034)\n",
            "MSE 111.93099590363774\n",
            "--------------------------------------------------------\n",
            "Итерация: 57\n",
            "Текущая точка (80.41463663902786, 0.18011726858776034)| Следующая точка (80.41526499929918, 0.18036676852314196)\n",
            "MSE 111.93098997268032\n",
            "--------------------------------------------------------\n",
            "Итерация: 58\n",
            "Текущая точка (80.41526499929918, 0.18036676852314196)| Следующая точка (80.41579427417048, 0.18057753036794924)\n",
            "MSE 111.93098576144426\n",
            "--------------------------------------------------------\n",
            "Итерация: 59\n",
            "Текущая точка (80.41579427417048, 0.18057753036794924)| Следующая точка (80.4162400990548, 0.18075554163382535)\n",
            "MSE 111.93098277127257\n",
            "--------------------------------------------------------\n",
            "Итерация: 60\n",
            "Текущая точка (80.4162400990548, 0.18075554163382535)| Следующая точка (80.41661563991356, 0.18090587007021305)\n",
            "MSE 111.9309806481053\n",
            "--------------------------------------------------------\n",
            "Итерация: 61\n",
            "Текущая точка (80.41661563991356, 0.18090587007021305)| Следующая точка (80.41693198374094, 0.18103280375061692)\n",
            "MSE 111.93097914054856\n",
            "--------------------------------------------------------\n",
            "Итерация: 62\n",
            "Текущая точка (80.41693198374094, 0.18103280375061692)| Следующая точка (80.4171984672076, 0.18113997007799426)\n",
            "MSE 111.93097807010358\n",
            "--------------------------------------------------------\n",
            "Итерация: 63\n",
            "Текущая точка (80.4171984672076, 0.18113997007799426)| Следующая точка (80.41742295327681, 0.18123043682693823)\n",
            "MSE 111.93097731002919\n",
            "--------------------------------------------------------\n",
            "Итерация: 64\n",
            "Текущая точка (80.41742295327681, 0.18123043682693823)| Следующая точка (80.41761206404517, 0.1813067978911081)\n",
            "MSE 111.93097677033369\n",
            "--------------------------------------------------------\n",
            "Итерация: 65\n",
            "Текущая точка (80.41761206404517, 0.1813067978911081)| Следующая точка (80.41777137674777, 0.18137124601724236)\n",
            "MSE 111.93097638711887\n",
            "--------------------------------------------------------\n",
            "Итерация: 66\n",
            "Текущая точка (80.41777137674777, 0.18137124601724236)| Следующая точка (80.41790558876512, 0.1814256344741146)\n",
            "MSE 111.93097611501378\n",
            "--------------------------------------------------------\n",
            "Итерация: 67\n",
            "Текущая точка (80.41790558876512, 0.1814256344741146)| Следующая точка (80.41801865654197, 0.18147152931880287)\n",
            "MSE 111.9309759218029\n",
            "--------------------------------------------------------\n",
            "Итерация: 68\n",
            "Текущая точка (80.41801865654197, 0.18147152931880287)| Следующая точка (80.41811391254866, 0.18151025367739462)\n",
            "MSE 111.93097578461146\n",
            "--------------------------------------------------------\n"
          ]
        }
      ]
    },
    {
      "cell_type": "markdown",
      "source": [
        "А мы получили точно такую же метрику, которая получалась у `LinearRegression` из `sklearn`.\n",
        "\n",
        "Сравним полученные коэффициенты с теми, которые были сгенерированы вместе с данными."
      ],
      "metadata": {
        "id": "yNm--2XU9mNg"
      }
    },
    {
      "cell_type": "code",
      "source": [
        "print('Коэффициенты наклона', end=' ')\n",
        "print(f'True {coeffs}, trained {next_w1}')\n",
        "\n",
        "print('Коэффициенты сдвига', end=' ')\n",
        "print(f'True 0, trained {next_w0}')"
      ],
      "metadata": {
        "colab": {
          "base_uri": "https://localhost:8080/"
        },
        "id": "yh6UMSWP9z5C",
        "outputId": "d1b132a5-b54d-492e-ff59-84a165996c2f"
      },
      "execution_count": null,
      "outputs": [
        {
          "output_type": "stream",
          "name": "stdout",
          "text": [
            "Коэффициенты наклона True 80.65667909277211, trained 80.41811391254866\n",
            "Коэффициенты сдвига True 0, trained 0.18151025367739462\n"
          ]
        }
      ]
    },
    {
      "cell_type": "markdown",
      "source": [
        "А они очень похожи.\n",
        "\n",
        "А визуализированные кривые наслаиваются друг на друга"
      ],
      "metadata": {
        "id": "ALbIVv6J9-tX"
      }
    },
    {
      "cell_type": "code",
      "source": [
        "fig = plt.figure(figsize=(10, 6))\n",
        "\n",
        "x = np.arange(-3, 3)\n",
        "our_model_y = next_w1 * x + next_w0\n",
        "\n",
        "plt.plot(x, model_y_sk, linewidth=4, alpha=0.5, c='r', label=f'sklearn linear_model = {model_a:.2f}x + {model_b:.2f}')\n",
        "plt.plot(x, our_model_y, '--g', linewidth=2, label=f'our linear_model = {next_w1:.2f}x + {next_w0:.2f}')\n",
        "plt.scatter(X, y) \n",
        "plt.grid()\n",
        "plt.xlabel('feature')\n",
        "plt.ylabel('target')\n",
        "plt.legend(prop={'size': 16})\n",
        "plt.show()"
      ],
      "metadata": {
        "colab": {
          "base_uri": "https://localhost:8080/",
          "height": 388
        },
        "id": "Vux7A3Da-WW6",
        "outputId": "cfa10d85-94f5-40d3-997a-dd7a8619c437"
      },
      "execution_count": null,
      "outputs": [
        {
          "output_type": "display_data",
          "data": {
            "text/plain": [
              "<Figure size 720x432 with 1 Axes>"
            ],
            "image/png": "[encoded data removed]"
          },
          "metadata": {
            "needs_background": "light"
          }
        }
      ]
    },
    {
      "cell_type": "markdown",
      "source": [
        "## Многомерная линейная регрессия\n",
        "\n",
        "Сейчас мы посмотрели на то, как обучается линейная регрессия для задач с одним признаком.\n",
        "\n",
        "Построим себе данные поинтересней, состоящие из 4 признаков, это уже отрисовать не сможем.\n",
        "\n"
      ],
      "metadata": {
        "id": "rEmVJTfv_EZ-"
      }
    },
    {
      "cell_type": "code",
      "source": [
        "from sklearn.datasets import make_regression\n",
        "\n",
        "X, y = make_regression(n_samples=50, n_features=4, n_informative=4,\n",
        "                       noise=10, random_state=11)\n",
        "\n",
        "display(X, y)"
      ],
      "metadata": {
        "colab": {
          "base_uri": "https://localhost:8080/",
          "height": 1000
        },
        "id": "96dLeOqm_kKq",
        "outputId": "0b18b8ec-205e-4af6-af82-b5dd9fcb7d92"
      },
      "execution_count": null,
      "outputs": [
        {
          "output_type": "display_data",
          "data": {
            "text/plain": [
              "array([[ 0.85866717, -1.26407368,  1.11487028,  0.43477699],\n",
              "       [ 1.29127473, -0.96420485,  0.07175977,  0.2716063 ],\n",
              "       [ 1.06755846, -1.06163445,  0.21734821,  0.1178195 ],\n",
              "       [ 0.07101978,  0.92157523, -0.37682984,  0.91998254],\n",
              "       [ 0.27540666,  0.18632534, -1.13980565,  0.14180489],\n",
              "       [ 0.29634711,  1.40277112, -1.54686257,  1.29561858],\n",
              "       [-1.68728061, -1.69734212, -0.41145394, -0.04527514],\n",
              "       [ 0.5936862 ,  0.37050633,  1.34537807,  1.01594215],\n",
              "       [-0.86335252, -0.13054147, -0.52308763, -0.25127692],\n",
              "       [ 0.65402488,  1.79948007,  1.5466061 ,  1.60987398],\n",
              "       [ 1.0956297 , -0.30957664,  0.72575222,  1.54907163],\n",
              "       [-0.39117313,  1.53422235, -0.16419295,  0.36036665],\n",
              "       [ 0.68731235, -1.82300958,  0.8791138 ,  1.84636487],\n",
              "       [-1.0616544 , -0.68448467, -0.47621448,  0.83031043],\n",
              "       [-1.1288944 ,  0.01699688, -0.42442882, -0.1329099 ],\n",
              "       [ 0.51002802,  0.33871394, -1.17212003, -1.04596765],\n",
              "       [ 1.08771086,  0.53382172,  0.39521201,  0.12286753],\n",
              "       [-1.55107946,  0.94303598,  0.34115344,  0.13827322],\n",
              "       [-1.57749431,  1.31094364, -0.79286501, -0.07174941],\n",
              "       [-1.53214252,  0.21886858,  0.18566325,  1.83277654],\n",
              "       [ 1.20910164, -0.8430661 , -0.14189358,  0.38535414],\n",
              "       [ 1.65920462,  0.37864068, -0.46456606,  0.15384125],\n",
              "       [-1.44071935,  1.47651282, -0.13155348,  0.1944292 ],\n",
              "       [-0.00828463, -0.31963136, -0.53662936,  0.31540267],\n",
              "       [-0.37842255, -0.48897544, -0.64439382,  0.69914084],\n",
              "       [-0.23725045, -1.23234621, -0.17241977,  0.09183837],\n",
              "       [-0.18577532, -0.38053642,  0.08897764,  0.06367166],\n",
              "       [ 1.4924715 , -1.11523722, -0.70541403, -0.04723257],\n",
              "       [ 0.51655239, -0.08940364,  0.68212971,  0.15072201],\n",
              "       [ 1.74945474, -0.286073  , -0.48456513, -2.65331856],\n",
              "       [ 2.15667443, -0.82943725, -0.52937203,  1.56170369],\n",
              "       [-1.08019383, -0.43205762,  0.51608404,  0.45539286],\n",
              "       [-0.17809318, -0.57395456, -0.20437532, -0.4864951 ],\n",
              "       [-0.53085824, -0.86986194, -1.15526422,  0.79667185],\n",
              "       [ 0.76616062, -0.99402769, -0.26434233,  1.54220922],\n",
              "       [ 0.85615205, -0.04480262, -0.47748923, -0.15406552],\n",
              "       [ 0.68968231,  0.56119218, -1.30554851, -1.11947526],\n",
              "       [ 0.87427277,  0.0716521 , -1.63905163, -0.64730263],\n",
              "       [-1.29742262, -0.71496244,  0.51447963,  0.25771638],\n",
              "       [-1.68411089, -1.18575527,  0.60010201,  0.69556726],\n",
              "       [ 0.63007982,  0.07349324,  0.73227135, -0.64257539],\n",
              "       [-0.10514925, -1.58396258, -1.37177369, -0.02831834],\n",
              "       [-2.04905726,  0.86705521, -0.26196107,  0.57897111],\n",
              "       [ 0.42105072, -1.06560298, -0.88623967, -0.47573349],\n",
              "       [-0.49673048,  0.50502192,  0.93878313, -0.67502027],\n",
              "       [-0.06766856, -0.41320975,  0.1200828 , -0.69897169],\n",
              "       [ 0.73683739,  1.57463407, -0.03107509, -0.68344663],\n",
              "       [ 0.59527845, -0.68280162, -0.71355993, -1.90828954],\n",
              "       [ 0.81776957,  0.03679475, -0.04870254,  1.7915311 ],\n",
              "       [ 2.20185631, -0.0370669 ,  1.93290543, -1.99357153]])"
            ]
          },
          "metadata": {}
        },
        {
          "output_type": "display_data",
          "data": {
            "text/plain": [
              "array([  43.59907368,   33.3226129 ,   12.92842886,   56.76209111,\n",
              "        -28.24075472,   64.36182392, -220.93063391,  134.81614163,\n",
              "       -111.85450024,  244.9327123 ,  106.23869476,   83.15972598,\n",
              "         22.1607008 ,  -87.67552386,  -94.67026039,  -29.62752165,\n",
              "        119.90179833,  -16.36526242,  -71.2734975 ,  -33.77825083,\n",
              "         24.31113443,  102.14682115,    1.12585934,  -48.81175726,\n",
              "        -58.59186113, -111.47215424,  -12.5784088 ,  -14.21337533,\n",
              "         64.61172215,   10.81251385,   99.11401244,  -75.98950916,\n",
              "        -52.77978396, -112.95415032,    7.45744433,   33.69756994,\n",
              "        -24.66640928,  -35.64805852,  -76.68888106, -129.08694753,\n",
              "         59.65011241, -158.52958483,  -61.09970272,  -97.83194751,\n",
              "         36.42924987,  -49.96145024,  104.10943674,  -80.90767725,\n",
              "         99.76081282,  152.70106779])"
            ]
          },
          "metadata": {}
        }
      ]
    },
    {
      "cell_type": "markdown",
      "source": [
        "### Из sklearn"
      ],
      "metadata": {
        "id": "L389l2QmCBeI"
      }
    },
    {
      "cell_type": "markdown",
      "source": [
        "Обучим для начала модель из `sklearn`"
      ],
      "metadata": {
        "id": "SQDLd3sv_ubX"
      }
    },
    {
      "cell_type": "code",
      "source": [
        "model = LinearRegression()\n",
        "model.fit(X, y)"
      ],
      "metadata": {
        "colab": {
          "base_uri": "https://localhost:8080/"
        },
        "outputId": "4602856f-72a2-41bd-b945-efed584e99a1",
        "id": "3ArQO5TI_qOq"
      },
      "execution_count": null,
      "outputs": [
        {
          "output_type": "execute_result",
          "data": {
            "text/plain": [
              "LinearRegression(copy_X=True, fit_intercept=True, n_jobs=None, normalize=False)"
            ]
          },
          "metadata": {},
          "execution_count": 50
        }
      ]
    },
    {
      "cell_type": "markdown",
      "source": [
        "Посмотрим обученные коэффициенты и теперь давайте их называть весами.\n",
        "\n",
        "Есть веса при признаках - это и есть коэффициенты наклона но по каждой оси.\n",
        "\n",
        "И есть один свободный вес - коэффициент сдвига."
      ],
      "metadata": {
        "id": "L0SIDCaB_qOs"
      }
    },
    {
      "cell_type": "markdown",
      "source": [
        "Получаем 4 веса при признаках - значения для каждого признака, которые сообщают, насколько нужно наклонить прямую относительно каждой оси.\n",
        "\n",
        "И один сдвиг - свободный вес."
      ],
      "metadata": {
        "id": "l0TPVblH_-2H"
      }
    },
    {
      "cell_type": "code",
      "source": [
        "model.coef_, model.intercept_"
      ],
      "metadata": {
        "colab": {
          "base_uri": "https://localhost:8080/"
        },
        "outputId": "aeeb1dbd-d8e5-45b8-804b-3920395e6a1f",
        "id": "qsgZhUMk_qOs"
      },
      "execution_count": null,
      "outputs": [
        {
          "output_type": "execute_result",
          "data": {
            "text/plain": [
              "(array([59.51225616, 57.72556421, 44.70715115, 24.87193091]),\n",
              " -1.6392969526147159)"
            ]
          },
          "metadata": {},
          "execution_count": 51
        }
      ]
    },
    {
      "cell_type": "markdown",
      "source": [
        "Можем сделать предсказания этой моделью, сначала через метод `predict`."
      ],
      "metadata": {
        "id": "Kl5cJtLhcmn5"
      }
    },
    {
      "cell_type": "code",
      "source": [
        "model.predict(X[:1])"
      ],
      "metadata": {
        "colab": {
          "base_uri": "https://localhost:8080/"
        },
        "id": "zUGT6x6ucsLj",
        "outputId": "f20ad239-b090-477a-9534-75752a910003"
      },
      "execution_count": null,
      "outputs": [
        {
          "output_type": "execute_result",
          "data": {
            "text/plain": [
              "array([37.14897504])"
            ]
          },
          "metadata": {},
          "execution_count": 52
        }
      ]
    },
    {
      "cell_type": "markdown",
      "source": [
        "А теперь с помощью перемножения весов на признаки, суммирования их и добавления свободного веса."
      ],
      "metadata": {
        "id": "QcgBXyOAcx1-"
      }
    },
    {
      "cell_type": "code",
      "source": [
        "np.sum(model.coef_ * X[0]) + model.intercept_"
      ],
      "metadata": {
        "colab": {
          "base_uri": "https://localhost:8080/"
        },
        "id": "h99wvhpTc4Qk",
        "outputId": "58291f95-4cd6-49da-b6dd-6e13b984fab2"
      },
      "execution_count": null,
      "outputs": [
        {
          "output_type": "execute_result",
          "data": {
            "text/plain": [
              "37.14897504269282"
            ]
          },
          "metadata": {},
          "execution_count": 53
        }
      ]
    },
    {
      "cell_type": "markdown",
      "source": [
        "Давайте посчитаем ошибку на предсказаниях модели, при этом получим предсказания не одним способом (через `model.predict`), а еще и вторым, сами перемножим веса (`model.coef_`) на значения признаков (`X`) и добавим значение сдвига (`model.intercept_`)\n",
        "\n",
        "Выходит, что неважно, как мы получаем предсказания они всё равно одинаковые."
      ],
      "metadata": {
        "id": "Lq2hstvtBDTo"
      }
    },
    {
      "cell_type": "code",
      "source": [
        "df = pd.DataFrame(X)\n",
        "df['y'] = y\n",
        "df['pred_fit'] = model.predict(X)\n",
        "df['pred_dot'] = X.dot(model.coef_) + model.intercept_\n",
        "\n",
        "df.head()"
      ],
      "metadata": {
        "colab": {
          "base_uri": "https://localhost:8080/",
          "height": 206
        },
        "id": "lEyoJKCWAUvz",
        "outputId": "b0e0419a-b0bc-45b6-b62d-48d1c0b6b685"
      },
      "execution_count": null,
      "outputs": [
        {
          "output_type": "execute_result",
          "data": {
            "text/plain": [
              "          0         1         2         3          y   pred_fit   pred_dot\n",
              "0  0.858667 -1.264074  1.114870  0.434777  43.599074  37.148975  37.148975\n",
              "1  1.291275 -0.964205  0.071760  0.271606  33.322613  29.511654  29.511654\n",
              "2  1.067558 -1.061634  0.217348  0.117820  12.928429  13.257486  13.257486\n",
              "3  0.071020  0.921575 -0.376830  0.919983  56.762091  61.820454  61.820454\n",
              "4  0.275407  0.186325 -1.139806  0.141805 -28.240755 -21.923992 -21.923992"
            ],
            "text/html": [
              "\n",
              "  <div id=\"df-167b96fa-7ad8-4448-98dc-d377b681301e\">\n",
              "    <div class=\"colab-df-container\">\n",
              "      <div>\n",
              "<style scoped>\n",
              "    .dataframe tbody tr th:only-of-type {\n",
              "        vertical-align: middle;\n",
              "    }\n",
              "\n",
              "    .dataframe tbody tr th {\n",
              "        vertical-align: top;\n",
              "    }\n",
              "\n",
              "    .dataframe thead th {\n",
              "        text-align: right;\n",
              "    }\n",
              "</style>\n",
              "<table border=\"1\" class=\"dataframe\">\n",
              "  <thead>\n",
              "    <tr style=\"text-align: right;\">\n",
              "      <th></th>\n",
              "      <th>0</th>\n",
              "      <th>1</th>\n",
              "      <th>2</th>\n",
              "      <th>3</th>\n",
              "      <th>y</th>\n",
              "      <th>pred_fit</th>\n",
              "      <th>pred_dot</th>\n",
              "    </tr>\n",
              "  </thead>\n",
              "  <tbody>\n",
              "    <tr>\n",
              "      <th>0</th>\n",
              "      <td>0.858667</td>\n",
              "      <td>-1.264074</td>\n",
              "      <td>1.114870</td>\n",
              "      <td>0.434777</td>\n",
              "      <td>43.599074</td>\n",
              "      <td>37.148975</td>\n",
              "      <td>37.148975</td>\n",
              "    </tr>\n",
              "    <tr>\n",
              "      <th>1</th>\n",
              "      <td>1.291275</td>\n",
              "      <td>-0.964205</td>\n",
              "      <td>0.071760</td>\n",
              "      <td>0.271606</td>\n",
              "      <td>33.322613</td>\n",
              "      <td>29.511654</td>\n",
              "      <td>29.511654</td>\n",
              "    </tr>\n",
              "    <tr>\n",
              "      <th>2</th>\n",
              "      <td>1.067558</td>\n",
              "      <td>-1.061634</td>\n",
              "      <td>0.217348</td>\n",
              "      <td>0.117820</td>\n",
              "      <td>12.928429</td>\n",
              "      <td>13.257486</td>\n",
              "      <td>13.257486</td>\n",
              "    </tr>\n",
              "    <tr>\n",
              "      <th>3</th>\n",
              "      <td>0.071020</td>\n",
              "      <td>0.921575</td>\n",
              "      <td>-0.376830</td>\n",
              "      <td>0.919983</td>\n",
              "      <td>56.762091</td>\n",
              "      <td>61.820454</td>\n",
              "      <td>61.820454</td>\n",
              "    </tr>\n",
              "    <tr>\n",
              "      <th>4</th>\n",
              "      <td>0.275407</td>\n",
              "      <td>0.186325</td>\n",
              "      <td>-1.139806</td>\n",
              "      <td>0.141805</td>\n",
              "      <td>-28.240755</td>\n",
              "      <td>-21.923992</td>\n",
              "      <td>-21.923992</td>\n",
              "    </tr>\n",
              "  </tbody>\n",
              "</table>\n",
              "</div>\n",
              "      <button class=\"colab-df-convert\" onclick=\"convertToInteractive('df-167b96fa-7ad8-4448-98dc-d377b681301e')\"\n",
              "              title=\"Convert this dataframe to an interactive table.\"\n",
              "              style=\"display:none;\">\n",
              "        \n",
              "  <svg xmlns=\"http://www.w3.org/2000/svg\" height=\"24px\"viewBox=\"0 0 24 24\"\n",
              "       width=\"24px\">\n",
              "    <path d=\"M0 0h24v24H0V0z\" fill=\"none\"/>\n",
              "    <path d=\"M18.56 5.44l.94 2.06.94-2.06 2.06-.94-2.06-.94-.94-2.06-.94 2.06-2.06.94zm-11 1L8.5 8.5l.94-2.06 2.06-.94-2.06-.94L8.5 2.5l-.94 2.06-2.06.94zm10 10l.94 2.06.94-2.06 2.06-.94-2.06-.94-.94-2.06-.94 2.06-2.06.94z\"/><path d=\"M17.41 7.96l-1.37-1.37c-.4-.4-.92-.59-1.43-.59-.52 0-1.04.2-1.43.59L10.3 9.45l-7.72 7.72c-.78.78-.78 2.05 0 2.83L4 21.41c.39.39.9.59 1.41.59.51 0 1.02-.2 1.41-.59l7.78-7.78 2.81-2.81c.8-.78.8-2.07 0-2.86zM5.41 20L4 18.59l7.72-7.72 1.47 1.35L5.41 20z\"/>\n",
              "  </svg>\n",
              "      </button>\n",
              "      \n",
              "  <style>\n",
              "    .colab-df-container {\n",
              "      display:flex;\n",
              "      flex-wrap:wrap;\n",
              "      gap: 12px;\n",
              "    }\n",
              "\n",
              "    .colab-df-convert {\n",
              "      background-color: #E8F0FE;\n",
              "      border: none;\n",
              "      border-radius: 50%;\n",
              "      cursor: pointer;\n",
              "      display: none;\n",
              "      fill: #1967D2;\n",
              "      height: 32px;\n",
              "      padding: 0 0 0 0;\n",
              "      width: 32px;\n",
              "    }\n",
              "\n",
              "    .colab-df-convert:hover {\n",
              "      background-color: #E2EBFA;\n",
              "      box-shadow: 0px 1px 2px rgba(60, 64, 67, 0.3), 0px 1px 3px 1px rgba(60, 64, 67, 0.15);\n",
              "      fill: #174EA6;\n",
              "    }\n",
              "\n",
              "    [theme=dark] .colab-df-convert {\n",
              "      background-color: #3B4455;\n",
              "      fill: #D2E3FC;\n",
              "    }\n",
              "\n",
              "    [theme=dark] .colab-df-convert:hover {\n",
              "      background-color: #434B5C;\n",
              "      box-shadow: 0px 1px 3px 1px rgba(0, 0, 0, 0.15);\n",
              "      filter: drop-shadow(0px 1px 2px rgba(0, 0, 0, 0.3));\n",
              "      fill: #FFFFFF;\n",
              "    }\n",
              "  </style>\n",
              "\n",
              "      <script>\n",
              "        const buttonEl =\n",
              "          document.querySelector('#df-167b96fa-7ad8-4448-98dc-d377b681301e button.colab-df-convert');\n",
              "        buttonEl.style.display =\n",
              "          google.colab.kernel.accessAllowed ? 'block' : 'none';\n",
              "\n",
              "        async function convertToInteractive(key) {\n",
              "          const element = document.querySelector('#df-167b96fa-7ad8-4448-98dc-d377b681301e');\n",
              "          const dataTable =\n",
              "            await google.colab.kernel.invokeFunction('convertToInteractive',\n",
              "                                                     [key], {});\n",
              "          if (!dataTable) return;\n",
              "\n",
              "          const docLinkHtml = 'Like what you see? Visit the ' +\n",
              "            '<a target=\"_blank\" href=https://colab.research.google.com/notebooks/data_table.ipynb>data table notebook</a>'\n",
              "            + ' to learn more about interactive tables.';\n",
              "          element.innerHTML = '';\n",
              "          dataTable['output_type'] = 'display_data';\n",
              "          await google.colab.output.renderOutput(dataTable, element);\n",
              "          const docLink = document.createElement('div');\n",
              "          docLink.innerHTML = docLinkHtml;\n",
              "          element.appendChild(docLink);\n",
              "        }\n",
              "      </script>\n",
              "    </div>\n",
              "  </div>\n",
              "  "
            ]
          },
          "metadata": {},
          "execution_count": 54
        }
      ]
    },
    {
      "cell_type": "markdown",
      "source": [
        "Посчитаем отклонения предсказаний от истины."
      ],
      "metadata": {
        "id": "vmltua2HAR7I"
      }
    },
    {
      "cell_type": "code",
      "source": [
        "df['residual'] = df['pred_fit'] - df['y']\n",
        "df.head()"
      ],
      "metadata": {
        "colab": {
          "base_uri": "https://localhost:8080/",
          "height": 206
        },
        "outputId": "d966ee93-19ca-4920-a5ec-0d7d0dcdb240",
        "id": "yXq4rvEuAR7I"
      },
      "execution_count": null,
      "outputs": [
        {
          "output_type": "execute_result",
          "data": {
            "text/plain": [
              "          0         1         2         3          y   pred_fit   pred_dot  \\\n",
              "0  0.858667 -1.264074  1.114870  0.434777  43.599074  37.148975  37.148975   \n",
              "1  1.291275 -0.964205  0.071760  0.271606  33.322613  29.511654  29.511654   \n",
              "2  1.067558 -1.061634  0.217348  0.117820  12.928429  13.257486  13.257486   \n",
              "3  0.071020  0.921575 -0.376830  0.919983  56.762091  61.820454  61.820454   \n",
              "4  0.275407  0.186325 -1.139806  0.141805 -28.240755 -21.923992 -21.923992   \n",
              "\n",
              "   residual  \n",
              "0 -6.450099  \n",
              "1 -3.810959  \n",
              "2  0.329057  \n",
              "3  5.058363  \n",
              "4  6.316763  "
            ],
            "text/html": [
              "\n",
              "  <div id=\"df-534ea8a0-cf90-48ee-b20f-f4094ad06881\">\n",
              "    <div class=\"colab-df-container\">\n",
              "      <div>\n",
              "<style scoped>\n",
              "    .dataframe tbody tr th:only-of-type {\n",
              "        vertical-align: middle;\n",
              "    }\n",
              "\n",
              "    .dataframe tbody tr th {\n",
              "        vertical-align: top;\n",
              "    }\n",
              "\n",
              "    .dataframe thead th {\n",
              "        text-align: right;\n",
              "    }\n",
              "</style>\n",
              "<table border=\"1\" class=\"dataframe\">\n",
              "  <thead>\n",
              "    <tr style=\"text-align: right;\">\n",
              "      <th></th>\n",
              "      <th>0</th>\n",
              "      <th>1</th>\n",
              "      <th>2</th>\n",
              "      <th>3</th>\n",
              "      <th>y</th>\n",
              "      <th>pred_fit</th>\n",
              "      <th>pred_dot</th>\n",
              "      <th>residual</th>\n",
              "    </tr>\n",
              "  </thead>\n",
              "  <tbody>\n",
              "    <tr>\n",
              "      <th>0</th>\n",
              "      <td>0.858667</td>\n",
              "      <td>-1.264074</td>\n",
              "      <td>1.114870</td>\n",
              "      <td>0.434777</td>\n",
              "      <td>43.599074</td>\n",
              "      <td>37.148975</td>\n",
              "      <td>37.148975</td>\n",
              "      <td>-6.450099</td>\n",
              "    </tr>\n",
              "    <tr>\n",
              "      <th>1</th>\n",
              "      <td>1.291275</td>\n",
              "      <td>-0.964205</td>\n",
              "      <td>0.071760</td>\n",
              "      <td>0.271606</td>\n",
              "      <td>33.322613</td>\n",
              "      <td>29.511654</td>\n",
              "      <td>29.511654</td>\n",
              "      <td>-3.810959</td>\n",
              "    </tr>\n",
              "    <tr>\n",
              "      <th>2</th>\n",
              "      <td>1.067558</td>\n",
              "      <td>-1.061634</td>\n",
              "      <td>0.217348</td>\n",
              "      <td>0.117820</td>\n",
              "      <td>12.928429</td>\n",
              "      <td>13.257486</td>\n",
              "      <td>13.257486</td>\n",
              "      <td>0.329057</td>\n",
              "    </tr>\n",
              "    <tr>\n",
              "      <th>3</th>\n",
              "      <td>0.071020</td>\n",
              "      <td>0.921575</td>\n",
              "      <td>-0.376830</td>\n",
              "      <td>0.919983</td>\n",
              "      <td>56.762091</td>\n",
              "      <td>61.820454</td>\n",
              "      <td>61.820454</td>\n",
              "      <td>5.058363</td>\n",
              "    </tr>\n",
              "    <tr>\n",
              "      <th>4</th>\n",
              "      <td>0.275407</td>\n",
              "      <td>0.186325</td>\n",
              "      <td>-1.139806</td>\n",
              "      <td>0.141805</td>\n",
              "      <td>-28.240755</td>\n",
              "      <td>-21.923992</td>\n",
              "      <td>-21.923992</td>\n",
              "      <td>6.316763</td>\n",
              "    </tr>\n",
              "  </tbody>\n",
              "</table>\n",
              "</div>\n",
              "      <button class=\"colab-df-convert\" onclick=\"convertToInteractive('df-534ea8a0-cf90-48ee-b20f-f4094ad06881')\"\n",
              "              title=\"Convert this dataframe to an interactive table.\"\n",
              "              style=\"display:none;\">\n",
              "        \n",
              "  <svg xmlns=\"http://www.w3.org/2000/svg\" height=\"24px\"viewBox=\"0 0 24 24\"\n",
              "       width=\"24px\">\n",
              "    <path d=\"M0 0h24v24H0V0z\" fill=\"none\"/>\n",
              "    <path d=\"M18.56 5.44l.94 2.06.94-2.06 2.06-.94-2.06-.94-.94-2.06-.94 2.06-2.06.94zm-11 1L8.5 8.5l.94-2.06 2.06-.94-2.06-.94L8.5 2.5l-.94 2.06-2.06.94zm10 10l.94 2.06.94-2.06 2.06-.94-2.06-.94-.94-2.06-.94 2.06-2.06.94z\"/><path d=\"M17.41 7.96l-1.37-1.37c-.4-.4-.92-.59-1.43-.59-.52 0-1.04.2-1.43.59L10.3 9.45l-7.72 7.72c-.78.78-.78 2.05 0 2.83L4 21.41c.39.39.9.59 1.41.59.51 0 1.02-.2 1.41-.59l7.78-7.78 2.81-2.81c.8-.78.8-2.07 0-2.86zM5.41 20L4 18.59l7.72-7.72 1.47 1.35L5.41 20z\"/>\n",
              "  </svg>\n",
              "      </button>\n",
              "      \n",
              "  <style>\n",
              "    .colab-df-container {\n",
              "      display:flex;\n",
              "      flex-wrap:wrap;\n",
              "      gap: 12px;\n",
              "    }\n",
              "\n",
              "    .colab-df-convert {\n",
              "      background-color: #E8F0FE;\n",
              "      border: none;\n",
              "      border-radius: 50%;\n",
              "      cursor: pointer;\n",
              "      display: none;\n",
              "      fill: #1967D2;\n",
              "      height: 32px;\n",
              "      padding: 0 0 0 0;\n",
              "      width: 32px;\n",
              "    }\n",
              "\n",
              "    .colab-df-convert:hover {\n",
              "      background-color: #E2EBFA;\n",
              "      box-shadow: 0px 1px 2px rgba(60, 64, 67, 0.3), 0px 1px 3px 1px rgba(60, 64, 67, 0.15);\n",
              "      fill: #174EA6;\n",
              "    }\n",
              "\n",
              "    [theme=dark] .colab-df-convert {\n",
              "      background-color: #3B4455;\n",
              "      fill: #D2E3FC;\n",
              "    }\n",
              "\n",
              "    [theme=dark] .colab-df-convert:hover {\n",
              "      background-color: #434B5C;\n",
              "      box-shadow: 0px 1px 3px 1px rgba(0, 0, 0, 0.15);\n",
              "      filter: drop-shadow(0px 1px 2px rgba(0, 0, 0, 0.3));\n",
              "      fill: #FFFFFF;\n",
              "    }\n",
              "  </style>\n",
              "\n",
              "      <script>\n",
              "        const buttonEl =\n",
              "          document.querySelector('#df-534ea8a0-cf90-48ee-b20f-f4094ad06881 button.colab-df-convert');\n",
              "        buttonEl.style.display =\n",
              "          google.colab.kernel.accessAllowed ? 'block' : 'none';\n",
              "\n",
              "        async function convertToInteractive(key) {\n",
              "          const element = document.querySelector('#df-534ea8a0-cf90-48ee-b20f-f4094ad06881');\n",
              "          const dataTable =\n",
              "            await google.colab.kernel.invokeFunction('convertToInteractive',\n",
              "                                                     [key], {});\n",
              "          if (!dataTable) return;\n",
              "\n",
              "          const docLinkHtml = 'Like what you see? Visit the ' +\n",
              "            '<a target=\"_blank\" href=https://colab.research.google.com/notebooks/data_table.ipynb>data table notebook</a>'\n",
              "            + ' to learn more about interactive tables.';\n",
              "          element.innerHTML = '';\n",
              "          dataTable['output_type'] = 'display_data';\n",
              "          await google.colab.output.renderOutput(dataTable, element);\n",
              "          const docLink = document.createElement('div');\n",
              "          docLink.innerHTML = docLinkHtml;\n",
              "          element.appendChild(docLink);\n",
              "        }\n",
              "      </script>\n",
              "    </div>\n",
              "  </div>\n",
              "  "
            ]
          },
          "metadata": {},
          "execution_count": 55
        }
      ]
    },
    {
      "cell_type": "markdown",
      "source": [
        "И на всех объектах считаем метрику MSE - mean squared error, напомню, что более подробно про неё рассказываю в этом [видео](https://youtu.be/vh2smjQyhp8) и в этом [ноутбуке](https://colab.research.google.com/drive/14Oxi6sI25mP4JbovLiJ57e7H5sbN2I3p)."
      ],
      "metadata": {
        "id": "jGVAfwy7AR7I"
      }
    },
    {
      "cell_type": "markdown",
      "source": [
        "MSE равняется."
      ],
      "metadata": {
        "id": "USkbwCNVAR7I"
      }
    },
    {
      "cell_type": "code",
      "source": [
        "np.mean(df['residual'] ** 2)"
      ],
      "metadata": {
        "colab": {
          "base_uri": "https://localhost:8080/"
        },
        "outputId": "a9087eb5-0879-4b4b-9562-ad8681386a65",
        "id": "oVK_d05wAR7J"
      },
      "execution_count": null,
      "outputs": [
        {
          "output_type": "execute_result",
          "data": {
            "text/plain": [
              "92.64429127220507"
            ]
          },
          "metadata": {},
          "execution_count": 56
        }
      ]
    },
    {
      "cell_type": "markdown",
      "source": [
        "### Своя реализация линейной регрессии"
      ],
      "metadata": {
        "id": "Tfem6RubAMjf"
      }
    },
    {
      "cell_type": "markdown",
      "source": [
        "Берем те же самые данные, где брали 4 признака, но еще возвращаем веса при признаках, а свободный вес по умолчанию в такой генерации равен 0."
      ],
      "metadata": {
        "id": "zL6O2KJQCPk_"
      }
    },
    {
      "cell_type": "code",
      "source": [
        "X, y, coeffs = make_regression(n_samples=50, n_features=4, n_informative=4,\n",
        "                               noise=10, coef=True, random_state=11)\n",
        "\n",
        "display(X, y)"
      ],
      "metadata": {
        "colab": {
          "base_uri": "https://localhost:8080/",
          "height": 1000
        },
        "outputId": "8245f99b-6432-4137-94d3-c57e67121077",
        "id": "FIviYjjJCPlA"
      },
      "execution_count": null,
      "outputs": [
        {
          "output_type": "display_data",
          "data": {
            "text/plain": [
              "array([[ 0.85866717, -1.26407368,  1.11487028,  0.43477699],\n",
              "       [ 1.29127473, -0.96420485,  0.07175977,  0.2716063 ],\n",
              "       [ 1.06755846, -1.06163445,  0.21734821,  0.1178195 ],\n",
              "       [ 0.07101978,  0.92157523, -0.37682984,  0.91998254],\n",
              "       [ 0.27540666,  0.18632534, -1.13980565,  0.14180489],\n",
              "       [ 0.29634711,  1.40277112, -1.54686257,  1.29561858],\n",
              "       [-1.68728061, -1.69734212, -0.41145394, -0.04527514],\n",
              "       [ 0.5936862 ,  0.37050633,  1.34537807,  1.01594215],\n",
              "       [-0.86335252, -0.13054147, -0.52308763, -0.25127692],\n",
              "       [ 0.65402488,  1.79948007,  1.5466061 ,  1.60987398],\n",
              "       [ 1.0956297 , -0.30957664,  0.72575222,  1.54907163],\n",
              "       [-0.39117313,  1.53422235, -0.16419295,  0.36036665],\n",
              "       [ 0.68731235, -1.82300958,  0.8791138 ,  1.84636487],\n",
              "       [-1.0616544 , -0.68448467, -0.47621448,  0.83031043],\n",
              "       [-1.1288944 ,  0.01699688, -0.42442882, -0.1329099 ],\n",
              "       [ 0.51002802,  0.33871394, -1.17212003, -1.04596765],\n",
              "       [ 1.08771086,  0.53382172,  0.39521201,  0.12286753],\n",
              "       [-1.55107946,  0.94303598,  0.34115344,  0.13827322],\n",
              "       [-1.57749431,  1.31094364, -0.79286501, -0.07174941],\n",
              "       [-1.53214252,  0.21886858,  0.18566325,  1.83277654],\n",
              "       [ 1.20910164, -0.8430661 , -0.14189358,  0.38535414],\n",
              "       [ 1.65920462,  0.37864068, -0.46456606,  0.15384125],\n",
              "       [-1.44071935,  1.47651282, -0.13155348,  0.1944292 ],\n",
              "       [-0.00828463, -0.31963136, -0.53662936,  0.31540267],\n",
              "       [-0.37842255, -0.48897544, -0.64439382,  0.69914084],\n",
              "       [-0.23725045, -1.23234621, -0.17241977,  0.09183837],\n",
              "       [-0.18577532, -0.38053642,  0.08897764,  0.06367166],\n",
              "       [ 1.4924715 , -1.11523722, -0.70541403, -0.04723257],\n",
              "       [ 0.51655239, -0.08940364,  0.68212971,  0.15072201],\n",
              "       [ 1.74945474, -0.286073  , -0.48456513, -2.65331856],\n",
              "       [ 2.15667443, -0.82943725, -0.52937203,  1.56170369],\n",
              "       [-1.08019383, -0.43205762,  0.51608404,  0.45539286],\n",
              "       [-0.17809318, -0.57395456, -0.20437532, -0.4864951 ],\n",
              "       [-0.53085824, -0.86986194, -1.15526422,  0.79667185],\n",
              "       [ 0.76616062, -0.99402769, -0.26434233,  1.54220922],\n",
              "       [ 0.85615205, -0.04480262, -0.47748923, -0.15406552],\n",
              "       [ 0.68968231,  0.56119218, -1.30554851, -1.11947526],\n",
              "       [ 0.87427277,  0.0716521 , -1.63905163, -0.64730263],\n",
              "       [-1.29742262, -0.71496244,  0.51447963,  0.25771638],\n",
              "       [-1.68411089, -1.18575527,  0.60010201,  0.69556726],\n",
              "       [ 0.63007982,  0.07349324,  0.73227135, -0.64257539],\n",
              "       [-0.10514925, -1.58396258, -1.37177369, -0.02831834],\n",
              "       [-2.04905726,  0.86705521, -0.26196107,  0.57897111],\n",
              "       [ 0.42105072, -1.06560298, -0.88623967, -0.47573349],\n",
              "       [-0.49673048,  0.50502192,  0.93878313, -0.67502027],\n",
              "       [-0.06766856, -0.41320975,  0.1200828 , -0.69897169],\n",
              "       [ 0.73683739,  1.57463407, -0.03107509, -0.68344663],\n",
              "       [ 0.59527845, -0.68280162, -0.71355993, -1.90828954],\n",
              "       [ 0.81776957,  0.03679475, -0.04870254,  1.7915311 ],\n",
              "       [ 2.20185631, -0.0370669 ,  1.93290543, -1.99357153]])"
            ]
          },
          "metadata": {}
        },
        {
          "output_type": "display_data",
          "data": {
            "text/plain": [
              "array([  43.59907368,   33.3226129 ,   12.92842886,   56.76209111,\n",
              "        -28.24075472,   64.36182392, -220.93063391,  134.81614163,\n",
              "       -111.85450024,  244.9327123 ,  106.23869476,   83.15972598,\n",
              "         22.1607008 ,  -87.67552386,  -94.67026039,  -29.62752165,\n",
              "        119.90179833,  -16.36526242,  -71.2734975 ,  -33.77825083,\n",
              "         24.31113443,  102.14682115,    1.12585934,  -48.81175726,\n",
              "        -58.59186113, -111.47215424,  -12.5784088 ,  -14.21337533,\n",
              "         64.61172215,   10.81251385,   99.11401244,  -75.98950916,\n",
              "        -52.77978396, -112.95415032,    7.45744433,   33.69756994,\n",
              "        -24.66640928,  -35.64805852,  -76.68888106, -129.08694753,\n",
              "         59.65011241, -158.52958483,  -61.09970272,  -97.83194751,\n",
              "         36.42924987,  -49.96145024,  104.10943674,  -80.90767725,\n",
              "         99.76081282,  152.70106779])"
            ]
          },
          "metadata": {}
        }
      ]
    },
    {
      "cell_type": "code",
      "source": [
        "coeffs"
      ],
      "metadata": {
        "colab": {
          "base_uri": "https://localhost:8080/"
        },
        "outputId": "cf0a71d1-f68b-492e-88df-04474120e694",
        "id": "tFAeNpTVCPlB"
      },
      "execution_count": null,
      "outputs": [
        {
          "output_type": "execute_result",
          "data": {
            "text/plain": [
              "array([59.32158596, 58.74342238, 44.07539836, 25.03682142])"
            ]
          },
          "metadata": {},
          "execution_count": 58
        }
      ]
    },
    {
      "cell_type": "markdown",
      "source": [
        "Для удобства реализации градиентного спуска от записи поэлементной через сумму ($MSE = \\frac{1}{n}\\sum_{i=0}^n{(\\text{y}_i-\\text{y_pred}_i})^2$) перейдем к матричной форме записи.\n",
        "\n",
        "Предсказания линейной модели - это перемножение весов на признаки плюс свободный вес.\n",
        "\n",
        "$$y_{pred} = X\\cdot w + w_0$$\n",
        "\n",
        "При этом очень важно, чтобы соблюдались размерности матрицы $X$ и вектора $w$.\n",
        "У нас размерности равны"
      ],
      "metadata": {
        "id": "-jcBg1trGk5C"
      }
    },
    {
      "cell_type": "code",
      "source": [
        "X.shape, coeffs.shape"
      ],
      "metadata": {
        "colab": {
          "base_uri": "https://localhost:8080/"
        },
        "id": "EQUqgDEnHRiP",
        "outputId": "0d4bdb56-6ed3-4663-b396-1c9b9aa2eeb5"
      },
      "execution_count": null,
      "outputs": [
        {
          "output_type": "execute_result",
          "data": {
            "text/plain": [
              "((50, 4), (4,))"
            ]
          },
          "metadata": {},
          "execution_count": 59
        }
      ]
    },
    {
      "cell_type": "markdown",
      "source": [
        "А значит, чтобы объеты могли матрично перемножиться, нужно чтобы количество столбцов первой матрицы было равно количеству строк второй (но у нас не матрица, а вектор).\n",
        "\n",
        "У нас совпадают, так что можем их перемножать и получаем ничто иное, как *скалярное произведение* - все значения в признаках перемножаются на соответсвующие веса и складываются.\n",
        "\n",
        "\n",
        "А значит можем переписать формулу:\n",
        "$$y_{pred} = \\langle X, w\\rangle + w_0$$\n",
        "\n",
        "\n",
        "Но вот только мешается свободный вес. Можно пойти на одну хитрость и добавить фиктивный признак в данные, который для каждого объекта равен 1.\n",
        "\n"
      ],
      "metadata": {
        "id": "d8T_yqOeHX8G"
      }
    },
    {
      "cell_type": "code",
      "source": [
        "X = np.column_stack([X, np.ones((50))])\n",
        "X"
      ],
      "metadata": {
        "colab": {
          "base_uri": "https://localhost:8080/"
        },
        "id": "qRd4q1PYIG-_",
        "outputId": "dd9d1d07-e913-44c7-d68b-740cf09df581"
      },
      "execution_count": null,
      "outputs": [
        {
          "output_type": "execute_result",
          "data": {
            "text/plain": [
              "array([[ 0.85866717, -1.26407368,  1.11487028,  0.43477699,  1.        ],\n",
              "       [ 1.29127473, -0.96420485,  0.07175977,  0.2716063 ,  1.        ],\n",
              "       [ 1.06755846, -1.06163445,  0.21734821,  0.1178195 ,  1.        ],\n",
              "       [ 0.07101978,  0.92157523, -0.37682984,  0.91998254,  1.        ],\n",
              "       [ 0.27540666,  0.18632534, -1.13980565,  0.14180489,  1.        ],\n",
              "       [ 0.29634711,  1.40277112, -1.54686257,  1.29561858,  1.        ],\n",
              "       [-1.68728061, -1.69734212, -0.41145394, -0.04527514,  1.        ],\n",
              "       [ 0.5936862 ,  0.37050633,  1.34537807,  1.01594215,  1.        ],\n",
              "       [-0.86335252, -0.13054147, -0.52308763, -0.25127692,  1.        ],\n",
              "       [ 0.65402488,  1.79948007,  1.5466061 ,  1.60987398,  1.        ],\n",
              "       [ 1.0956297 , -0.30957664,  0.72575222,  1.54907163,  1.        ],\n",
              "       [-0.39117313,  1.53422235, -0.16419295,  0.36036665,  1.        ],\n",
              "       [ 0.68731235, -1.82300958,  0.8791138 ,  1.84636487,  1.        ],\n",
              "       [-1.0616544 , -0.68448467, -0.47621448,  0.83031043,  1.        ],\n",
              "       [-1.1288944 ,  0.01699688, -0.42442882, -0.1329099 ,  1.        ],\n",
              "       [ 0.51002802,  0.33871394, -1.17212003, -1.04596765,  1.        ],\n",
              "       [ 1.08771086,  0.53382172,  0.39521201,  0.12286753,  1.        ],\n",
              "       [-1.55107946,  0.94303598,  0.34115344,  0.13827322,  1.        ],\n",
              "       [-1.57749431,  1.31094364, -0.79286501, -0.07174941,  1.        ],\n",
              "       [-1.53214252,  0.21886858,  0.18566325,  1.83277654,  1.        ],\n",
              "       [ 1.20910164, -0.8430661 , -0.14189358,  0.38535414,  1.        ],\n",
              "       [ 1.65920462,  0.37864068, -0.46456606,  0.15384125,  1.        ],\n",
              "       [-1.44071935,  1.47651282, -0.13155348,  0.1944292 ,  1.        ],\n",
              "       [-0.00828463, -0.31963136, -0.53662936,  0.31540267,  1.        ],\n",
              "       [-0.37842255, -0.48897544, -0.64439382,  0.69914084,  1.        ],\n",
              "       [-0.23725045, -1.23234621, -0.17241977,  0.09183837,  1.        ],\n",
              "       [-0.18577532, -0.38053642,  0.08897764,  0.06367166,  1.        ],\n",
              "       [ 1.4924715 , -1.11523722, -0.70541403, -0.04723257,  1.        ],\n",
              "       [ 0.51655239, -0.08940364,  0.68212971,  0.15072201,  1.        ],\n",
              "       [ 1.74945474, -0.286073  , -0.48456513, -2.65331856,  1.        ],\n",
              "       [ 2.15667443, -0.82943725, -0.52937203,  1.56170369,  1.        ],\n",
              "       [-1.08019383, -0.43205762,  0.51608404,  0.45539286,  1.        ],\n",
              "       [-0.17809318, -0.57395456, -0.20437532, -0.4864951 ,  1.        ],\n",
              "       [-0.53085824, -0.86986194, -1.15526422,  0.79667185,  1.        ],\n",
              "       [ 0.76616062, -0.99402769, -0.26434233,  1.54220922,  1.        ],\n",
              "       [ 0.85615205, -0.04480262, -0.47748923, -0.15406552,  1.        ],\n",
              "       [ 0.68968231,  0.56119218, -1.30554851, -1.11947526,  1.        ],\n",
              "       [ 0.87427277,  0.0716521 , -1.63905163, -0.64730263,  1.        ],\n",
              "       [-1.29742262, -0.71496244,  0.51447963,  0.25771638,  1.        ],\n",
              "       [-1.68411089, -1.18575527,  0.60010201,  0.69556726,  1.        ],\n",
              "       [ 0.63007982,  0.07349324,  0.73227135, -0.64257539,  1.        ],\n",
              "       [-0.10514925, -1.58396258, -1.37177369, -0.02831834,  1.        ],\n",
              "       [-2.04905726,  0.86705521, -0.26196107,  0.57897111,  1.        ],\n",
              "       [ 0.42105072, -1.06560298, -0.88623967, -0.47573349,  1.        ],\n",
              "       [-0.49673048,  0.50502192,  0.93878313, -0.67502027,  1.        ],\n",
              "       [-0.06766856, -0.41320975,  0.1200828 , -0.69897169,  1.        ],\n",
              "       [ 0.73683739,  1.57463407, -0.03107509, -0.68344663,  1.        ],\n",
              "       [ 0.59527845, -0.68280162, -0.71355993, -1.90828954,  1.        ],\n",
              "       [ 0.81776957,  0.03679475, -0.04870254,  1.7915311 ,  1.        ],\n",
              "       [ 2.20185631, -0.0370669 ,  1.93290543, -1.99357153,  1.        ]])"
            ]
          },
          "metadata": {},
          "execution_count": 60
        }
      ]
    },
    {
      "cell_type": "markdown",
      "source": [
        "И теперь всё предсказание линейной модели будет равняться:\n",
        "\n",
        "$$y_{pred} = \\langle X, w\\rangle$$\n",
        "\n",
        "\n",
        "А наша ошибка MSE преобразиться и будет выглядить следующим образом:\n",
        "\n",
        "$$MSE = \\frac{1}{n}\\sum^{n}_{i=1}(y_{i} - \\text{y_pred}_i)^{2} = \\frac{1}{n}\\sum^{n}_{i=1}(y_{i} -  \\langle X_i, w\\rangle)^{2} =  \\frac{1}{n}||Y -  X w||^{2}$$\n",
        "\n",
        "\n",
        "где используется $L_{2}$ норма:\n",
        "\n",
        "$$||Y -  X w|| = \\sqrt{\\sum_{i=1}^n{(y_i-X_iw)^2}} $$\n",
        "\n",
        "$$MSE = \\frac{1}{n}\\sqrt{\\sum_{i=1}^n{(y_i-X_iw)^2}} ^{2} = \\frac{1}{n}\\sum_{i=1}^n{(y_i-X_iw)^2}$$\n",
        "\n"
      ],
      "metadata": {
        "id": "HmRcuBRDIS0y"
      }
    },
    {
      "cell_type": "markdown",
      "source": [
        "Реализуем две функции только уже с матричными операциями:\n",
        "1. mserror_mat - функция среднеквадратичной ошибки для матриц\n",
        "\n",
        "\n",
        "2. gr_mserror_mat - градиент функции MSE для матрицы:\n",
        "\n",
        "$\\frac{∂ MSE}{∂ w} = \\frac{1 \\cdot 2}{n}({Y - Xw}) \\cdot-X$\n",
        "\n"
      ],
      "metadata": {
        "id": "yjbmJkF4CPlC"
      }
    },
    {
      "cell_type": "code",
      "source": [
        "# функция, определяющая среднеквадратичную ошибку\n",
        "def mserror_mat(X, w, y):\n",
        "    y_pred = X @ w\n",
        "    return np.sum((y - y_pred) ** 2) / len(y_pred)\n",
        "\n",
        "# функция градиента\n",
        "def gr_mserror_mat(X, w, y):\n",
        "    y_pred = X @ w\n",
        "    return 2/len(X)*(y - y_pred) @ (-X)"
      ],
      "metadata": {
        "id": "_GlN3Fb4CPlC"
      },
      "execution_count": null,
      "outputs": []
    },
    {
      "cell_type": "markdown",
      "source": [
        "И остается запустить цикл градиентного спуска.\n",
        "\n",
        "В начале инициализировали коэффициенты. Т.к. у нас 5 признаков (4 настоящих плюс один фиктивный), то будет 5 весов."
      ],
      "metadata": {
        "id": "siwPK0oQCPlC"
      }
    },
    {
      "cell_type": "code",
      "source": [
        "# первоначальное точка\n",
        "weights = np.zeros(X.shape[1])\n",
        "weights"
      ],
      "metadata": {
        "colab": {
          "base_uri": "https://localhost:8080/"
        },
        "id": "PBs-gz9sK9Eo",
        "outputId": "4eefc925-6d0d-48be-80fb-76411c4d673f"
      },
      "execution_count": null,
      "outputs": [
        {
          "output_type": "execute_result",
          "data": {
            "text/plain": [
              "array([0., 0., 0., 0., 0.])"
            ]
          },
          "metadata": {},
          "execution_count": 62
        }
      ]
    },
    {
      "cell_type": "markdown",
      "source": [
        "Затем запускаем цикл по обучению и меняем веса, при этом не каждый вес отдельно, а все веса сразу вместе.\n",
        "\n",
        "И если веса начнут плохо изменяться, то можем выйти по критерию останова:\n",
        "\n",
        "$$||w_{new} - w_{old}|| ≤ eps$$"
      ],
      "metadata": {
        "id": "vfDPdqojLykB"
      }
    },
    {
      "cell_type": "code",
      "source": [
        "# установка минимального значения, на которое должны изменяться веса\n",
        "eps = 0.0001\n",
        "\n",
        "# размер шага (learning rate)\n",
        "learning_rate = 0.1\n",
        "\n",
        "next_weights = weights\n",
        "# количество итерация \n",
        "n = 100\n",
        "for i in range(n):\n",
        "    cur_weights = next_weights\n",
        "\n",
        "    # движение в негативную сторону вычисляемого градиента\n",
        "    next_weights = cur_weights - learning_rate * gr_mserror_mat(X, cur_weights, y)\n",
        "\n",
        "    # остановка когда достигнута необходимая степень точности\n",
        "    print(f\"Итерация: {i}\")\n",
        "    print(f\"Текущая точка {cur_weights}| Следующая точка {next_weights}\")\n",
        "    print(f\"MSE {mserror_mat(X, cur_weights, y)}\")\n",
        "    print(\"--------------------------------------------------------\")\n",
        "    \n",
        "    if np.linalg.norm(cur_weights - next_weights, ord=2) <= eps:\n",
        "        break"
      ],
      "metadata": {
        "colab": {
          "base_uri": "https://localhost:8080/"
        },
        "outputId": "65060637-1a17-45cc-f4fd-12ee2543280e",
        "id": "hsA08x8UCPlC"
      },
      "execution_count": null,
      "outputs": [
        {
          "output_type": "stream",
          "name": "stdout",
          "text": [
            "Итерация: 0\n",
            "Текущая точка [0. 0. 0. 0. 0.]| Следующая точка [11.76469989  8.02019663  7.1529662   3.12227706 -0.71246521]\n",
            "MSE 7901.284047919273\n",
            "--------------------------------------------------------\n",
            "Итерация: 1\n",
            "Текущая точка [11.76469989  8.02019663  7.1529662   3.12227706 -0.71246521]| Следующая точка [21.07996752 15.00192791 13.15169841  5.97919733 -1.2826889 ]\n",
            "MSE 5491.413352110748\n",
            "--------------------------------------------------------\n",
            "Итерация: 2\n",
            "Текущая точка [21.07996752 15.00192791 13.15169841  5.97919733 -1.2826889 ]| Следующая точка [28.48213061 21.0576616  18.18254548  8.55326802 -1.72604536]\n",
            "MSE 3846.369420368778\n",
            "--------------------------------------------------------\n",
            "Итерация: 3\n",
            "Текущая точка [28.48213061 21.0576616  18.18254548  8.55326802 -1.72604536]| Следующая точка [34.38479911 26.29452131 22.40202941 10.84471509 -2.06001325]\n",
            "MSE 2714.9929661406427\n",
            "--------------------------------------------------------\n",
            "Итерация: 4\n",
            "Текущая точка [34.38479911 26.29452131 22.40202941 10.84471509 -2.06001325]| Следующая точка [39.10795216 30.8120046  25.94151547 12.86498442 -2.30214304]\n",
            "MSE 1931.9222400828062\n",
            "--------------------------------------------------------\n",
            "Итерация: 5\n",
            "Текущая точка [39.10795216 30.8120046  25.94151547 12.86498442 -2.30214304]| Следующая точка [42.8999458  34.70086936 28.91118413 14.6321765  -2.46889448]\n",
            "MSE 1387.0040664906421\n",
            "--------------------------------------------------------\n",
            "Итерация: 6\n",
            "Текущая точка [42.8999458  34.70086936 28.91118413 14.6321765  -2.46889448]| Следующая точка [45.95419736 38.04279216 31.40339917 16.16788817 -2.57504099]\n",
            "MSE 1006.0899187520283\n",
            "--------------------------------------------------------\n",
            "Итерация: 7\n",
            "Текущая точка [45.95419736 38.04279216 31.40339917 16.16788817 -2.57504099]| Следующая точка [48.42186138 40.91052058 33.49555668 17.49507148 -2.63343403]\n",
            "MSE 738.8060039075306\n",
            "--------------------------------------------------------\n",
            "Итерация: 8\n",
            "Текущая точка [48.42186138 40.91052058 33.49555668 17.49507148 -2.63343403]| Следующая точка [50.42148205 43.36832699 35.25248994 18.63662244 -2.65498752]\n",
            "MSE 550.6561006176498\n",
            "--------------------------------------------------------\n",
            "Итерация: 9\n",
            "Текущая точка [50.42148205 43.36832699 35.25248994 18.63662244 -2.65498752]| Следующая точка [52.04636149 45.47263149 36.7284959  19.61448849 -2.64878917]\n",
            "MSE 417.8549869122936\n",
            "--------------------------------------------------------\n",
            "Итерация: 10\n",
            "Текущая точка [52.04636149 45.47263149 36.7284959  19.61448849 -2.64878917]| Следующая точка [53.37019893 47.27270499 37.96904019 20.44914032 -2.62227769]\n",
            "MSE 323.907204854645\n",
            "--------------------------------------------------------\n",
            "Итерация: 11\n",
            "Текущая точка [53.37019893 47.27270499 37.96904019 20.44914032 -2.62227769]| Следующая точка [54.45141845 48.81139396 39.01219008 21.1592957  -2.58144728]\n",
            "MSE 257.3166668961423\n",
            "--------------------------------------------------------\n",
            "Итерация: 12\n",
            "Текущая точка [54.45141845 48.81139396 39.01219008 21.1592957  -2.58144728]| Следующая точка [55.33650004 50.12582934 39.88981729 21.76181406 -2.53105516]\n",
            "MSE 210.03836939465597\n",
            "--------------------------------------------------------\n",
            "Итерация: 13\n",
            "Текущая точка [55.33650004 50.12582934 39.88981729 21.76181406 -2.53105516]| Следующая точка [56.06255115 51.24809716 40.62860694 22.27170356 -2.47481859]\n",
            "MSE 176.4228514139173\n",
            "--------------------------------------------------------\n",
            "Итерация: 14\n",
            "Текущая точка [56.06255115 51.24809716 40.62860694 22.27170356 -2.47481859]| Следующая точка [56.65929839 52.20585828 41.25090327 22.70219922 -2.41559373]\n",
            "MSE 152.49129806002202\n",
            "--------------------------------------------------------\n",
            "Итерация: 15\n",
            "Текущая точка [56.65929839 52.20585828 41.25090327 22.70219922 -2.41559373]| Следующая точка [57.15063499 53.02291165 41.77541792 23.06488303 -2.35553336]\n",
            "MSE 135.4345952200434\n",
            "--------------------------------------------------------\n",
            "Итерация: 16\n",
            "Текущая точка [57.15063499 53.02291165 41.77541792 23.06488303 -2.35553336]| Следующая точка [57.55582741 53.71969964 42.21782313 23.3698259  -2.29622284]\n",
            "MSE 123.26530927825932\n",
            "--------------------------------------------------------\n",
            "Итерация: 17\n",
            "Текущая точка [57.55582741 53.71969964 42.21782313 23.3698259  -2.29622284]| Следующая точка [57.89045924 54.31375717 42.59124804 23.62573786 -2.2387952 ]\n",
            "MSE 114.57482521743945\n",
            "--------------------------------------------------------\n",
            "Итерация: 18\n",
            "Текущая точка [57.89045924 54.31375717 42.59124804 23.62573786 -2.2387952 ]| Следующая точка [58.16717236 54.82010769 42.90669406 23.84011751 -2.18402727]\n",
            "MSE 108.3632296669473\n",
            "--------------------------------------------------------\n",
            "Итерация: 19\n",
            "Текущая точка [58.16717236 54.82010769 42.90669406 23.84011751 -2.18402727]| Следующая точка [58.39625082 55.25161031 43.17338224 24.01939505 -2.13241891]\n",
            "MSE 103.91977162382656\n",
            "--------------------------------------------------------\n",
            "Итерация: 20\n",
            "Текущая точка [58.39625082 55.25161031 43.17338224 24.01939505 -2.13241891]| Следующая точка [58.58608266 55.61926249 43.39904384 24.16906562 -2.08425763]\n",
            "MSE 100.73863892376883\n",
            "--------------------------------------------------------\n",
            "Итерация: 21\n",
            "Текущая точка [58.58608266 55.61926249 43.39904384 24.16906562 -2.08425763]| Следующая точка [58.74352627 55.93246299 43.59016329 24.29381107 -2.03967075]\n",
            "MSE 98.45948265070288\n",
            "--------------------------------------------------------\n",
            "Итерация: 22\n",
            "Текущая точка [58.74352627 55.93246299 43.59016329 24.29381107 -2.03967075]| Следующая точка [58.87420226 56.1992396  43.75218136 24.39760973 -1.99866711]\n",
            "MSE 96.82533656557285\n",
            "--------------------------------------------------------\n",
            "Итерация: 23\n",
            "Текущая точка [58.87420226 56.1992396  43.75218136 24.39760973 -1.99866711]| Следующая точка [58.98272662 56.42644562 43.88966508 24.48383401 -1.96117004]\n",
            "MSE 95.65279460128866\n",
            "--------------------------------------------------------\n",
            "Итерация: 24\n",
            "Текущая точка [58.98272662 56.42644562 43.88966508 24.48383401 -1.96117004]| Следующая точка [59.07289774 56.61992931 44.00644977 24.55533657 -1.92704328]\n",
            "MSE 94.81084525169737\n",
            "--------------------------------------------------------\n",
            "Итерация: 25\n",
            "Текущая точка [59.07289774 56.61992931 44.00644977 24.55533657 -1.92704328]| Следующая точка [59.14784688 56.78467946 44.10575783 24.61452568 -1.89611097]\n",
            "MSE 94.20583098575993\n",
            "--------------------------------------------------------\n",
            "Итерация: 26\n",
            "Текущая точка [59.14784688 56.78467946 44.10575783 24.61452568 -1.89611097]| Следующая точка [59.21015955 56.9249504  44.19029817 24.66343085 -1.86817307]\n",
            "MSE 93.77074823912528\n",
            "--------------------------------------------------------\n",
            "Итерация: 27\n",
            "Текущая точка [59.21015955 56.9249504  44.19029817 24.66343085 -1.86817307]| Следующая точка [59.26197383 57.04436924 44.26234925 24.70375952 -1.8430169 ]\n",
            "MSE 93.45762768740872\n",
            "--------------------------------------------------------\n",
            "Итерация: 28\n",
            "Текущая точка [59.26197383 57.04436924 44.26234925 24.70375952 -1.8430169 ]| Следующая точка [59.3050602  57.14602762 44.32382866 24.73694599 -1.82042578]\n",
            "MSE 93.23210310542905\n",
            "--------------------------------------------------------\n",
            "Итерация: 29\n",
            "Текущая точка [59.3050602  57.14602762 44.32382866 24.73694599 -1.82042578]| Следующая точка [59.34088647 57.23256032 44.37635126 24.76419334 -1.8001853 ]\n",
            "MSE 93.0695369382762\n",
            "--------------------------------------------------------\n",
            "Итерация: 30\n",
            "Текущая точка [59.34088647 57.23256032 44.37635126 24.76419334 -1.8001853 ]| Следующая точка [59.3706709  57.30621236 44.42127792 24.78650929 -1.78208767]\n",
            "MSE 92.95225422283873\n",
            "--------------------------------------------------------\n",
            "Итерация: 31\n",
            "Текущая точка [59.3706709  57.30621236 44.42127792 24.78650929 -1.78208767]| Следующая точка [59.39542553 57.36889645 44.45975624 24.80473686 -1.76593481]\n",
            "MSE 92.86756633726898\n",
            "--------------------------------------------------------\n",
            "Итерация: 32\n",
            "Текущая точка [59.39542553 57.36889645 44.45975624 24.80473686 -1.76593481]| Следующая точка [59.41599184 57.42224197 44.49275474 24.8195803  -1.75154016]\n",
            "MSE 92.80635805630786\n",
            "--------------------------------------------------------\n",
            "Итерация: 33\n",
            "Текущая точка [59.41599184 57.42224197 44.49275474 24.8195803  -1.75154016]| Следующая точка [59.43306995 57.46763676 44.5210914  24.83162725 -1.73872982]\n",
            "MSE 92.76207666444272\n",
            "--------------------------------------------------------\n",
            "Итерация: 34\n",
            "Текущая точка [59.43306995 57.46763676 44.5210914  24.83162725 -1.73872982]| Следующая точка [59.44724279 57.50626287 44.54545765 24.84136737 -1.727343  ]\n",
            "MSE 92.7300082439208\n",
            "--------------------------------------------------------\n",
            "Итерация: 35\n",
            "Текущая точка [59.44724279 57.50626287 44.54545765 24.84136737 -1.727343  ]| Следующая точка [59.45899592 57.53912698 44.56643846 24.84920822 -1.71723203]\n",
            "MSE 92.70675922222414\n",
            "--------------------------------------------------------\n",
            "Итерация: 36\n",
            "Текущая точка [59.45899592 57.53912698 44.56643846 24.84920822 -1.71723203]| Следующая точка [59.46873398 57.56708635 44.58452915 24.85548855 -1.70826207]\n",
            "MSE 92.68988472679757\n",
            "--------------------------------------------------------\n",
            "Итерация: 37\n",
            "Текущая точка [59.46873398 57.56708635 44.58452915 24.85548855 -1.70826207]| Следующая точка [59.47679431 57.59087096 44.60014958 24.86048955 -1.70031058]\n",
            "MSE 92.67762200788438\n",
            "--------------------------------------------------------\n",
            "Итерация: 38\n",
            "Текущая точка [59.47679431 57.59087096 44.60014958 24.86048955 -1.70031058]| Следующая точка [59.48345818 57.61110234 44.61365591 24.86444433 -1.69326667]\n",
            "MSE 92.66869910455931\n",
            "--------------------------------------------------------\n",
            "Итерация: 39\n",
            "Текущая точка [59.48345818 57.61110234 44.61365591 24.86444433 -1.69326667]| Следующая точка [59.48896018 57.62830972 44.62535067 24.86754585 -1.68703034]\n",
            "MSE 92.6621974285957\n",
            "--------------------------------------------------------\n",
            "Итерация: 40\n",
            "Текущая точка [59.48896018 57.62830972 44.62535067 24.86754585 -1.68703034]| Следующая точка [59.49349594 57.64294363 44.63549103 24.8699536  -1.68151169]\n",
            "MSE 92.65745300854616\n",
            "--------------------------------------------------------\n",
            "Итерация: 41\n",
            "Текущая точка [59.49349594 57.64294363 44.63549103 24.8699536  -1.68151169]| Следующая точка [59.49722865 57.65538766 44.64429587 24.87179919 -1.67663011]\n",
            "MSE 92.65398547098278\n",
            "--------------------------------------------------------\n",
            "Итерация: 42\n",
            "Текущая точка [59.49722865 57.65538766 44.64429587 24.87179919 -1.67663011]| Следующая точка [59.50029441 57.66596832 44.65195173 24.87319104 -1.67231349]\n",
            "MSE 92.65144693426754\n",
            "--------------------------------------------------------\n",
            "Итерация: 43\n",
            "Текущая точка [59.50029441 57.66596832 44.65195173 24.87319104 -1.67231349]| Следующая точка [59.5028067  57.67496359 44.65861769 24.8742183  -1.66849746]\n",
            "MSE 92.64958520640195\n",
            "--------------------------------------------------------\n",
            "Итерация: 44\n",
            "Текущая точка [59.5028067  57.67496359 44.65861769 24.8742183  -1.66849746]| Следующая точка [59.50486012 57.68261005 44.66442966 24.87495413 -1.66512467]\n",
            "MSE 92.64821726459806\n",
            "--------------------------------------------------------\n",
            "Итерация: 45\n",
            "Текущая точка [59.50486012 57.68261005 44.66442966 24.87495413 -1.66512467]| Следующая точка [59.50653352 57.68910909 44.66950384 24.87545843 -1.66214407]\n",
            "MSE 92.64721013003991\n",
            "--------------------------------------------------------\n",
            "Итерация: 46\n",
            "Текущая точка [59.50653352 57.68910909 44.66950384 24.87545843 -1.66214407]| Следующая точка [59.50789259 57.6946321  44.67393975 24.87578011 -1.65951032]\n",
            "MSE 92.64646706515492\n",
            "--------------------------------------------------------\n",
            "Итерация: 47\n",
            "Текущая точка [59.50789259 57.6946321  44.67393975 24.87578011 -1.65951032]| Следующая точка [59.50899202 57.69932497 44.6778227  24.87595901 -1.65718319]\n",
            "MSE 92.6459176042064\n",
            "--------------------------------------------------------\n",
            "Итерация: 48\n",
            "Текущая точка [59.50899202 57.69932497 44.6778227  24.87595901 -1.65718319]| Следующая точка [59.50987733 57.70331183 44.68122591 24.87602749 -1.65512699]\n",
            "MSE 92.64551034659183\n",
            "--------------------------------------------------------\n",
            "Итерация: 49\n",
            "Текущая точка [59.50987733 57.70331183 44.68122591 24.87602749 -1.65512699]| Следующая точка [59.51058637 57.70669831 44.68421236 24.87601171 -1.65331012]\n",
            "MSE 92.64520774267298\n",
            "--------------------------------------------------------\n",
            "Итерация: 50\n",
            "Текущая точка [59.51058637 57.70669831 44.68421236 24.87601171 -1.65331012]| Следующая точка [59.5111506  57.70957431 44.68683624 24.87593277 -1.65170463]\n",
            "MSE 92.64498231774263\n",
            "--------------------------------------------------------\n",
            "Итерация: 51\n",
            "Текущая точка [59.5111506  57.70957431 44.68683624 24.87593277 -1.65170463]| Следующая точка [59.51159614 57.7120163  44.68914426 24.87580759 -1.65028579]\n",
            "MSE 92.64481393479264\n",
            "--------------------------------------------------------\n",
            "Итерация: 52\n",
            "Текущая точка [59.51159614 57.7120163  44.68914426 24.87580759 -1.65028579]| Следующая точка [59.51194465 57.71408934 44.69117675 24.87564965 -1.64903173]\n",
            "MSE 92.64468780824613\n",
            "--------------------------------------------------------\n",
            "Итерация: 53\n",
            "Текущая точка [59.51194465 57.71408934 44.69117675 24.87564965 -1.64903173]| Следующая точка [59.51221409 57.71584881 44.69296856 24.87546966 -1.64792314]\n",
            "MSE 92.64459306103737\n",
            "--------------------------------------------------------\n",
            "Итерация: 54\n",
            "Текущая точка [59.51221409 57.71584881 44.69296856 24.87546966 -1.64792314]| Следующая точка [59.5124193  57.71734177 44.69454986 24.87527603 -1.64694298]\n",
            "MSE 92.64452167517666\n",
            "--------------------------------------------------------\n",
            "Итерация: 55\n",
            "Текущая точка [59.5124193  57.71734177 44.69454986 24.87527603 -1.64694298]| Следующая точка [59.51257255 57.71860828 44.6959468  24.87507531 -1.64607619]\n",
            "MSE 92.64446772754467\n",
            "--------------------------------------------------------\n",
            "Итерация: 56\n",
            "Текущая точка [59.51257255 57.71860828 44.6959468  24.87507531 -1.64607619]| Следующая точка [59.51268398 57.7196824  44.69718209 24.87487257 -1.64530948]\n",
            "MSE 92.64442683265158\n",
            "--------------------------------------------------------\n",
            "Итерация: 57\n",
            "Текущая точка [59.51268398 57.7196824  44.69718209 24.87487257 -1.64530948]| Следующая точка [59.5127619  57.72059311 44.69827546 24.87467163 -1.64463114]\n",
            "MSE 92.64439573573442\n",
            "--------------------------------------------------------\n",
            "Итерация: 58\n",
            "Текущая точка [59.5127619  57.72059311 44.69827546 24.87467163 -1.64463114]| Следующая точка [59.51281319 57.72136501 44.69924408 24.87447536 -1.64403083]\n",
            "MSE 92.64437201518265\n",
            "--------------------------------------------------------\n",
            "Итерация: 59\n",
            "Текущая точка [59.51281319 57.72136501 44.69924408 24.87447536 -1.64403083]| Следующая точка [59.51284344 57.72201907 44.70010292 24.87428582 -1.64349942]\n",
            "MSE 92.64435386456744\n",
            "--------------------------------------------------------\n",
            "Итерация: 60\n",
            "Текущая точка [59.51284344 57.72201907 44.70010292 24.87428582 -1.64349942]| Следующая точка [59.51285724 57.72257307 44.70086505 24.87410447 -1.64302888]\n",
            "MSE 92.64433993270393\n",
            "--------------------------------------------------------\n",
            "Итерация: 61\n",
            "Текущая точка [59.51285724 57.72257307 44.70086505 24.87410447 -1.64302888]| Следующая точка [59.51285835 57.72304216 44.70154189 24.87393226 -1.6426121 ]\n",
            "MSE 92.64432920608358\n",
            "--------------------------------------------------------\n",
            "Итерация: 62\n",
            "Текущая точка [59.51285835 57.72304216 44.70154189 24.87393226 -1.6426121 ]| Следующая точка [59.51284979 57.72343918 44.70214342 24.87376976 -1.64224283]\n",
            "MSE 92.64432092228199\n",
            "--------------------------------------------------------\n",
            "Итерация: 63\n",
            "Текущая точка [59.51284979 57.72343918 44.70214342 24.87376976 -1.64224283]| Следующая точка [59.51283403 57.72377508 44.7026784  24.87361724 -1.64191556]\n",
            "MSE 92.64431450605198\n",
            "--------------------------------------------------------\n",
            "Итерация: 64\n",
            "Текущая точка [59.51283403 57.72377508 44.7026784  24.87361724 -1.64191556]| Следующая точка [59.51281304 57.72405912 44.70315452 24.87347473 -1.6416254 ]\n",
            "MSE 92.64430952205501\n",
            "--------------------------------------------------------\n",
            "Итерация: 65\n",
            "Текущая точка [59.51281304 57.72405912 44.70315452 24.87347473 -1.6416254 ]| Следующая точка [59.51278841 57.7242992  44.70357851 24.87334211 -1.64136808]\n",
            "MSE 92.64430563981959\n",
            "--------------------------------------------------------\n",
            "Итерация: 66\n",
            "Текущая точка [59.51278841 57.7242992  44.70357851 24.87334211 -1.64136808]| Следующая точка [59.5127614  57.72450202 44.70395632 24.87321911 -1.64113979]\n",
            "MSE 92.64430260770112\n",
            "--------------------------------------------------------\n",
            "Итерация: 67\n",
            "Текущая точка [59.5127614  57.72450202 44.70395632 24.87321911 -1.64113979]| Следующая точка [59.51273299 57.72467326 44.70429315 24.87310537 -1.64093719]\n",
            "MSE 92.64430023348214\n",
            "--------------------------------------------------------\n",
            "Итерация: 68\n",
            "Текущая точка [59.51273299 57.72467326 44.70429315 24.87310537 -1.64093719]| Следующая точка [59.51270398 57.72481775 44.70459363 24.87300046 -1.64075733]\n",
            "MSE 92.64429836988138\n",
            "--------------------------------------------------------\n",
            "Итерация: 69\n",
            "Текущая точка [59.51270398 57.72481775 44.70459363 24.87300046 -1.64075733]| Следующая точка [59.51267495 57.7249396  44.70486179 24.87290393 -1.64059761]\n",
            "MSE 92.64429690370075\n",
            "--------------------------------------------------------\n",
            "Итерация: 70\n",
            "Текущая точка [59.51267495 57.7249396  44.70486179 24.87290393 -1.64059761]| Следующая точка [59.51264637 57.72504227 44.70510124 24.87281529 -1.64045571]\n",
            "MSE 92.6442957476727\n",
            "--------------------------------------------------------\n",
            "Итерация: 71\n",
            "Текущая точка [59.51264637 57.72504227 44.70510124 24.87281529 -1.64045571]| Следующая точка [59.51261856 57.72512872 44.70531515 24.87273404 -1.64032962]\n",
            "MSE 92.64429483431935\n",
            "--------------------------------------------------------\n",
            "Итерация: 72\n",
            "Текущая точка [59.51261856 57.72512872 44.70531515 24.87273404 -1.64032962]| Следующая точка [59.51259179 57.72520146 44.70550631 24.8726597  -1.64021752]\n",
            "MSE 92.64429411131273\n",
            "--------------------------------------------------------\n",
            "Итерация: 73\n",
            "Текущая точка [59.51259179 57.72520146 44.70550631 24.8726597  -1.64021752]| Следующая точка [59.51256621 57.7252626  44.70567721 24.87259177 -1.64011783]\n",
            "MSE 92.64429353795867\n",
            "--------------------------------------------------------\n",
            "Итерация: 74\n",
            "Текущая точка [59.51256621 57.7252626  44.70567721 24.87259177 -1.64011783]| Следующая точка [59.51254194 57.72531395 44.70583007 24.87252978 -1.64002916]\n",
            "MSE 92.64429308252382\n",
            "--------------------------------------------------------\n",
            "Итерация: 75\n",
            "Текущая точка [59.51254194 57.72531395 44.70583007 24.87252978 -1.64002916]| Следующая точка [59.51251904 57.72535702 44.70596682 24.87247329 -1.63995024]\n",
            "MSE 92.64429272019781\n",
            "--------------------------------------------------------\n",
            "Итерация: 76\n",
            "Текущая точка [59.51251904 57.72535702 44.70596682 24.87247329 -1.63995024]| Следующая точка [59.51249755 57.72539312 44.70608921 24.87242186 -1.63988   ]\n",
            "MSE 92.64429243153425\n",
            "--------------------------------------------------------\n",
            "Итерация: 77\n",
            "Текущая точка [59.51249755 57.72539312 44.70608921 24.87242186 -1.63988   ]| Следующая точка [59.51247745 57.72542332 44.70619878 24.87237508 -1.63981745]\n",
            "MSE 92.64429220125481\n",
            "--------------------------------------------------------\n",
            "Итерация: 78\n",
            "Текущая точка [59.51247745 57.72542332 44.70619878 24.87237508 -1.63981745]| Следующая точка [59.51245872 57.72544857 44.7062969  24.87233258 -1.63976173]\n",
            "MSE 92.64429201732877\n",
            "--------------------------------------------------------\n",
            "Итерация: 79\n",
            "Текущая точка [59.51245872 57.72544857 44.7062969  24.87233258 -1.63976173]| Следующая точка [59.51244134 57.72546964 44.70638478 24.87229399 -1.63971209]\n",
            "MSE 92.64429187026262\n",
            "--------------------------------------------------------\n",
            "Итерация: 80\n",
            "Текущая точка [59.51244134 57.72546964 44.70638478 24.87229399 -1.63971209]| Следующая точка [59.51242524 57.72548719 44.70646353 24.87225898 -1.63966784]\n",
            "MSE 92.64429175254992\n",
            "--------------------------------------------------------\n"
          ]
        }
      ]
    },
    {
      "cell_type": "markdown",
      "source": [
        "Вышли раньше из обучения, т.к. веса перестали сильно изменяться и мы стали топтаться на одном месте."
      ],
      "metadata": {
        "id": "r2s0LuwhMWAg"
      }
    },
    {
      "cell_type": "markdown",
      "source": [
        "И получили точно такую же метрику, которая получалась у `LinearRegression` из `sklearn`.\n",
        "\n",
        "И давайте сравним полученные коэффициенты с теми, которые были сгенерированы вместе с данными."
      ],
      "metadata": {
        "id": "3IfMej7yCPlC"
      }
    },
    {
      "cell_type": "code",
      "source": [
        "print('Веса при признаках')\n",
        "print(f'True {coeffs},\\nTrained {next_weights[:-1]}')\n",
        "\n",
        "print('\\nВес свободный', end=' ')\n",
        "print(f'True 0, trained {next_weights[-1]}')"
      ],
      "metadata": {
        "colab": {
          "base_uri": "https://localhost:8080/"
        },
        "outputId": "1837b72c-7dbd-4acc-dfd5-32b48d685a9d",
        "id": "iaxxRtstCPlD"
      },
      "execution_count": null,
      "outputs": [
        {
          "output_type": "stream",
          "name": "stdout",
          "text": [
            "Веса при признаках\n",
            "True [59.32158596 58.74342238 44.07539836 25.03682142],\n",
            "Trained [59.51242524 57.72548719 44.70646353 24.87225898]\n",
            "\n",
            "Вес свободный True 0, trained -1.6396678387172876\n"
          ]
        }
      ]
    },
    {
      "cell_type": "markdown",
      "source": [
        "## Практика\n",
        "Практика доступна на платформе https://boosty.to/machine_learrrning/posts/f3212700-6f98-4c2f-9627-7629d9d8114d\n",
        "\n",
        "Доступна\n",
        "1. по подписке уровня light+ и выше\n",
        "2. разовая оплата\n"
      ],
      "metadata": {
        "id": "NizN0jCYQojn"
      }
    },
    {
      "cell_type": "markdown",
      "source": [
        "## Summary\n",
        "\n",
        "Вот мы и разобрались, как обучается модель линейная регрессия\n",
        "1. Для одного признака\n",
        "    - Ищется вес при признаке, он же коэффициент наклона y=**a**x + b\n",
        "    - Ищется свободный вес, он же коэффициент сдвига y=ax + **b**\n",
        "2. Для большого количества признаков\n",
        "    - Ищутся веса при признаках, они же коэффициенты наклона для каждого признака y=X**w** + w_0\n",
        "    - Ищется свободный вес, он же коэффициент сдвига y=Xw + **w_0**\n",
        "    - При этом свободный вес можно положить в матричное перемножение Xw, если создадим фиктивный признак\n",
        "3. Обучение линейной регрессии производится с помощью **градиентного спуска**\n",
        "    - Градиент - вектор частных производных\n",
        "    - Градиентный спуск - итеративный процесс нахождения минимума функции"
      ],
      "metadata": {
        "id": "NLm3MFeQNENl"
      }
    },
    {
      "cell_type": "markdown",
      "source": [
        "Муррр ♥"
      ],
      "metadata": {
        "id": "vlQTlmerl-KD"
      }
    }
  ]
}