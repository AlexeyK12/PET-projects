{
 "cells": [
  {
   "cell_type": "markdown",
   "id": "2730940c",
   "metadata": {},
   "source": [
    "# Исследовательский анализ населения мира 1980-2022"
   ]
  },
  {
   "cell_type": "markdown",
   "id": "9bd28e50",
   "metadata": {},
   "source": [
    "## О наборе данных\n",
    "\n",
    "Текущая оценка мирового населения Бюро переписи населения США в июне 2019 года показывает, что в настоящее время население планеты составляет 7 577 130 400 человек на земле, что намного превышает мировое население в 7,2 миллиарда человек в 2015 году. Наша собственная оценка, основанная на данных ООН, показывает, что население мира превышает 7,7 миллиарда человек.\n",
    "\n",
    "Китай - самая густонаселенная страна в мире с населением более 1,4 миллиарда человек. Это одна из двух стран с населением более 1 миллиарда человек, причем Индия является второй. По состоянию на 2018 год население Индии составляет более 1,355 миллиарда человек, и ожидается, что рост населения продолжится как минимум до 2050 года. Ожидается, что к 2030 году Индия станет самой густонаселенной страной в мире. Это связано с тем, что население Индии будет расти, в то время как в Китае, по прогнозам, произойдет сокращение численности населения.\n",
    "\n",
    "В следующих 11 странах, которые являются самыми густонаселенными в мире, население каждой превышает 100 миллионов человек. К ним относятся Соединенные Штаты, Индонезия, Бразилия, Пакистан, Нигерия, Бангладеш, Россия, Мексика, Япония, Эфиопия и Филиппины. В 2018 году темпы роста населения в мире составили 1,12%. Каждые пять лет, начиная с 1970-х годов, темпы роста населения продолжали падать. Ожидается, что население мира продолжит расти, но гораздо более медленными темпами. К 2030 году население превысит 8 миллиардов человек. В 2040 году это число вырастет до более чем 9 миллиардов. В 2055 году их число возрастет до более чем 10 миллиардов, и еще один миллиард человек не будет добавлен до конца столетия.\n",
    "\n",
    "Во многих других странах население составляет не менее миллиона человек, в то время как в некоторых странах их всего тысячи. Наименьшее население в мире находится в Ватикане, где проживает всего 801 человек.\n",
    "\n",
    "В 2018 году темпы роста населения в мире составили 1,12%. Каждые пять лет, начиная с 1970-х годов, темпы роста населения продолжали падать. Ожидается, что население мира продолжит расти, но гораздо более медленными темпами. К 2030 году население превысит 8 миллиардов человек. В 2040 году это число вырастет до более чем 9 миллиардов. В 2055 году их число возрастет до более чем 10 миллиардов, и еще один миллиард человек не будет добавлен до конца столетия. Текущие оценки ежегодного прироста населения от Организации Объединенных Наций исчисляются миллионами - по оценкам, каждый год добавляется более 80 миллионов новых жизней.\n",
    "\n",
    "На этот рост населения существенное влияние окажут девять конкретных стран, которые расположены так, чтобы способствовать росту населения быстрее, чем другие страны. К этим странам относятся Демократическая Республика Конго, Эфиопия, Индия, Индонезия, Нигерия, Пакистан, Уганда, Объединенная Республика Танзания и Соединенные Штаты Америки. Особый интерес представляет то, что Индия находится на пути к тому, чтобы обогнать Китай как самую густонаселенную страну к 2030 году. Кроме того, ожидается, что несколько стран в Африке удвоят свое население, прежде чем показатели рождаемости начнут полностью замедляться.\n",
    "\n",
    "Содержание\n",
    "В этом наборе данных у нас есть исторические данные о населении для каждой страны / территории в мире по различным параметрам, таким как размер территории страны / территории, название континента, название столицы, плотность, темпы роста населения, рейтинг на основе населения, процент населения в мире и т.д.\n",
    "\n",
    "Глоссарий набора данных (по столбцам)\n",
    "Ранг: ранг по населению.\n",
    "CCA3: 3-значный код страны / территории.\n",
    "Страна: Название страны /территорий.\n",
    "Столица: название столицы.\n",
    "Континент: название континента.\n",
    "Население 2022 года: население страны / территорий в 2022 году.\n",
    "Население 2020 года: население страны / территорий в 2020 году.\n",
    "Население 2015 года: население страны / территорий в 2015 году.\n",
    "Население 2010 года: население страны / территорий в 2010 году.\n",
    "Население 2000 года: население страны / территорий в 2000 году.\n",
    "Население 1990 года: население страны / территорий в 1990 году.\n",
    "Население 1980 года: население страны / территорий в 1980 году.\n",
    "Население 1970 года: население страны / территорий в 1970 году.\n",
    "Площадь (км2): площадь страны /территорий в квадратных километрах.\n",
    "Плотность (на км2): плотность населения на квадратный километр.\n",
    "Темпы роста: темпы роста населения по странам / территориям.\n",
    "Процент населения мира: процент населения по каждой стране / территории."
   ]
  },
  {
   "cell_type": "code",
   "execution_count": 1,
   "id": "5bd47648",
   "metadata": {
    "scrolled": true
   },
   "outputs": [],
   "source": [
    "#!pip install kaleido"
   ]
  },
  {
   "cell_type": "code",
   "execution_count": 2,
   "id": "3131c7be",
   "metadata": {},
   "outputs": [],
   "source": [
    "import pandas as pd\n",
    "import seaborn as sns\n",
    "import matplotlib.pyplot as plt\n",
    "import plotly.express  as px"
   ]
  },
  {
   "cell_type": "code",
   "execution_count": 3,
   "id": "3f405540",
   "metadata": {},
   "outputs": [],
   "source": [
    "df = pd.read_csv(r'\\Users\\123123\\Downloads\\Тестовые задания\\datasets\\world_population.csv')"
   ]
  },
  {
   "cell_type": "code",
   "execution_count": 4,
   "id": "005b6e5d",
   "metadata": {},
   "outputs": [],
   "source": [
    "# переименуем столбцы и удалим ненужные\n",
    "df.columns = df.columns.str.lower()\n",
    "df = (df.rename(columns={'2022 population':'pop_2022', '2020 population':'pop_2020', '2015 population':'pop_2015',\n",
    "                         '2010 population':'pop_2010', '2000 population':'pop_2000', '1990 population':'pop_1990',\n",
    "                         '1980 population':'pop_1980', '1970 population':'pop_1970'})\n",
    ")\n",
    "\n",
    "df = df.drop(columns=['cca3', 'pop_1970'])"
   ]
  },
  {
   "cell_type": "code",
   "execution_count": 5,
   "id": "b0bbbb8e",
   "metadata": {
    "scrolled": true
   },
   "outputs": [],
   "source": [
    "# сократим значения для удобства чтения\n",
    "population = ['pop_2022', 'pop_2020', 'pop_2015', 'pop_2010', 'pop_2000', 'pop_1990', 'pop_1980']\n",
    "\n",
    "for i in population:\n",
    "    df[i] = df[i] / 1000\n",
    "    df[i] = df[i].round()\n",
    "    df[i] = df[i].astype(int)"
   ]
  },
  {
   "cell_type": "code",
   "execution_count": 6,
   "id": "e8044467",
   "metadata": {},
   "outputs": [
    {
     "data": {
      "text/html": [
       "<div>\n",
       "<style scoped>\n",
       "    .dataframe tbody tr th:only-of-type {\n",
       "        vertical-align: middle;\n",
       "    }\n",
       "\n",
       "    .dataframe tbody tr th {\n",
       "        vertical-align: top;\n",
       "    }\n",
       "\n",
       "    .dataframe thead th {\n",
       "        text-align: right;\n",
       "    }\n",
       "</style>\n",
       "<table border=\"1\" class=\"dataframe\">\n",
       "  <thead>\n",
       "    <tr style=\"text-align: right;\">\n",
       "      <th></th>\n",
       "      <th>rank</th>\n",
       "      <th>country</th>\n",
       "      <th>capital</th>\n",
       "      <th>continent</th>\n",
       "      <th>pop_2022</th>\n",
       "      <th>pop_2020</th>\n",
       "      <th>pop_2015</th>\n",
       "      <th>pop_2010</th>\n",
       "      <th>pop_2000</th>\n",
       "      <th>pop_1990</th>\n",
       "      <th>pop_1980</th>\n",
       "      <th>area (km²)</th>\n",
       "      <th>density (per km²)</th>\n",
       "      <th>growth rate</th>\n",
       "      <th>world population percentage</th>\n",
       "    </tr>\n",
       "  </thead>\n",
       "  <tbody>\n",
       "    <tr>\n",
       "      <th>0</th>\n",
       "      <td>1</td>\n",
       "      <td>China</td>\n",
       "      <td>Beijing</td>\n",
       "      <td>Asia</td>\n",
       "      <td>1425887</td>\n",
       "      <td>1424930</td>\n",
       "      <td>1393715</td>\n",
       "      <td>1348191</td>\n",
       "      <td>1264099</td>\n",
       "      <td>1153704</td>\n",
       "      <td>982372</td>\n",
       "      <td>9706961</td>\n",
       "      <td>146.8933</td>\n",
       "      <td>1.0000</td>\n",
       "      <td>17.88</td>\n",
       "    </tr>\n",
       "    <tr>\n",
       "      <th>1</th>\n",
       "      <td>2</td>\n",
       "      <td>India</td>\n",
       "      <td>New Delhi</td>\n",
       "      <td>Asia</td>\n",
       "      <td>1417173</td>\n",
       "      <td>1396387</td>\n",
       "      <td>1322867</td>\n",
       "      <td>1240614</td>\n",
       "      <td>1059634</td>\n",
       "      <td>870452</td>\n",
       "      <td>696828</td>\n",
       "      <td>3287590</td>\n",
       "      <td>431.0675</td>\n",
       "      <td>1.0068</td>\n",
       "      <td>17.77</td>\n",
       "    </tr>\n",
       "    <tr>\n",
       "      <th>2</th>\n",
       "      <td>3</td>\n",
       "      <td>United States</td>\n",
       "      <td>Washington, D.C.</td>\n",
       "      <td>North America</td>\n",
       "      <td>338290</td>\n",
       "      <td>335942</td>\n",
       "      <td>324608</td>\n",
       "      <td>311183</td>\n",
       "      <td>282399</td>\n",
       "      <td>248084</td>\n",
       "      <td>223140</td>\n",
       "      <td>9372610</td>\n",
       "      <td>36.0935</td>\n",
       "      <td>1.0038</td>\n",
       "      <td>4.24</td>\n",
       "    </tr>\n",
       "    <tr>\n",
       "      <th>3</th>\n",
       "      <td>4</td>\n",
       "      <td>Indonesia</td>\n",
       "      <td>Jakarta</td>\n",
       "      <td>Asia</td>\n",
       "      <td>275501</td>\n",
       "      <td>271858</td>\n",
       "      <td>259092</td>\n",
       "      <td>244016</td>\n",
       "      <td>214072</td>\n",
       "      <td>182160</td>\n",
       "      <td>148177</td>\n",
       "      <td>1904569</td>\n",
       "      <td>144.6529</td>\n",
       "      <td>1.0064</td>\n",
       "      <td>3.45</td>\n",
       "    </tr>\n",
       "    <tr>\n",
       "      <th>4</th>\n",
       "      <td>5</td>\n",
       "      <td>Pakistan</td>\n",
       "      <td>Islamabad</td>\n",
       "      <td>Asia</td>\n",
       "      <td>235825</td>\n",
       "      <td>227197</td>\n",
       "      <td>210969</td>\n",
       "      <td>194454</td>\n",
       "      <td>154370</td>\n",
       "      <td>115414</td>\n",
       "      <td>80624</td>\n",
       "      <td>881912</td>\n",
       "      <td>267.4018</td>\n",
       "      <td>1.0191</td>\n",
       "      <td>2.96</td>\n",
       "    </tr>\n",
       "  </tbody>\n",
       "</table>\n",
       "</div>"
      ],
      "text/plain": [
       "   rank        country           capital      continent  pop_2022  pop_2020  \\\n",
       "0     1          China           Beijing           Asia   1425887   1424930   \n",
       "1     2          India         New Delhi           Asia   1417173   1396387   \n",
       "2     3  United States  Washington, D.C.  North America    338290    335942   \n",
       "3     4      Indonesia           Jakarta           Asia    275501    271858   \n",
       "4     5       Pakistan         Islamabad           Asia    235825    227197   \n",
       "\n",
       "   pop_2015  pop_2010  pop_2000  pop_1990  pop_1980  area (km²)  \\\n",
       "0   1393715   1348191   1264099   1153704    982372     9706961   \n",
       "1   1322867   1240614   1059634    870452    696828     3287590   \n",
       "2    324608    311183    282399    248084    223140     9372610   \n",
       "3    259092    244016    214072    182160    148177     1904569   \n",
       "4    210969    194454    154370    115414     80624      881912   \n",
       "\n",
       "   density (per km²)  growth rate  world population percentage  \n",
       "0           146.8933       1.0000                        17.88  \n",
       "1           431.0675       1.0068                        17.77  \n",
       "2            36.0935       1.0038                         4.24  \n",
       "3           144.6529       1.0064                         3.45  \n",
       "4           267.4018       1.0191                         2.96  "
      ]
     },
     "execution_count": 6,
     "metadata": {},
     "output_type": "execute_result"
    }
   ],
   "source": [
    "# оставим страны с населением больше 1 млн человек    \n",
    "df = df.query('pop_2022 >= 1000').sort_values('pop_2022', ascending=False).reset_index(drop= True)\n",
    "df.head()"
   ]
  },
  {
   "cell_type": "code",
   "execution_count": 8,
   "id": "19873e16",
   "metadata": {},
   "outputs": [
    {
     "data": {
      "application/vnd.plotly.v1+json": {
       "config": {
        "plotlyServerURL": "https://plot.ly"
       },
       "data": [
        {
         "coloraxis": "coloraxis",
         "geo": "geo",
         "hovertemplate": "<b>%{hovertext}</b><br><br>country=%{location}<br>pop_2022=%{z}<extra></extra>",
         "hovertext": [
          "China",
          "India",
          "United States",
          "Indonesia",
          "Pakistan",
          "Nigeria",
          "Brazil",
          "Bangladesh",
          "Russia",
          "Mexico",
          "Japan",
          "Ethiopia",
          "Philippines",
          "Egypt",
          "DR Congo",
          "Vietnam",
          "Iran",
          "Turkey",
          "Germany",
          "Thailand",
          "United Kingdom",
          "Tanzania",
          "France",
          "South Africa",
          "Italy",
          "Myanmar",
          "Kenya",
          "Colombia",
          "South Korea",
          "Spain",
          "Uganda",
          "Sudan",
          "Argentina",
          "Algeria",
          "Iraq",
          "Afghanistan",
          "Poland",
          "Ukraine",
          "Canada",
          "Morocco",
          "Saudi Arabia",
          "Angola",
          "Uzbekistan",
          "Peru",
          "Malaysia",
          "Yemen",
          "Ghana",
          "Mozambique",
          "Nepal",
          "Madagascar",
          "Venezuela",
          "Ivory Coast",
          "Cameroon",
          "Niger",
          "Australia",
          "North Korea",
          "Taiwan",
          "Burkina Faso",
          "Mali",
          "Syria",
          "Sri Lanka",
          "Malawi",
          "Zambia",
          "Romania",
          "Chile",
          "Kazakhstan",
          "Ecuador",
          "Guatemala",
          "Chad",
          "Somalia",
          "Netherlands",
          "Senegal",
          "Cambodia",
          "Zimbabwe",
          "Guinea",
          "Rwanda",
          "Benin",
          "Burundi",
          "Tunisia",
          "Bolivia",
          "Belgium",
          "Haiti",
          "Jordan",
          "Dominican Republic",
          "Cuba",
          "South Sudan",
          "Sweden",
          "Czech Republic",
          "Honduras",
          "Greece",
          "Azerbaijan",
          "Portugal",
          "Papua New Guinea",
          "Hungary",
          "Tajikistan",
          "Belarus",
          "United Arab Emirates",
          "Israel",
          "Austria",
          "Togo",
          "Switzerland",
          "Sierra Leone",
          "Laos",
          "Hong Kong",
          "Serbia",
          "Nicaragua",
          "Libya",
          "Bulgaria",
          "Paraguay",
          "Kyrgyzstan",
          "Turkmenistan",
          "El Salvador",
          "Singapore",
          "Republic of the Congo",
          "Denmark",
          "Slovakia",
          "Central African Republic",
          "Finland",
          "Lebanon",
          "Norway",
          "Liberia",
          "Palestine",
          "New Zealand",
          "Costa Rica",
          "Ireland",
          "Mauritania",
          "Oman",
          "Panama",
          "Kuwait",
          "Croatia",
          "Georgia",
          "Eritrea",
          "Uruguay",
          "Mongolia",
          "Moldova",
          "Puerto Rico",
          "Bosnia and Herzegovina",
          "Albania",
          "Jamaica",
          "Armenia",
          "Lithuania",
          "Gambia",
          "Qatar",
          "Botswana",
          "Namibia",
          "Gabon",
          "Lesotho",
          "Slovenia",
          "Guinea-Bissau",
          "North Macedonia",
          "Latvia",
          "Equatorial Guinea",
          "Trinidad and Tobago",
          "Bahrain",
          "Timor-Leste",
          "Estonia",
          "Mauritius",
          "Cyprus",
          "Eswatini",
          "Djibouti"
         ],
         "locationmode": "country names",
         "locations": [
          "China",
          "India",
          "United States",
          "Indonesia",
          "Pakistan",
          "Nigeria",
          "Brazil",
          "Bangladesh",
          "Russia",
          "Mexico",
          "Japan",
          "Ethiopia",
          "Philippines",
          "Egypt",
          "DR Congo",
          "Vietnam",
          "Iran",
          "Turkey",
          "Germany",
          "Thailand",
          "United Kingdom",
          "Tanzania",
          "France",
          "South Africa",
          "Italy",
          "Myanmar",
          "Kenya",
          "Colombia",
          "South Korea",
          "Spain",
          "Uganda",
          "Sudan",
          "Argentina",
          "Algeria",
          "Iraq",
          "Afghanistan",
          "Poland",
          "Ukraine",
          "Canada",
          "Morocco",
          "Saudi Arabia",
          "Angola",
          "Uzbekistan",
          "Peru",
          "Malaysia",
          "Yemen",
          "Ghana",
          "Mozambique",
          "Nepal",
          "Madagascar",
          "Venezuela",
          "Ivory Coast",
          "Cameroon",
          "Niger",
          "Australia",
          "North Korea",
          "Taiwan",
          "Burkina Faso",
          "Mali",
          "Syria",
          "Sri Lanka",
          "Malawi",
          "Zambia",
          "Romania",
          "Chile",
          "Kazakhstan",
          "Ecuador",
          "Guatemala",
          "Chad",
          "Somalia",
          "Netherlands",
          "Senegal",
          "Cambodia",
          "Zimbabwe",
          "Guinea",
          "Rwanda",
          "Benin",
          "Burundi",
          "Tunisia",
          "Bolivia",
          "Belgium",
          "Haiti",
          "Jordan",
          "Dominican Republic",
          "Cuba",
          "South Sudan",
          "Sweden",
          "Czech Republic",
          "Honduras",
          "Greece",
          "Azerbaijan",
          "Portugal",
          "Papua New Guinea",
          "Hungary",
          "Tajikistan",
          "Belarus",
          "United Arab Emirates",
          "Israel",
          "Austria",
          "Togo",
          "Switzerland",
          "Sierra Leone",
          "Laos",
          "Hong Kong",
          "Serbia",
          "Nicaragua",
          "Libya",
          "Bulgaria",
          "Paraguay",
          "Kyrgyzstan",
          "Turkmenistan",
          "El Salvador",
          "Singapore",
          "Republic of the Congo",
          "Denmark",
          "Slovakia",
          "Central African Republic",
          "Finland",
          "Lebanon",
          "Norway",
          "Liberia",
          "Palestine",
          "New Zealand",
          "Costa Rica",
          "Ireland",
          "Mauritania",
          "Oman",
          "Panama",
          "Kuwait",
          "Croatia",
          "Georgia",
          "Eritrea",
          "Uruguay",
          "Mongolia",
          "Moldova",
          "Puerto Rico",
          "Bosnia and Herzegovina",
          "Albania",
          "Jamaica",
          "Armenia",
          "Lithuania",
          "Gambia",
          "Qatar",
          "Botswana",
          "Namibia",
          "Gabon",
          "Lesotho",
          "Slovenia",
          "Guinea-Bissau",
          "North Macedonia",
          "Latvia",
          "Equatorial Guinea",
          "Trinidad and Tobago",
          "Bahrain",
          "Timor-Leste",
          "Estonia",
          "Mauritius",
          "Cyprus",
          "Eswatini",
          "Djibouti"
         ],
         "name": "",
         "type": "choropleth",
         "z": [
          1425887,
          1417173,
          338290,
          275501,
          235825,
          218541,
          215313,
          171186,
          144713,
          127504,
          123952,
          123380,
          115559,
          110990,
          99010,
          98187,
          88551,
          85341,
          83370,
          71697,
          67509,
          65498,
          64627,
          59894,
          59037,
          54179,
          54027,
          51874,
          51816,
          47559,
          47250,
          46874,
          45510,
          44903,
          44496,
          41129,
          39857,
          39702,
          38454,
          37458,
          36409,
          35589,
          34628,
          34050,
          33938,
          33697,
          33476,
          32970,
          30548,
          29612,
          28302,
          28161,
          27915,
          26208,
          26177,
          26069,
          23893,
          22674,
          22594,
          22125,
          21832,
          20405,
          20018,
          19659,
          19604,
          19398,
          18001,
          17844,
          17723,
          17598,
          17564,
          17316,
          16768,
          16321,
          13859,
          13777,
          13353,
          12890,
          12356,
          12224,
          11656,
          11585,
          11286,
          11229,
          11212,
          10913,
          10549,
          10494,
          10433,
          10385,
          10358,
          10271,
          10143,
          9967,
          9953,
          9535,
          9441,
          9038,
          8940,
          8849,
          8740,
          8606,
          7529,
          7489,
          7221,
          6948,
          6812,
          6782,
          6781,
          6631,
          6431,
          6336,
          5976,
          5970,
          5882,
          5643,
          5579,
          5541,
          5490,
          5434,
          5303,
          5250,
          5185,
          5181,
          5023,
          4736,
          4576,
          4409,
          4269,
          4030,
          3744,
          3684,
          3423,
          3398,
          3273,
          3252,
          3234,
          2842,
          2827,
          2780,
          2750,
          2706,
          2695,
          2630,
          2567,
          2389,
          2306,
          2120,
          2106,
          2094,
          1851,
          1675,
          1531,
          1472,
          1341,
          1326,
          1299,
          1251,
          1202,
          1121
         ]
        }
       ],
       "layout": {
        "autosize": false,
        "coloraxis": {
         "colorbar": {
          "title": {
           "text": "pop_2022"
          }
         },
         "colorscale": [
          [
           0,
           "rgb(0,0,131)"
          ],
          [
           0.2,
           "rgb(0,60,170)"
          ],
          [
           0.4,
           "rgb(5,255,255)"
          ],
          [
           0.6,
           "rgb(255,255,0)"
          ],
          [
           0.8,
           "rgb(250,0,0)"
          ],
          [
           1,
           "rgb(128,0,0)"
          ]
         ]
        },
        "geo": {
         "center": {},
         "domain": {
          "x": [
           0,
           1
          ],
          "y": [
           0,
           1
          ]
         }
        },
        "height": 1000,
        "legend": {
         "tracegroupgap": 0
        },
        "template": {
         "data": {
          "bar": [
           {
            "error_x": {
             "color": "#2a3f5f"
            },
            "error_y": {
             "color": "#2a3f5f"
            },
            "marker": {
             "line": {
              "color": "#E5ECF6",
              "width": 0.5
             },
             "pattern": {
              "fillmode": "overlay",
              "size": 10,
              "solidity": 0.2
             }
            },
            "type": "bar"
           }
          ],
          "barpolar": [
           {
            "marker": {
             "line": {
              "color": "#E5ECF6",
              "width": 0.5
             },
             "pattern": {
              "fillmode": "overlay",
              "size": 10,
              "solidity": 0.2
             }
            },
            "type": "barpolar"
           }
          ],
          "carpet": [
           {
            "aaxis": {
             "endlinecolor": "#2a3f5f",
             "gridcolor": "white",
             "linecolor": "white",
             "minorgridcolor": "white",
             "startlinecolor": "#2a3f5f"
            },
            "baxis": {
             "endlinecolor": "#2a3f5f",
             "gridcolor": "white",
             "linecolor": "white",
             "minorgridcolor": "white",
             "startlinecolor": "#2a3f5f"
            },
            "type": "carpet"
           }
          ],
          "choropleth": [
           {
            "colorbar": {
             "outlinewidth": 0,
             "ticks": ""
            },
            "type": "choropleth"
           }
          ],
          "contour": [
           {
            "colorbar": {
             "outlinewidth": 0,
             "ticks": ""
            },
            "colorscale": [
             [
              0,
              "#0d0887"
             ],
             [
              0.1111111111111111,
              "#46039f"
             ],
             [
              0.2222222222222222,
              "#7201a8"
             ],
             [
              0.3333333333333333,
              "#9c179e"
             ],
             [
              0.4444444444444444,
              "#bd3786"
             ],
             [
              0.5555555555555556,
              "#d8576b"
             ],
             [
              0.6666666666666666,
              "#ed7953"
             ],
             [
              0.7777777777777778,
              "#fb9f3a"
             ],
             [
              0.8888888888888888,
              "#fdca26"
             ],
             [
              1,
              "#f0f921"
             ]
            ],
            "type": "contour"
           }
          ],
          "contourcarpet": [
           {
            "colorbar": {
             "outlinewidth": 0,
             "ticks": ""
            },
            "type": "contourcarpet"
           }
          ],
          "heatmap": [
           {
            "colorbar": {
             "outlinewidth": 0,
             "ticks": ""
            },
            "colorscale": [
             [
              0,
              "#0d0887"
             ],
             [
              0.1111111111111111,
              "#46039f"
             ],
             [
              0.2222222222222222,
              "#7201a8"
             ],
             [
              0.3333333333333333,
              "#9c179e"
             ],
             [
              0.4444444444444444,
              "#bd3786"
             ],
             [
              0.5555555555555556,
              "#d8576b"
             ],
             [
              0.6666666666666666,
              "#ed7953"
             ],
             [
              0.7777777777777778,
              "#fb9f3a"
             ],
             [
              0.8888888888888888,
              "#fdca26"
             ],
             [
              1,
              "#f0f921"
             ]
            ],
            "type": "heatmap"
           }
          ],
          "heatmapgl": [
           {
            "colorbar": {
             "outlinewidth": 0,
             "ticks": ""
            },
            "colorscale": [
             [
              0,
              "#0d0887"
             ],
             [
              0.1111111111111111,
              "#46039f"
             ],
             [
              0.2222222222222222,
              "#7201a8"
             ],
             [
              0.3333333333333333,
              "#9c179e"
             ],
             [
              0.4444444444444444,
              "#bd3786"
             ],
             [
              0.5555555555555556,
              "#d8576b"
             ],
             [
              0.6666666666666666,
              "#ed7953"
             ],
             [
              0.7777777777777778,
              "#fb9f3a"
             ],
             [
              0.8888888888888888,
              "#fdca26"
             ],
             [
              1,
              "#f0f921"
             ]
            ],
            "type": "heatmapgl"
           }
          ],
          "histogram": [
           {
            "marker": {
             "pattern": {
              "fillmode": "overlay",
              "size": 10,
              "solidity": 0.2
             }
            },
            "type": "histogram"
           }
          ],
          "histogram2d": [
           {
            "colorbar": {
             "outlinewidth": 0,
             "ticks": ""
            },
            "colorscale": [
             [
              0,
              "#0d0887"
             ],
             [
              0.1111111111111111,
              "#46039f"
             ],
             [
              0.2222222222222222,
              "#7201a8"
             ],
             [
              0.3333333333333333,
              "#9c179e"
             ],
             [
              0.4444444444444444,
              "#bd3786"
             ],
             [
              0.5555555555555556,
              "#d8576b"
             ],
             [
              0.6666666666666666,
              "#ed7953"
             ],
             [
              0.7777777777777778,
              "#fb9f3a"
             ],
             [
              0.8888888888888888,
              "#fdca26"
             ],
             [
              1,
              "#f0f921"
             ]
            ],
            "type": "histogram2d"
           }
          ],
          "histogram2dcontour": [
           {
            "colorbar": {
             "outlinewidth": 0,
             "ticks": ""
            },
            "colorscale": [
             [
              0,
              "#0d0887"
             ],
             [
              0.1111111111111111,
              "#46039f"
             ],
             [
              0.2222222222222222,
              "#7201a8"
             ],
             [
              0.3333333333333333,
              "#9c179e"
             ],
             [
              0.4444444444444444,
              "#bd3786"
             ],
             [
              0.5555555555555556,
              "#d8576b"
             ],
             [
              0.6666666666666666,
              "#ed7953"
             ],
             [
              0.7777777777777778,
              "#fb9f3a"
             ],
             [
              0.8888888888888888,
              "#fdca26"
             ],
             [
              1,
              "#f0f921"
             ]
            ],
            "type": "histogram2dcontour"
           }
          ],
          "mesh3d": [
           {
            "colorbar": {
             "outlinewidth": 0,
             "ticks": ""
            },
            "type": "mesh3d"
           }
          ],
          "parcoords": [
           {
            "line": {
             "colorbar": {
              "outlinewidth": 0,
              "ticks": ""
             }
            },
            "type": "parcoords"
           }
          ],
          "pie": [
           {
            "automargin": true,
            "type": "pie"
           }
          ],
          "scatter": [
           {
            "marker": {
             "colorbar": {
              "outlinewidth": 0,
              "ticks": ""
             }
            },
            "type": "scatter"
           }
          ],
          "scatter3d": [
           {
            "line": {
             "colorbar": {
              "outlinewidth": 0,
              "ticks": ""
             }
            },
            "marker": {
             "colorbar": {
              "outlinewidth": 0,
              "ticks": ""
             }
            },
            "type": "scatter3d"
           }
          ],
          "scattercarpet": [
           {
            "marker": {
             "colorbar": {
              "outlinewidth": 0,
              "ticks": ""
             }
            },
            "type": "scattercarpet"
           }
          ],
          "scattergeo": [
           {
            "marker": {
             "colorbar": {
              "outlinewidth": 0,
              "ticks": ""
             }
            },
            "type": "scattergeo"
           }
          ],
          "scattergl": [
           {
            "marker": {
             "colorbar": {
              "outlinewidth": 0,
              "ticks": ""
             }
            },
            "type": "scattergl"
           }
          ],
          "scattermapbox": [
           {
            "marker": {
             "colorbar": {
              "outlinewidth": 0,
              "ticks": ""
             }
            },
            "type": "scattermapbox"
           }
          ],
          "scatterpolar": [
           {
            "marker": {
             "colorbar": {
              "outlinewidth": 0,
              "ticks": ""
             }
            },
            "type": "scatterpolar"
           }
          ],
          "scatterpolargl": [
           {
            "marker": {
             "colorbar": {
              "outlinewidth": 0,
              "ticks": ""
             }
            },
            "type": "scatterpolargl"
           }
          ],
          "scatterternary": [
           {
            "marker": {
             "colorbar": {
              "outlinewidth": 0,
              "ticks": ""
             }
            },
            "type": "scatterternary"
           }
          ],
          "surface": [
           {
            "colorbar": {
             "outlinewidth": 0,
             "ticks": ""
            },
            "colorscale": [
             [
              0,
              "#0d0887"
             ],
             [
              0.1111111111111111,
              "#46039f"
             ],
             [
              0.2222222222222222,
              "#7201a8"
             ],
             [
              0.3333333333333333,
              "#9c179e"
             ],
             [
              0.4444444444444444,
              "#bd3786"
             ],
             [
              0.5555555555555556,
              "#d8576b"
             ],
             [
              0.6666666666666666,
              "#ed7953"
             ],
             [
              0.7777777777777778,
              "#fb9f3a"
             ],
             [
              0.8888888888888888,
              "#fdca26"
             ],
             [
              1,
              "#f0f921"
             ]
            ],
            "type": "surface"
           }
          ],
          "table": [
           {
            "cells": {
             "fill": {
              "color": "#EBF0F8"
             },
             "line": {
              "color": "white"
             }
            },
            "header": {
             "fill": {
              "color": "#C8D4E3"
             },
             "line": {
              "color": "white"
             }
            },
            "type": "table"
           }
          ]
         },
         "layout": {
          "annotationdefaults": {
           "arrowcolor": "#2a3f5f",
           "arrowhead": 0,
           "arrowwidth": 1
          },
          "autotypenumbers": "strict",
          "coloraxis": {
           "colorbar": {
            "outlinewidth": 0,
            "ticks": ""
           }
          },
          "colorscale": {
           "diverging": [
            [
             0,
             "#8e0152"
            ],
            [
             0.1,
             "#c51b7d"
            ],
            [
             0.2,
             "#de77ae"
            ],
            [
             0.3,
             "#f1b6da"
            ],
            [
             0.4,
             "#fde0ef"
            ],
            [
             0.5,
             "#f7f7f7"
            ],
            [
             0.6,
             "#e6f5d0"
            ],
            [
             0.7,
             "#b8e186"
            ],
            [
             0.8,
             "#7fbc41"
            ],
            [
             0.9,
             "#4d9221"
            ],
            [
             1,
             "#276419"
            ]
           ],
           "sequential": [
            [
             0,
             "#0d0887"
            ],
            [
             0.1111111111111111,
             "#46039f"
            ],
            [
             0.2222222222222222,
             "#7201a8"
            ],
            [
             0.3333333333333333,
             "#9c179e"
            ],
            [
             0.4444444444444444,
             "#bd3786"
            ],
            [
             0.5555555555555556,
             "#d8576b"
            ],
            [
             0.6666666666666666,
             "#ed7953"
            ],
            [
             0.7777777777777778,
             "#fb9f3a"
            ],
            [
             0.8888888888888888,
             "#fdca26"
            ],
            [
             1,
             "#f0f921"
            ]
           ],
           "sequentialminus": [
            [
             0,
             "#0d0887"
            ],
            [
             0.1111111111111111,
             "#46039f"
            ],
            [
             0.2222222222222222,
             "#7201a8"
            ],
            [
             0.3333333333333333,
             "#9c179e"
            ],
            [
             0.4444444444444444,
             "#bd3786"
            ],
            [
             0.5555555555555556,
             "#d8576b"
            ],
            [
             0.6666666666666666,
             "#ed7953"
            ],
            [
             0.7777777777777778,
             "#fb9f3a"
            ],
            [
             0.8888888888888888,
             "#fdca26"
            ],
            [
             1,
             "#f0f921"
            ]
           ]
          },
          "colorway": [
           "#636efa",
           "#EF553B",
           "#00cc96",
           "#ab63fa",
           "#FFA15A",
           "#19d3f3",
           "#FF6692",
           "#B6E880",
           "#FF97FF",
           "#FECB52"
          ],
          "font": {
           "color": "#2a3f5f"
          },
          "geo": {
           "bgcolor": "white",
           "lakecolor": "white",
           "landcolor": "#E5ECF6",
           "showlakes": true,
           "showland": true,
           "subunitcolor": "white"
          },
          "hoverlabel": {
           "align": "left"
          },
          "hovermode": "closest",
          "mapbox": {
           "style": "light"
          },
          "paper_bgcolor": "white",
          "plot_bgcolor": "#E5ECF6",
          "polar": {
           "angularaxis": {
            "gridcolor": "white",
            "linecolor": "white",
            "ticks": ""
           },
           "bgcolor": "#E5ECF6",
           "radialaxis": {
            "gridcolor": "white",
            "linecolor": "white",
            "ticks": ""
           }
          },
          "scene": {
           "xaxis": {
            "backgroundcolor": "#E5ECF6",
            "gridcolor": "white",
            "gridwidth": 2,
            "linecolor": "white",
            "showbackground": true,
            "ticks": "",
            "zerolinecolor": "white"
           },
           "yaxis": {
            "backgroundcolor": "#E5ECF6",
            "gridcolor": "white",
            "gridwidth": 2,
            "linecolor": "white",
            "showbackground": true,
            "ticks": "",
            "zerolinecolor": "white"
           },
           "zaxis": {
            "backgroundcolor": "#E5ECF6",
            "gridcolor": "white",
            "gridwidth": 2,
            "linecolor": "white",
            "showbackground": true,
            "ticks": "",
            "zerolinecolor": "white"
           }
          },
          "shapedefaults": {
           "line": {
            "color": "#2a3f5f"
           }
          },
          "ternary": {
           "aaxis": {
            "gridcolor": "white",
            "linecolor": "white",
            "ticks": ""
           },
           "baxis": {
            "gridcolor": "white",
            "linecolor": "white",
            "ticks": ""
           },
           "bgcolor": "#E5ECF6",
           "caxis": {
            "gridcolor": "white",
            "linecolor": "white",
            "ticks": ""
           }
          },
          "title": {
           "x": 0.05
          },
          "xaxis": {
           "automargin": true,
           "gridcolor": "white",
           "linecolor": "white",
           "ticks": "",
           "title": {
            "standoff": 15
           },
           "zerolinecolor": "white",
           "zerolinewidth": 2
          },
          "yaxis": {
           "automargin": true,
           "gridcolor": "white",
           "linecolor": "white",
           "ticks": "",
           "title": {
            "standoff": 15
           },
           "zerolinecolor": "white",
           "zerolinewidth": 2
          }
         }
        },
        "title": {
         "text": "Карта населения мира 2022"
        },
        "width": 1000
       }
      },
      "text/html": [
       "<div>                            <div id=\"64faa35f-0c62-46e6-a466-60451d241c39\" class=\"plotly-graph-div\" style=\"height:1000px; width:1000px;\"></div>            <script type=\"text/javascript\">                require([\"plotly\"], function(Plotly) {                    window.PLOTLYENV=window.PLOTLYENV || {};                                    if (document.getElementById(\"64faa35f-0c62-46e6-a466-60451d241c39\")) {                    Plotly.newPlot(                        \"64faa35f-0c62-46e6-a466-60451d241c39\",                        [{\"coloraxis\":\"coloraxis\",\"geo\":\"geo\",\"hovertemplate\":\"<b>%{hovertext}</b><br><br>country=%{location}<br>pop_2022=%{z}<extra></extra>\",\"hovertext\":[\"China\",\"India\",\"United States\",\"Indonesia\",\"Pakistan\",\"Nigeria\",\"Brazil\",\"Bangladesh\",\"Russia\",\"Mexico\",\"Japan\",\"Ethiopia\",\"Philippines\",\"Egypt\",\"DR Congo\",\"Vietnam\",\"Iran\",\"Turkey\",\"Germany\",\"Thailand\",\"United Kingdom\",\"Tanzania\",\"France\",\"South Africa\",\"Italy\",\"Myanmar\",\"Kenya\",\"Colombia\",\"South Korea\",\"Spain\",\"Uganda\",\"Sudan\",\"Argentina\",\"Algeria\",\"Iraq\",\"Afghanistan\",\"Poland\",\"Ukraine\",\"Canada\",\"Morocco\",\"Saudi Arabia\",\"Angola\",\"Uzbekistan\",\"Peru\",\"Malaysia\",\"Yemen\",\"Ghana\",\"Mozambique\",\"Nepal\",\"Madagascar\",\"Venezuela\",\"Ivory Coast\",\"Cameroon\",\"Niger\",\"Australia\",\"North Korea\",\"Taiwan\",\"Burkina Faso\",\"Mali\",\"Syria\",\"Sri Lanka\",\"Malawi\",\"Zambia\",\"Romania\",\"Chile\",\"Kazakhstan\",\"Ecuador\",\"Guatemala\",\"Chad\",\"Somalia\",\"Netherlands\",\"Senegal\",\"Cambodia\",\"Zimbabwe\",\"Guinea\",\"Rwanda\",\"Benin\",\"Burundi\",\"Tunisia\",\"Bolivia\",\"Belgium\",\"Haiti\",\"Jordan\",\"Dominican Republic\",\"Cuba\",\"South Sudan\",\"Sweden\",\"Czech Republic\",\"Honduras\",\"Greece\",\"Azerbaijan\",\"Portugal\",\"Papua New Guinea\",\"Hungary\",\"Tajikistan\",\"Belarus\",\"United Arab Emirates\",\"Israel\",\"Austria\",\"Togo\",\"Switzerland\",\"Sierra Leone\",\"Laos\",\"Hong Kong\",\"Serbia\",\"Nicaragua\",\"Libya\",\"Bulgaria\",\"Paraguay\",\"Kyrgyzstan\",\"Turkmenistan\",\"El Salvador\",\"Singapore\",\"Republic of the Congo\",\"Denmark\",\"Slovakia\",\"Central African Republic\",\"Finland\",\"Lebanon\",\"Norway\",\"Liberia\",\"Palestine\",\"New Zealand\",\"Costa Rica\",\"Ireland\",\"Mauritania\",\"Oman\",\"Panama\",\"Kuwait\",\"Croatia\",\"Georgia\",\"Eritrea\",\"Uruguay\",\"Mongolia\",\"Moldova\",\"Puerto Rico\",\"Bosnia and Herzegovina\",\"Albania\",\"Jamaica\",\"Armenia\",\"Lithuania\",\"Gambia\",\"Qatar\",\"Botswana\",\"Namibia\",\"Gabon\",\"Lesotho\",\"Slovenia\",\"Guinea-Bissau\",\"North Macedonia\",\"Latvia\",\"Equatorial Guinea\",\"Trinidad and Tobago\",\"Bahrain\",\"Timor-Leste\",\"Estonia\",\"Mauritius\",\"Cyprus\",\"Eswatini\",\"Djibouti\"],\"locationmode\":\"country names\",\"locations\":[\"China\",\"India\",\"United States\",\"Indonesia\",\"Pakistan\",\"Nigeria\",\"Brazil\",\"Bangladesh\",\"Russia\",\"Mexico\",\"Japan\",\"Ethiopia\",\"Philippines\",\"Egypt\",\"DR Congo\",\"Vietnam\",\"Iran\",\"Turkey\",\"Germany\",\"Thailand\",\"United Kingdom\",\"Tanzania\",\"France\",\"South Africa\",\"Italy\",\"Myanmar\",\"Kenya\",\"Colombia\",\"South Korea\",\"Spain\",\"Uganda\",\"Sudan\",\"Argentina\",\"Algeria\",\"Iraq\",\"Afghanistan\",\"Poland\",\"Ukraine\",\"Canada\",\"Morocco\",\"Saudi Arabia\",\"Angola\",\"Uzbekistan\",\"Peru\",\"Malaysia\",\"Yemen\",\"Ghana\",\"Mozambique\",\"Nepal\",\"Madagascar\",\"Venezuela\",\"Ivory Coast\",\"Cameroon\",\"Niger\",\"Australia\",\"North Korea\",\"Taiwan\",\"Burkina Faso\",\"Mali\",\"Syria\",\"Sri Lanka\",\"Malawi\",\"Zambia\",\"Romania\",\"Chile\",\"Kazakhstan\",\"Ecuador\",\"Guatemala\",\"Chad\",\"Somalia\",\"Netherlands\",\"Senegal\",\"Cambodia\",\"Zimbabwe\",\"Guinea\",\"Rwanda\",\"Benin\",\"Burundi\",\"Tunisia\",\"Bolivia\",\"Belgium\",\"Haiti\",\"Jordan\",\"Dominican Republic\",\"Cuba\",\"South Sudan\",\"Sweden\",\"Czech Republic\",\"Honduras\",\"Greece\",\"Azerbaijan\",\"Portugal\",\"Papua New Guinea\",\"Hungary\",\"Tajikistan\",\"Belarus\",\"United Arab Emirates\",\"Israel\",\"Austria\",\"Togo\",\"Switzerland\",\"Sierra Leone\",\"Laos\",\"Hong Kong\",\"Serbia\",\"Nicaragua\",\"Libya\",\"Bulgaria\",\"Paraguay\",\"Kyrgyzstan\",\"Turkmenistan\",\"El Salvador\",\"Singapore\",\"Republic of the Congo\",\"Denmark\",\"Slovakia\",\"Central African Republic\",\"Finland\",\"Lebanon\",\"Norway\",\"Liberia\",\"Palestine\",\"New Zealand\",\"Costa Rica\",\"Ireland\",\"Mauritania\",\"Oman\",\"Panama\",\"Kuwait\",\"Croatia\",\"Georgia\",\"Eritrea\",\"Uruguay\",\"Mongolia\",\"Moldova\",\"Puerto Rico\",\"Bosnia and Herzegovina\",\"Albania\",\"Jamaica\",\"Armenia\",\"Lithuania\",\"Gambia\",\"Qatar\",\"Botswana\",\"Namibia\",\"Gabon\",\"Lesotho\",\"Slovenia\",\"Guinea-Bissau\",\"North Macedonia\",\"Latvia\",\"Equatorial Guinea\",\"Trinidad and Tobago\",\"Bahrain\",\"Timor-Leste\",\"Estonia\",\"Mauritius\",\"Cyprus\",\"Eswatini\",\"Djibouti\"],\"name\":\"\",\"z\":[1425887,1417173,338290,275501,235825,218541,215313,171186,144713,127504,123952,123380,115559,110990,99010,98187,88551,85341,83370,71697,67509,65498,64627,59894,59037,54179,54027,51874,51816,47559,47250,46874,45510,44903,44496,41129,39857,39702,38454,37458,36409,35589,34628,34050,33938,33697,33476,32970,30548,29612,28302,28161,27915,26208,26177,26069,23893,22674,22594,22125,21832,20405,20018,19659,19604,19398,18001,17844,17723,17598,17564,17316,16768,16321,13859,13777,13353,12890,12356,12224,11656,11585,11286,11229,11212,10913,10549,10494,10433,10385,10358,10271,10143,9967,9953,9535,9441,9038,8940,8849,8740,8606,7529,7489,7221,6948,6812,6782,6781,6631,6431,6336,5976,5970,5882,5643,5579,5541,5490,5434,5303,5250,5185,5181,5023,4736,4576,4409,4269,4030,3744,3684,3423,3398,3273,3252,3234,2842,2827,2780,2750,2706,2695,2630,2567,2389,2306,2120,2106,2094,1851,1675,1531,1472,1341,1326,1299,1251,1202,1121],\"type\":\"choropleth\"}],                        {\"template\":{\"data\":{\"bar\":[{\"error_x\":{\"color\":\"#2a3f5f\"},\"error_y\":{\"color\":\"#2a3f5f\"},\"marker\":{\"line\":{\"color\":\"#E5ECF6\",\"width\":0.5},\"pattern\":{\"fillmode\":\"overlay\",\"size\":10,\"solidity\":0.2}},\"type\":\"bar\"}],\"barpolar\":[{\"marker\":{\"line\":{\"color\":\"#E5ECF6\",\"width\":0.5},\"pattern\":{\"fillmode\":\"overlay\",\"size\":10,\"solidity\":0.2}},\"type\":\"barpolar\"}],\"carpet\":[{\"aaxis\":{\"endlinecolor\":\"#2a3f5f\",\"gridcolor\":\"white\",\"linecolor\":\"white\",\"minorgridcolor\":\"white\",\"startlinecolor\":\"#2a3f5f\"},\"baxis\":{\"endlinecolor\":\"#2a3f5f\",\"gridcolor\":\"white\",\"linecolor\":\"white\",\"minorgridcolor\":\"white\",\"startlinecolor\":\"#2a3f5f\"},\"type\":\"carpet\"}],\"choropleth\":[{\"colorbar\":{\"outlinewidth\":0,\"ticks\":\"\"},\"type\":\"choropleth\"}],\"contour\":[{\"colorbar\":{\"outlinewidth\":0,\"ticks\":\"\"},\"colorscale\":[[0.0,\"#0d0887\"],[0.1111111111111111,\"#46039f\"],[0.2222222222222222,\"#7201a8\"],[0.3333333333333333,\"#9c179e\"],[0.4444444444444444,\"#bd3786\"],[0.5555555555555556,\"#d8576b\"],[0.6666666666666666,\"#ed7953\"],[0.7777777777777778,\"#fb9f3a\"],[0.8888888888888888,\"#fdca26\"],[1.0,\"#f0f921\"]],\"type\":\"contour\"}],\"contourcarpet\":[{\"colorbar\":{\"outlinewidth\":0,\"ticks\":\"\"},\"type\":\"contourcarpet\"}],\"heatmap\":[{\"colorbar\":{\"outlinewidth\":0,\"ticks\":\"\"},\"colorscale\":[[0.0,\"#0d0887\"],[0.1111111111111111,\"#46039f\"],[0.2222222222222222,\"#7201a8\"],[0.3333333333333333,\"#9c179e\"],[0.4444444444444444,\"#bd3786\"],[0.5555555555555556,\"#d8576b\"],[0.6666666666666666,\"#ed7953\"],[0.7777777777777778,\"#fb9f3a\"],[0.8888888888888888,\"#fdca26\"],[1.0,\"#f0f921\"]],\"type\":\"heatmap\"}],\"heatmapgl\":[{\"colorbar\":{\"outlinewidth\":0,\"ticks\":\"\"},\"colorscale\":[[0.0,\"#0d0887\"],[0.1111111111111111,\"#46039f\"],[0.2222222222222222,\"#7201a8\"],[0.3333333333333333,\"#9c179e\"],[0.4444444444444444,\"#bd3786\"],[0.5555555555555556,\"#d8576b\"],[0.6666666666666666,\"#ed7953\"],[0.7777777777777778,\"#fb9f3a\"],[0.8888888888888888,\"#fdca26\"],[1.0,\"#f0f921\"]],\"type\":\"heatmapgl\"}],\"histogram\":[{\"marker\":{\"pattern\":{\"fillmode\":\"overlay\",\"size\":10,\"solidity\":0.2}},\"type\":\"histogram\"}],\"histogram2d\":[{\"colorbar\":{\"outlinewidth\":0,\"ticks\":\"\"},\"colorscale\":[[0.0,\"#0d0887\"],[0.1111111111111111,\"#46039f\"],[0.2222222222222222,\"#7201a8\"],[0.3333333333333333,\"#9c179e\"],[0.4444444444444444,\"#bd3786\"],[0.5555555555555556,\"#d8576b\"],[0.6666666666666666,\"#ed7953\"],[0.7777777777777778,\"#fb9f3a\"],[0.8888888888888888,\"#fdca26\"],[1.0,\"#f0f921\"]],\"type\":\"histogram2d\"}],\"histogram2dcontour\":[{\"colorbar\":{\"outlinewidth\":0,\"ticks\":\"\"},\"colorscale\":[[0.0,\"#0d0887\"],[0.1111111111111111,\"#46039f\"],[0.2222222222222222,\"#7201a8\"],[0.3333333333333333,\"#9c179e\"],[0.4444444444444444,\"#bd3786\"],[0.5555555555555556,\"#d8576b\"],[0.6666666666666666,\"#ed7953\"],[0.7777777777777778,\"#fb9f3a\"],[0.8888888888888888,\"#fdca26\"],[1.0,\"#f0f921\"]],\"type\":\"histogram2dcontour\"}],\"mesh3d\":[{\"colorbar\":{\"outlinewidth\":0,\"ticks\":\"\"},\"type\":\"mesh3d\"}],\"parcoords\":[{\"line\":{\"colorbar\":{\"outlinewidth\":0,\"ticks\":\"\"}},\"type\":\"parcoords\"}],\"pie\":[{\"automargin\":true,\"type\":\"pie\"}],\"scatter\":[{\"marker\":{\"colorbar\":{\"outlinewidth\":0,\"ticks\":\"\"}},\"type\":\"scatter\"}],\"scatter3d\":[{\"line\":{\"colorbar\":{\"outlinewidth\":0,\"ticks\":\"\"}},\"marker\":{\"colorbar\":{\"outlinewidth\":0,\"ticks\":\"\"}},\"type\":\"scatter3d\"}],\"scattercarpet\":[{\"marker\":{\"colorbar\":{\"outlinewidth\":0,\"ticks\":\"\"}},\"type\":\"scattercarpet\"}],\"scattergeo\":[{\"marker\":{\"colorbar\":{\"outlinewidth\":0,\"ticks\":\"\"}},\"type\":\"scattergeo\"}],\"scattergl\":[{\"marker\":{\"colorbar\":{\"outlinewidth\":0,\"ticks\":\"\"}},\"type\":\"scattergl\"}],\"scattermapbox\":[{\"marker\":{\"colorbar\":{\"outlinewidth\":0,\"ticks\":\"\"}},\"type\":\"scattermapbox\"}],\"scatterpolar\":[{\"marker\":{\"colorbar\":{\"outlinewidth\":0,\"ticks\":\"\"}},\"type\":\"scatterpolar\"}],\"scatterpolargl\":[{\"marker\":{\"colorbar\":{\"outlinewidth\":0,\"ticks\":\"\"}},\"type\":\"scatterpolargl\"}],\"scatterternary\":[{\"marker\":{\"colorbar\":{\"outlinewidth\":0,\"ticks\":\"\"}},\"type\":\"scatterternary\"}],\"surface\":[{\"colorbar\":{\"outlinewidth\":0,\"ticks\":\"\"},\"colorscale\":[[0.0,\"#0d0887\"],[0.1111111111111111,\"#46039f\"],[0.2222222222222222,\"#7201a8\"],[0.3333333333333333,\"#9c179e\"],[0.4444444444444444,\"#bd3786\"],[0.5555555555555556,\"#d8576b\"],[0.6666666666666666,\"#ed7953\"],[0.7777777777777778,\"#fb9f3a\"],[0.8888888888888888,\"#fdca26\"],[1.0,\"#f0f921\"]],\"type\":\"surface\"}],\"table\":[{\"cells\":{\"fill\":{\"color\":\"#EBF0F8\"},\"line\":{\"color\":\"white\"}},\"header\":{\"fill\":{\"color\":\"#C8D4E3\"},\"line\":{\"color\":\"white\"}},\"type\":\"table\"}]},\"layout\":{\"annotationdefaults\":{\"arrowcolor\":\"#2a3f5f\",\"arrowhead\":0,\"arrowwidth\":1},\"autotypenumbers\":\"strict\",\"coloraxis\":{\"colorbar\":{\"outlinewidth\":0,\"ticks\":\"\"}},\"colorscale\":{\"diverging\":[[0,\"#8e0152\"],[0.1,\"#c51b7d\"],[0.2,\"#de77ae\"],[0.3,\"#f1b6da\"],[0.4,\"#fde0ef\"],[0.5,\"#f7f7f7\"],[0.6,\"#e6f5d0\"],[0.7,\"#b8e186\"],[0.8,\"#7fbc41\"],[0.9,\"#4d9221\"],[1,\"#276419\"]],\"sequential\":[[0.0,\"#0d0887\"],[0.1111111111111111,\"#46039f\"],[0.2222222222222222,\"#7201a8\"],[0.3333333333333333,\"#9c179e\"],[0.4444444444444444,\"#bd3786\"],[0.5555555555555556,\"#d8576b\"],[0.6666666666666666,\"#ed7953\"],[0.7777777777777778,\"#fb9f3a\"],[0.8888888888888888,\"#fdca26\"],[1.0,\"#f0f921\"]],\"sequentialminus\":[[0.0,\"#0d0887\"],[0.1111111111111111,\"#46039f\"],[0.2222222222222222,\"#7201a8\"],[0.3333333333333333,\"#9c179e\"],[0.4444444444444444,\"#bd3786\"],[0.5555555555555556,\"#d8576b\"],[0.6666666666666666,\"#ed7953\"],[0.7777777777777778,\"#fb9f3a\"],[0.8888888888888888,\"#fdca26\"],[1.0,\"#f0f921\"]]},\"colorway\":[\"#636efa\",\"#EF553B\",\"#00cc96\",\"#ab63fa\",\"#FFA15A\",\"#19d3f3\",\"#FF6692\",\"#B6E880\",\"#FF97FF\",\"#FECB52\"],\"font\":{\"color\":\"#2a3f5f\"},\"geo\":{\"bgcolor\":\"white\",\"lakecolor\":\"white\",\"landcolor\":\"#E5ECF6\",\"showlakes\":true,\"showland\":true,\"subunitcolor\":\"white\"},\"hoverlabel\":{\"align\":\"left\"},\"hovermode\":\"closest\",\"mapbox\":{\"style\":\"light\"},\"paper_bgcolor\":\"white\",\"plot_bgcolor\":\"#E5ECF6\",\"polar\":{\"angularaxis\":{\"gridcolor\":\"white\",\"linecolor\":\"white\",\"ticks\":\"\"},\"bgcolor\":\"#E5ECF6\",\"radialaxis\":{\"gridcolor\":\"white\",\"linecolor\":\"white\",\"ticks\":\"\"}},\"scene\":{\"xaxis\":{\"backgroundcolor\":\"#E5ECF6\",\"gridcolor\":\"white\",\"gridwidth\":2,\"linecolor\":\"white\",\"showbackground\":true,\"ticks\":\"\",\"zerolinecolor\":\"white\"},\"yaxis\":{\"backgroundcolor\":\"#E5ECF6\",\"gridcolor\":\"white\",\"gridwidth\":2,\"linecolor\":\"white\",\"showbackground\":true,\"ticks\":\"\",\"zerolinecolor\":\"white\"},\"zaxis\":{\"backgroundcolor\":\"#E5ECF6\",\"gridcolor\":\"white\",\"gridwidth\":2,\"linecolor\":\"white\",\"showbackground\":true,\"ticks\":\"\",\"zerolinecolor\":\"white\"}},\"shapedefaults\":{\"line\":{\"color\":\"#2a3f5f\"}},\"ternary\":{\"aaxis\":{\"gridcolor\":\"white\",\"linecolor\":\"white\",\"ticks\":\"\"},\"baxis\":{\"gridcolor\":\"white\",\"linecolor\":\"white\",\"ticks\":\"\"},\"bgcolor\":\"#E5ECF6\",\"caxis\":{\"gridcolor\":\"white\",\"linecolor\":\"white\",\"ticks\":\"\"}},\"title\":{\"x\":0.05},\"xaxis\":{\"automargin\":true,\"gridcolor\":\"white\",\"linecolor\":\"white\",\"ticks\":\"\",\"title\":{\"standoff\":15},\"zerolinecolor\":\"white\",\"zerolinewidth\":2},\"yaxis\":{\"automargin\":true,\"gridcolor\":\"white\",\"linecolor\":\"white\",\"ticks\":\"\",\"title\":{\"standoff\":15},\"zerolinecolor\":\"white\",\"zerolinewidth\":2}}},\"geo\":{\"domain\":{\"x\":[0.0,1.0],\"y\":[0.0,1.0]},\"center\":{}},\"coloraxis\":{\"colorbar\":{\"title\":{\"text\":\"pop_2022\"}},\"colorscale\":[[0.0,\"rgb(0,0,131)\"],[0.2,\"rgb(0,60,170)\"],[0.4,\"rgb(5,255,255)\"],[0.6,\"rgb(255,255,0)\"],[0.8,\"rgb(250,0,0)\"],[1.0,\"rgb(128,0,0)\"]]},\"legend\":{\"tracegroupgap\":0},\"title\":{\"text\":\"\\u041a\\u0430\\u0440\\u0442\\u0430 \\u043d\\u0430\\u0441\\u0435\\u043b\\u0435\\u043d\\u0438\\u044f \\u043c\\u0438\\u0440\\u0430 2022\"},\"autosize\":false,\"width\":1000,\"height\":1000},                        {\"responsive\": true}                    ).then(function(){\n",
       "                            \n",
       "var gd = document.getElementById('64faa35f-0c62-46e6-a466-60451d241c39');\n",
       "var x = new MutationObserver(function (mutations, observer) {{\n",
       "        var display = window.getComputedStyle(gd).display;\n",
       "        if (!display || display === 'none') {{\n",
       "            console.log([gd, 'removed!']);\n",
       "            Plotly.purge(gd);\n",
       "            observer.disconnect();\n",
       "        }}\n",
       "}});\n",
       "\n",
       "// Listen for the removal of the full notebook cells\n",
       "var notebookContainer = gd.closest('#notebook-container');\n",
       "if (notebookContainer) {{\n",
       "    x.observe(notebookContainer, {childList: true});\n",
       "}}\n",
       "\n",
       "// Listen for the clearing of the current output cell\n",
       "var outputEl = gd.closest('.output');\n",
       "if (outputEl) {{\n",
       "    x.observe(outputEl, {childList: true});\n",
       "}}\n",
       "\n",
       "                        })                };                });            </script>        </div>"
      ]
     },
     "metadata": {},
     "output_type": "display_data"
    }
   ],
   "source": [
    "# наглядная карта населения мира в 2022\n",
    "fig = px.choropleth(df,\n",
    "                    locations='country',\n",
    "                    locationmode='country names',\n",
    "                    color='pop_2022',\n",
    "                    hover_name='country',                    \n",
    "                    title = 'Карта населения мира 2022',\n",
    "                    color_continuous_scale='Jet'\n",
    "                    )\n",
    "\n",
    "fig.update_layout(\n",
    "    autosize=False,\n",
    "    width=1000,\n",
    "    height=1000)\n",
    "\n",
    "fig.write_image (\"figure.png\", engine =\"kaleido\")\n",
    "\n",
    "fig.show()"
   ]
  },
  {
   "cell_type": "code",
   "execution_count": null,
   "id": "14ce319f",
   "metadata": {},
   "outputs": [],
   "source": []
  },
  {
   "cell_type": "code",
   "execution_count": null,
   "id": "47a412bd",
   "metadata": {},
   "outputs": [],
   "source": []
  },
  {
   "cell_type": "code",
   "execution_count": null,
   "id": "70d654c4",
   "metadata": {},
   "outputs": [],
   "source": []
  },
  {
   "cell_type": "code",
   "execution_count": null,
   "id": "93849570",
   "metadata": {},
   "outputs": [],
   "source": []
  },
  {
   "cell_type": "code",
   "execution_count": null,
   "id": "4517c801",
   "metadata": {},
   "outputs": [],
   "source": []
  },
  {
   "cell_type": "code",
   "execution_count": null,
   "id": "90edfb0c",
   "metadata": {},
   "outputs": [],
   "source": []
  },
  {
   "cell_type": "code",
   "execution_count": null,
   "id": "6a06c42c",
   "metadata": {},
   "outputs": [],
   "source": []
  },
  {
   "cell_type": "code",
   "execution_count": null,
   "id": "6fb80605",
   "metadata": {},
   "outputs": [],
   "source": []
  },
  {
   "cell_type": "code",
   "execution_count": null,
   "id": "57049c1e",
   "metadata": {},
   "outputs": [],
   "source": []
  },
  {
   "cell_type": "code",
   "execution_count": null,
   "id": "e019682f",
   "metadata": {},
   "outputs": [],
   "source": []
  },
  {
   "cell_type": "code",
   "execution_count": null,
   "id": "6ae9e322",
   "metadata": {},
   "outputs": [],
   "source": []
  },
  {
   "cell_type": "code",
   "execution_count": null,
   "id": "4e678ffa",
   "metadata": {},
   "outputs": [],
   "source": []
  },
  {
   "cell_type": "code",
   "execution_count": null,
   "id": "dd5ceccb",
   "metadata": {},
   "outputs": [],
   "source": []
  },
  {
   "cell_type": "code",
   "execution_count": null,
   "id": "c0d0bbee",
   "metadata": {},
   "outputs": [],
   "source": []
  },
  {
   "cell_type": "code",
   "execution_count": null,
   "id": "c777f8c9",
   "metadata": {},
   "outputs": [],
   "source": []
  },
  {
   "cell_type": "code",
   "execution_count": null,
   "id": "66675c35",
   "metadata": {},
   "outputs": [],
   "source": []
  },
  {
   "cell_type": "code",
   "execution_count": null,
   "id": "ce47b64e",
   "metadata": {},
   "outputs": [],
   "source": []
  },
  {
   "cell_type": "code",
   "execution_count": null,
   "id": "cbb13c41",
   "metadata": {},
   "outputs": [],
   "source": []
  },
  {
   "cell_type": "code",
   "execution_count": null,
   "id": "1e32fbee",
   "metadata": {},
   "outputs": [],
   "source": []
  },
  {
   "cell_type": "code",
   "execution_count": null,
   "id": "c53eee48",
   "metadata": {},
   "outputs": [],
   "source": []
  },
  {
   "cell_type": "code",
   "execution_count": null,
   "id": "ef16fcfc",
   "metadata": {},
   "outputs": [],
   "source": []
  },
  {
   "cell_type": "code",
   "execution_count": null,
   "id": "67a301b5",
   "metadata": {},
   "outputs": [],
   "source": []
  },
  {
   "cell_type": "code",
   "execution_count": null,
   "id": "40e9af50",
   "metadata": {},
   "outputs": [],
   "source": []
  }
 ],
 "metadata": {
  "kernelspec": {
   "display_name": "Python 3 (ipykernel)",
   "language": "python",
   "name": "python3"
  },
  "language_info": {
   "codemirror_mode": {
    "name": "ipython",
    "version": 3
   },
   "file_extension": ".py",
   "mimetype": "text/x-python",
   "name": "python",
   "nbconvert_exporter": "python",
   "pygments_lexer": "ipython3",
   "version": "3.9.12"
  }
 },
 "nbformat": 4,
 "nbformat_minor": 5
}
