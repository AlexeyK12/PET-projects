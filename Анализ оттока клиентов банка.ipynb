{
 "cells": [
  {
   "cell_type": "markdown",
   "id": "c44a0491",
   "metadata": {},
   "source": [
    "# Метанпромбанк — Анализ оттока клиентов"
   ]
  },
  {
   "cell_type": "markdown",
   "id": "92f89708",
   "metadata": {},
   "source": [
    "## Описание проекта\n",
    "\n",
    "Добро пожаловать в один из лучших банков страны «Метанпромбанк»! Наш банк в срочном порядке ищет аналитиков с уверенным владением «Python». Вашей главной задачей станет анализ оттока клиентов. Анализ покажет, как клиенты пользуются нашими услугами, а так же поможет нам составить портрет клиентов, которые склонны уходить из банка.\n",
    "«Метанпромбанк» — деньги не пахнут!"
   ]
  },
  {
   "cell_type": "markdown",
   "id": "33dc4cde",
   "metadata": {},
   "source": [
    "![jupyter](https://img.rudalle.ru/images/dd/6f/21/dd6f21159b5540b1b13d52fc31fc7fe8_00000.jpg)"
   ]
  },
  {
   "cell_type": "markdown",
   "id": "b0234353",
   "metadata": {},
   "source": [
    "### Задача\n",
    "\n",
    "Проанализируйте клиентов регионального банка и выделите портрет клиентов, которые склонны уходить из банка.\n",
    "\n",
    "- Проведите исследовательский анализ данных,\n",
    "- Выделите портреты клиентов, которые склонны уходить из банка,\n",
    "- Сформулируйте и проверьте статистические гипотезы.\n",
    "\n",
    "    \n",
    "    - Проверьте гипотезу различия дохода между теми клиентами, которые ушли и которые остались;\n",
    "    \n",
    "    - Гипотезу различия среднего возраста между клиентами, которые ушли и теми, которые остались."
   ]
  },
  {
   "cell_type": "markdown",
   "id": "5cdb21c4",
   "metadata": {},
   "source": [
    "### Описание данных\n",
    "\n",
    "\n",
    "Датасет содержит данные о клиентах банка «Метанпром». Банк располагается в Ярославле и областных городах: Ростов Великий и Рыбинск.\n",
    "\n",
    "Колонки:\n",
    "\n",
    "- **`userid`** — идентификатор пользователя,\n",
    "- **`score`** — баллы кредитного скоринга,\n",
    "- **`City`** — город,\n",
    "- **`Gender`** — пол,\n",
    "- **`Age`** — возраст,\n",
    "- **`Objects`** — количество объектов в собственности,\n",
    "- **`Balance`** — баланс на счёте,\n",
    "- **`Products`** — количество продуктов, которыми пользуется клиент,\n",
    "- **`CreditCard`** — есть ли кредитная карта,\n",
    "- **`Loyalty`** — активный клиент,\n",
    "- **`estimated_salary`** — заработная плата клиента,\n",
    "- **`Churn`** — ушёл или нет."
   ]
  },
  {
   "cell_type": "markdown",
   "id": "c51b8ac1",
   "metadata": {},
   "source": [
    "## Загрузка и предобработка данных\n",
    "- Исследуем пропущенные значения;\n",
    "- Исследуем дубликаты;\n",
    "- Исследуем соответствие типов;\n",
    "- Проверим корректность наименований колонок;"
   ]
  },
  {
   "cell_type": "code",
   "execution_count": 1,
   "id": "84c6278a",
   "metadata": {},
   "outputs": [
    {
     "data": {
      "application/javascript": [
       "IPython.notebook.set_autosave_interval(30000)"
      ]
     },
     "metadata": {},
     "output_type": "display_data"
    },
    {
     "name": "stdout",
     "output_type": "stream",
     "text": [
      "Autosaving every 30 seconds\n"
     ]
    }
   ],
   "source": [
    "import pandas as pd\n",
    "import scipy.stats as stats\n",
    "from scipy import stats as st\n",
    "import math as mth\n",
    "import numpy as np\n",
    "import matplotlib.pyplot as plt \n",
    "import seaborn as sns \n",
    "import warnings\n",
    "from sklearn.preprocessing import StandardScaler\n",
    "from scipy.cluster.hierarchy import dendrogram, linkage\n",
    "from sklearn.cluster import KMeans\n",
    "warnings.filterwarnings('ignore')\n",
    "%autosave 30"
   ]
  },
  {
   "cell_type": "code",
   "execution_count": 2,
   "id": "2cbbfb77",
   "metadata": {},
   "outputs": [],
   "source": [
    "df = pd.read_csv('/datasets/bank_dataset.csv')"
   ]
  },
  {
   "cell_type": "code",
   "execution_count": 3,
   "id": "fac1f7a2",
   "metadata": {},
   "outputs": [],
   "source": [
    "def first_look(df):\n",
    "    print('---------------------------Первые 5 строк----------------------------')\n",
    "    display(df.head())\n",
    "    print(' ')\n",
    "    print(' ')\n",
    "    print('--------------Общая информация--------------')\n",
    "    print(' ')\n",
    "    print(df.info())\n",
    "    print(' ')\n",
    "    print('-------------Пропуски------------- ')\n",
    "    print(' ')\n",
    "    count=0\n",
    "    for element in df.columns:\n",
    "        if df[element].isna().sum() > 0:\n",
    "            print(element, ' - ', df[element].isna().sum(), 'пропусков')\n",
    "            count = +1\n",
    "    if count == 0:\n",
    "        print(' ')\n",
    "        print('Пропусков НЕТ')\n",
    "    print(' ')\n",
    "    print('-------------Дубликаты------------ ')\n",
    "    print(' ')\n",
    "    if df.duplicated().sum() > 0:\n",
    "        print(' ')\n",
    "        print('Дубликатов: ', df.duplicated().sum())\n",
    "    else:\n",
    "        print('Дубликатов НЕТ')\n",
    "    print(' ')  "
   ]
  },
  {
   "cell_type": "code",
   "execution_count": 4,
   "id": "7ff0ac84",
   "metadata": {},
   "outputs": [
    {
     "name": "stdout",
     "output_type": "stream",
     "text": [
      "---------------------------Первые 5 строк----------------------------\n"
     ]
    },
    {
     "data": {
      "text/html": [
       "<div>\n",
       "<style scoped>\n",
       "    .dataframe tbody tr th:only-of-type {\n",
       "        vertical-align: middle;\n",
       "    }\n",
       "\n",
       "    .dataframe tbody tr th {\n",
       "        vertical-align: top;\n",
       "    }\n",
       "\n",
       "    .dataframe thead th {\n",
       "        text-align: right;\n",
       "    }\n",
       "</style>\n",
       "<table border=\"1\" class=\"dataframe\">\n",
       "  <thead>\n",
       "    <tr style=\"text-align: right;\">\n",
       "      <th></th>\n",
       "      <th>userid</th>\n",
       "      <th>score</th>\n",
       "      <th>City</th>\n",
       "      <th>Gender</th>\n",
       "      <th>Age</th>\n",
       "      <th>Objects</th>\n",
       "      <th>Balance</th>\n",
       "      <th>Products</th>\n",
       "      <th>CreditCard</th>\n",
       "      <th>Loyalty</th>\n",
       "      <th>estimated_salary</th>\n",
       "      <th>Churn</th>\n",
       "    </tr>\n",
       "  </thead>\n",
       "  <tbody>\n",
       "    <tr>\n",
       "      <th>0</th>\n",
       "      <td>15677338</td>\n",
       "      <td>619</td>\n",
       "      <td>Ярославль</td>\n",
       "      <td>Ж</td>\n",
       "      <td>42</td>\n",
       "      <td>2</td>\n",
       "      <td>NaN</td>\n",
       "      <td>1</td>\n",
       "      <td>1</td>\n",
       "      <td>1</td>\n",
       "      <td>101348.88</td>\n",
       "      <td>1</td>\n",
       "    </tr>\n",
       "    <tr>\n",
       "      <th>1</th>\n",
       "      <td>15690047</td>\n",
       "      <td>608</td>\n",
       "      <td>Рыбинск</td>\n",
       "      <td>Ж</td>\n",
       "      <td>41</td>\n",
       "      <td>1</td>\n",
       "      <td>83807.86</td>\n",
       "      <td>1</td>\n",
       "      <td>0</td>\n",
       "      <td>1</td>\n",
       "      <td>112542.58</td>\n",
       "      <td>0</td>\n",
       "    </tr>\n",
       "    <tr>\n",
       "      <th>2</th>\n",
       "      <td>15662040</td>\n",
       "      <td>502</td>\n",
       "      <td>Ярославль</td>\n",
       "      <td>Ж</td>\n",
       "      <td>42</td>\n",
       "      <td>8</td>\n",
       "      <td>159660.80</td>\n",
       "      <td>3</td>\n",
       "      <td>1</td>\n",
       "      <td>0</td>\n",
       "      <td>113931.57</td>\n",
       "      <td>1</td>\n",
       "    </tr>\n",
       "    <tr>\n",
       "      <th>3</th>\n",
       "      <td>15744090</td>\n",
       "      <td>699</td>\n",
       "      <td>Ярославль</td>\n",
       "      <td>Ж</td>\n",
       "      <td>39</td>\n",
       "      <td>1</td>\n",
       "      <td>NaN</td>\n",
       "      <td>2</td>\n",
       "      <td>0</td>\n",
       "      <td>0</td>\n",
       "      <td>93826.63</td>\n",
       "      <td>0</td>\n",
       "    </tr>\n",
       "    <tr>\n",
       "      <th>4</th>\n",
       "      <td>15780624</td>\n",
       "      <td>850</td>\n",
       "      <td>Рыбинск</td>\n",
       "      <td>Ж</td>\n",
       "      <td>43</td>\n",
       "      <td>2</td>\n",
       "      <td>125510.82</td>\n",
       "      <td>1</td>\n",
       "      <td>1</td>\n",
       "      <td>1</td>\n",
       "      <td>79084.10</td>\n",
       "      <td>0</td>\n",
       "    </tr>\n",
       "  </tbody>\n",
       "</table>\n",
       "</div>"
      ],
      "text/plain": [
       "     userid  score       City Gender  Age  Objects    Balance  Products  \\\n",
       "0  15677338    619  Ярославль      Ж   42        2        NaN         1   \n",
       "1  15690047    608    Рыбинск      Ж   41        1   83807.86         1   \n",
       "2  15662040    502  Ярославль      Ж   42        8  159660.80         3   \n",
       "3  15744090    699  Ярославль      Ж   39        1        NaN         2   \n",
       "4  15780624    850    Рыбинск      Ж   43        2  125510.82         1   \n",
       "\n",
       "   CreditCard  Loyalty  estimated_salary  Churn  \n",
       "0           1        1         101348.88      1  \n",
       "1           0        1         112542.58      0  \n",
       "2           1        0         113931.57      1  \n",
       "3           0        0          93826.63      0  \n",
       "4           1        1          79084.10      0  "
      ]
     },
     "metadata": {},
     "output_type": "display_data"
    },
    {
     "name": "stdout",
     "output_type": "stream",
     "text": [
      " \n",
      " \n",
      "--------------Общая информация--------------\n",
      " \n",
      "<class 'pandas.core.frame.DataFrame'>\n",
      "RangeIndex: 10000 entries, 0 to 9999\n",
      "Data columns (total 12 columns):\n",
      " #   Column            Non-Null Count  Dtype  \n",
      "---  ------            --------------  -----  \n",
      " 0   userid            10000 non-null  int64  \n",
      " 1   score             10000 non-null  int64  \n",
      " 2   City              10000 non-null  object \n",
      " 3   Gender            10000 non-null  object \n",
      " 4   Age               10000 non-null  int64  \n",
      " 5   Objects           10000 non-null  int64  \n",
      " 6   Balance           6383 non-null   float64\n",
      " 7   Products          10000 non-null  int64  \n",
      " 8   CreditCard        10000 non-null  int64  \n",
      " 9   Loyalty           10000 non-null  int64  \n",
      " 10  estimated_salary  10000 non-null  float64\n",
      " 11  Churn             10000 non-null  int64  \n",
      "dtypes: float64(2), int64(8), object(2)\n",
      "memory usage: 937.6+ KB\n",
      "None\n",
      " \n",
      "-------------Пропуски------------- \n",
      " \n",
      "Balance  -  3617 пропусков\n",
      " \n",
      "-------------Дубликаты------------ \n",
      " \n",
      "Дубликатов НЕТ\n",
      " \n"
     ]
    }
   ],
   "source": [
    "first_look(df)"
   ]
  },
  {
   "cell_type": "markdown",
   "id": "164e5dfb",
   "metadata": {},
   "source": [
    "**За исключением \"balance\" все данные корректны.**"
   ]
  },
  {
   "cell_type": "code",
   "execution_count": 5,
   "id": "9a1db177",
   "metadata": {},
   "outputs": [
    {
     "data": {
      "text/plain": [
       "Index(['user_id', 'score', 'city', 'gender', 'age', 'objects', 'balance',\n",
       "       'products', 'creditcard', 'loyalty', 'estimated_salary', 'churn'],\n",
       "      dtype='object')"
      ]
     },
     "execution_count": 5,
     "metadata": {},
     "output_type": "execute_result"
    }
   ],
   "source": [
    "# приведем названия столбцов к нижнему регистру\n",
    "df.columns = df.columns.str.lower()\n",
    "\n",
    "# переименуем столбец 'userid'\n",
    "df = df.rename({'userid':'user_id'}, axis=1)\n",
    "df.columns"
   ]
  },
  {
   "cell_type": "code",
   "execution_count": 6,
   "id": "ce18db11",
   "metadata": {},
   "outputs": [],
   "source": [
    "# временно присвоим категориальным данным числовые значения\n",
    "df['gender'] = df['gender'].replace('Ж','0').replace('М','1').astype('int')\n",
    "df['city'] = (df['city'].replace('Ростов Великий','1')\n",
    "              .replace('Рыбинск','2').replace('Ярославль','3').astype('int'))"
   ]
  },
  {
   "cell_type": "code",
   "execution_count": 7,
   "id": "307bcf38",
   "metadata": {},
   "outputs": [
    {
     "data": {
      "text/html": [
       "<div>\n",
       "<style scoped>\n",
       "    .dataframe tbody tr th:only-of-type {\n",
       "        vertical-align: middle;\n",
       "    }\n",
       "\n",
       "    .dataframe tbody tr th {\n",
       "        vertical-align: top;\n",
       "    }\n",
       "\n",
       "    .dataframe thead th {\n",
       "        text-align: right;\n",
       "    }\n",
       "</style>\n",
       "<table border=\"1\" class=\"dataframe\">\n",
       "  <thead>\n",
       "    <tr style=\"text-align: right;\">\n",
       "      <th></th>\n",
       "      <th>count</th>\n",
       "      <th>mean</th>\n",
       "      <th>std</th>\n",
       "      <th>min</th>\n",
       "      <th>25%</th>\n",
       "      <th>50%</th>\n",
       "      <th>75%</th>\n",
       "      <th>max</th>\n",
       "    </tr>\n",
       "  </thead>\n",
       "  <tbody>\n",
       "    <tr>\n",
       "      <th>user_id</th>\n",
       "      <td>3617.0</td>\n",
       "      <td>1.573469e+07</td>\n",
       "      <td>71947.494611</td>\n",
       "      <td>15608442.00</td>\n",
       "      <td>15672255.00</td>\n",
       "      <td>15736083.00</td>\n",
       "      <td>15796286.00</td>\n",
       "      <td>15858100.00</td>\n",
       "    </tr>\n",
       "    <tr>\n",
       "      <th>score</th>\n",
       "      <td>3617.0</td>\n",
       "      <td>6.494529e+02</td>\n",
       "      <td>96.158798</td>\n",
       "      <td>350.00</td>\n",
       "      <td>583.00</td>\n",
       "      <td>651.00</td>\n",
       "      <td>717.00</td>\n",
       "      <td>850.00</td>\n",
       "    </tr>\n",
       "    <tr>\n",
       "      <th>city</th>\n",
       "      <td>3617.0</td>\n",
       "      <td>2.668510e+00</td>\n",
       "      <td>0.470814</td>\n",
       "      <td>2.00</td>\n",
       "      <td>2.00</td>\n",
       "      <td>3.00</td>\n",
       "      <td>3.00</td>\n",
       "      <td>3.00</td>\n",
       "    </tr>\n",
       "    <tr>\n",
       "      <th>gender</th>\n",
       "      <td>3617.0</td>\n",
       "      <td>5.427150e-01</td>\n",
       "      <td>0.498241</td>\n",
       "      <td>0.00</td>\n",
       "      <td>0.00</td>\n",
       "      <td>1.00</td>\n",
       "      <td>1.00</td>\n",
       "      <td>1.00</td>\n",
       "    </tr>\n",
       "    <tr>\n",
       "      <th>age</th>\n",
       "      <td>3617.0</td>\n",
       "      <td>3.843489e+01</td>\n",
       "      <td>10.492002</td>\n",
       "      <td>18.00</td>\n",
       "      <td>31.00</td>\n",
       "      <td>37.00</td>\n",
       "      <td>43.00</td>\n",
       "      <td>88.00</td>\n",
       "    </tr>\n",
       "    <tr>\n",
       "      <th>objects</th>\n",
       "      <td>3617.0</td>\n",
       "      <td>5.071330e+00</td>\n",
       "      <td>2.860781</td>\n",
       "      <td>0.00</td>\n",
       "      <td>3.00</td>\n",
       "      <td>5.00</td>\n",
       "      <td>7.00</td>\n",
       "      <td>10.00</td>\n",
       "    </tr>\n",
       "    <tr>\n",
       "      <th>balance</th>\n",
       "      <td>0.0</td>\n",
       "      <td>NaN</td>\n",
       "      <td>NaN</td>\n",
       "      <td>NaN</td>\n",
       "      <td>NaN</td>\n",
       "      <td>NaN</td>\n",
       "      <td>NaN</td>\n",
       "      <td>NaN</td>\n",
       "    </tr>\n",
       "    <tr>\n",
       "      <th>products</th>\n",
       "      <td>3617.0</td>\n",
       "      <td>1.784628e+00</td>\n",
       "      <td>0.496455</td>\n",
       "      <td>1.00</td>\n",
       "      <td>1.00</td>\n",
       "      <td>2.00</td>\n",
       "      <td>2.00</td>\n",
       "      <td>4.00</td>\n",
       "    </tr>\n",
       "    <tr>\n",
       "      <th>creditcard</th>\n",
       "      <td>3617.0</td>\n",
       "      <td>7.166160e-01</td>\n",
       "      <td>0.450704</td>\n",
       "      <td>0.00</td>\n",
       "      <td>0.00</td>\n",
       "      <td>1.00</td>\n",
       "      <td>1.00</td>\n",
       "      <td>1.00</td>\n",
       "    </tr>\n",
       "    <tr>\n",
       "      <th>loyalty</th>\n",
       "      <td>3617.0</td>\n",
       "      <td>5.178325e-01</td>\n",
       "      <td>0.499751</td>\n",
       "      <td>0.00</td>\n",
       "      <td>0.00</td>\n",
       "      <td>1.00</td>\n",
       "      <td>1.00</td>\n",
       "      <td>1.00</td>\n",
       "    </tr>\n",
       "    <tr>\n",
       "      <th>estimated_salary</th>\n",
       "      <td>3617.0</td>\n",
       "      <td>9.898356e+04</td>\n",
       "      <td>57730.828955</td>\n",
       "      <td>90.07</td>\n",
       "      <td>49506.82</td>\n",
       "      <td>98618.79</td>\n",
       "      <td>148330.97</td>\n",
       "      <td>199992.48</td>\n",
       "    </tr>\n",
       "    <tr>\n",
       "      <th>churn</th>\n",
       "      <td>3617.0</td>\n",
       "      <td>1.382361e-01</td>\n",
       "      <td>0.345195</td>\n",
       "      <td>0.00</td>\n",
       "      <td>0.00</td>\n",
       "      <td>0.00</td>\n",
       "      <td>0.00</td>\n",
       "      <td>1.00</td>\n",
       "    </tr>\n",
       "  </tbody>\n",
       "</table>\n",
       "</div>"
      ],
      "text/plain": [
       "                   count          mean           std          min  \\\n",
       "user_id           3617.0  1.573469e+07  71947.494611  15608442.00   \n",
       "score             3617.0  6.494529e+02     96.158798       350.00   \n",
       "city              3617.0  2.668510e+00      0.470814         2.00   \n",
       "gender            3617.0  5.427150e-01      0.498241         0.00   \n",
       "age               3617.0  3.843489e+01     10.492002        18.00   \n",
       "objects           3617.0  5.071330e+00      2.860781         0.00   \n",
       "balance              0.0           NaN           NaN          NaN   \n",
       "products          3617.0  1.784628e+00      0.496455         1.00   \n",
       "creditcard        3617.0  7.166160e-01      0.450704         0.00   \n",
       "loyalty           3617.0  5.178325e-01      0.499751         0.00   \n",
       "estimated_salary  3617.0  9.898356e+04  57730.828955        90.07   \n",
       "churn             3617.0  1.382361e-01      0.345195         0.00   \n",
       "\n",
       "                          25%          50%          75%          max  \n",
       "user_id           15672255.00  15736083.00  15796286.00  15858100.00  \n",
       "score                  583.00       651.00       717.00       850.00  \n",
       "city                     2.00         3.00         3.00         3.00  \n",
       "gender                   0.00         1.00         1.00         1.00  \n",
       "age                     31.00        37.00        43.00        88.00  \n",
       "objects                  3.00         5.00         7.00        10.00  \n",
       "balance                   NaN          NaN          NaN          NaN  \n",
       "products                 1.00         2.00         2.00         4.00  \n",
       "creditcard               0.00         1.00         1.00         1.00  \n",
       "loyalty                  0.00         1.00         1.00         1.00  \n",
       "estimated_salary     49506.82     98618.79    148330.97    199992.48  \n",
       "churn                    0.00         0.00         0.00         1.00  "
      ]
     },
     "execution_count": 7,
     "metadata": {},
     "output_type": "execute_result"
    }
   ],
   "source": [
    "# посмотрим на распределения значений в разрезе незаполненных 'balance' \n",
    "balance_nan = df.query('balance != balance')\n",
    "balance_nan.describe().T"
   ]
  },
  {
   "cell_type": "markdown",
   "id": "278562dd",
   "metadata": {},
   "source": [
    "Видим, что в Ростове Великом нет пропусков в балансе на счёте"
   ]
  },
  {
   "cell_type": "markdown",
   "id": "d4cb3a52",
   "metadata": {},
   "source": [
    "**Посмотрим на распределение 'balance' в Рыбинске и Ярославле, для выявления способа заполнения пропусков**"
   ]
  },
  {
   "cell_type": "code",
   "execution_count": 8,
   "id": "696414a5",
   "metadata": {},
   "outputs": [],
   "source": [
    "# вернём категориальные значения обратно\n",
    "df['city'] = (df['city'].replace(1,'Ростов Великий')\n",
    "              .replace(2,'Рыбинск').replace(3,'Ярославль'))"
   ]
  },
  {
   "cell_type": "code",
   "execution_count": 9,
   "id": "b559968a",
   "metadata": {},
   "outputs": [
    {
     "data": {
      "text/plain": [
       "Ярославль         5014\n",
       "Ростов Великий    2509\n",
       "Рыбинск           2477\n",
       "Name: city, dtype: int64"
      ]
     },
     "execution_count": 9,
     "metadata": {},
     "output_type": "execute_result"
    }
   ],
   "source": [
    "# соотношение клиентов по городам\n",
    "df['city'].value_counts()"
   ]
  },
  {
   "cell_type": "code",
   "execution_count": 10,
   "id": "fb405489",
   "metadata": {},
   "outputs": [
    {
     "data": {
      "text/html": [
       "<div>\n",
       "<style scoped>\n",
       "    .dataframe tbody tr th:only-of-type {\n",
       "        vertical-align: middle;\n",
       "    }\n",
       "\n",
       "    .dataframe tbody tr th {\n",
       "        vertical-align: top;\n",
       "    }\n",
       "\n",
       "    .dataframe thead th {\n",
       "        text-align: right;\n",
       "    }\n",
       "</style>\n",
       "<table border=\"1\" class=\"dataframe\">\n",
       "  <thead>\n",
       "    <tr style=\"text-align: right;\">\n",
       "      <th></th>\n",
       "      <th>balance</th>\n",
       "    </tr>\n",
       "    <tr>\n",
       "      <th>city</th>\n",
       "      <th></th>\n",
       "    </tr>\n",
       "  </thead>\n",
       "  <tbody>\n",
       "    <tr>\n",
       "      <th>Ростов Великий</th>\n",
       "      <td>2509</td>\n",
       "    </tr>\n",
       "    <tr>\n",
       "      <th>Рыбинск</th>\n",
       "      <td>1278</td>\n",
       "    </tr>\n",
       "    <tr>\n",
       "      <th>Ярославль</th>\n",
       "      <td>2596</td>\n",
       "    </tr>\n",
       "  </tbody>\n",
       "</table>\n",
       "</div>"
      ],
      "text/plain": [
       "                balance\n",
       "city                   \n",
       "Ростов Великий     2509\n",
       "Рыбинск            1278\n",
       "Ярославль          2596"
      ]
     },
     "execution_count": 10,
     "metadata": {},
     "output_type": "execute_result"
    }
   ],
   "source": [
    "# проверим кол-во заполненных данных о балансе на счёте по городам\n",
    "df.groupby('city').agg({'balance':'count'})"
   ]
  },
  {
   "cell_type": "markdown",
   "id": "154ae3b7",
   "metadata": {},
   "source": [
    "В Рыбинске и Ярославле заполнена только половина данных о балансе."
   ]
  },
  {
   "cell_type": "code",
   "execution_count": 11,
   "id": "a7f9d4ad",
   "metadata": {},
   "outputs": [
    {
     "data": {
      "text/html": [
       "<div>\n",
       "<style scoped>\n",
       "    .dataframe tbody tr th:only-of-type {\n",
       "        vertical-align: middle;\n",
       "    }\n",
       "\n",
       "    .dataframe tbody tr th {\n",
       "        vertical-align: top;\n",
       "    }\n",
       "\n",
       "    .dataframe thead th {\n",
       "        text-align: right;\n",
       "    }\n",
       "</style>\n",
       "<table border=\"1\" class=\"dataframe\">\n",
       "  <thead>\n",
       "    <tr style=\"text-align: right;\">\n",
       "      <th></th>\n",
       "      <th>user_id</th>\n",
       "      <th>score</th>\n",
       "      <th>gender</th>\n",
       "      <th>age</th>\n",
       "      <th>objects</th>\n",
       "      <th>balance</th>\n",
       "      <th>products</th>\n",
       "      <th>creditcard</th>\n",
       "      <th>loyalty</th>\n",
       "      <th>estimated_salary</th>\n",
       "      <th>churn</th>\n",
       "    </tr>\n",
       "  </thead>\n",
       "  <tbody>\n",
       "    <tr>\n",
       "      <th>count</th>\n",
       "      <td>2.477000e+03</td>\n",
       "      <td>2477.000000</td>\n",
       "      <td>2477.000000</td>\n",
       "      <td>2477.000000</td>\n",
       "      <td>2477.000000</td>\n",
       "      <td>1278.000000</td>\n",
       "      <td>2477.000000</td>\n",
       "      <td>2477.000000</td>\n",
       "      <td>2477.000000</td>\n",
       "      <td>2477.000000</td>\n",
       "      <td>2477.000000</td>\n",
       "    </tr>\n",
       "    <tr>\n",
       "      <th>mean</th>\n",
       "      <td>1.573465e+07</td>\n",
       "      <td>651.333872</td>\n",
       "      <td>0.560355</td>\n",
       "      <td>38.890997</td>\n",
       "      <td>5.032297</td>\n",
       "      <td>119814.985923</td>\n",
       "      <td>1.539362</td>\n",
       "      <td>0.694792</td>\n",
       "      <td>0.529673</td>\n",
       "      <td>99440.572281</td>\n",
       "      <td>0.166734</td>\n",
       "    </tr>\n",
       "    <tr>\n",
       "      <th>std</th>\n",
       "      <td>7.176554e+04</td>\n",
       "      <td>94.365051</td>\n",
       "      <td>0.496444</td>\n",
       "      <td>10.446119</td>\n",
       "      <td>2.856660</td>\n",
       "      <td>32342.692736</td>\n",
       "      <td>0.564646</td>\n",
       "      <td>0.460588</td>\n",
       "      <td>0.499220</td>\n",
       "      <td>57103.678091</td>\n",
       "      <td>0.372813</td>\n",
       "    </tr>\n",
       "    <tr>\n",
       "      <th>min</th>\n",
       "      <td>1.560844e+07</td>\n",
       "      <td>350.000000</td>\n",
       "      <td>0.000000</td>\n",
       "      <td>18.000000</td>\n",
       "      <td>0.000000</td>\n",
       "      <td>12459.190000</td>\n",
       "      <td>1.000000</td>\n",
       "      <td>0.000000</td>\n",
       "      <td>0.000000</td>\n",
       "      <td>417.410000</td>\n",
       "      <td>0.000000</td>\n",
       "    </tr>\n",
       "    <tr>\n",
       "      <th>25%</th>\n",
       "      <td>1.567228e+07</td>\n",
       "      <td>587.000000</td>\n",
       "      <td>0.000000</td>\n",
       "      <td>32.000000</td>\n",
       "      <td>3.000000</td>\n",
       "      <td>98066.692500</td>\n",
       "      <td>1.000000</td>\n",
       "      <td>0.000000</td>\n",
       "      <td>0.000000</td>\n",
       "      <td>50267.690000</td>\n",
       "      <td>0.000000</td>\n",
       "    </tr>\n",
       "    <tr>\n",
       "      <th>50%</th>\n",
       "      <td>1.573453e+07</td>\n",
       "      <td>651.000000</td>\n",
       "      <td>1.000000</td>\n",
       "      <td>37.000000</td>\n",
       "      <td>5.000000</td>\n",
       "      <td>119726.450000</td>\n",
       "      <td>2.000000</td>\n",
       "      <td>1.000000</td>\n",
       "      <td>1.000000</td>\n",
       "      <td>99984.860000</td>\n",
       "      <td>0.000000</td>\n",
       "    </tr>\n",
       "    <tr>\n",
       "      <th>75%</th>\n",
       "      <td>1.579649e+07</td>\n",
       "      <td>715.000000</td>\n",
       "      <td>1.000000</td>\n",
       "      <td>44.000000</td>\n",
       "      <td>8.000000</td>\n",
       "      <td>140342.130000</td>\n",
       "      <td>2.000000</td>\n",
       "      <td>1.000000</td>\n",
       "      <td>1.000000</td>\n",
       "      <td>147278.430000</td>\n",
       "      <td>0.000000</td>\n",
       "    </tr>\n",
       "    <tr>\n",
       "      <th>max</th>\n",
       "      <td>1.585843e+07</td>\n",
       "      <td>850.000000</td>\n",
       "      <td>1.000000</td>\n",
       "      <td>88.000000</td>\n",
       "      <td>10.000000</td>\n",
       "      <td>250898.090000</td>\n",
       "      <td>4.000000</td>\n",
       "      <td>1.000000</td>\n",
       "      <td>1.000000</td>\n",
       "      <td>199992.480000</td>\n",
       "      <td>1.000000</td>\n",
       "    </tr>\n",
       "  </tbody>\n",
       "</table>\n",
       "</div>"
      ],
      "text/plain": [
       "            user_id        score       gender          age      objects  \\\n",
       "count  2.477000e+03  2477.000000  2477.000000  2477.000000  2477.000000   \n",
       "mean   1.573465e+07   651.333872     0.560355    38.890997     5.032297   \n",
       "std    7.176554e+04    94.365051     0.496444    10.446119     2.856660   \n",
       "min    1.560844e+07   350.000000     0.000000    18.000000     0.000000   \n",
       "25%    1.567228e+07   587.000000     0.000000    32.000000     3.000000   \n",
       "50%    1.573453e+07   651.000000     1.000000    37.000000     5.000000   \n",
       "75%    1.579649e+07   715.000000     1.000000    44.000000     8.000000   \n",
       "max    1.585843e+07   850.000000     1.000000    88.000000    10.000000   \n",
       "\n",
       "             balance     products   creditcard      loyalty  estimated_salary  \\\n",
       "count    1278.000000  2477.000000  2477.000000  2477.000000       2477.000000   \n",
       "mean   119814.985923     1.539362     0.694792     0.529673      99440.572281   \n",
       "std     32342.692736     0.564646     0.460588     0.499220      57103.678091   \n",
       "min     12459.190000     1.000000     0.000000     0.000000        417.410000   \n",
       "25%     98066.692500     1.000000     0.000000     0.000000      50267.690000   \n",
       "50%    119726.450000     2.000000     1.000000     1.000000      99984.860000   \n",
       "75%    140342.130000     2.000000     1.000000     1.000000     147278.430000   \n",
       "max    250898.090000     4.000000     1.000000     1.000000     199992.480000   \n",
       "\n",
       "             churn  \n",
       "count  2477.000000  \n",
       "mean      0.166734  \n",
       "std       0.372813  \n",
       "min       0.000000  \n",
       "25%       0.000000  \n",
       "50%       0.000000  \n",
       "75%       0.000000  \n",
       "max       1.000000  "
      ]
     },
     "execution_count": 11,
     "metadata": {},
     "output_type": "execute_result"
    }
   ],
   "source": [
    "# посмотрим на распределения в Рыбинске\n",
    "ribinsk = df.query('city == \"Рыбинск\"')\n",
    "ribinsk.describe()"
   ]
  },
  {
   "cell_type": "code",
   "execution_count": 12,
   "id": "7dd37155",
   "metadata": {},
   "outputs": [
    {
     "data": {
      "text/plain": [
       "<AxesSubplot:>"
      ]
     },
     "execution_count": 12,
     "metadata": {},
     "output_type": "execute_result"
    },
    {
     "data": {
      "image/png": "[encoded data removed]",
      "text/plain": [
       "<Figure size 432x288 with 1 Axes>"
      ]
     },
     "metadata": {
      "needs_background": "light"
     },
     "output_type": "display_data"
    }
   ],
   "source": [
    "# построим гистограмму распределения баланса га счёте для Рыбинска\n",
    "ribinsk['balance'].hist()"
   ]
  },
  {
   "cell_type": "code",
   "execution_count": 13,
   "id": "fc9cd750",
   "metadata": {},
   "outputs": [
    {
     "data": {
      "image/png": "[encoded data removed]",
      "text/plain": [
       "<Figure size 360x504 with 1 Axes>"
      ]
     },
     "metadata": {
      "needs_background": "light"
     },
     "output_type": "display_data"
    }
   ],
   "source": [
    "# посмотрим на выбросы в балансе на счёте в Рыбинске\n",
    "plt.figure(figsize=(5,7))\n",
    "ribinsk.boxplot(column=['balance'], color='blue') \n",
    "plt.ylabel('Баланс на счёте')\n",
    "plt.show()"
   ]
  },
  {
   "cell_type": "code",
   "execution_count": 14,
   "id": "f4ad4acb",
   "metadata": {},
   "outputs": [
    {
     "data": {
      "text/html": [
       "<div>\n",
       "<style scoped>\n",
       "    .dataframe tbody tr th:only-of-type {\n",
       "        vertical-align: middle;\n",
       "    }\n",
       "\n",
       "    .dataframe tbody tr th {\n",
       "        vertical-align: top;\n",
       "    }\n",
       "\n",
       "    .dataframe thead th {\n",
       "        text-align: right;\n",
       "    }\n",
       "</style>\n",
       "<table border=\"1\" class=\"dataframe\">\n",
       "  <thead>\n",
       "    <tr style=\"text-align: right;\">\n",
       "      <th></th>\n",
       "      <th>user_id</th>\n",
       "      <th>score</th>\n",
       "      <th>gender</th>\n",
       "      <th>age</th>\n",
       "      <th>objects</th>\n",
       "      <th>balance</th>\n",
       "      <th>products</th>\n",
       "      <th>creditcard</th>\n",
       "      <th>loyalty</th>\n",
       "      <th>estimated_salary</th>\n",
       "      <th>churn</th>\n",
       "    </tr>\n",
       "  </thead>\n",
       "  <tbody>\n",
       "    <tr>\n",
       "      <th>count</th>\n",
       "      <td>5.014000e+03</td>\n",
       "      <td>5014.000000</td>\n",
       "      <td>5014.000000</td>\n",
       "      <td>5014.000000</td>\n",
       "      <td>5014.000000</td>\n",
       "      <td>2596.000000</td>\n",
       "      <td>5014.000000</td>\n",
       "      <td>5014.000000</td>\n",
       "      <td>5014.000000</td>\n",
       "      <td>5014.000000</td>\n",
       "      <td>5014.000000</td>\n",
       "    </tr>\n",
       "    <tr>\n",
       "      <th>mean</th>\n",
       "      <td>1.573339e+07</td>\n",
       "      <td>649.668329</td>\n",
       "      <td>0.549063</td>\n",
       "      <td>38.511767</td>\n",
       "      <td>5.004587</td>\n",
       "      <td>119927.765597</td>\n",
       "      <td>1.530913</td>\n",
       "      <td>0.706621</td>\n",
       "      <td>0.516753</td>\n",
       "      <td>99899.180814</td>\n",
       "      <td>0.161548</td>\n",
       "    </tr>\n",
       "    <tr>\n",
       "      <th>std</th>\n",
       "      <td>7.137584e+04</td>\n",
       "      <td>97.016799</td>\n",
       "      <td>0.497637</td>\n",
       "      <td>10.469459</td>\n",
       "      <td>2.888475</td>\n",
       "      <td>31732.792620</td>\n",
       "      <td>0.570347</td>\n",
       "      <td>0.455356</td>\n",
       "      <td>0.499769</td>\n",
       "      <td>57336.289016</td>\n",
       "      <td>0.368072</td>\n",
       "    </tr>\n",
       "    <tr>\n",
       "      <th>min</th>\n",
       "      <td>1.560845e+07</td>\n",
       "      <td>350.000000</td>\n",
       "      <td>0.000000</td>\n",
       "      <td>18.000000</td>\n",
       "      <td>0.000000</td>\n",
       "      <td>3768.690000</td>\n",
       "      <td>1.000000</td>\n",
       "      <td>0.000000</td>\n",
       "      <td>0.000000</td>\n",
       "      <td>90.070000</td>\n",
       "      <td>0.000000</td>\n",
       "    </tr>\n",
       "    <tr>\n",
       "      <th>25%</th>\n",
       "      <td>1.567134e+07</td>\n",
       "      <td>582.000000</td>\n",
       "      <td>0.000000</td>\n",
       "      <td>31.000000</td>\n",
       "      <td>2.000000</td>\n",
       "      <td>98440.985000</td>\n",
       "      <td>1.000000</td>\n",
       "      <td>0.000000</td>\n",
       "      <td>0.000000</td>\n",
       "      <td>51399.190000</td>\n",
       "      <td>0.000000</td>\n",
       "    </tr>\n",
       "    <tr>\n",
       "      <th>50%</th>\n",
       "      <td>1.573351e+07</td>\n",
       "      <td>653.000000</td>\n",
       "      <td>1.000000</td>\n",
       "      <td>37.000000</td>\n",
       "      <td>5.000000</td>\n",
       "      <td>120135.155000</td>\n",
       "      <td>1.000000</td>\n",
       "      <td>1.000000</td>\n",
       "      <td>1.000000</td>\n",
       "      <td>99132.310000</td>\n",
       "      <td>0.000000</td>\n",
       "    </tr>\n",
       "    <tr>\n",
       "      <th>75%</th>\n",
       "      <td>1.579491e+07</td>\n",
       "      <td>717.000000</td>\n",
       "      <td>1.000000</td>\n",
       "      <td>43.000000</td>\n",
       "      <td>7.000000</td>\n",
       "      <td>141143.112500</td>\n",
       "      <td>2.000000</td>\n",
       "      <td>1.000000</td>\n",
       "      <td>1.000000</td>\n",
       "      <td>149295.360000</td>\n",
       "      <td>0.000000</td>\n",
       "    </tr>\n",
       "    <tr>\n",
       "      <th>max</th>\n",
       "      <td>1.585840e+07</td>\n",
       "      <td>850.000000</td>\n",
       "      <td>1.000000</td>\n",
       "      <td>92.000000</td>\n",
       "      <td>10.000000</td>\n",
       "      <td>238387.560000</td>\n",
       "      <td>4.000000</td>\n",
       "      <td>1.000000</td>\n",
       "      <td>1.000000</td>\n",
       "      <td>199929.170000</td>\n",
       "      <td>1.000000</td>\n",
       "    </tr>\n",
       "  </tbody>\n",
       "</table>\n",
       "</div>"
      ],
      "text/plain": [
       "            user_id        score       gender          age      objects  \\\n",
       "count  5.014000e+03  5014.000000  5014.000000  5014.000000  5014.000000   \n",
       "mean   1.573339e+07   649.668329     0.549063    38.511767     5.004587   \n",
       "std    7.137584e+04    97.016799     0.497637    10.469459     2.888475   \n",
       "min    1.560845e+07   350.000000     0.000000    18.000000     0.000000   \n",
       "25%    1.567134e+07   582.000000     0.000000    31.000000     2.000000   \n",
       "50%    1.573351e+07   653.000000     1.000000    37.000000     5.000000   \n",
       "75%    1.579491e+07   717.000000     1.000000    43.000000     7.000000   \n",
       "max    1.585840e+07   850.000000     1.000000    92.000000    10.000000   \n",
       "\n",
       "             balance     products   creditcard      loyalty  estimated_salary  \\\n",
       "count    2596.000000  5014.000000  5014.000000  5014.000000       5014.000000   \n",
       "mean   119927.765597     1.530913     0.706621     0.516753      99899.180814   \n",
       "std     31732.792620     0.570347     0.455356     0.499769      57336.289016   \n",
       "min      3768.690000     1.000000     0.000000     0.000000         90.070000   \n",
       "25%     98440.985000     1.000000     0.000000     0.000000      51399.190000   \n",
       "50%    120135.155000     1.000000     1.000000     1.000000      99132.310000   \n",
       "75%    141143.112500     2.000000     1.000000     1.000000     149295.360000   \n",
       "max    238387.560000     4.000000     1.000000     1.000000     199929.170000   \n",
       "\n",
       "             churn  \n",
       "count  5014.000000  \n",
       "mean      0.161548  \n",
       "std       0.368072  \n",
       "min       0.000000  \n",
       "25%       0.000000  \n",
       "50%       0.000000  \n",
       "75%       0.000000  \n",
       "max       1.000000  "
      ]
     },
     "execution_count": 14,
     "metadata": {},
     "output_type": "execute_result"
    }
   ],
   "source": [
    "# посмотрим на распределения в Ярославле\n",
    "yaroslavl = df.query('city == \"Ярославль\"')\n",
    "yaroslavl.describe()"
   ]
  },
  {
   "cell_type": "code",
   "execution_count": 15,
   "id": "870291a3",
   "metadata": {},
   "outputs": [
    {
     "data": {
      "text/plain": [
       "<AxesSubplot:>"
      ]
     },
     "execution_count": 15,
     "metadata": {},
     "output_type": "execute_result"
    },
    {
     "data": {
      "image/png": "[encoded data removed]",
      "text/plain": [
       "<Figure size 432x288 with 1 Axes>"
      ]
     },
     "metadata": {
      "needs_background": "light"
     },
     "output_type": "display_data"
    }
   ],
   "source": [
    "# построим гистограмму распределения баланса га счёте для Ярославля\n",
    "yaroslavl['balance'].hist()"
   ]
  },
  {
   "cell_type": "code",
   "execution_count": 16,
   "id": "8ba8e87f",
   "metadata": {},
   "outputs": [
    {
     "data": {
      "image/png": "[encoded data removed]",
      "text/plain": [
       "<Figure size 360x504 with 1 Axes>"
      ]
     },
     "metadata": {
      "needs_background": "light"
     },
     "output_type": "display_data"
    }
   ],
   "source": [
    "# посмотрим на выбросы в балансе на счёте в Яровлавле\n",
    "plt.figure(figsize=(5,7))\n",
    "yaroslavl.boxplot(column=['balance'], color='blue') \n",
    "plt.ylabel('Баланс на счёте')\n",
    "plt.show()"
   ]
  },
  {
   "cell_type": "code",
   "execution_count": 17,
   "id": "8e85644b",
   "metadata": {},
   "outputs": [
    {
     "data": {
      "text/plain": [
       "<AxesSubplot:xlabel='city', ylabel='balance'>"
      ]
     },
     "execution_count": 17,
     "metadata": {},
     "output_type": "execute_result"
    },
    {
     "data": {
      "image/png": "[encoded data removed]",
      "text/plain": [
       "<Figure size 360x504 with 1 Axes>"
      ]
     },
     "metadata": {
      "needs_background": "light"
     },
     "output_type": "display_data"
    }
   ],
   "source": [
    "# посмотрим на выбросы в 3 городах\n",
    "plt.figure(figsize =(5,7))\n",
    "sns.boxplot (data=df, x='city', y='balance', color='blue')"
   ]
  },
  {
   "cell_type": "markdown",
   "id": "14d77cf6",
   "metadata": {},
   "source": [
    "**Есть выбросы, но и без них разброс слишком большой, чтобы заполнять пропуски средним или медианой. С учётом того, что пропусков у нас 36%, считаю нужным оставить их для чистоты исследования.**"
   ]
  },
  {
   "cell_type": "markdown",
   "id": "34458e25",
   "metadata": {},
   "source": [
    "## Исследовательский анализ данных\n",
    "\n",
    "- Изучим средние значения и стандартные отклонения;\n",
    "- Проверим выбросы;\n",
    "- Посмотрим на средние значения признака \"churn\";\n",
    "- Построим столбчатые гистограммы и распределения признаков для тех, кто ушёл и тех, кто остался;\n",
    "- Построим матрицу корреляций."
   ]
  },
  {
   "cell_type": "markdown",
   "id": "86de75fd",
   "metadata": {},
   "source": [
    "### Изучим средние значения"
   ]
  },
  {
   "cell_type": "code",
   "execution_count": 18,
   "id": "18722a07",
   "metadata": {},
   "outputs": [
    {
     "data": {
      "text/plain": [
       "Ярославль         0.5014\n",
       "Ростов Великий    0.2509\n",
       "Рыбинск           0.2477\n",
       "Name: city, dtype: float64"
      ]
     },
     "execution_count": 18,
     "metadata": {},
     "output_type": "execute_result"
    }
   ],
   "source": [
    "# соотношение клиентов по городам\n",
    "df['city'].value_counts(True)"
   ]
  },
  {
   "cell_type": "code",
   "execution_count": 19,
   "id": "ed5c32cb",
   "metadata": {},
   "outputs": [
    {
     "data": {
      "text/html": [
       "<div>\n",
       "<style scoped>\n",
       "    .dataframe tbody tr th:only-of-type {\n",
       "        vertical-align: middle;\n",
       "    }\n",
       "\n",
       "    .dataframe tbody tr th {\n",
       "        vertical-align: top;\n",
       "    }\n",
       "\n",
       "    .dataframe thead th {\n",
       "        text-align: right;\n",
       "    }\n",
       "</style>\n",
       "<table border=\"1\" class=\"dataframe\">\n",
       "  <thead>\n",
       "    <tr style=\"text-align: right;\">\n",
       "      <th></th>\n",
       "      <th>user_id</th>\n",
       "      <th>score</th>\n",
       "      <th>gender</th>\n",
       "      <th>age</th>\n",
       "      <th>objects</th>\n",
       "      <th>balance</th>\n",
       "      <th>products</th>\n",
       "      <th>creditcard</th>\n",
       "      <th>loyalty</th>\n",
       "      <th>estimated_salary</th>\n",
       "      <th>churn</th>\n",
       "    </tr>\n",
       "  </thead>\n",
       "  <tbody>\n",
       "    <tr>\n",
       "      <th>count</th>\n",
       "      <td>1.000000e+04</td>\n",
       "      <td>10000.000000</td>\n",
       "      <td>10000.000000</td>\n",
       "      <td>10000.000000</td>\n",
       "      <td>10000.000000</td>\n",
       "      <td>6383.000000</td>\n",
       "      <td>10000.000000</td>\n",
       "      <td>10000.00000</td>\n",
       "      <td>10000.000000</td>\n",
       "      <td>10000.000000</td>\n",
       "      <td>10000.000000</td>\n",
       "    </tr>\n",
       "    <tr>\n",
       "      <th>mean</th>\n",
       "      <td>1.573368e+07</td>\n",
       "      <td>650.528800</td>\n",
       "      <td>0.545700</td>\n",
       "      <td>38.921800</td>\n",
       "      <td>5.012800</td>\n",
       "      <td>119827.493793</td>\n",
       "      <td>1.530200</td>\n",
       "      <td>0.70550</td>\n",
       "      <td>0.515100</td>\n",
       "      <td>100090.239881</td>\n",
       "      <td>0.203700</td>\n",
       "    </tr>\n",
       "    <tr>\n",
       "      <th>std</th>\n",
       "      <td>7.193619e+04</td>\n",
       "      <td>96.653299</td>\n",
       "      <td>0.497932</td>\n",
       "      <td>10.487806</td>\n",
       "      <td>2.892174</td>\n",
       "      <td>30095.056462</td>\n",
       "      <td>0.581654</td>\n",
       "      <td>0.45584</td>\n",
       "      <td>0.499797</td>\n",
       "      <td>57510.492818</td>\n",
       "      <td>0.402769</td>\n",
       "    </tr>\n",
       "    <tr>\n",
       "      <th>min</th>\n",
       "      <td>1.560844e+07</td>\n",
       "      <td>350.000000</td>\n",
       "      <td>0.000000</td>\n",
       "      <td>18.000000</td>\n",
       "      <td>0.000000</td>\n",
       "      <td>3768.690000</td>\n",
       "      <td>1.000000</td>\n",
       "      <td>0.00000</td>\n",
       "      <td>0.000000</td>\n",
       "      <td>11.580000</td>\n",
       "      <td>0.000000</td>\n",
       "    </tr>\n",
       "    <tr>\n",
       "      <th>25%</th>\n",
       "      <td>1.567126e+07</td>\n",
       "      <td>584.000000</td>\n",
       "      <td>0.000000</td>\n",
       "      <td>32.000000</td>\n",
       "      <td>3.000000</td>\n",
       "      <td>100181.975000</td>\n",
       "      <td>1.000000</td>\n",
       "      <td>0.00000</td>\n",
       "      <td>0.000000</td>\n",
       "      <td>51002.110000</td>\n",
       "      <td>0.000000</td>\n",
       "    </tr>\n",
       "    <tr>\n",
       "      <th>50%</th>\n",
       "      <td>1.573347e+07</td>\n",
       "      <td>652.000000</td>\n",
       "      <td>1.000000</td>\n",
       "      <td>37.000000</td>\n",
       "      <td>5.000000</td>\n",
       "      <td>119839.690000</td>\n",
       "      <td>1.000000</td>\n",
       "      <td>1.00000</td>\n",
       "      <td>1.000000</td>\n",
       "      <td>100193.915000</td>\n",
       "      <td>0.000000</td>\n",
       "    </tr>\n",
       "    <tr>\n",
       "      <th>75%</th>\n",
       "      <td>1.579597e+07</td>\n",
       "      <td>718.000000</td>\n",
       "      <td>1.000000</td>\n",
       "      <td>44.000000</td>\n",
       "      <td>7.000000</td>\n",
       "      <td>139512.290000</td>\n",
       "      <td>2.000000</td>\n",
       "      <td>1.00000</td>\n",
       "      <td>1.000000</td>\n",
       "      <td>149388.247500</td>\n",
       "      <td>0.000000</td>\n",
       "    </tr>\n",
       "    <tr>\n",
       "      <th>max</th>\n",
       "      <td>1.585843e+07</td>\n",
       "      <td>850.000000</td>\n",
       "      <td>1.000000</td>\n",
       "      <td>92.000000</td>\n",
       "      <td>10.000000</td>\n",
       "      <td>250898.090000</td>\n",
       "      <td>4.000000</td>\n",
       "      <td>1.00000</td>\n",
       "      <td>1.000000</td>\n",
       "      <td>199992.480000</td>\n",
       "      <td>1.000000</td>\n",
       "    </tr>\n",
       "  </tbody>\n",
       "</table>\n",
       "</div>"
      ],
      "text/plain": [
       "            user_id         score        gender           age       objects  \\\n",
       "count  1.000000e+04  10000.000000  10000.000000  10000.000000  10000.000000   \n",
       "mean   1.573368e+07    650.528800      0.545700     38.921800      5.012800   \n",
       "std    7.193619e+04     96.653299      0.497932     10.487806      2.892174   \n",
       "min    1.560844e+07    350.000000      0.000000     18.000000      0.000000   \n",
       "25%    1.567126e+07    584.000000      0.000000     32.000000      3.000000   \n",
       "50%    1.573347e+07    652.000000      1.000000     37.000000      5.000000   \n",
       "75%    1.579597e+07    718.000000      1.000000     44.000000      7.000000   \n",
       "max    1.585843e+07    850.000000      1.000000     92.000000     10.000000   \n",
       "\n",
       "             balance      products   creditcard       loyalty  \\\n",
       "count    6383.000000  10000.000000  10000.00000  10000.000000   \n",
       "mean   119827.493793      1.530200      0.70550      0.515100   \n",
       "std     30095.056462      0.581654      0.45584      0.499797   \n",
       "min      3768.690000      1.000000      0.00000      0.000000   \n",
       "25%    100181.975000      1.000000      0.00000      0.000000   \n",
       "50%    119839.690000      1.000000      1.00000      1.000000   \n",
       "75%    139512.290000      2.000000      1.00000      1.000000   \n",
       "max    250898.090000      4.000000      1.00000      1.000000   \n",
       "\n",
       "       estimated_salary         churn  \n",
       "count      10000.000000  10000.000000  \n",
       "mean      100090.239881      0.203700  \n",
       "std        57510.492818      0.402769  \n",
       "min           11.580000      0.000000  \n",
       "25%        51002.110000      0.000000  \n",
       "50%       100193.915000      0.000000  \n",
       "75%       149388.247500      0.000000  \n",
       "max       199992.480000      1.000000  "
      ]
     },
     "execution_count": 19,
     "metadata": {},
     "output_type": "execute_result"
    }
   ],
   "source": [
    "# посмотрим на средние значения и стандартные отклонения\n",
    "df.describe()"
   ]
  },
  {
   "cell_type": "markdown",
   "id": "b237969e",
   "metadata": {},
   "source": [
    "![jupyter](https://investvlg.ru/800/600/https/p2.zoon.ru/b/9/58e25dd940c08885708ceda2_5d563d8ec3280.jpg)"
   ]
  },
  {
   "cell_type": "code",
   "execution_count": 20,
   "id": "d704131b",
   "metadata": {
    "scrolled": true
   },
   "outputs": [
    {
     "data": {
      "image/png": "[encoded data removed]",
      "text/plain": [
       "<Figure size 216x216 with 1 Axes>"
      ]
     },
     "metadata": {
      "needs_background": "light"
     },
     "output_type": "display_data"
    }
   ],
   "source": [
    "plt.figure(figsize =(3,3))\n",
    "df.boxplot(column=['score'], color ='blue') \n",
    "plt.ylabel('Баланс на счёте')\n",
    "plt.show()"
   ]
  },
  {
   "cell_type": "markdown",
   "id": "a290dbb4",
   "metadata": {},
   "source": [
    "-  Средний балл кредитного скоринга - **650** и общее распределение значения \"score\" говорит о хорошей возможности большенства клиентов получить кредит;\n",
    "- Разделение М/Ж - **55%/45%**;\n",
    "- Средний возраст - **39 лет**;\n",
    "- В среднем у клиентов по **5** объектов;\n",
    "- Средняя сумма на балансе - **120.000**;\n",
    "- Активных клиентов немного больше - **51,5%**;\n",
    "- Средняя заработная плата - **100.000**;\n",
    "- Ушедших клиентов примерно **20%**.\n"
   ]
  },
  {
   "cell_type": "markdown",
   "id": "4ccf5673",
   "metadata": {},
   "source": [
    "### Проверим выбросы"
   ]
  },
  {
   "cell_type": "markdown",
   "id": "a65b52d2",
   "metadata": {},
   "source": [
    "посмотрим на выбросы в разрезе оттока\n",
    "for col in df:\n",
    "    plt.figure(figsize =(3,3))\n",
    "    sns.boxplot(data=df, x='churn', y=col, palette ='Blues')"
   ]
  },
  {
   "cell_type": "code",
   "execution_count": 21,
   "id": "c2434ded",
   "metadata": {
    "scrolled": false
   },
   "outputs": [
    {
     "data": {
      "image/png": "[encoded data removed]",
      "text/plain": [
       "<Figure size 864x864 with 2 Axes>"
      ]
     },
     "metadata": {
      "needs_background": "light"
     },
     "output_type": "display_data"
    },
    {
     "data": {
      "image/png": "[encoded data removed]",
      "text/plain": [
       "<Figure size 864x864 with 2 Axes>"
      ]
     },
     "metadata": {
      "needs_background": "light"
     },
     "output_type": "display_data"
    },
    {
     "data": {
      "image/png": "[encoded data removed]",
      "text/plain": [
       "<Figure size 864x864 with 2 Axes>"
      ]
     },
     "metadata": {
      "needs_background": "light"
     },
     "output_type": "display_data"
    },
    {
     "data": {
      "image/png": "[encoded data removed]",
      "text/plain": [
       "<Figure size 864x864 with 2 Axes>"
      ]
     },
     "metadata": {
      "needs_background": "light"
     },
     "output_type": "display_data"
    },
    {
     "data": {
      "image/png": "[encoded data removed]",
      "text/plain": [
       "<Figure size 864x864 with 2 Axes>"
      ]
     },
     "metadata": {
      "needs_background": "light"
     },
     "output_type": "display_data"
    },
    {
     "data": {
      "image/png": "[encoded data removed]",
      "text/plain": [
       "<Figure size 864x864 with 2 Axes>"
      ]
     },
     "metadata": {
      "needs_background": "light"
     },
     "output_type": "display_data"
    },
    {
     "data": {
      "image/png": "[encoded data removed]",
      "text/plain": [
       "<Figure size 864x864 with 2 Axes>"
      ]
     },
     "metadata": {
      "needs_background": "light"
     },
     "output_type": "display_data"
    },
    {
     "data": {
      "image/png": "[encoded data removed]",
      "text/plain": [
       "<Figure size 864x864 with 2 Axes>"
      ]
     },
     "metadata": {
      "needs_background": "light"
     },
     "output_type": "display_data"
    },
    {
     "data": {
      "image/png": "[encoded data removed]",
      "text/plain": [
       "<Figure size 864x864 with 2 Axes>"
      ]
     },
     "metadata": {
      "needs_background": "light"
     },
     "output_type": "display_data"
    },
    {
     "data": {
      "image/png": "[encoded data removed]",
      "text/plain": [
       "<Figure size 864x864 with 2 Axes>"
      ]
     },
     "metadata": {
      "needs_background": "light"
     },
     "output_type": "display_data"
    },
    {
     "data": {
      "image/png": "[encoded data removed]",
      "text/plain": [
       "<Figure size 864x864 with 2 Axes>"
      ]
     },
     "metadata": {
      "needs_background": "light"
     },
     "output_type": "display_data"
    },
    {
     "data": {
      "image/png": "[encoded data removed]",
      "text/plain": [
       "<Figure size 864x864 with 2 Axes>"
      ]
     },
     "metadata": {
      "needs_background": "light"
     },
     "output_type": "display_data"
    }
   ],
   "source": [
    "# посмотрим на выбросы в разрезе оттока\n",
    "churn_0 = df.query('churn == 0') \n",
    "churn_1 = df.query('churn == 1')\n",
    "\n",
    "for col in df:\n",
    "    plt.figure(figsize =(12,12))\n",
    "    ax1 = plt.subplot(2,3,1)\n",
    "    ax1 = sns.boxplot(data=churn_0, x='churn', y=col, color = 'Skyblue')\n",
    "    \n",
    "    ax2 = plt.subplot(2,3,3)\n",
    "    ax2 = sns.boxplot(data=churn_1, x='churn', y=col, color ='blue')\n",
    "    plt.show()"
   ]
  },
  {
   "cell_type": "markdown",
   "id": "b73368c3",
   "metadata": {},
   "source": [
    "**Выделяются следующие выбросы:**\n",
    "\n",
    "- баллы скоринга меньше 390 у ушедших;\n",
    "- возраст больше 57 лет у оставшихся;\n",
    "- возраст меньше 19 лет и больше 70 лет у ушедших;\n",
    "- баланс на счёте меньше 45.000 и больше 200.000 у оставшихся;\n",
    "- баланс на счёте меньше 51.000 и больше 190.000 у ушедших;\n",
    "- количество продуктов равное 4 у ушедших."
   ]
  },
  {
   "cell_type": "markdown",
   "id": "70577479",
   "metadata": {},
   "source": [
    "### Посмотрим на средние значения признака \"churn\""
   ]
  },
  {
   "cell_type": "code",
   "execution_count": 22,
   "id": "ec12e5ed",
   "metadata": {},
   "outputs": [
    {
     "data": {
      "text/plain": [
       "0    7963\n",
       "1    2037\n",
       "Name: churn, dtype: int64"
      ]
     },
     "execution_count": 22,
     "metadata": {},
     "output_type": "execute_result"
    }
   ],
   "source": [
    "df['churn'].value_counts()"
   ]
  },
  {
   "cell_type": "code",
   "execution_count": 23,
   "id": "d3925849",
   "metadata": {},
   "outputs": [],
   "source": [
    "# вновь присвоим городам числовые значения\n",
    "df['city'] = (df['city'].replace('Ростов Великий','1')\n",
    "              .replace('Рыбинск','2').replace('Ярославль','3').astype('int'))\n",
    "\n",
    "churn_0 = df.query('churn == 0') \n",
    "churn_1 = df.query('churn == 1')"
   ]
  },
  {
   "cell_type": "markdown",
   "id": "812238b9",
   "metadata": {},
   "source": [
    "**Проверим уровень оттока по городам**"
   ]
  },
  {
   "cell_type": "code",
   "execution_count": 24,
   "id": "54ffe8f8",
   "metadata": {},
   "outputs": [
    {
     "data": {
      "text/plain": [
       "0    0.675568\n",
       "1    0.324432\n",
       "Name: churn, dtype: float64"
      ]
     },
     "execution_count": 24,
     "metadata": {},
     "output_type": "execute_result"
    }
   ],
   "source": [
    "df.query('city == 1')['churn'].value_counts(normalize=True)"
   ]
  },
  {
   "cell_type": "code",
   "execution_count": 25,
   "id": "c1d33c41",
   "metadata": {},
   "outputs": [
    {
     "data": {
      "text/plain": [
       "0    0.833266\n",
       "1    0.166734\n",
       "Name: churn, dtype: float64"
      ]
     },
     "execution_count": 25,
     "metadata": {},
     "output_type": "execute_result"
    }
   ],
   "source": [
    "df.query('city == 2')['churn'].value_counts(normalize=True)"
   ]
  },
  {
   "cell_type": "code",
   "execution_count": 26,
   "id": "37b8cab9",
   "metadata": {},
   "outputs": [
    {
     "data": {
      "text/plain": [
       "0    0.838452\n",
       "1    0.161548\n",
       "Name: churn, dtype: float64"
      ]
     },
     "execution_count": 26,
     "metadata": {},
     "output_type": "execute_result"
    }
   ],
   "source": [
    "df.query('city == 3')['churn'].value_counts(normalize=True)"
   ]
  },
  {
   "cell_type": "markdown",
   "id": "cb537def",
   "metadata": {},
   "source": [
    "**Уровень оттока в Ростове Великом в 2 раза выше чем в других городах 32% против 16%.**"
   ]
  },
  {
   "cell_type": "code",
   "execution_count": 27,
   "id": "ea5038b8",
   "metadata": {},
   "outputs": [
    {
     "data": {
      "text/html": [
       "<div>\n",
       "<style scoped>\n",
       "    .dataframe tbody tr th:only-of-type {\n",
       "        vertical-align: middle;\n",
       "    }\n",
       "\n",
       "    .dataframe tbody tr th {\n",
       "        vertical-align: top;\n",
       "    }\n",
       "\n",
       "    .dataframe thead th {\n",
       "        text-align: right;\n",
       "    }\n",
       "</style>\n",
       "<table border=\"1\" class=\"dataframe\">\n",
       "  <thead>\n",
       "    <tr style=\"text-align: right;\">\n",
       "      <th></th>\n",
       "      <th>count</th>\n",
       "      <th>mean</th>\n",
       "      <th>std</th>\n",
       "      <th>min</th>\n",
       "      <th>25%</th>\n",
       "      <th>50%</th>\n",
       "      <th>75%</th>\n",
       "      <th>max</th>\n",
       "    </tr>\n",
       "  </thead>\n",
       "  <tbody>\n",
       "    <tr>\n",
       "      <th>user_id</th>\n",
       "      <td>7963.0</td>\n",
       "      <td>15733903.88</td>\n",
       "      <td>71744.23</td>\n",
       "      <td>15608437.00</td>\n",
       "      <td>15671554.50</td>\n",
       "      <td>15734279.00</td>\n",
       "      <td>15796088.50</td>\n",
       "      <td>15858426.00</td>\n",
       "    </tr>\n",
       "    <tr>\n",
       "      <th>score</th>\n",
       "      <td>7963.0</td>\n",
       "      <td>651.85</td>\n",
       "      <td>95.65</td>\n",
       "      <td>405.00</td>\n",
       "      <td>585.00</td>\n",
       "      <td>653.00</td>\n",
       "      <td>718.00</td>\n",
       "      <td>850.00</td>\n",
       "    </tr>\n",
       "    <tr>\n",
       "      <th>city</th>\n",
       "      <td>7963.0</td>\n",
       "      <td>2.32</td>\n",
       "      <td>0.80</td>\n",
       "      <td>1.00</td>\n",
       "      <td>2.00</td>\n",
       "      <td>3.00</td>\n",
       "      <td>3.00</td>\n",
       "      <td>3.00</td>\n",
       "    </tr>\n",
       "    <tr>\n",
       "      <th>gender</th>\n",
       "      <td>7963.0</td>\n",
       "      <td>0.57</td>\n",
       "      <td>0.49</td>\n",
       "      <td>0.00</td>\n",
       "      <td>0.00</td>\n",
       "      <td>1.00</td>\n",
       "      <td>1.00</td>\n",
       "      <td>1.00</td>\n",
       "    </tr>\n",
       "    <tr>\n",
       "      <th>age</th>\n",
       "      <td>7963.0</td>\n",
       "      <td>37.41</td>\n",
       "      <td>10.13</td>\n",
       "      <td>18.00</td>\n",
       "      <td>31.00</td>\n",
       "      <td>36.00</td>\n",
       "      <td>41.00</td>\n",
       "      <td>92.00</td>\n",
       "    </tr>\n",
       "    <tr>\n",
       "      <th>objects</th>\n",
       "      <td>7963.0</td>\n",
       "      <td>5.03</td>\n",
       "      <td>2.88</td>\n",
       "      <td>0.00</td>\n",
       "      <td>3.00</td>\n",
       "      <td>5.00</td>\n",
       "      <td>7.00</td>\n",
       "      <td>10.00</td>\n",
       "    </tr>\n",
       "    <tr>\n",
       "      <th>balance</th>\n",
       "      <td>4846.0</td>\n",
       "      <td>119535.86</td>\n",
       "      <td>29944.93</td>\n",
       "      <td>14262.80</td>\n",
       "      <td>99118.23</td>\n",
       "      <td>119791.22</td>\n",
       "      <td>139747.40</td>\n",
       "      <td>221532.80</td>\n",
       "    </tr>\n",
       "    <tr>\n",
       "      <th>products</th>\n",
       "      <td>7963.0</td>\n",
       "      <td>1.54</td>\n",
       "      <td>0.51</td>\n",
       "      <td>1.00</td>\n",
       "      <td>1.00</td>\n",
       "      <td>2.00</td>\n",
       "      <td>2.00</td>\n",
       "      <td>3.00</td>\n",
       "    </tr>\n",
       "    <tr>\n",
       "      <th>creditcard</th>\n",
       "      <td>7963.0</td>\n",
       "      <td>0.71</td>\n",
       "      <td>0.46</td>\n",
       "      <td>0.00</td>\n",
       "      <td>0.00</td>\n",
       "      <td>1.00</td>\n",
       "      <td>1.00</td>\n",
       "      <td>1.00</td>\n",
       "    </tr>\n",
       "    <tr>\n",
       "      <th>loyalty</th>\n",
       "      <td>7963.0</td>\n",
       "      <td>0.55</td>\n",
       "      <td>0.50</td>\n",
       "      <td>0.00</td>\n",
       "      <td>0.00</td>\n",
       "      <td>1.00</td>\n",
       "      <td>1.00</td>\n",
       "      <td>1.00</td>\n",
       "    </tr>\n",
       "    <tr>\n",
       "      <th>estimated_salary</th>\n",
       "      <td>7963.0</td>\n",
       "      <td>99738.39</td>\n",
       "      <td>57405.59</td>\n",
       "      <td>90.07</td>\n",
       "      <td>50783.49</td>\n",
       "      <td>99645.04</td>\n",
       "      <td>148609.96</td>\n",
       "      <td>199992.48</td>\n",
       "    </tr>\n",
       "    <tr>\n",
       "      <th>churn</th>\n",
       "      <td>7963.0</td>\n",
       "      <td>0.00</td>\n",
       "      <td>0.00</td>\n",
       "      <td>0.00</td>\n",
       "      <td>0.00</td>\n",
       "      <td>0.00</td>\n",
       "      <td>0.00</td>\n",
       "      <td>0.00</td>\n",
       "    </tr>\n",
       "  </tbody>\n",
       "</table>\n",
       "</div>"
      ],
      "text/plain": [
       "                   count         mean       std          min          25%  \\\n",
       "user_id           7963.0  15733903.88  71744.23  15608437.00  15671554.50   \n",
       "score             7963.0       651.85     95.65       405.00       585.00   \n",
       "city              7963.0         2.32      0.80         1.00         2.00   \n",
       "gender            7963.0         0.57      0.49         0.00         0.00   \n",
       "age               7963.0        37.41     10.13        18.00        31.00   \n",
       "objects           7963.0         5.03      2.88         0.00         3.00   \n",
       "balance           4846.0    119535.86  29944.93     14262.80     99118.23   \n",
       "products          7963.0         1.54      0.51         1.00         1.00   \n",
       "creditcard        7963.0         0.71      0.46         0.00         0.00   \n",
       "loyalty           7963.0         0.55      0.50         0.00         0.00   \n",
       "estimated_salary  7963.0     99738.39  57405.59        90.07     50783.49   \n",
       "churn             7963.0         0.00      0.00         0.00         0.00   \n",
       "\n",
       "                          50%          75%          max  \n",
       "user_id           15734279.00  15796088.50  15858426.00  \n",
       "score                  653.00       718.00       850.00  \n",
       "city                     3.00         3.00         3.00  \n",
       "gender                   1.00         1.00         1.00  \n",
       "age                     36.00        41.00        92.00  \n",
       "objects                  5.00         7.00        10.00  \n",
       "balance             119791.22    139747.40    221532.80  \n",
       "products                 2.00         2.00         3.00  \n",
       "creditcard               1.00         1.00         1.00  \n",
       "loyalty                  1.00         1.00         1.00  \n",
       "estimated_salary     99645.04    148609.96    199992.48  \n",
       "churn                    0.00         0.00         0.00  "
      ]
     },
     "execution_count": 27,
     "metadata": {},
     "output_type": "execute_result"
    }
   ],
   "source": [
    "# посмотрим на средние оставшихся\n",
    "churn_0.describe().T.round(2)"
   ]
  },
  {
   "cell_type": "code",
   "execution_count": 28,
   "id": "7726d783",
   "metadata": {},
   "outputs": [
    {
     "data": {
      "text/html": [
       "<div>\n",
       "<style scoped>\n",
       "    .dataframe tbody tr th:only-of-type {\n",
       "        vertical-align: middle;\n",
       "    }\n",
       "\n",
       "    .dataframe tbody tr th {\n",
       "        vertical-align: top;\n",
       "    }\n",
       "\n",
       "    .dataframe thead th {\n",
       "        text-align: right;\n",
       "    }\n",
       "</style>\n",
       "<table border=\"1\" class=\"dataframe\">\n",
       "  <thead>\n",
       "    <tr style=\"text-align: right;\">\n",
       "      <th></th>\n",
       "      <th>count</th>\n",
       "      <th>mean</th>\n",
       "      <th>std</th>\n",
       "      <th>min</th>\n",
       "      <th>25%</th>\n",
       "      <th>50%</th>\n",
       "      <th>75%</th>\n",
       "      <th>max</th>\n",
       "    </tr>\n",
       "  </thead>\n",
       "  <tbody>\n",
       "    <tr>\n",
       "      <th>user_id</th>\n",
       "      <td>2037.0</td>\n",
       "      <td>15732787.96</td>\n",
       "      <td>72692.62</td>\n",
       "      <td>15608442.00</td>\n",
       "      <td>15670096.00</td>\n",
       "      <td>15731699.00</td>\n",
       "      <td>15795828.00</td>\n",
       "      <td>15858392.00</td>\n",
       "    </tr>\n",
       "    <tr>\n",
       "      <th>score</th>\n",
       "      <td>2037.0</td>\n",
       "      <td>645.35</td>\n",
       "      <td>100.32</td>\n",
       "      <td>350.00</td>\n",
       "      <td>578.00</td>\n",
       "      <td>646.00</td>\n",
       "      <td>716.00</td>\n",
       "      <td>850.00</td>\n",
       "    </tr>\n",
       "    <tr>\n",
       "      <th>city</th>\n",
       "      <td>2037.0</td>\n",
       "      <td>2.00</td>\n",
       "      <td>0.89</td>\n",
       "      <td>1.00</td>\n",
       "      <td>1.00</td>\n",
       "      <td>2.00</td>\n",
       "      <td>3.00</td>\n",
       "      <td>3.00</td>\n",
       "    </tr>\n",
       "    <tr>\n",
       "      <th>gender</th>\n",
       "      <td>2037.0</td>\n",
       "      <td>0.44</td>\n",
       "      <td>0.50</td>\n",
       "      <td>0.00</td>\n",
       "      <td>0.00</td>\n",
       "      <td>0.00</td>\n",
       "      <td>1.00</td>\n",
       "      <td>1.00</td>\n",
       "    </tr>\n",
       "    <tr>\n",
       "      <th>age</th>\n",
       "      <td>2037.0</td>\n",
       "      <td>44.84</td>\n",
       "      <td>9.76</td>\n",
       "      <td>18.00</td>\n",
       "      <td>38.00</td>\n",
       "      <td>45.00</td>\n",
       "      <td>51.00</td>\n",
       "      <td>84.00</td>\n",
       "    </tr>\n",
       "    <tr>\n",
       "      <th>objects</th>\n",
       "      <td>2037.0</td>\n",
       "      <td>4.93</td>\n",
       "      <td>2.94</td>\n",
       "      <td>0.00</td>\n",
       "      <td>2.00</td>\n",
       "      <td>5.00</td>\n",
       "      <td>8.00</td>\n",
       "      <td>10.00</td>\n",
       "    </tr>\n",
       "    <tr>\n",
       "      <th>balance</th>\n",
       "      <td>1537.0</td>\n",
       "      <td>120746.97</td>\n",
       "      <td>30555.19</td>\n",
       "      <td>3768.69</td>\n",
       "      <td>103700.69</td>\n",
       "      <td>119948.09</td>\n",
       "      <td>137986.58</td>\n",
       "      <td>250898.09</td>\n",
       "    </tr>\n",
       "    <tr>\n",
       "      <th>products</th>\n",
       "      <td>2037.0</td>\n",
       "      <td>1.48</td>\n",
       "      <td>0.80</td>\n",
       "      <td>1.00</td>\n",
       "      <td>1.00</td>\n",
       "      <td>1.00</td>\n",
       "      <td>2.00</td>\n",
       "      <td>4.00</td>\n",
       "    </tr>\n",
       "    <tr>\n",
       "      <th>creditcard</th>\n",
       "      <td>2037.0</td>\n",
       "      <td>0.70</td>\n",
       "      <td>0.46</td>\n",
       "      <td>0.00</td>\n",
       "      <td>0.00</td>\n",
       "      <td>1.00</td>\n",
       "      <td>1.00</td>\n",
       "      <td>1.00</td>\n",
       "    </tr>\n",
       "    <tr>\n",
       "      <th>loyalty</th>\n",
       "      <td>2037.0</td>\n",
       "      <td>0.36</td>\n",
       "      <td>0.48</td>\n",
       "      <td>0.00</td>\n",
       "      <td>0.00</td>\n",
       "      <td>0.00</td>\n",
       "      <td>1.00</td>\n",
       "      <td>1.00</td>\n",
       "    </tr>\n",
       "    <tr>\n",
       "      <th>estimated_salary</th>\n",
       "      <td>2037.0</td>\n",
       "      <td>101465.68</td>\n",
       "      <td>57912.42</td>\n",
       "      <td>11.58</td>\n",
       "      <td>51907.72</td>\n",
       "      <td>102460.84</td>\n",
       "      <td>152422.91</td>\n",
       "      <td>199808.10</td>\n",
       "    </tr>\n",
       "    <tr>\n",
       "      <th>churn</th>\n",
       "      <td>2037.0</td>\n",
       "      <td>1.00</td>\n",
       "      <td>0.00</td>\n",
       "      <td>1.00</td>\n",
       "      <td>1.00</td>\n",
       "      <td>1.00</td>\n",
       "      <td>1.00</td>\n",
       "      <td>1.00</td>\n",
       "    </tr>\n",
       "  </tbody>\n",
       "</table>\n",
       "</div>"
      ],
      "text/plain": [
       "                   count         mean       std          min          25%  \\\n",
       "user_id           2037.0  15732787.96  72692.62  15608442.00  15670096.00   \n",
       "score             2037.0       645.35    100.32       350.00       578.00   \n",
       "city              2037.0         2.00      0.89         1.00         1.00   \n",
       "gender            2037.0         0.44      0.50         0.00         0.00   \n",
       "age               2037.0        44.84      9.76        18.00        38.00   \n",
       "objects           2037.0         4.93      2.94         0.00         2.00   \n",
       "balance           1537.0    120746.97  30555.19      3768.69    103700.69   \n",
       "products          2037.0         1.48      0.80         1.00         1.00   \n",
       "creditcard        2037.0         0.70      0.46         0.00         0.00   \n",
       "loyalty           2037.0         0.36      0.48         0.00         0.00   \n",
       "estimated_salary  2037.0    101465.68  57912.42        11.58     51907.72   \n",
       "churn             2037.0         1.00      0.00         1.00         1.00   \n",
       "\n",
       "                          50%          75%          max  \n",
       "user_id           15731699.00  15795828.00  15858392.00  \n",
       "score                  646.00       716.00       850.00  \n",
       "city                     2.00         3.00         3.00  \n",
       "gender                   0.00         1.00         1.00  \n",
       "age                     45.00        51.00        84.00  \n",
       "objects                  5.00         8.00        10.00  \n",
       "balance             119948.09    137986.58    250898.09  \n",
       "products                 1.00         2.00         4.00  \n",
       "creditcard               1.00         1.00         1.00  \n",
       "loyalty                  0.00         1.00         1.00  \n",
       "estimated_salary    102460.84    152422.91    199808.10  \n",
       "churn                    1.00         1.00         1.00  "
      ]
     },
     "execution_count": 28,
     "metadata": {},
     "output_type": "execute_result"
    }
   ],
   "source": [
    "# посмотрим на средние ушедших\n",
    "churn_1.describe().T.round(2)"
   ]
  },
  {
   "cell_type": "code",
   "execution_count": 29,
   "id": "cc21f776",
   "metadata": {},
   "outputs": [
    {
     "data": {
      "text/html": [
       "<div>\n",
       "<style scoped>\n",
       "    .dataframe tbody tr th:only-of-type {\n",
       "        vertical-align: middle;\n",
       "    }\n",
       "\n",
       "    .dataframe tbody tr th {\n",
       "        vertical-align: top;\n",
       "    }\n",
       "\n",
       "    .dataframe thead th {\n",
       "        text-align: right;\n",
       "    }\n",
       "</style>\n",
       "<table border=\"1\" class=\"dataframe\">\n",
       "  <thead>\n",
       "    <tr style=\"text-align: right;\">\n",
       "      <th>churn</th>\n",
       "      <th>0</th>\n",
       "      <th>1</th>\n",
       "    </tr>\n",
       "  </thead>\n",
       "  <tbody>\n",
       "    <tr>\n",
       "      <th>user_id</th>\n",
       "      <td>15733903.88</td>\n",
       "      <td>15732787.96</td>\n",
       "    </tr>\n",
       "    <tr>\n",
       "      <th>score</th>\n",
       "      <td>651.85</td>\n",
       "      <td>645.35</td>\n",
       "    </tr>\n",
       "    <tr>\n",
       "      <th>city</th>\n",
       "      <td>2.32</td>\n",
       "      <td>2.00</td>\n",
       "    </tr>\n",
       "    <tr>\n",
       "      <th>gender</th>\n",
       "      <td>0.57</td>\n",
       "      <td>0.44</td>\n",
       "    </tr>\n",
       "    <tr>\n",
       "      <th>age</th>\n",
       "      <td>37.41</td>\n",
       "      <td>44.84</td>\n",
       "    </tr>\n",
       "    <tr>\n",
       "      <th>objects</th>\n",
       "      <td>5.03</td>\n",
       "      <td>4.93</td>\n",
       "    </tr>\n",
       "    <tr>\n",
       "      <th>balance</th>\n",
       "      <td>119535.86</td>\n",
       "      <td>120746.97</td>\n",
       "    </tr>\n",
       "    <tr>\n",
       "      <th>products</th>\n",
       "      <td>1.54</td>\n",
       "      <td>1.48</td>\n",
       "    </tr>\n",
       "    <tr>\n",
       "      <th>creditcard</th>\n",
       "      <td>0.71</td>\n",
       "      <td>0.70</td>\n",
       "    </tr>\n",
       "    <tr>\n",
       "      <th>loyalty</th>\n",
       "      <td>0.55</td>\n",
       "      <td>0.36</td>\n",
       "    </tr>\n",
       "    <tr>\n",
       "      <th>estimated_salary</th>\n",
       "      <td>99738.39</td>\n",
       "      <td>101465.68</td>\n",
       "    </tr>\n",
       "  </tbody>\n",
       "</table>\n",
       "</div>"
      ],
      "text/plain": [
       "churn                       0            1\n",
       "user_id           15733903.88  15732787.96\n",
       "score                  651.85       645.35\n",
       "city                     2.32         2.00\n",
       "gender                   0.57         0.44\n",
       "age                     37.41        44.84\n",
       "objects                  5.03         4.93\n",
       "balance             119535.86    120746.97\n",
       "products                 1.54         1.48\n",
       "creditcard               0.71         0.70\n",
       "loyalty                  0.55         0.36\n",
       "estimated_salary     99738.39    101465.68"
      ]
     },
     "execution_count": 29,
     "metadata": {},
     "output_type": "execute_result"
    }
   ],
   "source": [
    "df_churn = df.groupby('churn').mean().round(2)\n",
    "df_churn.T"
   ]
  },
  {
   "cell_type": "markdown",
   "id": "266c6217",
   "metadata": {},
   "source": [
    "**Средние заметно отличаются в следующих признаках:**\n",
    "\n",
    "- гендер - среди ушедших преобладают женщины - 44%;\n",
    "- возраст - 37 лет у оставшихся и 44 лет у ушедших;\n",
    "- большая разница в активности клиентов."
   ]
  },
  {
   "cell_type": "code",
   "execution_count": 30,
   "id": "37004f1b",
   "metadata": {},
   "outputs": [
    {
     "data": {
      "text/plain": [
       "Index(['user_id', 'score', 'city', 'gender', 'age', 'objects', 'balance',\n",
       "       'products', 'creditcard', 'loyalty', 'estimated_salary', 'churn'],\n",
       "      dtype='object')"
      ]
     },
     "execution_count": 30,
     "metadata": {},
     "output_type": "execute_result"
    }
   ],
   "source": [
    "churn_0.columns"
   ]
  },
  {
   "cell_type": "code",
   "execution_count": 31,
   "id": "33947bce",
   "metadata": {},
   "outputs": [],
   "source": [
    "# оставим интересующие нас признаки\n",
    "churn_0 = churn_0[['score', 'city', 'gender', 'age', 'objects', 'balance',\n",
    "       'products', 'creditcard', 'loyalty']]\n",
    "churn_1 = churn_1[['score', 'city', 'gender', 'age', 'objects', 'balance',\n",
    "       'products', 'creditcard', 'loyalty']]"
   ]
  },
  {
   "cell_type": "code",
   "execution_count": 32,
   "id": "c8cb886f",
   "metadata": {
    "scrolled": false
   },
   "outputs": [
    {
     "data": {
      "image/png": "[encoded data removed]",
      "text/plain": [
       "<Figure size 1080x1440 with 9 Axes>"
      ]
     },
     "metadata": {
      "needs_background": "light"
     },
     "output_type": "display_data"
    }
   ],
   "source": [
    "# построим графики распределение признаков в разрезе \"churn\"\n",
    "fig, ax = plt.subplots(3,3, figsize = (15,20))\n",
    "ax = ax.ravel()\n",
    "\n",
    "for i in range(len(churn_0.columns)):\n",
    "    col = churn_0.columns[i]\n",
    "    (sns.distplot(churn_0[col],ax=ax[i],label='Остались',axlabel = False,color='green'\n",
    "                  ,kde=False,bins=10))      \n",
    "    sns.distplot(churn_1[col],ax=ax[i],label='Ушли',axlabel = False,color='blue',kde=False,bins=10)\n",
    "    ax[i].legend()\n",
    "    ax[i].set_title(col)\n",
    "    sns.set()\n",
    "    \n",
    "plt.show()"
   ]
  },
  {
   "cell_type": "markdown",
   "id": "9db1e6f5",
   "metadata": {},
   "source": [
    "**По графикам видно, что:**\n",
    "\n",
    "- уходят в основном клиенты имеющие хорошие скоринговые баллы;\n",
    "- женщин уходит немного больше;\n",
    "- ушедшим в основном за 40 лет;\n",
    "- имеют более 1 объекта в собственности;\n",
    "- на балансе счёта у них 100.000 - 150.000;\n",
    "- пользуются в основном 1 продуктом банка;\n",
    "- имеют кредитную карту банка;\n",
    "- значительно менее активны."
   ]
  },
  {
   "cell_type": "markdown",
   "id": "4f66ba4a",
   "metadata": {},
   "source": [
    "### Построим матрицу корреляций и визуализируем её"
   ]
  },
  {
   "cell_type": "code",
   "execution_count": 33,
   "id": "7d3e8872",
   "metadata": {},
   "outputs": [
    {
     "data": {
      "text/html": [
       "<div>\n",
       "<style scoped>\n",
       "    .dataframe tbody tr th:only-of-type {\n",
       "        vertical-align: middle;\n",
       "    }\n",
       "\n",
       "    .dataframe tbody tr th {\n",
       "        vertical-align: top;\n",
       "    }\n",
       "\n",
       "    .dataframe thead th {\n",
       "        text-align: right;\n",
       "    }\n",
       "</style>\n",
       "<table border=\"1\" class=\"dataframe\">\n",
       "  <thead>\n",
       "    <tr style=\"text-align: right;\">\n",
       "      <th></th>\n",
       "      <th>user_id</th>\n",
       "      <th>score</th>\n",
       "      <th>gender</th>\n",
       "      <th>age</th>\n",
       "      <th>objects</th>\n",
       "      <th>balance</th>\n",
       "      <th>products</th>\n",
       "      <th>creditcard</th>\n",
       "      <th>loyalty</th>\n",
       "      <th>estimated_salary</th>\n",
       "      <th>churn</th>\n",
       "      <th>city_1</th>\n",
       "      <th>city_2</th>\n",
       "      <th>city_3</th>\n",
       "    </tr>\n",
       "  </thead>\n",
       "  <tbody>\n",
       "    <tr>\n",
       "      <th>0</th>\n",
       "      <td>15677338</td>\n",
       "      <td>619</td>\n",
       "      <td>0</td>\n",
       "      <td>42</td>\n",
       "      <td>2</td>\n",
       "      <td>NaN</td>\n",
       "      <td>1</td>\n",
       "      <td>1</td>\n",
       "      <td>1</td>\n",
       "      <td>101348.88</td>\n",
       "      <td>1</td>\n",
       "      <td>0</td>\n",
       "      <td>0</td>\n",
       "      <td>1</td>\n",
       "    </tr>\n",
       "    <tr>\n",
       "      <th>1</th>\n",
       "      <td>15690047</td>\n",
       "      <td>608</td>\n",
       "      <td>0</td>\n",
       "      <td>41</td>\n",
       "      <td>1</td>\n",
       "      <td>83807.86</td>\n",
       "      <td>1</td>\n",
       "      <td>0</td>\n",
       "      <td>1</td>\n",
       "      <td>112542.58</td>\n",
       "      <td>0</td>\n",
       "      <td>0</td>\n",
       "      <td>1</td>\n",
       "      <td>0</td>\n",
       "    </tr>\n",
       "    <tr>\n",
       "      <th>2</th>\n",
       "      <td>15662040</td>\n",
       "      <td>502</td>\n",
       "      <td>0</td>\n",
       "      <td>42</td>\n",
       "      <td>8</td>\n",
       "      <td>159660.80</td>\n",
       "      <td>3</td>\n",
       "      <td>1</td>\n",
       "      <td>0</td>\n",
       "      <td>113931.57</td>\n",
       "      <td>1</td>\n",
       "      <td>0</td>\n",
       "      <td>0</td>\n",
       "      <td>1</td>\n",
       "    </tr>\n",
       "    <tr>\n",
       "      <th>3</th>\n",
       "      <td>15744090</td>\n",
       "      <td>699</td>\n",
       "      <td>0</td>\n",
       "      <td>39</td>\n",
       "      <td>1</td>\n",
       "      <td>NaN</td>\n",
       "      <td>2</td>\n",
       "      <td>0</td>\n",
       "      <td>0</td>\n",
       "      <td>93826.63</td>\n",
       "      <td>0</td>\n",
       "      <td>0</td>\n",
       "      <td>0</td>\n",
       "      <td>1</td>\n",
       "    </tr>\n",
       "    <tr>\n",
       "      <th>4</th>\n",
       "      <td>15780624</td>\n",
       "      <td>850</td>\n",
       "      <td>0</td>\n",
       "      <td>43</td>\n",
       "      <td>2</td>\n",
       "      <td>125510.82</td>\n",
       "      <td>1</td>\n",
       "      <td>1</td>\n",
       "      <td>1</td>\n",
       "      <td>79084.10</td>\n",
       "      <td>0</td>\n",
       "      <td>0</td>\n",
       "      <td>1</td>\n",
       "      <td>0</td>\n",
       "    </tr>\n",
       "    <tr>\n",
       "      <th>...</th>\n",
       "      <td>...</td>\n",
       "      <td>...</td>\n",
       "      <td>...</td>\n",
       "      <td>...</td>\n",
       "      <td>...</td>\n",
       "      <td>...</td>\n",
       "      <td>...</td>\n",
       "      <td>...</td>\n",
       "      <td>...</td>\n",
       "      <td>...</td>\n",
       "      <td>...</td>\n",
       "      <td>...</td>\n",
       "      <td>...</td>\n",
       "      <td>...</td>\n",
       "    </tr>\n",
       "    <tr>\n",
       "      <th>9995</th>\n",
       "      <td>15648965</td>\n",
       "      <td>771</td>\n",
       "      <td>1</td>\n",
       "      <td>39</td>\n",
       "      <td>5</td>\n",
       "      <td>NaN</td>\n",
       "      <td>2</td>\n",
       "      <td>1</td>\n",
       "      <td>0</td>\n",
       "      <td>96270.64</td>\n",
       "      <td>0</td>\n",
       "      <td>0</td>\n",
       "      <td>0</td>\n",
       "      <td>1</td>\n",
       "    </tr>\n",
       "    <tr>\n",
       "      <th>9996</th>\n",
       "      <td>15612628</td>\n",
       "      <td>516</td>\n",
       "      <td>1</td>\n",
       "      <td>35</td>\n",
       "      <td>10</td>\n",
       "      <td>57369.61</td>\n",
       "      <td>1</td>\n",
       "      <td>1</td>\n",
       "      <td>1</td>\n",
       "      <td>101699.77</td>\n",
       "      <td>0</td>\n",
       "      <td>0</td>\n",
       "      <td>0</td>\n",
       "      <td>1</td>\n",
       "    </tr>\n",
       "    <tr>\n",
       "      <th>9997</th>\n",
       "      <td>15627268</td>\n",
       "      <td>709</td>\n",
       "      <td>0</td>\n",
       "      <td>36</td>\n",
       "      <td>7</td>\n",
       "      <td>NaN</td>\n",
       "      <td>1</td>\n",
       "      <td>0</td>\n",
       "      <td>1</td>\n",
       "      <td>42085.58</td>\n",
       "      <td>1</td>\n",
       "      <td>0</td>\n",
       "      <td>0</td>\n",
       "      <td>1</td>\n",
       "    </tr>\n",
       "    <tr>\n",
       "      <th>9998</th>\n",
       "      <td>15725091</td>\n",
       "      <td>772</td>\n",
       "      <td>1</td>\n",
       "      <td>42</td>\n",
       "      <td>3</td>\n",
       "      <td>75075.31</td>\n",
       "      <td>2</td>\n",
       "      <td>1</td>\n",
       "      <td>0</td>\n",
       "      <td>92888.52</td>\n",
       "      <td>1</td>\n",
       "      <td>1</td>\n",
       "      <td>0</td>\n",
       "      <td>0</td>\n",
       "    </tr>\n",
       "    <tr>\n",
       "      <th>9999</th>\n",
       "      <td>15671055</td>\n",
       "      <td>792</td>\n",
       "      <td>0</td>\n",
       "      <td>28</td>\n",
       "      <td>4</td>\n",
       "      <td>130142.79</td>\n",
       "      <td>1</td>\n",
       "      <td>1</td>\n",
       "      <td>0</td>\n",
       "      <td>38190.78</td>\n",
       "      <td>0</td>\n",
       "      <td>0</td>\n",
       "      <td>0</td>\n",
       "      <td>1</td>\n",
       "    </tr>\n",
       "  </tbody>\n",
       "</table>\n",
       "<p>10000 rows × 14 columns</p>\n",
       "</div>"
      ],
      "text/plain": [
       "       user_id  score  gender  age  objects    balance  products  creditcard  \\\n",
       "0     15677338    619       0   42        2        NaN         1           1   \n",
       "1     15690047    608       0   41        1   83807.86         1           0   \n",
       "2     15662040    502       0   42        8  159660.80         3           1   \n",
       "3     15744090    699       0   39        1        NaN         2           0   \n",
       "4     15780624    850       0   43        2  125510.82         1           1   \n",
       "...        ...    ...     ...  ...      ...        ...       ...         ...   \n",
       "9995  15648965    771       1   39        5        NaN         2           1   \n",
       "9996  15612628    516       1   35       10   57369.61         1           1   \n",
       "9997  15627268    709       0   36        7        NaN         1           0   \n",
       "9998  15725091    772       1   42        3   75075.31         2           1   \n",
       "9999  15671055    792       0   28        4  130142.79         1           1   \n",
       "\n",
       "      loyalty  estimated_salary  churn  city_1  city_2  city_3  \n",
       "0           1         101348.88      1       0       0       1  \n",
       "1           1         112542.58      0       0       1       0  \n",
       "2           0         113931.57      1       0       0       1  \n",
       "3           0          93826.63      0       0       0       1  \n",
       "4           1          79084.10      0       0       1       0  \n",
       "...       ...               ...    ...     ...     ...     ...  \n",
       "9995        0          96270.64      0       0       0       1  \n",
       "9996        1         101699.77      0       0       0       1  \n",
       "9997        1          42085.58      1       0       0       1  \n",
       "9998        0          92888.52      1       1       0       0  \n",
       "9999        0          38190.78      0       0       0       1  \n",
       "\n",
       "[10000 rows x 14 columns]"
      ]
     },
     "execution_count": 33,
     "metadata": {},
     "output_type": "execute_result"
    }
   ],
   "source": [
    "# воспользуемся one-hot кодировкой для корректного построения матрицы корреляций\n",
    "df_corr = df.copy()\n",
    "df_corr = pd.get_dummies(df_corr, columns=['city'])\n",
    "df_corr"
   ]
  },
  {
   "cell_type": "code",
   "execution_count": 34,
   "id": "0b2bedbf",
   "metadata": {},
   "outputs": [
    {
     "data": {
      "text/html": [
       "<div>\n",
       "<style scoped>\n",
       "    .dataframe tbody tr th:only-of-type {\n",
       "        vertical-align: middle;\n",
       "    }\n",
       "\n",
       "    .dataframe tbody tr th {\n",
       "        vertical-align: top;\n",
       "    }\n",
       "\n",
       "    .dataframe thead th {\n",
       "        text-align: right;\n",
       "    }\n",
       "</style>\n",
       "<table border=\"1\" class=\"dataframe\">\n",
       "  <thead>\n",
       "    <tr style=\"text-align: right;\">\n",
       "      <th></th>\n",
       "      <th>user_id</th>\n",
       "      <th>score</th>\n",
       "      <th>gender</th>\n",
       "      <th>age</th>\n",
       "      <th>objects</th>\n",
       "      <th>balance</th>\n",
       "      <th>products</th>\n",
       "      <th>creditcard</th>\n",
       "      <th>loyalty</th>\n",
       "      <th>estimated_salary</th>\n",
       "      <th>churn</th>\n",
       "      <th>city_1</th>\n",
       "      <th>city_2</th>\n",
       "      <th>city_3</th>\n",
       "    </tr>\n",
       "  </thead>\n",
       "  <tbody>\n",
       "    <tr>\n",
       "      <th>user_id</th>\n",
       "      <td>1.000000</td>\n",
       "      <td>0.005308</td>\n",
       "      <td>-0.002641</td>\n",
       "      <td>0.009497</td>\n",
       "      <td>-0.014883</td>\n",
       "      <td>-0.008690</td>\n",
       "      <td>0.016972</td>\n",
       "      <td>-0.014025</td>\n",
       "      <td>0.001665</td>\n",
       "      <td>0.015271</td>\n",
       "      <td>-0.006248</td>\n",
       "      <td>-0.003097</td>\n",
       "      <td>0.007800</td>\n",
       "      <td>-0.004049</td>\n",
       "    </tr>\n",
       "    <tr>\n",
       "      <th>score</th>\n",
       "      <td>0.005308</td>\n",
       "      <td>1.000000</td>\n",
       "      <td>-0.002857</td>\n",
       "      <td>-0.003965</td>\n",
       "      <td>0.000842</td>\n",
       "      <td>-0.004744</td>\n",
       "      <td>0.012238</td>\n",
       "      <td>-0.005458</td>\n",
       "      <td>0.025651</td>\n",
       "      <td>-0.001384</td>\n",
       "      <td>-0.027094</td>\n",
       "      <td>0.005538</td>\n",
       "      <td>0.004780</td>\n",
       "      <td>-0.008928</td>\n",
       "    </tr>\n",
       "    <tr>\n",
       "      <th>gender</th>\n",
       "      <td>-0.002641</td>\n",
       "      <td>-0.002857</td>\n",
       "      <td>1.000000</td>\n",
       "      <td>-0.027544</td>\n",
       "      <td>0.014733</td>\n",
       "      <td>0.025742</td>\n",
       "      <td>-0.021859</td>\n",
       "      <td>0.005766</td>\n",
       "      <td>0.022544</td>\n",
       "      <td>-0.008112</td>\n",
       "      <td>-0.106512</td>\n",
       "      <td>-0.024628</td>\n",
       "      <td>0.016889</td>\n",
       "      <td>0.006772</td>\n",
       "    </tr>\n",
       "    <tr>\n",
       "      <th>age</th>\n",
       "      <td>0.009497</td>\n",
       "      <td>-0.003965</td>\n",
       "      <td>-0.027544</td>\n",
       "      <td>1.000000</td>\n",
       "      <td>-0.009997</td>\n",
       "      <td>-0.012822</td>\n",
       "      <td>-0.030680</td>\n",
       "      <td>-0.011721</td>\n",
       "      <td>0.085472</td>\n",
       "      <td>-0.007201</td>\n",
       "      <td>0.285323</td>\n",
       "      <td>0.046897</td>\n",
       "      <td>-0.001685</td>\n",
       "      <td>-0.039208</td>\n",
       "    </tr>\n",
       "    <tr>\n",
       "      <th>objects</th>\n",
       "      <td>-0.014883</td>\n",
       "      <td>0.000842</td>\n",
       "      <td>0.014733</td>\n",
       "      <td>-0.009997</td>\n",
       "      <td>1.000000</td>\n",
       "      <td>0.005827</td>\n",
       "      <td>0.013444</td>\n",
       "      <td>0.022583</td>\n",
       "      <td>-0.028362</td>\n",
       "      <td>0.007784</td>\n",
       "      <td>-0.014001</td>\n",
       "      <td>-0.000567</td>\n",
       "      <td>0.003868</td>\n",
       "      <td>-0.002848</td>\n",
       "    </tr>\n",
       "    <tr>\n",
       "      <th>balance</th>\n",
       "      <td>-0.008690</td>\n",
       "      <td>-0.004744</td>\n",
       "      <td>0.025742</td>\n",
       "      <td>-0.012822</td>\n",
       "      <td>0.005827</td>\n",
       "      <td>1.000000</td>\n",
       "      <td>-0.001027</td>\n",
       "      <td>0.006721</td>\n",
       "      <td>-0.020418</td>\n",
       "      <td>-0.001856</td>\n",
       "      <td>0.017208</td>\n",
       "      <td>-0.002604</td>\n",
       "      <td>-0.000208</td>\n",
       "      <td>0.002759</td>\n",
       "    </tr>\n",
       "    <tr>\n",
       "      <th>products</th>\n",
       "      <td>0.016972</td>\n",
       "      <td>0.012238</td>\n",
       "      <td>-0.021859</td>\n",
       "      <td>-0.030680</td>\n",
       "      <td>0.013444</td>\n",
       "      <td>-0.001027</td>\n",
       "      <td>1.000000</td>\n",
       "      <td>0.003183</td>\n",
       "      <td>0.009612</td>\n",
       "      <td>0.014204</td>\n",
       "      <td>-0.047820</td>\n",
       "      <td>-0.010419</td>\n",
       "      <td>0.009039</td>\n",
       "      <td>0.001230</td>\n",
       "    </tr>\n",
       "    <tr>\n",
       "      <th>creditcard</th>\n",
       "      <td>-0.014025</td>\n",
       "      <td>-0.005458</td>\n",
       "      <td>0.005766</td>\n",
       "      <td>-0.011721</td>\n",
       "      <td>0.022583</td>\n",
       "      <td>0.006721</td>\n",
       "      <td>0.003183</td>\n",
       "      <td>1.000000</td>\n",
       "      <td>-0.011866</td>\n",
       "      <td>-0.009933</td>\n",
       "      <td>-0.007138</td>\n",
       "      <td>0.010577</td>\n",
       "      <td>-0.013480</td>\n",
       "      <td>0.002467</td>\n",
       "    </tr>\n",
       "    <tr>\n",
       "      <th>loyalty</th>\n",
       "      <td>0.001665</td>\n",
       "      <td>0.025651</td>\n",
       "      <td>0.022544</td>\n",
       "      <td>0.085472</td>\n",
       "      <td>-0.028362</td>\n",
       "      <td>-0.020418</td>\n",
       "      <td>0.009612</td>\n",
       "      <td>-0.011866</td>\n",
       "      <td>1.000000</td>\n",
       "      <td>-0.011421</td>\n",
       "      <td>-0.156128</td>\n",
       "      <td>-0.020486</td>\n",
       "      <td>0.016732</td>\n",
       "      <td>0.003317</td>\n",
       "    </tr>\n",
       "    <tr>\n",
       "      <th>estimated_salary</th>\n",
       "      <td>0.015271</td>\n",
       "      <td>-0.001384</td>\n",
       "      <td>-0.008112</td>\n",
       "      <td>-0.007201</td>\n",
       "      <td>0.007784</td>\n",
       "      <td>-0.001856</td>\n",
       "      <td>0.014204</td>\n",
       "      <td>-0.009933</td>\n",
       "      <td>-0.011421</td>\n",
       "      <td>1.000000</td>\n",
       "      <td>0.012097</td>\n",
       "      <td>0.010297</td>\n",
       "      <td>-0.006482</td>\n",
       "      <td>-0.003332</td>\n",
       "    </tr>\n",
       "    <tr>\n",
       "      <th>churn</th>\n",
       "      <td>-0.006248</td>\n",
       "      <td>-0.027094</td>\n",
       "      <td>-0.106512</td>\n",
       "      <td>0.285323</td>\n",
       "      <td>-0.014001</td>\n",
       "      <td>0.017208</td>\n",
       "      <td>-0.047820</td>\n",
       "      <td>-0.007138</td>\n",
       "      <td>-0.156128</td>\n",
       "      <td>0.012097</td>\n",
       "      <td>1.000000</td>\n",
       "      <td>0.173488</td>\n",
       "      <td>-0.052667</td>\n",
       "      <td>-0.104955</td>\n",
       "    </tr>\n",
       "    <tr>\n",
       "      <th>city_1</th>\n",
       "      <td>-0.003097</td>\n",
       "      <td>0.005538</td>\n",
       "      <td>-0.024628</td>\n",
       "      <td>0.046897</td>\n",
       "      <td>-0.000567</td>\n",
       "      <td>-0.002604</td>\n",
       "      <td>-0.010419</td>\n",
       "      <td>0.010577</td>\n",
       "      <td>-0.020486</td>\n",
       "      <td>0.010297</td>\n",
       "      <td>0.173488</td>\n",
       "      <td>1.000000</td>\n",
       "      <td>-0.332084</td>\n",
       "      <td>-0.580359</td>\n",
       "    </tr>\n",
       "    <tr>\n",
       "      <th>city_2</th>\n",
       "      <td>0.007800</td>\n",
       "      <td>0.004780</td>\n",
       "      <td>0.016889</td>\n",
       "      <td>-0.001685</td>\n",
       "      <td>0.003868</td>\n",
       "      <td>-0.000208</td>\n",
       "      <td>0.009039</td>\n",
       "      <td>-0.013480</td>\n",
       "      <td>0.016732</td>\n",
       "      <td>-0.006482</td>\n",
       "      <td>-0.052667</td>\n",
       "      <td>-0.332084</td>\n",
       "      <td>1.000000</td>\n",
       "      <td>-0.575418</td>\n",
       "    </tr>\n",
       "    <tr>\n",
       "      <th>city_3</th>\n",
       "      <td>-0.004049</td>\n",
       "      <td>-0.008928</td>\n",
       "      <td>0.006772</td>\n",
       "      <td>-0.039208</td>\n",
       "      <td>-0.002848</td>\n",
       "      <td>0.002759</td>\n",
       "      <td>0.001230</td>\n",
       "      <td>0.002467</td>\n",
       "      <td>0.003317</td>\n",
       "      <td>-0.003332</td>\n",
       "      <td>-0.104955</td>\n",
       "      <td>-0.580359</td>\n",
       "      <td>-0.575418</td>\n",
       "      <td>1.000000</td>\n",
       "    </tr>\n",
       "  </tbody>\n",
       "</table>\n",
       "</div>"
      ],
      "text/plain": [
       "                   user_id     score    gender       age   objects   balance  \\\n",
       "user_id           1.000000  0.005308 -0.002641  0.009497 -0.014883 -0.008690   \n",
       "score             0.005308  1.000000 -0.002857 -0.003965  0.000842 -0.004744   \n",
       "gender           -0.002641 -0.002857  1.000000 -0.027544  0.014733  0.025742   \n",
       "age               0.009497 -0.003965 -0.027544  1.000000 -0.009997 -0.012822   \n",
       "objects          -0.014883  0.000842  0.014733 -0.009997  1.000000  0.005827   \n",
       "balance          -0.008690 -0.004744  0.025742 -0.012822  0.005827  1.000000   \n",
       "products          0.016972  0.012238 -0.021859 -0.030680  0.013444 -0.001027   \n",
       "creditcard       -0.014025 -0.005458  0.005766 -0.011721  0.022583  0.006721   \n",
       "loyalty           0.001665  0.025651  0.022544  0.085472 -0.028362 -0.020418   \n",
       "estimated_salary  0.015271 -0.001384 -0.008112 -0.007201  0.007784 -0.001856   \n",
       "churn            -0.006248 -0.027094 -0.106512  0.285323 -0.014001  0.017208   \n",
       "city_1           -0.003097  0.005538 -0.024628  0.046897 -0.000567 -0.002604   \n",
       "city_2            0.007800  0.004780  0.016889 -0.001685  0.003868 -0.000208   \n",
       "city_3           -0.004049 -0.008928  0.006772 -0.039208 -0.002848  0.002759   \n",
       "\n",
       "                  products  creditcard   loyalty  estimated_salary     churn  \\\n",
       "user_id           0.016972   -0.014025  0.001665          0.015271 -0.006248   \n",
       "score             0.012238   -0.005458  0.025651         -0.001384 -0.027094   \n",
       "gender           -0.021859    0.005766  0.022544         -0.008112 -0.106512   \n",
       "age              -0.030680   -0.011721  0.085472         -0.007201  0.285323   \n",
       "objects           0.013444    0.022583 -0.028362          0.007784 -0.014001   \n",
       "balance          -0.001027    0.006721 -0.020418         -0.001856  0.017208   \n",
       "products          1.000000    0.003183  0.009612          0.014204 -0.047820   \n",
       "creditcard        0.003183    1.000000 -0.011866         -0.009933 -0.007138   \n",
       "loyalty           0.009612   -0.011866  1.000000         -0.011421 -0.156128   \n",
       "estimated_salary  0.014204   -0.009933 -0.011421          1.000000  0.012097   \n",
       "churn            -0.047820   -0.007138 -0.156128          0.012097  1.000000   \n",
       "city_1           -0.010419    0.010577 -0.020486          0.010297  0.173488   \n",
       "city_2            0.009039   -0.013480  0.016732         -0.006482 -0.052667   \n",
       "city_3            0.001230    0.002467  0.003317         -0.003332 -0.104955   \n",
       "\n",
       "                    city_1    city_2    city_3  \n",
       "user_id          -0.003097  0.007800 -0.004049  \n",
       "score             0.005538  0.004780 -0.008928  \n",
       "gender           -0.024628  0.016889  0.006772  \n",
       "age               0.046897 -0.001685 -0.039208  \n",
       "objects          -0.000567  0.003868 -0.002848  \n",
       "balance          -0.002604 -0.000208  0.002759  \n",
       "products         -0.010419  0.009039  0.001230  \n",
       "creditcard        0.010577 -0.013480  0.002467  \n",
       "loyalty          -0.020486  0.016732  0.003317  \n",
       "estimated_salary  0.010297 -0.006482 -0.003332  \n",
       "churn             0.173488 -0.052667 -0.104955  \n",
       "city_1            1.000000 -0.332084 -0.580359  \n",
       "city_2           -0.332084  1.000000 -0.575418  \n",
       "city_3           -0.580359 -0.575418  1.000000  "
      ]
     },
     "execution_count": 34,
     "metadata": {},
     "output_type": "execute_result"
    }
   ],
   "source": [
    "# построим матрицу корреляций\n",
    "df_corr = df_corr.corr()\n",
    "df_corr"
   ]
  },
  {
   "cell_type": "code",
   "execution_count": 35,
   "id": "344d4f69",
   "metadata": {},
   "outputs": [
    {
     "data": {
      "image/png": "[encoded data removed]",
      "text/plain": [
       "<Figure size 1080x720 with 2 Axes>"
      ]
     },
     "metadata": {},
     "output_type": "display_data"
    }
   ],
   "source": [
    "# построим тепловую карту для матрицы корреляций\n",
    "plt.figure(figsize=(15,10))\n",
    "sns.heatmap(df_corr,annot=True,fmt='0.3f',linewidths=2, cmap=\"Blues\")\n",
    "plt.title('Тепловая карта', fontsize=25)\n",
    "plt.show()"
   ]
  },
  {
   "cell_type": "markdown",
   "id": "ecb39414",
   "metadata": {},
   "source": [
    "**Наиболее коррелирующие с \"churn\" признаки:**\n",
    "\n",
    "- **age** - 28.5%\n",
    "- **Ростов Великий** - 17.3%\n",
    "- **loyalty** - 15.6%\n",
    "- **city** - 15.4%\n",
    "- **gender** - 10.7%\n",
    "- **Ярославль** - 10.5%"
   ]
  },
  {
   "cell_type": "markdown",
   "id": "f061870c",
   "metadata": {},
   "source": [
    "## Кластеризация клиентов"
   ]
  },
  {
   "cell_type": "code",
   "execution_count": 36,
   "id": "0442852b",
   "metadata": {},
   "outputs": [],
   "source": [
    "# заполним пропуски в балансе медианой\n",
    "df = df.fillna(120000)"
   ]
  },
  {
   "cell_type": "code",
   "execution_count": 37,
   "id": "c303ffbf",
   "metadata": {},
   "outputs": [
    {
     "data": {
      "image/png": "[encoded data removed]",
      "text/plain": [
       "<Figure size 1080x720 with 1 Axes>"
      ]
     },
     "metadata": {},
     "output_type": "display_data"
    }
   ],
   "source": [
    "# разделим данные на признаки и целевую переменную\n",
    "X = df.drop('churn', axis=1)\n",
    "y = df['churn']\n",
    "\n",
    "# стандартизируем данные\n",
    "sc = StandardScaler()\n",
    "X_sc = sc.fit_transform(X)\n",
    "\n",
    "# построим матрицу расстояний\n",
    "linked = linkage(X_sc, method = 'ward') \n",
    "\n",
    "# визуализируем дендрограмму\n",
    "plt.figure(figsize=(15, 10))  \n",
    "dendrogram(linked, orientation='top', above_threshold_color='#bcbddc')\n",
    "plt.title('Иерархическая кластеризация клиентов', fontsize=22)\n",
    "plt.show() "
   ]
  },
  {
   "cell_type": "markdown",
   "id": "b05b0c52",
   "metadata": {},
   "source": [
    "**На основании полученной дендрограммы можно выделить 4 класса, но один совсем небольшой**"
   ]
  },
  {
   "cell_type": "markdown",
   "id": "c8a67071",
   "metadata": {},
   "source": [
    "### Обучим модель кластеризации на основании алгоритма K-Means и спрогнозируем кластеры клиентов. "
   ]
  },
  {
   "cell_type": "code",
   "execution_count": 38,
   "id": "246f0f36",
   "metadata": {},
   "outputs": [],
   "source": [
    "# зададим модель k_means с числом кластеров 3 и фиксируем значение random_state\n",
    "km = KMeans(n_clusters=3, random_state=0)\n",
    "\n",
    "# прогнозируем кластеры для наблюдений\n",
    "labels = km.fit_predict(X_sc)\n",
    "\n",
    "# сохраним метки кластера в поле нашего датасета\n",
    "df['cluster_km'] = labels"
   ]
  },
  {
   "cell_type": "markdown",
   "id": "2d6a9f97",
   "metadata": {},
   "source": [
    "### Посмотрим на средние значения признаков для кластеров. "
   ]
  },
  {
   "cell_type": "code",
   "execution_count": 39,
   "id": "0d7f1ab9",
   "metadata": {
    "scrolled": false
   },
   "outputs": [
    {
     "data": {
      "text/html": [
       "<div>\n",
       "<style scoped>\n",
       "    .dataframe tbody tr th:only-of-type {\n",
       "        vertical-align: middle;\n",
       "    }\n",
       "\n",
       "    .dataframe tbody tr th {\n",
       "        vertical-align: top;\n",
       "    }\n",
       "\n",
       "    .dataframe thead th {\n",
       "        text-align: right;\n",
       "    }\n",
       "</style>\n",
       "<table border=\"1\" class=\"dataframe\">\n",
       "  <thead>\n",
       "    <tr style=\"text-align: right;\">\n",
       "      <th>cluster_km</th>\n",
       "      <th>0</th>\n",
       "      <th>1</th>\n",
       "      <th>2</th>\n",
       "    </tr>\n",
       "  </thead>\n",
       "  <tbody>\n",
       "    <tr>\n",
       "      <th>user_id</th>\n",
       "      <td>15733870.02</td>\n",
       "      <td>15732140.50</td>\n",
       "      <td>15735238.06</td>\n",
       "    </tr>\n",
       "    <tr>\n",
       "      <th>score</th>\n",
       "      <td>652.95</td>\n",
       "      <td>647.30</td>\n",
       "      <td>651.35</td>\n",
       "    </tr>\n",
       "    <tr>\n",
       "      <th>city</th>\n",
       "      <td>2.26</td>\n",
       "      <td>2.23</td>\n",
       "      <td>2.26</td>\n",
       "    </tr>\n",
       "    <tr>\n",
       "      <th>gender</th>\n",
       "      <td>0.56</td>\n",
       "      <td>0.53</td>\n",
       "      <td>0.54</td>\n",
       "    </tr>\n",
       "    <tr>\n",
       "      <th>age</th>\n",
       "      <td>39.65</td>\n",
       "      <td>38.00</td>\n",
       "      <td>39.11</td>\n",
       "    </tr>\n",
       "    <tr>\n",
       "      <th>objects</th>\n",
       "      <td>4.99</td>\n",
       "      <td>5.12</td>\n",
       "      <td>4.91</td>\n",
       "    </tr>\n",
       "    <tr>\n",
       "      <th>balance</th>\n",
       "      <td>119609.37</td>\n",
       "      <td>120357.07</td>\n",
       "      <td>119686.49</td>\n",
       "    </tr>\n",
       "    <tr>\n",
       "      <th>products</th>\n",
       "      <td>1.54</td>\n",
       "      <td>1.52</td>\n",
       "      <td>1.53</td>\n",
       "    </tr>\n",
       "    <tr>\n",
       "      <th>creditcard</th>\n",
       "      <td>1.00</td>\n",
       "      <td>1.00</td>\n",
       "      <td>0.00</td>\n",
       "    </tr>\n",
       "    <tr>\n",
       "      <th>loyalty</th>\n",
       "      <td>1.00</td>\n",
       "      <td>0.00</td>\n",
       "      <td>0.52</td>\n",
       "    </tr>\n",
       "    <tr>\n",
       "      <th>estimated_salary</th>\n",
       "      <td>98736.53</td>\n",
       "      <td>100751.20</td>\n",
       "      <td>100974.40</td>\n",
       "    </tr>\n",
       "    <tr>\n",
       "      <th>churn</th>\n",
       "      <td>0.13</td>\n",
       "      <td>0.27</td>\n",
       "      <td>0.21</td>\n",
       "    </tr>\n",
       "  </tbody>\n",
       "</table>\n",
       "</div>"
      ],
      "text/plain": [
       "cluster_km                  0            1            2\n",
       "user_id           15733870.02  15732140.50  15735238.06\n",
       "score                  652.95       647.30       651.35\n",
       "city                     2.26         2.23         2.26\n",
       "gender                   0.56         0.53         0.54\n",
       "age                     39.65        38.00        39.11\n",
       "objects                  4.99         5.12         4.91\n",
       "balance             119609.37    120357.07    119686.49\n",
       "products                 1.54         1.52         1.53\n",
       "creditcard               1.00         1.00         0.00\n",
       "loyalty                  1.00         0.00         0.52\n",
       "estimated_salary     98736.53    100751.20    100974.40\n",
       "churn                    0.13         0.27         0.21"
      ]
     },
     "execution_count": 39,
     "metadata": {},
     "output_type": "execute_result"
    }
   ],
   "source": [
    "# выведем статистику по средним значениям наших признаков по кластеру\n",
    "clusters_t = df.groupby('cluster_km').agg('mean').round(2)\n",
    "clusters_t.T"
   ]
  },
  {
   "cell_type": "code",
   "execution_count": 40,
   "id": "3e084831",
   "metadata": {},
   "outputs": [
    {
     "data": {
      "text/plain": [
       "0    3607\n",
       "1    3448\n",
       "2    2945\n",
       "Name: cluster_km, dtype: int64"
      ]
     },
     "execution_count": 40,
     "metadata": {},
     "output_type": "execute_result"
    }
   ],
   "source": [
    "df['cluster_km'].value_counts()"
   ]
  },
  {
   "cell_type": "markdown",
   "id": "f654b418",
   "metadata": {},
   "source": [
    "**Алгоритм выделил:**\n",
    "\n",
    "- возраст 38 лет и за 39;\n",
    "- отсутствие кредитной карты во 2 кластере;\n",
    "- разделил кластеры по лояльности 100%, 0% и 52%;\n",
    "- больше всего ушедших в 1 кластере - 27%, меньше всего в 0 - 13%."
   ]
  },
  {
   "cell_type": "markdown",
   "id": "3e3efda4",
   "metadata": {},
   "source": [
    "### Построим распределения признаков для кластеров"
   ]
  },
  {
   "cell_type": "code",
   "execution_count": 41,
   "id": "5135d463",
   "metadata": {
    "scrolled": false
   },
   "outputs": [
    {
     "data": {
      "image/png": "[encoded data removed]",
      "text/plain": [
       "<Figure size 504x504 with 1 Axes>"
      ]
     },
     "metadata": {},
     "output_type": "display_data"
    },
    {
     "data": {
      "image/png": "[encoded data removed]",
      "text/plain": [
       "<Figure size 504x504 with 1 Axes>"
      ]
     },
     "metadata": {},
     "output_type": "display_data"
    },
    {
     "data": {
      "image/png": "[encoded data removed]",
      "text/plain": [
       "<Figure size 504x504 with 1 Axes>"
      ]
     },
     "metadata": {},
     "output_type": "display_data"
    },
    {
     "data": {
      "image/png": "[encoded data removed]",
      "text/plain": [
       "<Figure size 504x504 with 1 Axes>"
      ]
     },
     "metadata": {},
     "output_type": "display_data"
    },
    {
     "data": {
      "image/png": "[encoded data removed]",
      "text/plain": [
       "<Figure size 504x504 with 1 Axes>"
      ]
     },
     "metadata": {},
     "output_type": "display_data"
    }
   ],
   "source": [
    "# выделим категориальные признаки\n",
    "categorical = ['city', 'gender', 'products', 'creditcard', 'loyalty']\n",
    "\n",
    "for val,col in enumerate(categorical):\n",
    "    plt.figure(figsize=(7,7))\n",
    "    sns.barplot(x=df['cluster_km'], y=df[col], hue=df['churn'], color='Skyblue')\n",
    "    plt.title('Распределение признака '+ str(col), fontsize=17)\n",
    "    plt.show()"
   ]
  },
  {
   "cell_type": "markdown",
   "id": "c45c16a7",
   "metadata": {},
   "source": [
    "- В 0 кластере одинаково активны и ушедшие и оставшиеся;\n",
    "- В 1 кластере нет активных клиентов;\n",
    "- Во 2 кластере разделение активности - ~ 55% оставшихся и ~ 41% ушедших;"
   ]
  },
  {
   "cell_type": "code",
   "execution_count": 42,
   "id": "26e0a757",
   "metadata": {
    "scrolled": false
   },
   "outputs": [
    {
     "data": {
      "image/png": "[encoded data removed]",
      "text/plain": [
       "<Figure size 504x504 with 1 Axes>"
      ]
     },
     "metadata": {},
     "output_type": "display_data"
    },
    {
     "data": {
      "image/png": "[encoded data removed]",
      "text/plain": [
       "<Figure size 504x504 with 1 Axes>"
      ]
     },
     "metadata": {},
     "output_type": "display_data"
    },
    {
     "data": {
      "image/png": "[encoded data removed]",
      "text/plain": [
       "<Figure size 504x504 with 1 Axes>"
      ]
     },
     "metadata": {},
     "output_type": "display_data"
    },
    {
     "data": {
      "image/png": "[encoded data removed]",
      "text/plain": [
       "<Figure size 504x504 with 1 Axes>"
      ]
     },
     "metadata": {},
     "output_type": "display_data"
    },
    {
     "data": {
      "image/png": "[encoded data removed]",
      "text/plain": [
       "<Figure size 504x504 with 1 Axes>"
      ]
     },
     "metadata": {},
     "output_type": "display_data"
    }
   ],
   "source": [
    "# выделим числовые признаки\n",
    "numeric = ['score', 'age', 'objects', 'balance', 'estimated_salary']\n",
    "\n",
    "for val,col in enumerate(numeric):\n",
    "    plt.figure(figsize=(7,7))\n",
    "    sns.boxplot(x=df['cluster_km'], y=df[col], hue=df['churn'], color='Skyblue')\n",
    "    plt.title('Распределение признака '+ str(col), fontsize=17)\n",
    "    plt.show()"
   ]
  },
  {
   "cell_type": "markdown",
   "id": "4357100c",
   "metadata": {},
   "source": [
    "### Для каждого полученного кластера посчитаем долю оттока"
   ]
  },
  {
   "cell_type": "code",
   "execution_count": 43,
   "id": "bac72819",
   "metadata": {},
   "outputs": [
    {
     "data": {
      "text/html": [
       "<div>\n",
       "<style scoped>\n",
       "    .dataframe tbody tr th:only-of-type {\n",
       "        vertical-align: middle;\n",
       "    }\n",
       "\n",
       "    .dataframe tbody tr th {\n",
       "        vertical-align: top;\n",
       "    }\n",
       "\n",
       "    .dataframe thead th {\n",
       "        text-align: right;\n",
       "    }\n",
       "</style>\n",
       "<table border=\"1\" class=\"dataframe\">\n",
       "  <thead>\n",
       "    <tr style=\"text-align: right;\">\n",
       "      <th></th>\n",
       "      <th>count_users</th>\n",
       "      <th>churn_users</th>\n",
       "      <th>churn_users_perc</th>\n",
       "      <th>churn_perc_total</th>\n",
       "    </tr>\n",
       "    <tr>\n",
       "      <th>cluster_km</th>\n",
       "      <th></th>\n",
       "      <th></th>\n",
       "      <th></th>\n",
       "      <th></th>\n",
       "    </tr>\n",
       "  </thead>\n",
       "  <tbody>\n",
       "    <tr>\n",
       "      <th>1</th>\n",
       "      <td>3448</td>\n",
       "      <td>942</td>\n",
       "      <td>27.0</td>\n",
       "      <td>9.42</td>\n",
       "    </tr>\n",
       "    <tr>\n",
       "      <th>2</th>\n",
       "      <td>2945</td>\n",
       "      <td>613</td>\n",
       "      <td>21.0</td>\n",
       "      <td>6.13</td>\n",
       "    </tr>\n",
       "    <tr>\n",
       "      <th>0</th>\n",
       "      <td>3607</td>\n",
       "      <td>482</td>\n",
       "      <td>13.0</td>\n",
       "      <td>4.82</td>\n",
       "    </tr>\n",
       "  </tbody>\n",
       "</table>\n",
       "</div>"
      ],
      "text/plain": [
       "            count_users  churn_users  churn_users_perc  churn_perc_total\n",
       "cluster_km                                                              \n",
       "1                  3448          942              27.0              9.42\n",
       "2                  2945          613              21.0              6.13\n",
       "0                  3607          482              13.0              4.82"
      ]
     },
     "execution_count": 43,
     "metadata": {},
     "output_type": "execute_result"
    }
   ],
   "source": [
    "# сгруппируем по кластеру и посчитаем кол-во клиентов в каждом и кол-во ушедших\n",
    "df_cluster =df.groupby('cluster_km').agg({'user_id':'count', 'churn':'sum'})\n",
    "df_cluster.columns = ['count_users', 'churn_users']\n",
    "\n",
    "# посчитаем долю оттока\n",
    "df_cluster['churn_users_perc'] = round(df_cluster['churn_users'] / df_cluster['count_users'] * 100)\n",
    "df_cluster['churn_perc_total'] = round(df_cluster['churn_users'] / 10000 * 100, 2)\n",
    "df_cluster.reset_index()\n",
    "df_cluster.sort_values(by='churn_perc_total', ascending=False)"
   ]
  },
  {
   "cell_type": "markdown",
   "id": "97ad1852",
   "metadata": {},
   "source": [
    "- 1 место - **0 кластер** - 13% внутренний отток и 4,82% отток по отношению ко всем клиентам;\n",
    "- 2 место - **2 кластер** - 21% внутренний отток и 6,13% отток по отношению ко всем клиентам;\n",
    "- 3 место - **1 кластер** - 27% внутренний отток и 9,42% отток по отношению ко всем клиентам;\n",
    "\n",
    "**Между 0 и 1 классом есть небольшая разница в возрасте и кол-ве обектов в собственности, но главным отличием является активность клиентов.**"
   ]
  },
  {
   "cell_type": "markdown",
   "id": "227b6340",
   "metadata": {},
   "source": [
    "## Статистический анализ данных"
   ]
  },
  {
   "cell_type": "markdown",
   "id": "9c5aea25",
   "metadata": {},
   "source": [
    "### Сформулируем и проверим статистические гипотезы:\n",
    "\n",
    "- **H0** - Доход между клиентами, которые ушли и теми, которые остались **не различается**;\n",
    "- **H1** - Доход между клиентами, которые ушли и теми, которые остались **различается**."
   ]
  },
  {
   "cell_type": "code",
   "execution_count": 44,
   "id": "6cf93ffb",
   "metadata": {},
   "outputs": [
    {
     "data": {
      "text/plain": [
       "<AxesSubplot:>"
      ]
     },
     "execution_count": 44,
     "metadata": {},
     "output_type": "execute_result"
    },
    {
     "data": {
      "image/png": "[encoded data removed]",
      "text/plain": [
       "<Figure size 432x288 with 1 Axes>"
      ]
     },
     "metadata": {},
     "output_type": "display_data"
    }
   ],
   "source": [
    "# проверим распределение дохода оставшихся клиентов \n",
    "salary_0 = df.query('churn == 0')\n",
    "salary_0['estimated_salary'].hist()"
   ]
  },
  {
   "cell_type": "code",
   "execution_count": 45,
   "id": "2d2eebaa",
   "metadata": {},
   "outputs": [
    {
     "data": {
      "text/plain": [
       "<AxesSubplot:>"
      ]
     },
     "execution_count": 45,
     "metadata": {},
     "output_type": "execute_result"
    },
    {
     "data": {
      "image/png": "[encoded data removed]",
      "text/plain": [
       "<Figure size 432x288 with 1 Axes>"
      ]
     },
     "metadata": {},
     "output_type": "display_data"
    }
   ],
   "source": [
    "# проверим распределение дохода ушедших клиентов \n",
    "salary_1 = df.query('churn == 1')\n",
    "salary_1['estimated_salary'].hist()"
   ]
  },
  {
   "cell_type": "markdown",
   "id": "84874652",
   "metadata": {},
   "source": [
    "**Для проверки гипотез применим непараметрический тест Уилкоксона-Манна-Уитни, т.к. распределение значений не является нормальным.**"
   ]
  },
  {
   "cell_type": "code",
   "execution_count": 46,
   "id": "3832e9a7",
   "metadata": {},
   "outputs": [
    {
     "name": "stdout",
     "output_type": "stream",
     "text": [
      "p-значение:  0.22705150930153783\n",
      "Не получилось отвергнуть нулевую гипотезу, вывод о различии сделать нельзя\n"
     ]
    }
   ],
   "source": [
    "alpha = 0.05  # критический уровень статистической значимости\n",
    "\n",
    "results = st.mannwhitneyu(salary_0['estimated_salary'], salary_1['estimated_salary'])\n",
    "\n",
    "print('p-значение: ', results.pvalue)\n",
    "\n",
    "if results.pvalue < alpha:\n",
    "    print('Отвергаем нулевую гипотезу: разница статистически значима')\n",
    "else:\n",
    "    print(\n",
    "        'Не получилось отвергнуть нулевую гипотезу, вывод о различии сделать нельзя'\n",
    "    ) "
   ]
  },
  {
   "cell_type": "markdown",
   "id": "d863208b",
   "metadata": {},
   "source": [
    "**Большое p-value = 22.7% говорит о том, что доход между клиентами, которые ушли и теми, которые остались не имеет статистически значимых различий.**"
   ]
  },
  {
   "cell_type": "markdown",
   "id": "27545ff7",
   "metadata": {},
   "source": [
    "- **H0** - Средний возраст между клиентами, которые ушли и теми, которые остались **не различается**;\n",
    "- **H1** - Средний возраст между клиентами, которые ушли и теми, которые остались **различается**."
   ]
  },
  {
   "cell_type": "code",
   "execution_count": 47,
   "id": "6ab7ec42",
   "metadata": {},
   "outputs": [
    {
     "name": "stdout",
     "output_type": "stream",
     "text": [
      "p-значение: 1.2399313093427738e-186\n",
      "Отвергаем нулевую гипотезу: разница статистически значима\n"
     ]
    }
   ],
   "source": [
    "alpha = 0.05  # критический уровень статистической значимости\n",
    "\n",
    "results = st.ttest_ind(salary_0['age'], salary_1['age'])\n",
    "\n",
    "print('p-значение:', results.pvalue)\n",
    "\n",
    "if results.pvalue < alpha:\n",
    "    print('Отвергаем нулевую гипотезу: разница статистически значима')\n",
    "else:\n",
    "    print(\n",
    "        'Не получилось отвергнуть нулевую гипотезу, вывод о различии сделать нельзя'\n",
    "    ) "
   ]
  },
  {
   "cell_type": "markdown",
   "id": "40240597",
   "metadata": {},
   "source": [
    "**Тест показывает, что возраст влияет на отток клиентов.**"
   ]
  },
  {
   "cell_type": "markdown",
   "id": "cd740373",
   "metadata": {},
   "source": [
    "## Выводы:\n",
    "\n",
    "**В ходе первичного анализа данных было выявлено:**\n",
    "\n",
    "- за исключением \"balance\" все данные в порядке;\n",
    "- в Ростове Великом нет пропусков в балансе на счёте;\n",
    "- в Рыбинске и Ярославле заполнена только половина данных о балансе;\n",
    "- есть выбросы, но и без них разброс слишком большой, чтобы заполнять пропуски средним или медианой. \n",
    "\n",
    "\n",
    "**Исследовательский анализ данных показал:**\n",
    "\n",
    "- в Ярославле проживает - 50% населения, в Ростове Великом и Рыбинске по 25%\n",
    "- средний балл кредитного скоринга - 650, что говорит о хорошей возможности большенства клиентов получить кредит;\n",
    "- средний возраст - 39 лет;\n",
    "- в среднем у клиентов по 5 объектов;\n",
    "- средняя сумма на балансе - 120.000;\n",
    "- активных клиентов немного больше - 51,5%;\n",
    "- средняя заработная плата - 100.000;\n",
    "- ушедших клиентов примерно 20%.\n",
    "\n",
    "\n",
    "**Посмотрев на выбросы в разрезе оттока, выявили, что выделяются следующие выбросы:**\n",
    "\n",
    "- баллы скоринга меньше 390 у ушедших;\n",
    "- возраст больше 57 лет у оставшихся;\n",
    "- возраст меньше 19 лет и больше 70 лет у ушедших;\n",
    "- баланс на счёте меньше 45.000 и больше 200.000 у оставшихся;\n",
    "- баланс на счёте меньше 51.000 и больше 190.000 у ушедших;\n",
    "- количество продуктов равное 4 у ушедших.\n",
    "- **Уровень оттока в Ростове Великом в 2 раза выше чем в других городах 32% против 16%.!!!**\n",
    "\n",
    "**Средние заметно отличаются в следующих признаках:**\n",
    "\n",
    "- гендер - среди ушедших преобладают женщины - 44%;\n",
    "- возраст - 37 лет у оставшихся и 44 лет у ушедших;\n",
    "- большая разница в активности клиентов.\n",
    "\n",
    "\n",
    "\n",
    "**По графикам распределения признаков в разрезе \"churn\" видно:**\n",
    "\n",
    "- уходят в основном клиенты имеющие хорошие скоринговые баллы;\n",
    "- женщин уходит немного больше;\n",
    "- ушедшим в основном за 40 лет;\n",
    "- ушедшие имеют более 1 объекта в собственности;\n",
    "- на балансе счёта у них 100.000 - 150.000;\n",
    "- пользуются в основном 1 продуктом банка;\n",
    "- имеют кредитную карту банка;\n",
    "- ушедшие значительно менее активны.\n",
    "\n",
    "**По тепловой карте видно наиболее коррелирующие с \"churn\" признаки:**\n",
    "\n",
    "- age - 28.5%;\n",
    "- loyalty - 15.6%;\n",
    "- gender - 10.7%.\n",
    "\n",
    "На основании полученной дендрограммы можно выделить 4 класса, но один совсем небольшой, поэтому задали модель k_means с 3 кластерами. Алгоритм выделил:\n",
    "\n",
    "- возраст 38 лет и за 39;\n",
    "- отсутствие кредитной карты во 2 кластере;\n",
    "- разделил кластеры по лояльности 100%, 0% и 52%;\n",
    "- больше всего ушедших в 1 кластере - 27%, меньше всего в 0 - 13%.\n",
    "- в 0 кластере одинаково активны и ушедшие и оставшиеся;\n",
    "- в 1 кластере нет активных клиентов;\n",
    "- во 2 кластере разделение активности - ~ 55% оставшихся и ~ 41% ушедших;\n",
    "\n",
    "**Доля оттока распределила кластеры по местам:**\n",
    "\n",
    "- 1 место - 0 кластер - 13% внутренний отток и 4,82% отток по отношению ко всем клиентам;\n",
    "- 2 место - 2 кластер - 21% внутренний отток и 6,13% отток по отношению ко всем клиентам;\n",
    "- 3 место - 1 кластер - 27% внутренний отток и 9,42% отток по отношению ко всем клиентам;\n",
    "\n",
    "Между 0 и 1 классом есть небольшая разница в возрасте и кол-ве объектов в собственности, но главным отличием является активность клиентов.\n",
    "\n",
    "**Проверка двух гипотез показала:**\n",
    "\n",
    "- доход между клиентами, которые ушли и теми, которые остались не имеет статистически значимых различий;\n",
    "\n",
    "- возраст влияет на отток клиентов.\n",
    "\n"
   ]
  },
  {
   "cell_type": "markdown",
   "id": "b94b3ab2",
   "metadata": {},
   "source": [
    "## Рекомендации:\n",
    "\n",
    "**Приоритизировать работу с 2мя возрастными группами до 30 и после 40 лет**\n",
    "\n",
    "- **Льготные и бонусные программы для студентов, молодожёнов и молодых специалистов,такие как:**\n",
    "\n",
    "    - кредит с отсрочкой платежа и беспроцентным периодом,\n",
    "    - кредиты на отдых,\n",
    "    - автокредит,\n",
    "    - ипотека.\n",
    "    \n",
    "- **Льготные и бонусные программы для специалистов со стажем от 10 лет, основных направлений экономики региона,такие как:** \n",
    "    \n",
    "    - приборостроение, машиностроение, производство строительных материалов и энергетика для Ростова Великого;\n",
    "    - двигателестроение, судостроение, энергетическое машиностроение для Рыбинска;\n",
    "    - машиностроение, химпроизводство и энергетика в Ярославле.\n",
    "    \n",
    "- **Льготные и бонусные программы для пенсионеров**\n",
    "\n",
    "**Развивать активность клиентов проводя рекламные акции**\n",
    "\n",
    "**Подробнее исследовать причину оттока женской части клиентов банка и большой отток клиентов в Ростове Великом**\n",
    "       "
   ]
  }
 ],
 "metadata": {
  "ExecuteTimeLog": [
   {
    "duration": 132,
    "start_time": "2022-08-27T19:46:05.836Z"
   },
   {
    "duration": 49,
    "start_time": "2022-08-27T20:10:01.457Z"
   },
   {
    "duration": 1423,
    "start_time": "2022-08-27T20:10:41.181Z"
   },
   {
    "duration": 84,
    "start_time": "2022-08-27T20:10:42.606Z"
   },
   {
    "duration": 6,
    "start_time": "2022-08-27T20:10:42.691Z"
   },
   {
    "duration": 37,
    "start_time": "2022-08-27T20:10:42.699Z"
   },
   {
    "duration": 6,
    "start_time": "2022-08-27T20:10:42.738Z"
   },
   {
    "duration": 14,
    "start_time": "2022-08-27T20:10:42.746Z"
   },
   {
    "duration": 60,
    "start_time": "2022-08-27T20:10:42.762Z"
   },
   {
    "duration": 6,
    "start_time": "2022-08-27T20:10:42.823Z"
   },
   {
    "duration": 10,
    "start_time": "2022-08-27T20:10:42.830Z"
   },
   {
    "duration": 12,
    "start_time": "2022-08-27T20:10:42.843Z"
   },
   {
    "duration": 56,
    "start_time": "2022-08-27T20:10:42.856Z"
   },
   {
    "duration": 149,
    "start_time": "2022-08-27T20:10:42.914Z"
   },
   {
    "duration": 115,
    "start_time": "2022-08-27T20:10:43.064Z"
   },
   {
    "duration": 49,
    "start_time": "2022-08-27T20:10:43.181Z"
   },
   {
    "duration": 146,
    "start_time": "2022-08-27T20:10:43.232Z"
   },
   {
    "duration": 111,
    "start_time": "2022-08-27T20:10:43.379Z"
   },
   {
    "duration": 230,
    "start_time": "2022-08-27T20:10:43.492Z"
   },
   {
    "duration": 8,
    "start_time": "2022-08-27T20:10:43.724Z"
   },
   {
    "duration": 48,
    "start_time": "2022-08-27T20:10:43.734Z"
   },
   {
    "duration": 104,
    "start_time": "2022-08-27T20:10:43.784Z"
   },
   {
    "duration": 2311,
    "start_time": "2022-08-27T20:10:43.890Z"
   },
   {
    "duration": 9,
    "start_time": "2022-08-27T20:10:46.203Z"
   },
   {
    "duration": 30,
    "start_time": "2022-08-27T20:10:46.214Z"
   },
   {
    "duration": 13,
    "start_time": "2022-08-27T20:10:46.246Z"
   },
   {
    "duration": 22,
    "start_time": "2022-08-27T20:10:46.261Z"
   },
   {
    "duration": 8,
    "start_time": "2022-08-27T20:10:46.285Z"
   },
   {
    "duration": 43,
    "start_time": "2022-08-27T20:10:46.295Z"
   },
   {
    "duration": 42,
    "start_time": "2022-08-27T20:10:46.341Z"
   },
   {
    "duration": 30,
    "start_time": "2022-08-27T20:10:46.385Z"
   },
   {
    "duration": 4,
    "start_time": "2022-08-27T20:10:46.417Z"
   },
   {
    "duration": 7,
    "start_time": "2022-08-27T20:10:46.423Z"
   },
   {
    "duration": 1435,
    "start_time": "2022-08-27T20:10:46.432Z"
   },
   {
    "duration": 7,
    "start_time": "2022-08-27T20:10:47.869Z"
   },
   {
    "duration": 38,
    "start_time": "2022-08-27T20:10:47.878Z"
   },
   {
    "duration": 1316,
    "start_time": "2022-08-27T20:10:47.918Z"
   },
   {
    "duration": 3,
    "start_time": "2022-08-27T20:10:49.236Z"
   },
   {
    "duration": 1495,
    "start_time": "2022-08-27T20:11:27.169Z"
   },
   {
    "duration": 43,
    "start_time": "2022-08-27T20:11:28.665Z"
   },
   {
    "duration": 6,
    "start_time": "2022-08-27T20:11:28.709Z"
   },
   {
    "duration": 49,
    "start_time": "2022-08-27T20:11:28.717Z"
   },
   {
    "duration": 8,
    "start_time": "2022-08-27T20:11:28.767Z"
   },
   {
    "duration": 22,
    "start_time": "2022-08-27T20:11:28.777Z"
   },
   {
    "duration": 64,
    "start_time": "2022-08-27T20:11:28.800Z"
   },
   {
    "duration": 6,
    "start_time": "2022-08-27T20:11:28.865Z"
   },
   {
    "duration": 28,
    "start_time": "2022-08-27T20:11:28.872Z"
   },
   {
    "duration": 14,
    "start_time": "2022-08-27T20:11:28.903Z"
   },
   {
    "duration": 51,
    "start_time": "2022-08-27T20:11:28.918Z"
   },
   {
    "duration": 146,
    "start_time": "2022-08-27T20:11:28.971Z"
   },
   {
    "duration": 110,
    "start_time": "2022-08-27T20:11:29.118Z"
   },
   {
    "duration": 40,
    "start_time": "2022-08-27T20:11:29.230Z"
   },
   {
    "duration": 150,
    "start_time": "2022-08-27T20:11:29.271Z"
   },
   {
    "duration": 113,
    "start_time": "2022-08-27T20:11:29.423Z"
   },
   {
    "duration": 225,
    "start_time": "2022-08-27T20:11:29.537Z"
   },
   {
    "duration": 8,
    "start_time": "2022-08-27T20:11:29.764Z"
   },
   {
    "duration": 68,
    "start_time": "2022-08-27T20:11:29.773Z"
   },
   {
    "duration": 101,
    "start_time": "2022-08-27T20:11:29.843Z"
   },
   {
    "duration": 2292,
    "start_time": "2022-08-27T20:11:29.945Z"
   },
   {
    "duration": 5,
    "start_time": "2022-08-27T20:11:32.239Z"
   },
   {
    "duration": 14,
    "start_time": "2022-08-27T20:11:32.245Z"
   },
   {
    "duration": 7,
    "start_time": "2022-08-27T20:11:32.261Z"
   },
   {
    "duration": 10,
    "start_time": "2022-08-27T20:11:32.269Z"
   },
   {
    "duration": 31,
    "start_time": "2022-08-27T20:11:32.281Z"
   },
   {
    "duration": 41,
    "start_time": "2022-08-27T20:11:32.314Z"
   },
   {
    "duration": 57,
    "start_time": "2022-08-27T20:11:32.358Z"
   },
   {
    "duration": 13,
    "start_time": "2022-08-27T20:11:32.416Z"
   },
   {
    "duration": 3,
    "start_time": "2022-08-27T20:11:32.431Z"
   },
   {
    "duration": 14,
    "start_time": "2022-08-27T20:11:32.436Z"
   },
   {
    "duration": 1393,
    "start_time": "2022-08-27T20:11:32.452Z"
   },
   {
    "duration": 7,
    "start_time": "2022-08-27T20:11:33.847Z"
   },
   {
    "duration": 25,
    "start_time": "2022-08-27T20:11:33.855Z"
   },
   {
    "duration": 1313,
    "start_time": "2022-08-27T20:11:33.881Z"
   },
   {
    "duration": 4,
    "start_time": "2022-08-27T20:11:35.196Z"
   },
   {
    "duration": 290804,
    "start_time": "2022-08-27T20:11:35.201Z"
   },
   {
    "duration": 1699,
    "start_time": "2022-08-27T20:16:26.010Z"
   },
   {
    "duration": 17,
    "start_time": "2022-08-27T20:16:27.711Z"
   },
   {
    "duration": 4,
    "start_time": "2022-08-27T20:16:27.730Z"
   },
   {
    "duration": 1628,
    "start_time": "2022-08-27T20:16:27.736Z"
   },
   {
    "duration": 1413,
    "start_time": "2022-08-27T20:16:29.365Z"
   },
   {
    "duration": 16,
    "start_time": "2022-08-27T20:16:30.779Z"
   },
   {
    "duration": 194,
    "start_time": "2022-08-27T20:16:30.798Z"
   },
   {
    "duration": 170,
    "start_time": "2022-08-27T20:16:30.994Z"
   },
   {
    "duration": 11,
    "start_time": "2022-08-27T20:16:31.166Z"
   },
   {
    "duration": 22,
    "start_time": "2022-08-27T20:16:31.178Z"
   },
   {
    "duration": 37,
    "start_time": "2022-08-27T20:16:31.203Z"
   },
   {
    "duration": 28,
    "start_time": "2022-08-27T20:17:18.569Z"
   },
   {
    "duration": 1667,
    "start_time": "2022-08-27T20:17:25.207Z"
   },
   {
    "duration": 1514,
    "start_time": "2022-08-27T20:18:58.398Z"
   },
   {
    "duration": 44,
    "start_time": "2022-08-27T20:18:59.914Z"
   },
   {
    "duration": 5,
    "start_time": "2022-08-27T20:18:59.959Z"
   },
   {
    "duration": 35,
    "start_time": "2022-08-27T20:18:59.967Z"
   },
   {
    "duration": 6,
    "start_time": "2022-08-27T20:19:00.004Z"
   },
   {
    "duration": 15,
    "start_time": "2022-08-27T20:19:00.011Z"
   },
   {
    "duration": 58,
    "start_time": "2022-08-27T20:19:00.027Z"
   },
   {
    "duration": 7,
    "start_time": "2022-08-27T20:19:00.088Z"
   },
   {
    "duration": 13,
    "start_time": "2022-08-27T20:19:00.097Z"
   },
   {
    "duration": 9,
    "start_time": "2022-08-27T20:19:00.112Z"
   },
   {
    "duration": 39,
    "start_time": "2022-08-27T20:19:00.123Z"
   },
   {
    "duration": 167,
    "start_time": "2022-08-27T20:19:00.164Z"
   },
   {
    "duration": 110,
    "start_time": "2022-08-27T20:19:00.333Z"
   },
   {
    "duration": 39,
    "start_time": "2022-08-27T20:19:00.444Z"
   },
   {
    "duration": 161,
    "start_time": "2022-08-27T20:19:00.485Z"
   },
   {
    "duration": 124,
    "start_time": "2022-08-27T20:19:00.648Z"
   },
   {
    "duration": 237,
    "start_time": "2022-08-27T20:19:00.774Z"
   },
   {
    "duration": 8,
    "start_time": "2022-08-27T20:19:01.013Z"
   },
   {
    "duration": 87,
    "start_time": "2022-08-27T20:19:01.023Z"
   },
   {
    "duration": 147,
    "start_time": "2022-08-27T20:19:01.112Z"
   },
   {
    "duration": 2299,
    "start_time": "2022-08-27T20:19:01.262Z"
   },
   {
    "duration": 5,
    "start_time": "2022-08-27T20:19:03.563Z"
   },
   {
    "duration": 14,
    "start_time": "2022-08-27T20:19:03.570Z"
   },
   {
    "duration": 23,
    "start_time": "2022-08-27T20:19:03.586Z"
   },
   {
    "duration": 8,
    "start_time": "2022-08-27T20:19:03.611Z"
   },
   {
    "duration": 8,
    "start_time": "2022-08-27T20:19:03.621Z"
   },
   {
    "duration": 44,
    "start_time": "2022-08-27T20:19:03.630Z"
   },
   {
    "duration": 69,
    "start_time": "2022-08-27T20:19:03.678Z"
   },
   {
    "duration": 15,
    "start_time": "2022-08-27T20:19:03.748Z"
   },
   {
    "duration": 3,
    "start_time": "2022-08-27T20:19:03.765Z"
   },
   {
    "duration": 10,
    "start_time": "2022-08-27T20:19:03.770Z"
   },
   {
    "duration": 1401,
    "start_time": "2022-08-27T20:19:03.782Z"
   },
   {
    "duration": 30,
    "start_time": "2022-08-27T20:19:05.184Z"
   },
   {
    "duration": 24,
    "start_time": "2022-08-27T20:19:05.216Z"
   },
   {
    "duration": 1600,
    "start_time": "2022-08-27T20:19:05.242Z"
   },
   {
    "duration": 3,
    "start_time": "2022-08-27T20:19:06.844Z"
   },
   {
    "duration": 292371,
    "start_time": "2022-08-27T20:19:06.849Z"
   },
   {
    "duration": 1997,
    "start_time": "2022-08-27T20:23:59.222Z"
   },
   {
    "duration": 16,
    "start_time": "2022-08-27T20:24:01.220Z"
   },
   {
    "duration": 18,
    "start_time": "2022-08-27T20:24:01.238Z"
   },
   {
    "duration": 1837,
    "start_time": "2022-08-27T20:24:01.258Z"
   },
   {
    "duration": 1368,
    "start_time": "2022-08-27T20:24:03.097Z"
   },
   {
    "duration": 17,
    "start_time": "2022-08-27T20:24:04.467Z"
   },
   {
    "duration": 199,
    "start_time": "2022-08-27T20:24:04.485Z"
   },
   {
    "duration": 200,
    "start_time": "2022-08-27T20:24:04.686Z"
   },
   {
    "duration": 21,
    "start_time": "2022-08-27T20:24:04.888Z"
   },
   {
    "duration": 6,
    "start_time": "2022-08-27T20:24:04.911Z"
   }
  ],
  "kernelspec": {
   "display_name": "Python 3 (ipykernel)",
   "language": "python",
   "name": "python3"
  },
  "language_info": {
   "codemirror_mode": {
    "name": "ipython",
    "version": 3
   },
   "file_extension": ".py",
   "mimetype": "text/x-python",
   "name": "python",
   "nbconvert_exporter": "python",
   "pygments_lexer": "ipython3",
   "version": "3.9.12"
  },
  "toc": {
   "base_numbering": 1,
   "nav_menu": {},
   "number_sections": true,
   "sideBar": true,
   "skip_h1_title": true,
   "title_cell": "Table of Contents",
   "title_sidebar": "Contents",
   "toc_cell": false,
   "toc_position": {},
   "toc_section_display": true,
   "toc_window_display": false
  }
 },
 "nbformat": 4,
 "nbformat_minor": 5
}
